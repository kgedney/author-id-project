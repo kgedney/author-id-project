{
  "nbformat": 4,
  "nbformat_minor": 0,
  "metadata": {
    "colab": {
      "name": "author_id_CNN.ipynb",
      "version": "0.3.2",
      "provenance": [],
      "collapsed_sections": [],
      "include_colab_link": true
    },
    "kernelspec": {
      "name": "python3",
      "display_name": "Python 3"
    },
    "accelerator": "GPU"
  },
  "cells": [
    {
      "cell_type": "markdown",
      "metadata": {
        "id": "view-in-github",
        "colab_type": "text"
      },
      "source": [
        "<a href=\"https://colab.research.google.com/github/kgedney/author-id-project/blob/master/author_id_CNN_CNNandLSTM.ipynb\" target=\"_parent\"><img src=\"https://colab.research.google.com/assets/colab-badge.svg\" alt=\"Open In Colab\"/></a>"
      ]
    },
    {
      "metadata": {
        "id": "fUJVYcKjt51H",
        "colab_type": "code",
        "colab": {}
      },
      "cell_type": "code",
      "source": [
        "import pandas as pd\n",
        "import os\n",
        "import keras\n",
        "import tensorflow as tf"
      ],
      "execution_count": 0,
      "outputs": []
    },
    {
      "metadata": {
        "id": "z10RZHh-vwSI",
        "colab_type": "code",
        "outputId": "6600f9c9-bafe-42dc-ac89-9e28c2fc4147",
        "colab": {
          "base_uri": "https://localhost:8080/",
          "height": 122
        }
      },
      "cell_type": "code",
      "source": [
        "from google.colab import drive\n",
        "drive.mount('/content/drive')"
      ],
      "execution_count": 3,
      "outputs": [
        {
          "output_type": "stream",
          "text": [
            "Go to this URL in a browser: https://accounts.google.com/o/oauth2/auth?client_id=947318989803-6bn6qk8qdgf4n4g3pfee6491hc0brc4i.apps.googleusercontent.com&redirect_uri=urn%3Aietf%3Awg%3Aoauth%3A2.0%3Aoob&scope=email%20https%3A%2F%2Fwww.googleapis.com%2Fauth%2Fdocs.test%20https%3A%2F%2Fwww.googleapis.com%2Fauth%2Fdrive%20https%3A%2F%2Fwww.googleapis.com%2Fauth%2Fdrive.photos.readonly%20https%3A%2F%2Fwww.googleapis.com%2Fauth%2Fpeopleapi.readonly&response_type=code\n",
            "\n",
            "Enter your authorization code:\n",
            "··········\n",
            "Mounted at /content/drive\n"
          ],
          "name": "stdout"
        }
      ]
    },
    {
      "metadata": {
        "id": "Kgq7hWgnClFg",
        "colab_type": "code",
        "colab": {
          "base_uri": "https://localhost:8080/",
          "height": 34
        },
        "outputId": "e504ed4c-2b76-4407-8adf-a74ce4a21ceb"
      },
      "cell_type": "code",
      "source": [
        "os.getcwd()"
      ],
      "execution_count": 5,
      "outputs": [
        {
          "output_type": "execute_result",
          "data": {
            "text/plain": [
              "'/content'"
            ]
          },
          "metadata": {
            "tags": []
          },
          "execution_count": 5
        }
      ]
    },
    {
      "metadata": {
        "id": "A1wjNVW4wC-H",
        "colab_type": "code",
        "colab": {}
      },
      "cell_type": "code",
      "source": [
        "os.getcwd()\n",
        "path = '/Users/aprilchung/Documents/Grad School/ANLY590/author-id-project'\n",
        "#os.chdir(path)"
      ],
      "execution_count": 0,
      "outputs": []
    },
    {
      "metadata": {
        "id": "v3z1AEqWvfr1",
        "colab_type": "code",
        "colab": {}
      },
      "cell_type": "code",
      "source": [
        "data = pd.read_csv('/content/drive/My Drive/Colab Notebooks/filtered_data.csv')"
      ],
      "execution_count": 0,
      "outputs": []
    },
    {
      "metadata": {
        "id": "MgAP2JNnvo04",
        "colab_type": "code",
        "colab": {}
      },
      "cell_type": "code",
      "source": [
        "import re\n",
        "data['body_no_urls'] = data.apply(lambda row: re.sub(r\"http\\S+\", \"<url>\", row['body']), axis=1) "
      ],
      "execution_count": 0,
      "outputs": []
    },
    {
      "metadata": {
        "id": "Ewau1U1bzTXB",
        "colab_type": "code",
        "colab": {
          "base_uri": "https://localhost:8080/",
          "height": 68
        },
        "outputId": "0e1ba6b9-9e13-4ee7-b2ce-7535558f02ab"
      },
      "cell_type": "code",
      "source": [
        "import nltk\n",
        "nltk.download('punkt')"
      ],
      "execution_count": 7,
      "outputs": [
        {
          "output_type": "stream",
          "text": [
            "[nltk_data] Downloading package punkt to /root/nltk_data...\n",
            "[nltk_data]   Unzipping tokenizers/punkt.zip.\n"
          ],
          "name": "stdout"
        },
        {
          "output_type": "execute_result",
          "data": {
            "text/plain": [
              "True"
            ]
          },
          "metadata": {
            "tags": []
          },
          "execution_count": 7
        }
      ]
    },
    {
      "metadata": {
        "id": "0sN7m5Rawm1f",
        "colab_type": "code",
        "colab": {}
      },
      "cell_type": "code",
      "source": [
        "from nltk.tokenize import word_tokenize\n",
        "data['tokenized_nltk']  = data.apply(lambda row: word_tokenize(row['body_no_urls']), axis=1)"
      ],
      "execution_count": 0,
      "outputs": []
    },
    {
      "metadata": {
        "id": "S1gJLx-D0J3s",
        "colab_type": "code",
        "colab": {
          "base_uri": "https://localhost:8080/",
          "height": 34
        },
        "outputId": "327bc977-2c4f-4c6e-ed5b-6b79638e8bcd"
      },
      "cell_type": "code",
      "source": [
        "import pandas as pd\n",
        "import numpy as np\n",
        "from keras.preprocessing.text import Tokenizer\n",
        "from keras.preprocessing import sequence\n",
        "from sklearn.model_selection import train_test_split"
      ],
      "execution_count": 9,
      "outputs": [
        {
          "output_type": "stream",
          "text": [
            "Using TensorFlow backend.\n"
          ],
          "name": "stderr"
        }
      ]
    },
    {
      "metadata": {
        "id": "-8iXliyLzEJQ",
        "colab_type": "code",
        "colab": {}
      },
      "cell_type": "code",
      "source": [
        "from keras.models import Sequential\n",
        "from keras.layers import Dense, Activation, Flatten, Conv1D, Dropout, MaxPooling1D, Embedding, GlobalMaxPooling1D, LSTM"
      ],
      "execution_count": 0,
      "outputs": []
    },
    {
      "metadata": {
        "id": "geqIB5kwzt5F",
        "colab_type": "code",
        "colab": {}
      },
      "cell_type": "code",
      "source": [
        "data['author_id'] = pd.Categorical(data.author).codes"
      ],
      "execution_count": 0,
      "outputs": []
    },
    {
      "metadata": {
        "id": "mJggd7KKzy9w",
        "colab_type": "code",
        "colab": {
          "base_uri": "https://localhost:8080/",
          "height": 34
        },
        "outputId": "cfd5f30f-a7ca-4440-9aea-1baa2daef3f5"
      },
      "cell_type": "code",
      "source": [
        "x = data['tokenized_nltk'].values\n",
        "y = data['author_id'].values\n",
        "\n",
        "# create sequences\n",
        "max_features = 20000\n",
        "tokenizer    = Tokenizer(num_words = max_features)\n",
        "tokenizer.fit_on_texts(x)\n",
        "x_sequences  = tokenizer.texts_to_sequences(x)\n",
        "\n",
        "# pad each sequence to be max length\n",
        "maxlen = max(len(x) for x in x_sequences)\n",
        "print(maxlen)\n",
        "x_sequences = sequence.pad_sequences(x_sequences, maxlen)"
      ],
      "execution_count": 18,
      "outputs": [
        {
          "output_type": "stream",
          "text": [
            "235\n"
          ],
          "name": "stdout"
        }
      ]
    },
    {
      "metadata": {
        "id": "mUGJD0AK0ERw",
        "colab_type": "code",
        "colab": {}
      },
      "cell_type": "code",
      "source": [
        "x_train, x_test, y_train, y_test = train_test_split(x_sequences, y, test_size=0.20, random_state=22)"
      ],
      "execution_count": 0,
      "outputs": []
    },
    {
      "metadata": {
        "id": "30UHM8iP1cjF",
        "colab_type": "code",
        "colab": {
          "base_uri": "https://localhost:8080/",
          "height": 34
        },
        "outputId": "6f650c04-f083-449f-ec7f-7a7a0d61bc61"
      },
      "cell_type": "code",
      "source": [
        "x_train.shape[1]"
      ],
      "execution_count": 20,
      "outputs": [
        {
          "output_type": "execute_result",
          "data": {
            "text/plain": [
              "235"
            ]
          },
          "metadata": {
            "tags": []
          },
          "execution_count": 20
        }
      ]
    },
    {
      "metadata": {
        "id": "5eu5aqzv48JB",
        "colab_type": "text"
      },
      "cell_type": "markdown",
      "source": [
        "CNN model from homework "
      ]
    },
    {
      "metadata": {
        "id": "pskGQ94e0maV",
        "colab_type": "code",
        "colab": {}
      },
      "cell_type": "code",
      "source": [
        "model_conv = Sequential()\n",
        "model_conv.add(Embedding(max_features, output_dim = 30, input_length=219))\n",
        "model_conv.add(Dropout(0.2))\n",
        "model_conv.add(Conv1D(128, 5, activation='relu'))\n",
        "model_conv.add(Conv1D(128, 5, activation='relu'))\n",
        "model_conv.add(GlobalMaxPooling1D())\n",
        "model_conv.add(Dropout(0.2))\n",
        "model_conv.add(Dense(100, activation='softmax'))"
      ],
      "execution_count": 0,
      "outputs": []
    },
    {
      "metadata": {
        "id": "x8odvETe4_Qq",
        "colab_type": "text"
      },
      "cell_type": "markdown",
      "source": [
        "### CNN and LSTM"
      ]
    },
    {
      "metadata": {
        "id": "qtlQ4dPsMjK7",
        "colab_type": "code",
        "colab": {}
      },
      "cell_type": "code",
      "source": [
        "model_conv = Sequential()\n",
        "model_conv.add(Embedding(max_features, output_dim = 30, input_length=235))\n",
        "model_conv.add(Dropout(0.2))\n",
        "model_conv.add(Conv1D(128, 5, activation='relu'))\n",
        "model_conv.add(MaxPooling1D(4))\n",
        "model_conv.add(LSTM(100))\n",
        "#model_conv.add(GlobalMaxPooling1D())\n",
        "\n",
        "model_conv.add(Dense(100, activation='softmax'))"
      ],
      "execution_count": 0,
      "outputs": []
    },
    {
      "metadata": {
        "id": "3FSb_thf0ynp",
        "colab_type": "code",
        "colab": {}
      },
      "cell_type": "code",
      "source": [
        "from keras import optimizers\n",
        "opt = optimizers.rmsprop(lr=0.001) # speed up optimization\n",
        "model_conv.compile(optimizer=opt, loss=\"sparse_categorical_crossentropy\", metrics=[\"acc\"])"
      ],
      "execution_count": 0,
      "outputs": []
    },
    {
      "metadata": {
        "id": "nW8Hu_EI1NRB",
        "colab_type": "code",
        "colab": {
          "base_uri": "https://localhost:8080/",
          "height": 1734
        },
        "outputId": "1539d1d8-9b94-49c9-d947-1644dd54194f"
      },
      "cell_type": "code",
      "source": [
        "history = model_conv.fit(x_train, y_train,\n",
        "            batch_size=128,\n",
        "            epochs=50,\n",
        "            validation_data=(x_test, y_test))"
      ],
      "execution_count": 23,
      "outputs": [
        {
          "output_type": "stream",
          "text": [
            "Train on 58129 samples, validate on 14533 samples\n",
            "Epoch 1/50\n",
            "58129/58129 [==============================] - 81s 1ms/step - loss: 4.4449 - acc: 0.0280 - val_loss: 4.3068 - val_acc: 0.0452\n",
            "Epoch 2/50\n",
            "58129/58129 [==============================] - 80s 1ms/step - loss: 4.1651 - acc: 0.0637 - val_loss: 4.2072 - val_acc: 0.0671\n",
            "Epoch 3/50\n",
            "58129/58129 [==============================] - 79s 1ms/step - loss: 3.9638 - acc: 0.0927 - val_loss: 3.9844 - val_acc: 0.0923\n",
            "Epoch 4/50\n",
            "58129/58129 [==============================] - 79s 1ms/step - loss: 3.7970 - acc: 0.1195 - val_loss: 3.9371 - val_acc: 0.1037\n",
            "Epoch 5/50\n",
            "58129/58129 [==============================] - 80s 1ms/step - loss: 3.6344 - acc: 0.1486 - val_loss: 3.8069 - val_acc: 0.1258\n",
            "Epoch 6/50\n",
            "58129/58129 [==============================] - 79s 1ms/step - loss: 3.4755 - acc: 0.1787 - val_loss: 3.7678 - val_acc: 0.1374\n",
            "Epoch 7/50\n",
            "58129/58129 [==============================] - 79s 1ms/step - loss: 3.3360 - acc: 0.2081 - val_loss: 3.6903 - val_acc: 0.1509\n",
            "Epoch 8/50\n",
            "58129/58129 [==============================] - 79s 1ms/step - loss: 3.2052 - acc: 0.2361 - val_loss: 3.6315 - val_acc: 0.1662\n",
            "Epoch 9/50\n",
            "58129/58129 [==============================] - 80s 1ms/step - loss: 3.0845 - acc: 0.2604 - val_loss: 3.6471 - val_acc: 0.1683\n",
            "Epoch 10/50\n",
            "58129/58129 [==============================] - 79s 1ms/step - loss: 2.9860 - acc: 0.2823 - val_loss: 3.6144 - val_acc: 0.1799\n",
            "Epoch 11/50\n",
            "58129/58129 [==============================] - 79s 1ms/step - loss: 2.8862 - acc: 0.3049 - val_loss: 3.6128 - val_acc: 0.1863\n",
            "Epoch 12/50\n",
            "58129/58129 [==============================] - 79s 1ms/step - loss: 2.7976 - acc: 0.3243 - val_loss: 3.6087 - val_acc: 0.1901\n",
            "Epoch 13/50\n",
            "58129/58129 [==============================] - 79s 1ms/step - loss: 2.7187 - acc: 0.3399 - val_loss: 3.6260 - val_acc: 0.1963\n",
            "Epoch 14/50\n",
            "58129/58129 [==============================] - 79s 1ms/step - loss: 2.6414 - acc: 0.3572 - val_loss: 3.6287 - val_acc: 0.1973\n",
            "Epoch 15/50\n",
            "58129/58129 [==============================] - 80s 1ms/step - loss: 2.5698 - acc: 0.3741 - val_loss: 3.6377 - val_acc: 0.1978\n",
            "Epoch 16/50\n",
            "58129/58129 [==============================] - 80s 1ms/step - loss: 2.5028 - acc: 0.3917 - val_loss: 3.6417 - val_acc: 0.2028\n",
            "Epoch 17/50\n",
            "58129/58129 [==============================] - 80s 1ms/step - loss: 2.4402 - acc: 0.4037 - val_loss: 3.6671 - val_acc: 0.2062\n",
            "Epoch 18/50\n",
            "58129/58129 [==============================] - 79s 1ms/step - loss: 2.3815 - acc: 0.4177 - val_loss: 3.6356 - val_acc: 0.2109\n",
            "Epoch 19/50\n",
            "58129/58129 [==============================] - 79s 1ms/step - loss: 2.3203 - acc: 0.4313 - val_loss: 3.6888 - val_acc: 0.2095\n",
            "Epoch 20/50\n",
            "58129/58129 [==============================] - 79s 1ms/step - loss: 2.2635 - acc: 0.4447 - val_loss: 3.7795 - val_acc: 0.2086\n",
            "Epoch 21/50\n",
            "58129/58129 [==============================] - 79s 1ms/step - loss: 2.2153 - acc: 0.4569 - val_loss: 3.6712 - val_acc: 0.2172\n",
            "Epoch 22/50\n",
            "58129/58129 [==============================] - 79s 1ms/step - loss: 2.1613 - acc: 0.4670 - val_loss: 3.7256 - val_acc: 0.2136\n",
            "Epoch 23/50\n",
            "58129/58129 [==============================] - 79s 1ms/step - loss: 2.1100 - acc: 0.4815 - val_loss: 3.7095 - val_acc: 0.2242\n",
            "Epoch 24/50\n",
            "58129/58129 [==============================] - 79s 1ms/step - loss: 2.0606 - acc: 0.4899 - val_loss: 3.7276 - val_acc: 0.2191\n",
            "Epoch 25/50\n",
            "58129/58129 [==============================] - 79s 1ms/step - loss: 2.0184 - acc: 0.5013 - val_loss: 3.7262 - val_acc: 0.2265\n",
            "Epoch 26/50\n",
            "58129/58129 [==============================] - 79s 1ms/step - loss: 1.9730 - acc: 0.5117 - val_loss: 3.7856 - val_acc: 0.2225\n",
            "Epoch 27/50\n",
            "58129/58129 [==============================] - 79s 1ms/step - loss: 1.9373 - acc: 0.5230 - val_loss: 3.8115 - val_acc: 0.2238\n",
            "Epoch 28/50\n",
            "58129/58129 [==============================] - 79s 1ms/step - loss: 1.8836 - acc: 0.5333 - val_loss: 3.8274 - val_acc: 0.2242\n",
            "Epoch 29/50\n",
            "58129/58129 [==============================] - 79s 1ms/step - loss: 1.8472 - acc: 0.5403 - val_loss: 3.7760 - val_acc: 0.2325\n",
            "Epoch 30/50\n",
            "58129/58129 [==============================] - 79s 1ms/step - loss: 1.8103 - acc: 0.5500 - val_loss: 3.8347 - val_acc: 0.2282\n",
            "Epoch 31/50\n",
            "58129/58129 [==============================] - 79s 1ms/step - loss: 1.7706 - acc: 0.5583 - val_loss: 3.8429 - val_acc: 0.2275\n",
            "Epoch 32/50\n",
            "58129/58129 [==============================] - 79s 1ms/step - loss: 1.7319 - acc: 0.5667 - val_loss: 3.8791 - val_acc: 0.2291\n",
            "Epoch 33/50\n",
            "58129/58129 [==============================] - 79s 1ms/step - loss: 1.7012 - acc: 0.5734 - val_loss: 3.8662 - val_acc: 0.2323\n",
            "Epoch 34/50\n",
            "58129/58129 [==============================] - 79s 1ms/step - loss: 1.6661 - acc: 0.5804 - val_loss: 3.8871 - val_acc: 0.2313\n",
            "Epoch 35/50\n",
            "58129/58129 [==============================] - 79s 1ms/step - loss: 1.6387 - acc: 0.5880 - val_loss: 3.9220 - val_acc: 0.2309\n",
            "Epoch 36/50\n",
            "58129/58129 [==============================] - 79s 1ms/step - loss: 1.6053 - acc: 0.5947 - val_loss: 3.9446 - val_acc: 0.2342\n",
            "Epoch 37/50\n",
            "58129/58129 [==============================] - 79s 1ms/step - loss: 1.5753 - acc: 0.6027 - val_loss: 3.9372 - val_acc: 0.2344\n",
            "Epoch 38/50\n",
            "58129/58129 [==============================] - 80s 1ms/step - loss: 1.5433 - acc: 0.6099 - val_loss: 3.9964 - val_acc: 0.2310\n",
            "Epoch 39/50\n",
            "58129/58129 [==============================] - 80s 1ms/step - loss: 1.5174 - acc: 0.6164 - val_loss: 4.0100 - val_acc: 0.2282\n",
            "Epoch 40/50\n",
            "58129/58129 [==============================] - 80s 1ms/step - loss: 1.4940 - acc: 0.6195 - val_loss: 4.0093 - val_acc: 0.2364\n",
            "Epoch 41/50\n",
            "58129/58129 [==============================] - 80s 1ms/step - loss: 1.4657 - acc: 0.6275 - val_loss: 4.0294 - val_acc: 0.2339\n",
            "Epoch 42/50\n",
            "58129/58129 [==============================] - 80s 1ms/step - loss: 1.4450 - acc: 0.6334 - val_loss: 4.0483 - val_acc: 0.2306\n",
            "Epoch 43/50\n",
            "58129/58129 [==============================] - 79s 1ms/step - loss: 1.4168 - acc: 0.6407 - val_loss: 4.0425 - val_acc: 0.2347\n",
            "Epoch 44/50\n",
            "58129/58129 [==============================] - 79s 1ms/step - loss: 1.3930 - acc: 0.6433 - val_loss: 4.1315 - val_acc: 0.2293\n",
            "Epoch 45/50\n",
            "58129/58129 [==============================] - 79s 1ms/step - loss: 1.3731 - acc: 0.6495 - val_loss: 4.1179 - val_acc: 0.2370\n",
            "Epoch 46/50\n",
            "58129/58129 [==============================] - 80s 1ms/step - loss: 1.3477 - acc: 0.6555 - val_loss: 4.0874 - val_acc: 0.2342\n",
            "Epoch 47/50\n",
            "58129/58129 [==============================] - 80s 1ms/step - loss: 1.3278 - acc: 0.6596 - val_loss: 4.1428 - val_acc: 0.2353\n",
            "Epoch 48/50\n",
            "58129/58129 [==============================] - 80s 1ms/step - loss: 1.3027 - acc: 0.6656 - val_loss: 4.1954 - val_acc: 0.2379\n",
            "Epoch 49/50\n",
            "58129/58129 [==============================] - 80s 1ms/step - loss: 1.2923 - acc: 0.6683 - val_loss: 4.1942 - val_acc: 0.2367\n",
            "Epoch 50/50\n",
            "58129/58129 [==============================] - 79s 1ms/step - loss: 1.2698 - acc: 0.6739 - val_loss: 4.2186 - val_acc: 0.2362\n"
          ],
          "name": "stdout"
        }
      ]
    },
    {
      "metadata": {
        "id": "KmZCIGb9nurZ",
        "colab_type": "code",
        "colab": {
          "base_uri": "https://localhost:8080/",
          "height": 51
        },
        "outputId": "508e4808-347a-4c4a-8075-e10535080f4a"
      },
      "cell_type": "code",
      "source": [
        "model_conv.evaluate(x_test, y_test)"
      ],
      "execution_count": 26,
      "outputs": [
        {
          "output_type": "stream",
          "text": [
            "14533/14533 [==============================] - 28s 2ms/step\n"
          ],
          "name": "stdout"
        },
        {
          "output_type": "execute_result",
          "data": {
            "text/plain": [
              "[4.218580412502128, 0.23615220532786088]"
            ]
          },
          "metadata": {
            "tags": []
          },
          "execution_count": 26
        }
      ]
    },
    {
      "metadata": {
        "id": "9COy2bJZ0Kg4",
        "colab_type": "code",
        "colab": {}
      },
      "cell_type": "code",
      "source": [
        "y_pred1 = model_conv.predict(x_test)"
      ],
      "execution_count": 0,
      "outputs": []
    },
    {
      "metadata": {
        "id": "EY-rGrT10K4N",
        "colab_type": "code",
        "colab": {
          "base_uri": "https://localhost:8080/",
          "height": 170
        },
        "outputId": "6aa0d3fb-c8cc-455a-d39d-83d30a6ad45f"
      },
      "cell_type": "code",
      "source": [
        "def topk_acc(y_test, y_pred, k):\n",
        "  return keras.backend.eval(keras.metrics.sparse_top_k_categorical_accuracy(y_test, y_pred, k=k)) # force it to evaluate\n",
        "\n",
        "[(k, topk_acc(y_test, y_pred1, k=k)) for k in range(1, 10)]"
      ],
      "execution_count": 56,
      "outputs": [
        {
          "output_type": "execute_result",
          "data": {
            "text/plain": [
              "[(1, 0.2361522),\n",
              " (2, 0.3086768),\n",
              " (3, 0.35594854),\n",
              " (4, 0.39695865),\n",
              " (5, 0.43246403),\n",
              " (6, 0.4644602),\n",
              " (7, 0.48943782),\n",
              " (8, 0.5129705),\n",
              " (9, 0.5325122)]"
            ]
          },
          "metadata": {
            "tags": []
          },
          "execution_count": 56
        }
      ]
    },
    {
      "metadata": {
        "id": "K7LR0UBi1vzD",
        "colab_type": "code",
        "colab": {}
      },
      "cell_type": "code",
      "source": [
        "from sklearn.metrics import classification_report, accuracy_score, confusion_matrix\n",
        "\n",
        "y_pred1 = model_conv.predict_classes(x_test)\n",
        "\n",
        "cm = confusion_matrix(y_test, y_pred1) #only works with sparse\n",
        "cm = cm.astype('float') / cm.sum(axis=1)[:, np.newaxis]\n",
        "accuracies1 = cm.diagonal()"
      ],
      "execution_count": 0,
      "outputs": []
    },
    {
      "metadata": {
        "id": "UdTg0IIh25Q5",
        "colab_type": "code",
        "colab": {
          "base_uri": "https://localhost:8080/",
          "height": 153
        },
        "outputId": "03e4f11f-5ee9-46b6-bea2-58c751c9c16d"
      },
      "cell_type": "code",
      "source": [
        "print(accuracies1.max())\n",
        "print(accuracies1.argmax())\n",
        "print(data[['author', 'body']][data['author_id'] == 1][0:5])"
      ],
      "execution_count": 89,
      "outputs": [
        {
          "output_type": "stream",
          "text": [
            "0.6626506024096386\n",
            "1\n",
            "        author                                               body\n",
            "28935  7omdogs  Get outta here with your “thinking things thro...\n",
            "28936  7omdogs  He nearly always does on stuff like this. Its ...\n",
            "28937  7omdogs  Apparently he felt so bad that he sent flowers...\n",
            "28938  7omdogs  I think it’s more of a no one wants their name...\n",
            "28939  7omdogs  It was the main promo song for the first HHH V...\n"
          ],
          "name": "stdout"
        }
      ]
    },
    {
      "metadata": {
        "id": "5h6lnLuY16_Q",
        "colab_type": "code",
        "colab": {
          "base_uri": "https://localhost:8080/",
          "height": 376
        },
        "outputId": "e39b4a84-31be-4c12-987a-fe6cd018e902"
      },
      "cell_type": "code",
      "source": [
        "plt.hist(accuracies1, bins=20)\n",
        "plt.title('Histogram of Test Accuracy with CNN + LSTM')\n",
        "plt.xlabel('Accuracy')\n",
        "plt.show()\n"
      ],
      "execution_count": 100,
      "outputs": [
        {
          "output_type": "display_data",
          "data": {
            "image/png": "[encoded data removed]",
            "text/plain": [
              "<matplotlib.figure.Figure at 0x7f2775aed588>"
            ]
          },
          "metadata": {
            "tags": []
          }
        }
      ]
    },
    {
      "metadata": {
        "id": "F25mu55o1RVM",
        "colab_type": "code",
        "colab": {
          "base_uri": "https://localhost:8080/",
          "height": 364
        },
        "outputId": "b6e14fb1-ed47-4dc9-e1c8-9ab04b9acd66"
      },
      "cell_type": "code",
      "source": [
        "import matplotlib.pyplot as plt\n",
        "plt.plot(history.history['loss'])\n",
        "plt.plot(history.history['val_loss'])\n",
        "plt.legend(['train', 'test'], loc='lower left')\n",
        "\n"
      ],
      "execution_count": 27,
      "outputs": [
        {
          "output_type": "execute_result",
          "data": {
            "text/plain": [
              "<matplotlib.legend.Legend at 0x7f2778553390>"
            ]
          },
          "metadata": {
            "tags": []
          },
          "execution_count": 27
        },
        {
          "output_type": "display_data",
          "data": {
            "image/png": "[encoded data removed]",
            "text/plain": [
              "<matplotlib.figure.Figure at 0x7f277867d438>"
            ]
          },
          "metadata": {
            "tags": []
          }
        }
      ]
    },
    {
      "metadata": {
        "id": "6muLo2_ohCUG",
        "colab_type": "code",
        "colab": {
          "base_uri": "https://localhost:8080/",
          "height": 365
        },
        "outputId": "177a4379-0416-48ef-f1b4-1ce1c669c055"
      },
      "cell_type": "code",
      "source": [
        "plt.plot(history.history['acc'])\n",
        "plt.plot(history.history['val_acc'])\n",
        "plt.legend(['train', 'test'], loc='lower right')"
      ],
      "execution_count": 28,
      "outputs": [
        {
          "output_type": "execute_result",
          "data": {
            "text/plain": [
              "<matplotlib.legend.Legend at 0x7f27784e3e80>"
            ]
          },
          "metadata": {
            "tags": []
          },
          "execution_count": 28
        },
        {
          "output_type": "display_data",
          "data": {
            "image/png": "[encoded data removed]",
            "text/plain": [
              "<matplotlib.figure.Figure at 0x7f2778570a90>"
            ]
          },
          "metadata": {
            "tags": []
          }
        }
      ]
    },
    {
      "metadata": {
        "id": "2Lu_t12TtC8D",
        "colab_type": "code",
        "colab": {}
      },
      "cell_type": "code",
      "source": [
        "model_conv2 = Sequential()\n",
        "model_conv2.add(Embedding(max_features, output_dim = 30, input_length=235))\n",
        "model_conv2.add(Dropout(0.2))\n",
        "model_conv2.add(Conv1D(128, 5, activation='relu'))\n",
        "model_conv2.add(Conv1D(128, 5, activation='relu'))\n",
        "model_conv2.add(GlobalMaxPooling1D())\n",
        "model_conv2.add(Dropout(0.2))\n",
        "model_conv2.add(Dense(100, activation='softmax'))"
      ],
      "execution_count": 0,
      "outputs": []
    },
    {
      "metadata": {
        "id": "BRXBASp1ohQU",
        "colab_type": "code",
        "colab": {}
      },
      "cell_type": "code",
      "source": [
        "from keras import optimizers\n",
        "opt = optimizers.rmsprop(lr=0.001) # speed up optimization\n",
        "model_conv2.compile(optimizer=opt, loss=\"sparse_categorical_crossentropy\", metrics=[\"acc\"])"
      ],
      "execution_count": 0,
      "outputs": []
    },
    {
      "metadata": {
        "id": "NxQwPHzKgs4u",
        "colab_type": "code",
        "colab": {
          "base_uri": "https://localhost:8080/",
          "height": 1734
        },
        "outputId": "fe664c05-7d11-428f-f2be-333b91dd3483"
      },
      "cell_type": "code",
      "source": [
        "history2 = model_conv2.fit(x_train, y_train,\n",
        "            batch_size=128,\n",
        "            epochs=50,\n",
        "            validation_data=(x_test, y_test))"
      ],
      "execution_count": 37,
      "outputs": [
        {
          "output_type": "stream",
          "text": [
            "Train on 58129 samples, validate on 14533 samples\n",
            "Epoch 1/50\n",
            "58129/58129 [==============================] - 11s 189us/step - loss: 4.4411 - acc: 0.0266 - val_loss: 4.2789 - val_acc: 0.0555\n",
            "Epoch 2/50\n",
            "58129/58129 [==============================] - 10s 173us/step - loss: 4.1952 - acc: 0.0623 - val_loss: 4.1003 - val_acc: 0.0793\n",
            "Epoch 3/50\n",
            "58129/58129 [==============================] - 10s 174us/step - loss: 4.0135 - acc: 0.0919 - val_loss: 3.9297 - val_acc: 0.1082\n",
            "Epoch 4/50\n",
            "58129/58129 [==============================] - 10s 175us/step - loss: 3.8323 - acc: 0.1221 - val_loss: 3.8113 - val_acc: 0.1305\n",
            "Epoch 5/50\n",
            "58129/58129 [==============================] - 10s 174us/step - loss: 3.6767 - acc: 0.1495 - val_loss: 3.7128 - val_acc: 0.1539\n",
            "Epoch 6/50\n",
            "58129/58129 [==============================] - 10s 174us/step - loss: 3.5397 - acc: 0.1749 - val_loss: 3.6347 - val_acc: 0.1652\n",
            "Epoch 7/50\n",
            "58129/58129 [==============================] - 10s 175us/step - loss: 3.4044 - acc: 0.2015 - val_loss: 3.5929 - val_acc: 0.1751\n",
            "Epoch 8/50\n",
            "58129/58129 [==============================] - 10s 175us/step - loss: 3.2883 - acc: 0.2251 - val_loss: 3.5607 - val_acc: 0.1854\n",
            "Epoch 9/50\n",
            "58129/58129 [==============================] - 10s 175us/step - loss: 3.1829 - acc: 0.2440 - val_loss: 3.5285 - val_acc: 0.1951\n",
            "Epoch 10/50\n",
            "58129/58129 [==============================] - 10s 175us/step - loss: 3.0874 - acc: 0.2644 - val_loss: 3.5131 - val_acc: 0.2053\n",
            "Epoch 11/50\n",
            "58129/58129 [==============================] - 10s 175us/step - loss: 2.9914 - acc: 0.2843 - val_loss: 3.5074 - val_acc: 0.2086\n",
            "Epoch 12/50\n",
            "58129/58129 [==============================] - 10s 174us/step - loss: 2.9023 - acc: 0.3012 - val_loss: 3.4518 - val_acc: 0.2205\n",
            "Epoch 13/50\n",
            "58129/58129 [==============================] - 10s 174us/step - loss: 2.8323 - acc: 0.3186 - val_loss: 3.4697 - val_acc: 0.2221\n",
            "Epoch 14/50\n",
            "58129/58129 [==============================] - 10s 175us/step - loss: 2.7552 - acc: 0.3308 - val_loss: 3.4507 - val_acc: 0.2276\n",
            "Epoch 15/50\n",
            "58129/58129 [==============================] - 10s 174us/step - loss: 2.6866 - acc: 0.3478 - val_loss: 3.4411 - val_acc: 0.2316\n",
            "Epoch 16/50\n",
            "58129/58129 [==============================] - 10s 174us/step - loss: 2.6312 - acc: 0.3620 - val_loss: 3.4395 - val_acc: 0.2368\n",
            "Epoch 17/50\n",
            "58129/58129 [==============================] - 10s 174us/step - loss: 2.5641 - acc: 0.3727 - val_loss: 3.4903 - val_acc: 0.2326\n",
            "Epoch 18/50\n",
            "58129/58129 [==============================] - 10s 174us/step - loss: 2.5119 - acc: 0.3854 - val_loss: 3.4704 - val_acc: 0.2314\n",
            "Epoch 19/50\n",
            "58129/58129 [==============================] - 10s 175us/step - loss: 2.4619 - acc: 0.3953 - val_loss: 3.5122 - val_acc: 0.2368\n",
            "Epoch 20/50\n",
            "58129/58129 [==============================] - 10s 174us/step - loss: 2.4187 - acc: 0.4043 - val_loss: 3.5227 - val_acc: 0.2373\n",
            "Epoch 21/50\n",
            "58129/58129 [==============================] - 10s 174us/step - loss: 2.3694 - acc: 0.4166 - val_loss: 3.5590 - val_acc: 0.2445\n",
            "Epoch 22/50\n",
            "58129/58129 [==============================] - 10s 174us/step - loss: 2.3243 - acc: 0.4250 - val_loss: 3.5831 - val_acc: 0.2430\n",
            "Epoch 23/50\n",
            "58129/58129 [==============================] - 10s 174us/step - loss: 2.2876 - acc: 0.4321 - val_loss: 3.5870 - val_acc: 0.2418\n",
            "Epoch 24/50\n",
            "58129/58129 [==============================] - 10s 174us/step - loss: 2.2506 - acc: 0.4398 - val_loss: 3.5978 - val_acc: 0.2403\n",
            "Epoch 25/50\n",
            "58129/58129 [==============================] - 10s 175us/step - loss: 2.2108 - acc: 0.4507 - val_loss: 3.5932 - val_acc: 0.2475\n",
            "Epoch 26/50\n",
            "58129/58129 [==============================] - 10s 174us/step - loss: 2.1744 - acc: 0.4554 - val_loss: 3.6853 - val_acc: 0.2390\n",
            "Epoch 27/50\n",
            "58129/58129 [==============================] - 10s 174us/step - loss: 2.1463 - acc: 0.4614 - val_loss: 3.6263 - val_acc: 0.2456\n",
            "Epoch 28/50\n",
            "58129/58129 [==============================] - 10s 174us/step - loss: 2.1157 - acc: 0.4715 - val_loss: 3.6649 - val_acc: 0.2419\n",
            "Epoch 29/50\n",
            "58129/58129 [==============================] - 10s 174us/step - loss: 2.0865 - acc: 0.4766 - val_loss: 3.7302 - val_acc: 0.2439\n",
            "Epoch 30/50\n",
            "58129/58129 [==============================] - 10s 174us/step - loss: 2.0625 - acc: 0.4795 - val_loss: 3.6877 - val_acc: 0.2472\n",
            "Epoch 31/50\n",
            "58129/58129 [==============================] - 10s 174us/step - loss: 2.0266 - acc: 0.4877 - val_loss: 3.7388 - val_acc: 0.2457\n",
            "Epoch 32/50\n",
            "58129/58129 [==============================] - 10s 174us/step - loss: 2.0041 - acc: 0.4920 - val_loss: 3.7710 - val_acc: 0.2461\n",
            "Epoch 33/50\n",
            "58129/58129 [==============================] - 10s 175us/step - loss: 1.9751 - acc: 0.5015 - val_loss: 3.7422 - val_acc: 0.2495\n",
            "Epoch 34/50\n",
            "58129/58129 [==============================] - 10s 174us/step - loss: 1.9599 - acc: 0.5033 - val_loss: 3.8887 - val_acc: 0.2449\n",
            "Epoch 35/50\n",
            "58129/58129 [==============================] - 10s 174us/step - loss: 1.9397 - acc: 0.5083 - val_loss: 3.7556 - val_acc: 0.2466\n",
            "Epoch 36/50\n",
            "58129/58129 [==============================] - 10s 174us/step - loss: 1.9226 - acc: 0.5114 - val_loss: 3.7521 - val_acc: 0.2456\n",
            "Epoch 37/50\n",
            "58129/58129 [==============================] - 10s 174us/step - loss: 1.8987 - acc: 0.5172 - val_loss: 3.8732 - val_acc: 0.2423\n",
            "Epoch 38/50\n",
            "58129/58129 [==============================] - 10s 174us/step - loss: 1.8793 - acc: 0.5199 - val_loss: 3.8427 - val_acc: 0.2461\n",
            "Epoch 39/50\n",
            "58129/58129 [==============================] - 10s 174us/step - loss: 1.8652 - acc: 0.5219 - val_loss: 3.8879 - val_acc: 0.2454\n",
            "Epoch 40/50\n",
            "58129/58129 [==============================] - 10s 174us/step - loss: 1.8424 - acc: 0.5297 - val_loss: 3.8992 - val_acc: 0.2493\n",
            "Epoch 41/50\n",
            "58129/58129 [==============================] - 10s 174us/step - loss: 1.8202 - acc: 0.5330 - val_loss: 3.8174 - val_acc: 0.2456\n",
            "Epoch 42/50\n",
            "58129/58129 [==============================] - 10s 174us/step - loss: 1.8112 - acc: 0.5330 - val_loss: 3.9233 - val_acc: 0.2470\n",
            "Epoch 43/50\n",
            "58129/58129 [==============================] - 10s 174us/step - loss: 1.7937 - acc: 0.5406 - val_loss: 4.0159 - val_acc: 0.2428\n",
            "Epoch 44/50\n",
            "58129/58129 [==============================] - 10s 175us/step - loss: 1.7819 - acc: 0.5427 - val_loss: 3.9067 - val_acc: 0.2427\n",
            "Epoch 45/50\n",
            "58129/58129 [==============================] - 10s 174us/step - loss: 1.7656 - acc: 0.5460 - val_loss: 3.9384 - val_acc: 0.2445\n",
            "Epoch 46/50\n",
            "58129/58129 [==============================] - 10s 173us/step - loss: 1.7432 - acc: 0.5513 - val_loss: 4.0827 - val_acc: 0.2497\n",
            "Epoch 47/50\n",
            "58129/58129 [==============================] - 10s 174us/step - loss: 1.7349 - acc: 0.5512 - val_loss: 3.9938 - val_acc: 0.2452\n",
            "Epoch 48/50\n",
            "58129/58129 [==============================] - 10s 174us/step - loss: 1.7301 - acc: 0.5553 - val_loss: 4.0183 - val_acc: 0.2455\n",
            "Epoch 49/50\n",
            "58129/58129 [==============================] - 10s 175us/step - loss: 1.7069 - acc: 0.5570 - val_loss: 3.9997 - val_acc: 0.2428\n",
            "Epoch 50/50\n",
            "58129/58129 [==============================] - 10s 174us/step - loss: 1.6955 - acc: 0.5609 - val_loss: 4.0286 - val_acc: 0.2438\n"
          ],
          "name": "stdout"
        }
      ]
    },
    {
      "metadata": {
        "id": "tlwLtxcSvSR0",
        "colab_type": "code",
        "colab": {
          "base_uri": "https://localhost:8080/",
          "height": 51
        },
        "outputId": "df13bb12-ccf8-43e4-d5a3-4992f39acabc"
      },
      "cell_type": "code",
      "source": [
        "model_conv2.evaluate(x_test,y_test)"
      ],
      "execution_count": 38,
      "outputs": [
        {
          "output_type": "stream",
          "text": [
            "14533/14533 [==============================] - 2s 106us/step\n"
          ],
          "name": "stdout"
        },
        {
          "output_type": "execute_result",
          "data": {
            "text/plain": [
              "[4.028622815263318, 0.24378999518337577]"
            ]
          },
          "metadata": {
            "tags": []
          },
          "execution_count": 38
        }
      ]
    },
    {
      "metadata": {
        "id": "Ze4XEIYiyS26",
        "colab_type": "code",
        "colab": {}
      },
      "cell_type": "code",
      "source": [
        "y_pred = model_conv2.predict(x_test)"
      ],
      "execution_count": 0,
      "outputs": []
    },
    {
      "metadata": {
        "id": "F8KF4Vy0zhrF",
        "colab_type": "code",
        "colab": {
          "base_uri": "https://localhost:8080/",
          "height": 170
        },
        "outputId": "b2089353-e055-4465-b81a-5d36834fe861"
      },
      "cell_type": "code",
      "source": [
        "def topk_acc(y_test, y_pred, k):\n",
        "  return keras.backend.eval(keras.metrics.sparse_top_k_categorical_accuracy(y_test, y_pred, k=k)) # force it to evaluate\n",
        "\n",
        "[(k, topk_acc(y_test, y_pred, k=k)) for k in range(1, 10)]"
      ],
      "execution_count": 61,
      "outputs": [
        {
          "output_type": "execute_result",
          "data": {
            "text/plain": [
              "[(1, 0.24379),\n",
              " (2, 0.32395238),\n",
              " (3, 0.37893072),\n",
              " (4, 0.42117938),\n",
              " (5, 0.45482695),\n",
              " (6, 0.48420835),\n",
              " (7, 0.51063097),\n",
              " (8, 0.5323746),\n",
              " (9, 0.5548063)]"
            ]
          },
          "metadata": {
            "tags": []
          },
          "execution_count": 61
        }
      ]
    },
    {
      "metadata": {
        "id": "QVV8ltCq00SM",
        "colab_type": "code",
        "colab": {}
      },
      "cell_type": "code",
      "source": [
        "from sklearn.metrics import classification_report, accuracy_score, confusion_matrix\n",
        "\n",
        "y_pred = model_conv2.predict_classes(x_test)\n",
        "\n",
        "cm = confusion_matrix(y_test, y_pred) #only works with sparse\n",
        "cm = cm.astype('float') / cm.sum(axis=1)[:, np.newaxis]\n",
        "accuracies2 = cm.diagonal()"
      ],
      "execution_count": 0,
      "outputs": []
    },
    {
      "metadata": {
        "id": "MAw_Jj4a2qQK",
        "colab_type": "code",
        "colab": {
          "base_uri": "https://localhost:8080/",
          "height": 153
        },
        "outputId": "8fac8b85-e4c6-4728-f87e-01f019456db2"
      },
      "cell_type": "code",
      "source": [
        "print(accuracies2.max())\n",
        "print(accuracies2.argmax())\n",
        "print(data[['author', 'body']][data['author_id'] == 68][0:5])"
      ],
      "execution_count": 87,
      "outputs": [
        {
          "output_type": "stream",
          "text": [
            "0.696551724137931\n",
            "68\n",
            "      author                                               body\n",
            "9346  djphan  Kansas is an underrated pickup opportunity... ...\n",
            "9347  djphan  how can i point to their argument without usin...\n",
            "9348  djphan  i did.. i see the subsequent comments... and t...\n",
            "9349  djphan  i literally quoted it in my first reply...  \\n...\n",
            "9350  djphan  youre saying that clinton did it herself... th...\n"
          ],
          "name": "stdout"
        }
      ]
    },
    {
      "metadata": {
        "id": "sHzn_kVB1f2H",
        "colab_type": "code",
        "colab": {
          "base_uri": "https://localhost:8080/",
          "height": 376
        },
        "outputId": "fc870c65-e882-440a-e424-a33e1caa271c"
      },
      "cell_type": "code",
      "source": [
        "plt.hist(accuracies2, bins=20)\n",
        "plt.title('Histogram of Test Accuracy with 2-Layer CNN')\n",
        "plt.xlabel('Accuracy')\n",
        "plt.show()\n"
      ],
      "execution_count": 99,
      "outputs": [
        {
          "output_type": "display_data",
          "data": {
            "image/png": "[encoded data removed]",
            "text/plain": [
              "<matplotlib.figure.Figure at 0x7f2777121198>"
            ]
          },
          "metadata": {
            "tags": []
          }
        }
      ]
    },
    {
      "metadata": {
        "id": "QhqllVCpotPx",
        "colab_type": "code",
        "colab": {
          "base_uri": "https://localhost:8080/",
          "height": 364
        },
        "outputId": "dd67ea82-ed0f-4fa0-9bfd-ab21c82b6fe9"
      },
      "cell_type": "code",
      "source": [
        "import matplotlib.pyplot as plt\n",
        "plt.plot(history2.history['loss'])\n",
        "plt.plot(history2.history['val_loss'])\n",
        "plt.legend(['train', 'test'], loc='lower left')"
      ],
      "execution_count": 39,
      "outputs": [
        {
          "output_type": "execute_result",
          "data": {
            "text/plain": [
              "<matplotlib.legend.Legend at 0x7f27772095f8>"
            ]
          },
          "metadata": {
            "tags": []
          },
          "execution_count": 39
        },
        {
          "output_type": "display_data",
          "data": {
            "image/png": "[encoded data removed]",
            "text/plain": [
              "<matplotlib.figure.Figure at 0x7f277727e9b0>"
            ]
          },
          "metadata": {
            "tags": []
          }
        }
      ]
    },
    {
      "metadata": {
        "id": "5SULCF5UvOlf",
        "colab_type": "code",
        "colab": {
          "base_uri": "https://localhost:8080/",
          "height": 364
        },
        "outputId": "00a2cf9f-b2e6-4afe-8024-e3abe434b634"
      },
      "cell_type": "code",
      "source": [
        "plt.plot(history2.history['acc'])\n",
        "plt.plot(history2.history['val_acc'])\n",
        "plt.legend(['train', 'test'], loc='lower right')"
      ],
      "execution_count": 40,
      "outputs": [
        {
          "output_type": "execute_result",
          "data": {
            "text/plain": [
              "<matplotlib.legend.Legend at 0x7f2777176828>"
            ]
          },
          "metadata": {
            "tags": []
          },
          "execution_count": 40
        },
        {
          "output_type": "display_data",
          "data": {
            "image/png": "[encoded data removed]",
            "text/plain": [
              "<matplotlib.figure.Figure at 0x7f27771ee3c8>"
            ]
          },
          "metadata": {
            "tags": []
          }
        }
      ]
    }
  ]
}