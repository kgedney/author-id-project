{
 "cells": [
  {
   "cell_type": "markdown",
   "metadata": {
    "colab_type": "text",
    "id": "Lu4PRj6EOqVP"
   },
   "source": [
    "### Preprocess Text Data and Modelling \n",
    "### ANLY 590 Project\n"
   ]
  },
  {
   "cell_type": "markdown",
   "metadata": {
    "colab_type": "text",
    "id": "n8Z-jpowOqVR"
   },
   "source": [
    "***"
   ]
  },
  {
   "cell_type": "markdown",
   "metadata": {
    "colab_type": "text",
    "id": "-YouD-XvOqVS"
   },
   "source": [
    "#### Prep"
   ]
  },
  {
   "cell_type": "code",
   "execution_count": 325,
   "metadata": {
    "colab": {
     "base_uri": "https://localhost:8080/",
     "height": 218
    },
    "colab_type": "code",
    "id": "Xo1IkInHOqVS",
    "outputId": "b6afba72-ecbc-47bb-9d34-8b39ca8d67c6"
   },
   "outputs": [],
   "source": [
    "# set working directory\n",
    "import os\n",
    "import sys\n",
    "path = '/Users/kgedney/Documents/georgetown/anly590/author-id-project'\n",
    "os.chdir(path)"
   ]
  },
  {
   "cell_type": "code",
   "execution_count": 326,
   "metadata": {
    "colab": {},
    "colab_type": "code",
    "collapsed": true,
    "id": "dm9sAyvLOqVW"
   },
   "outputs": [],
   "source": [
    "import numpy as np\n",
    "import pandas as pd"
   ]
  },
  {
   "cell_type": "code",
   "execution_count": 327,
   "metadata": {
    "colab": {},
    "colab_type": "code",
    "collapsed": true,
    "id": "R6czjVsqOqVY"
   },
   "outputs": [],
   "source": [
    "# load filtered data\n",
    "df = pd.read_csv('filtered_data.csv')"
   ]
  },
  {
   "cell_type": "markdown",
   "metadata": {
    "colab_type": "text",
    "id": "SSt2URxSOqVa"
   },
   "source": [
    "#### Google Colab Prep"
   ]
  },
  {
   "cell_type": "code",
   "execution_count": 0,
   "metadata": {
    "colab": {},
    "colab_type": "code",
    "collapsed": true,
    "id": "Rm4u23MHa1AE"
   },
   "outputs": [],
   "source": [
    "import numpy as np\n",
    "import pandas as pd"
   ]
  },
  {
   "cell_type": "code",
   "execution_count": 1,
   "metadata": {
    "colab": {
     "base_uri": "https://localhost:8080/",
     "height": 122
    },
    "colab_type": "code",
    "id": "W4WEkqUsOqVb",
    "outputId": "a2d59ceb-9b8a-4345-e13a-47c8025b222e"
   },
   "outputs": [
    {
     "name": "stdout",
     "output_type": "stream",
     "text": [
      "Go to this URL in a browser: https://accounts.google.com/o/oauth2/auth?client_id=947318989803-6bn6qk8qdgf4n4g3pfee6491hc0brc4i.apps.googleusercontent.com&redirect_uri=urn%3Aietf%3Awg%3Aoauth%3A2.0%3Aoob&scope=email%20https%3A%2F%2Fwww.googleapis.com%2Fauth%2Fdocs.test%20https%3A%2F%2Fwww.googleapis.com%2Fauth%2Fdrive%20https%3A%2F%2Fwww.googleapis.com%2Fauth%2Fdrive.photos.readonly%20https%3A%2F%2Fwww.googleapis.com%2Fauth%2Fpeopleapi.readonly&response_type=code\n",
      "\n",
      "Enter your authorization code:\n",
      "··········\n",
      "Mounted at /content/gdrive\n"
     ]
    }
   ],
   "source": [
    "# get data from Google drive\n",
    "from google.colab import drive\n",
    "drive.mount('/content/gdrive')"
   ]
  },
  {
   "cell_type": "code",
   "execution_count": 4,
   "metadata": {
    "colab": {
     "base_uri": "https://localhost:8080/",
     "height": 527
    },
    "colab_type": "code",
    "id": "QJ11dU2QOqVe",
    "outputId": "65a03e4e-9d03-476e-8d91-1028e100ebc4"
   },
   "outputs": [
    {
     "data": {
      "text/html": [
       "<div>\n",
       "<style scoped>\n",
       "    .dataframe tbody tr th:only-of-type {\n",
       "        vertical-align: middle;\n",
       "    }\n",
       "\n",
       "    .dataframe tbody tr th {\n",
       "        vertical-align: top;\n",
       "    }\n",
       "\n",
       "    .dataframe thead th {\n",
       "        text-align: right;\n",
       "    }\n",
       "</style>\n",
       "<table border=\"1\" class=\"dataframe\">\n",
       "  <thead>\n",
       "    <tr style=\"text-align: right;\">\n",
       "      <th></th>\n",
       "      <th>author</th>\n",
       "      <th>body</th>\n",
       "      <th>subreddit</th>\n",
       "      <th>permalink</th>\n",
       "      <th>num_chars</th>\n",
       "      <th>num_words</th>\n",
       "    </tr>\n",
       "  </thead>\n",
       "  <tbody>\n",
       "    <tr>\n",
       "      <th>0</th>\n",
       "      <td>GuaranteedAdmission</td>\n",
       "      <td>News aggregators don't filter Opinion pieces i...</td>\n",
       "      <td>AskAnAmerican</td>\n",
       "      <td>/r/AskAnAmerican/comments/9zrnid/america_whats...</td>\n",
       "      <td>69</td>\n",
       "      <td>11</td>\n",
       "    </tr>\n",
       "    <tr>\n",
       "      <th>1</th>\n",
       "      <td>GuaranteedAdmission</td>\n",
       "      <td>You can be in favor of a policy he supports an...</td>\n",
       "      <td>AskReddit</td>\n",
       "      <td>/r/AskReddit/comments/9zklcs/as_a_brit_who_onl...</td>\n",
       "      <td>74</td>\n",
       "      <td>17</td>\n",
       "    </tr>\n",
       "    <tr>\n",
       "      <th>2</th>\n",
       "      <td>GuaranteedAdmission</td>\n",
       "      <td>That depends. What is the penalty for breaking...</td>\n",
       "      <td>AskReddit</td>\n",
       "      <td>/r/AskReddit/comments/9zkfcd/how_would_you_fee...</td>\n",
       "      <td>202</td>\n",
       "      <td>36</td>\n",
       "    </tr>\n",
       "    <tr>\n",
       "      <th>3</th>\n",
       "      <td>GuaranteedAdmission</td>\n",
       "      <td>Because I like to think long term. Tax cuts fo...</td>\n",
       "      <td>AskReddit</td>\n",
       "      <td>/r/AskReddit/comments/9yxl98/liberals_of_reddi...</td>\n",
       "      <td>120</td>\n",
       "      <td>22</td>\n",
       "    </tr>\n",
       "    <tr>\n",
       "      <th>4</th>\n",
       "      <td>GuaranteedAdmission</td>\n",
       "      <td>We don't talk about the Highway Shoes, OP! Are...</td>\n",
       "      <td>AskReddit</td>\n",
       "      <td>/r/AskReddit/comments/9yrbvd/people_who_lost_a...</td>\n",
       "      <td>110</td>\n",
       "      <td>22</td>\n",
       "    </tr>\n",
       "  </tbody>\n",
       "</table>\n",
       "</div>"
      ],
      "text/plain": [
       "                author                                               body  \\\n",
       "0  GuaranteedAdmission  News aggregators don't filter Opinion pieces i...   \n",
       "1  GuaranteedAdmission  You can be in favor of a policy he supports an...   \n",
       "2  GuaranteedAdmission  That depends. What is the penalty for breaking...   \n",
       "3  GuaranteedAdmission  Because I like to think long term. Tax cuts fo...   \n",
       "4  GuaranteedAdmission  We don't talk about the Highway Shoes, OP! Are...   \n",
       "\n",
       "       subreddit                                          permalink  \\\n",
       "0  AskAnAmerican  /r/AskAnAmerican/comments/9zrnid/america_whats...   \n",
       "1      AskReddit  /r/AskReddit/comments/9zklcs/as_a_brit_who_onl...   \n",
       "2      AskReddit  /r/AskReddit/comments/9zkfcd/how_would_you_fee...   \n",
       "3      AskReddit  /r/AskReddit/comments/9yxl98/liberals_of_reddi...   \n",
       "4      AskReddit  /r/AskReddit/comments/9yrbvd/people_who_lost_a...   \n",
       "\n",
       "   num_chars  num_words  \n",
       "0         69         11  \n",
       "1         74         17  \n",
       "2        202         36  \n",
       "3        120         22  \n",
       "4        110         22  "
      ]
     },
     "execution_count": 4,
     "metadata": {
      "tags": []
     },
     "output_type": "execute_result"
    }
   ],
   "source": [
    "# manually add file from local to drive\n",
    "df = pd.read_csv('filtered_data.csv')\n",
    "df.head()"
   ]
  },
  {
   "cell_type": "code",
   "execution_count": 5,
   "metadata": {
    "colab": {
     "base_uri": "https://localhost:8080/",
     "height": 816
    },
    "colab_type": "code",
    "id": "O_Nh1qcIYl6S",
    "outputId": "f70af870-26f1-4e88-dc0f-fee435dbedca"
   },
   "outputs": [
    {
     "name": "stdout",
     "output_type": "stream",
     "text": [
      "[nltk_data] Downloading collection 'popular'\n",
      "[nltk_data]    | \n",
      "[nltk_data]    | Downloading package cmudict to /root/nltk_data...\n",
      "[nltk_data]    |   Unzipping corpora/cmudict.zip.\n",
      "[nltk_data]    | Downloading package gazetteers to /root/nltk_data...\n",
      "[nltk_data]    |   Unzipping corpora/gazetteers.zip.\n",
      "[nltk_data]    | Downloading package genesis to /root/nltk_data...\n",
      "[nltk_data]    |   Unzipping corpora/genesis.zip.\n",
      "[nltk_data]    | Downloading package gutenberg to /root/nltk_data...\n",
      "[nltk_data]    |   Unzipping corpora/gutenberg.zip.\n",
      "[nltk_data]    | Downloading package inaugural to /root/nltk_data...\n",
      "[nltk_data]    |   Unzipping corpora/inaugural.zip.\n",
      "[nltk_data]    | Downloading package movie_reviews to\n",
      "[nltk_data]    |     /root/nltk_data...\n",
      "[nltk_data]    |   Unzipping corpora/movie_reviews.zip.\n",
      "[nltk_data]    | Downloading package names to /root/nltk_data...\n",
      "[nltk_data]    |   Unzipping corpora/names.zip.\n",
      "[nltk_data]    | Downloading package shakespeare to /root/nltk_data...\n",
      "[nltk_data]    |   Unzipping corpora/shakespeare.zip.\n",
      "[nltk_data]    | Downloading package stopwords to /root/nltk_data...\n",
      "[nltk_data]    |   Unzipping corpora/stopwords.zip.\n",
      "[nltk_data]    | Downloading package treebank to /root/nltk_data...\n",
      "[nltk_data]    |   Unzipping corpora/treebank.zip.\n",
      "[nltk_data]    | Downloading package twitter_samples to\n",
      "[nltk_data]    |     /root/nltk_data...\n",
      "[nltk_data]    |   Unzipping corpora/twitter_samples.zip.\n",
      "[nltk_data]    | Downloading package omw to /root/nltk_data...\n",
      "[nltk_data]    |   Unzipping corpora/omw.zip.\n",
      "[nltk_data]    | Downloading package wordnet to /root/nltk_data...\n",
      "[nltk_data]    |   Unzipping corpora/wordnet.zip.\n",
      "[nltk_data]    | Downloading package wordnet_ic to /root/nltk_data...\n",
      "[nltk_data]    |   Unzipping corpora/wordnet_ic.zip.\n",
      "[nltk_data]    | Downloading package words to /root/nltk_data...\n",
      "[nltk_data]    |   Unzipping corpora/words.zip.\n",
      "[nltk_data]    | Downloading package maxent_ne_chunker to\n",
      "[nltk_data]    |     /root/nltk_data...\n",
      "[nltk_data]    |   Unzipping chunkers/maxent_ne_chunker.zip.\n",
      "[nltk_data]    | Downloading package punkt to /root/nltk_data...\n",
      "[nltk_data]    |   Unzipping tokenizers/punkt.zip.\n",
      "[nltk_data]    | Downloading package snowball_data to\n",
      "[nltk_data]    |     /root/nltk_data...\n",
      "[nltk_data]    | Downloading package averaged_perceptron_tagger to\n",
      "[nltk_data]    |     /root/nltk_data...\n",
      "[nltk_data]    |   Unzipping taggers/averaged_perceptron_tagger.zip.\n",
      "[nltk_data]    | \n",
      "[nltk_data]  Done downloading collection popular\n"
     ]
    },
    {
     "data": {
      "text/plain": [
       "True"
      ]
     },
     "execution_count": 5,
     "metadata": {
      "tags": []
     },
     "output_type": "execute_result"
    }
   ],
   "source": [
    "# download nltk\n",
    "import nltk\n",
    "nltk.download('popular')"
   ]
  },
  {
   "cell_type": "markdown",
   "metadata": {
    "colab_type": "text",
    "id": "bJeXBWrvOqVg"
   },
   "source": [
    "#### Text Cleaning\n",
    "\n",
    "ref: https://www.analyticsvidhya.com/blog/2018/02/the-different-methods-deal-text-data-predictive-python/"
   ]
  },
  {
   "cell_type": "code",
   "execution_count": 328,
   "metadata": {
    "colab": {},
    "colab_type": "code",
    "collapsed": true,
    "id": "EHcxp11nOqVg"
   },
   "outputs": [],
   "source": [
    "# remove URLs and replace as '<url>'\n",
    "import re\n",
    "df['body_no_urls'] = df.apply(lambda row: re.sub(r\"http\\S+\", \"<url>\", row['body']), axis=1) "
   ]
  },
  {
   "cell_type": "code",
   "execution_count": 329,
   "metadata": {
    "colab": {},
    "colab_type": "code",
    "collapsed": true,
    "id": "9-JkOW2-OqVl"
   },
   "outputs": [],
   "source": [
    "# tokenize\n",
    "from nltk.tokenize import word_tokenize\n",
    "df['tokenized_nltk']  = df.apply(lambda row: word_tokenize(row['body_no_urls']), axis=1)"
   ]
  },
  {
   "cell_type": "code",
   "execution_count": 0,
   "metadata": {
    "colab": {},
    "colab_type": "code",
    "collapsed": true,
    "id": "SB80UklaOqVq"
   },
   "outputs": [],
   "source": [
    "# remove NERs"
   ]
  },
  {
   "cell_type": "code",
   "execution_count": 0,
   "metadata": {
    "colab": {},
    "colab_type": "code",
    "collapsed": true,
    "id": "I3DFwHCGOqVs"
   },
   "outputs": [],
   "source": [
    "# import spacy\n",
    "# nlp = spacy.load('en')"
   ]
  },
  {
   "cell_type": "code",
   "execution_count": 0,
   "metadata": {
    "colab": {},
    "colab_type": "code",
    "collapsed": true,
    "id": "8CEK1miBOqVu"
   },
   "outputs": [],
   "source": [
    "# def get_ners(input_doc):\n",
    "#     doc = nlp(input_doc)\n",
    "#     ners = str(doc.ents)\n",
    "#     return (ners)"
   ]
  },
  {
   "cell_type": "markdown",
   "metadata": {
    "colab_type": "text",
    "id": "jouchqjcOqVw"
   },
   "source": [
    "***"
   ]
  },
  {
   "cell_type": "markdown",
   "metadata": {
    "colab_type": "text",
    "id": "muQGleHGOqVx"
   },
   "source": [
    "#### Preprocess  for Modelling"
   ]
  },
  {
   "cell_type": "code",
   "execution_count": 330,
   "metadata": {
    "colab": {},
    "colab_type": "code",
    "collapsed": true,
    "id": "ZxVtQyhwOqVy"
   },
   "outputs": [],
   "source": [
    "# install packages\n",
    "import numpy as np\n",
    "\n",
    "from sklearn import metrics\n",
    "from sklearn.model_selection import train_test_split\n",
    "from sklearn.feature_extraction.text import CountVectorizer, TfidfVectorizer\n",
    "\n",
    "import keras\n",
    "from keras import optimizers\n",
    "import tensorflow as tf\n",
    "\n",
    "from keras.utils import np_utils\n",
    "from keras.preprocessing import sequence\n",
    "from keras.preprocessing.text import Tokenizer\n",
    "\n",
    "from keras.models import Model, Sequential\n",
    "from keras.layers import Input, Dense, CuDNNLSTM, LSTM, Embedding, Bidirectional, GlobalAveragePooling1D, Conv1D, Activation, Flatten, Dropout, MaxPooling1D, Embedding, GlobalMaxPooling1D\n",
    "\n",
    "from keras.layers.core import Dense, Dropout"
   ]
  },
  {
   "cell_type": "code",
   "execution_count": 331,
   "metadata": {
    "colab": {},
    "colab_type": "code",
    "collapsed": true,
    "id": "2ToC3POKOqVz"
   },
   "outputs": [],
   "source": [
    "# create class assignments\n",
    "df['author_id'] = pd.Categorical(df.author).codes"
   ]
  },
  {
   "cell_type": "markdown",
   "metadata": {
    "colab_type": "text",
    "id": "pQZCE5H7OqV1"
   },
   "source": [
    "#### 0. Baseline Model: Linear SVM"
   ]
  },
  {
   "cell_type": "code",
   "execution_count": 10,
   "metadata": {
    "colab": {
     "base_uri": "https://localhost:8080/",
     "height": 34
    },
    "colab_type": "code",
    "id": "U8LagNfdOqV2",
    "outputId": "a92888e3-1e16-4354-86c5-505a00608c31"
   },
   "outputs": [
    {
     "data": {
      "text/plain": [
       "(58129, 53161)"
      ]
     },
     "execution_count": 10,
     "metadata": {
      "tags": []
     },
     "output_type": "execute_result"
    }
   ],
   "source": [
    "x = df['body_no_urls'].values\n",
    "y = df['author_id'].values\n",
    "\n",
    "x_train, x_test, y_train, y_test = train_test_split(x, y, test_size=0.20, random_state=22)\n",
    "\n",
    "tfidf_vec   = TfidfVectorizer()\n",
    "x_train_vec = tfidf_vec.fit_transform(x_train)\n",
    "x_test_vec  = tfidf_vec.transform(x_test)\n",
    "x_train_vec.shape"
   ]
  },
  {
   "cell_type": "code",
   "execution_count": 0,
   "metadata": {
    "colab": {},
    "colab_type": "code",
    "collapsed": true,
    "id": "FLAMT9ioOqV6"
   },
   "outputs": [],
   "source": [
    "from sklearn.svm import LinearSVC\n",
    "clf             = LinearSVC().fit(x_train_vec, y_train)\n",
    "predicted       = clf.predict(x_test_vec)\n",
    "predicted_score = clf.decision_function(x_test_vec)"
   ]
  },
  {
   "cell_type": "code",
   "execution_count": 12,
   "metadata": {
    "colab": {
     "base_uri": "https://localhost:8080/",
     "height": 34
    },
    "colab_type": "code",
    "id": "0x4wr9ziOqV9",
    "outputId": "35e5c0e8-2b22-4073-f16a-7298c15e14f1"
   },
   "outputs": [
    {
     "name": "stdout",
     "output_type": "stream",
     "text": [
      "accuracy 0.37789857565540497\n"
     ]
    }
   ],
   "source": [
    "print('accuracy', metrics.accuracy_score(y_test, predicted))"
   ]
  },
  {
   "cell_type": "code",
   "execution_count": 0,
   "metadata": {
    "colab": {},
    "colab_type": "code",
    "collapsed": true,
    "id": "ycStNkaYNWwd"
   },
   "outputs": [],
   "source": [
    "# top k accuracy (# ref: https://scikit-learn.org/stable/modules/svm.html)\n",
    "predicted_score = clf.decision_function(x_test_vec)\n",
    "predicted_score.shape"
   ]
  },
  {
   "cell_type": "code",
   "execution_count": 0,
   "metadata": {
    "colab": {},
    "colab_type": "code",
    "collapsed": true,
    "id": "-2aH0jUsNZeP"
   },
   "outputs": [],
   "source": [
    "# transform matrix of predictions to put them in order\n",
    "best_n = predicted_score.argsort()[:,::-1] # need to do in reverse order thats why need \"[::-1]\""
   ]
  },
  {
   "cell_type": "code",
   "execution_count": 0,
   "metadata": {
    "colab": {},
    "colab_type": "code",
    "collapsed": true,
    "id": "OX4iMj0LNbBP"
   },
   "outputs": [],
   "source": [
    "# set up function to calculate\n",
    "count = 0\n",
    "for i in range(0, y_test.shape[0]):\n",
    "    if (y_test[i] in best_n[i,0:5]):\n",
    "        count = count + 1\n",
    "\n",
    "top_5_acc = count / y_test.shape[0]\n",
    "top_5_acc"
   ]
  },
  {
   "cell_type": "markdown",
   "metadata": {
    "colab_type": "text",
    "id": "TMyJAaDMOqWA"
   },
   "source": [
    "#### Preprocess Data for Keras Models"
   ]
  },
  {
   "cell_type": "code",
   "execution_count": 332,
   "metadata": {
    "colab": {
     "base_uri": "https://localhost:8080/",
     "height": 34
    },
    "colab_type": "code",
    "id": "qZT9aqDkOqWA",
    "outputId": "2093593d-3755-4b7e-b994-98e537db117e"
   },
   "outputs": [
    {
     "name": "stdout",
     "output_type": "stream",
     "text": [
      "236\n"
     ]
    }
   ],
   "source": [
    "# data preprocess\n",
    "x = df['tokenized_nltk'].values\n",
    "y = df['author_id'].values\n",
    "\n",
    "# create sequences\n",
    "max_features = 25000\n",
    "tokenizer    = Tokenizer(num_words = max_features)\n",
    "tokenizer.fit_on_texts(x)\n",
    "x_sequences  = tokenizer.texts_to_sequences(x)\n",
    "\n",
    "# pad each sequence to be max length\n",
    "maxlen = max(len(x) for x in x_sequences)\n",
    "print(maxlen)\n",
    "x_sequences = sequence.pad_sequences(x_sequences, maxlen)"
   ]
  },
  {
   "cell_type": "code",
   "execution_count": 0,
   "metadata": {
    "colab": {
     "base_uri": "https://localhost:8080/",
     "height": 51
    },
    "colab_type": "code",
    "id": "QpCgS_kgmAin",
    "outputId": "673af8c3-8594-4811-8af7-823e94a18256"
   },
   "outputs": [
    {
     "name": "stdout",
     "output_type": "stream",
     "text": [
      "(72662,)\n",
      "(72662, 100)\n"
     ]
    }
   ],
   "source": [
    "# from keras.utils import to_categorical\n",
    "# print(y.shape)\n",
    "# y = to_categorical(y)\n",
    "# print(y.shape)"
   ]
  },
  {
   "cell_type": "code",
   "execution_count": 333,
   "metadata": {
    "colab": {},
    "colab_type": "code",
    "collapsed": true,
    "id": "0DGqh3gtOqWC"
   },
   "outputs": [],
   "source": [
    "# split test and train\n",
    "x_train, x_test, y_train, y_test = train_test_split(x_sequences, y, test_size=0.20, random_state=22)"
   ]
  },
  {
   "cell_type": "markdown",
   "metadata": {
    "colab_type": "text",
    "id": "ACtPY2hyOqWS"
   },
   "source": [
    "#### 1. Faster RNN Model: CuDNNLSTM "
   ]
  },
  {
   "cell_type": "markdown",
   "metadata": {
    "colab_type": "text",
    "id": "7Uxo-JLmYl7I"
   },
   "source": [
    "- Run on Google Colab, 14 mins.    \n",
    "- Very overfit"
   ]
  },
  {
   "cell_type": "code",
   "execution_count": 0,
   "metadata": {
    "colab": {},
    "colab_type": "code",
    "collapsed": true,
    "id": "wjN0EYtzOqWT"
   },
   "outputs": [],
   "source": [
    "# ref: https://keras.io/layers/recurrent/#cudnnlstm\n",
    "# faster LSTM implementation\n",
    "\n",
    "model1 = Sequential()\n",
    "model1.add(Embedding(input_dim=max_features,\n",
    "                     output_dim=128))\n",
    "model1.add(CuDNNLSTM(128))\n",
    "model1.add(Dropout(0.5))\n",
    "model1.add(Dense(100, activation=\"softmax\"))\n",
    "\n",
    "model1.compile(optimizer=\"adam\", loss=\"sparse_categorical_crossentropy\", metrics=[\"acc\"])"
   ]
  },
  {
   "cell_type": "code",
   "execution_count": 29,
   "metadata": {
    "colab": {
     "base_uri": "https://localhost:8080/",
     "height": 598
    },
    "colab_type": "code",
    "id": "qS9g-XvpOqWY",
    "outputId": "d5357e7d-21fc-4c68-f25d-59025abfbbc8"
   },
   "outputs": [
    {
     "name": "stdout",
     "output_type": "stream",
     "text": [
      "Train on 58129 samples, validate on 14533 samples\n",
      "Epoch 1/16\n",
      "58129/58129 [==============================] - 28s 488us/step - loss: 4.3931 - acc: 0.0378 - val_loss: 4.1605 - val_acc: 0.0605\n",
      "Epoch 2/16\n",
      "58129/58129 [==============================] - 28s 478us/step - loss: 4.0029 - acc: 0.0878 - val_loss: 3.8811 - val_acc: 0.1096\n",
      "Epoch 3/16\n",
      "58129/58129 [==============================] - 28s 476us/step - loss: 3.6247 - acc: 0.1495 - val_loss: 3.7126 - val_acc: 0.1479\n",
      "Epoch 4/16\n",
      "58129/58129 [==============================] - 28s 479us/step - loss: 3.2245 - acc: 0.2255 - val_loss: 3.5383 - val_acc: 0.1886\n",
      "Epoch 5/16\n",
      "58129/58129 [==============================] - 28s 477us/step - loss: 2.8306 - acc: 0.3098 - val_loss: 3.5387 - val_acc: 0.2068\n",
      "Epoch 6/16\n",
      "58129/58129 [==============================] - 28s 475us/step - loss: 2.4861 - acc: 0.3881 - val_loss: 3.5731 - val_acc: 0.2205\n",
      "Epoch 7/16\n",
      "58129/58129 [==============================] - 28s 477us/step - loss: 2.1764 - acc: 0.4613 - val_loss: 3.6501 - val_acc: 0.2322\n",
      "Epoch 8/16\n",
      "58129/58129 [==============================] - 28s 474us/step - loss: 1.8966 - acc: 0.5253 - val_loss: 3.8007 - val_acc: 0.2353\n",
      "Epoch 9/16\n",
      "58129/58129 [==============================] - 27s 472us/step - loss: 1.6503 - acc: 0.5888 - val_loss: 3.9091 - val_acc: 0.2399\n",
      "Epoch 10/16\n",
      "58129/58129 [==============================] - 28s 477us/step - loss: 1.4262 - acc: 0.6442 - val_loss: 4.1044 - val_acc: 0.2428\n",
      "Epoch 11/16\n",
      "58129/58129 [==============================] - 28s 477us/step - loss: 1.2379 - acc: 0.6900 - val_loss: 4.3489 - val_acc: 0.2421\n",
      "Epoch 12/16\n",
      "58129/58129 [==============================] - 28s 478us/step - loss: 1.0793 - acc: 0.7278 - val_loss: 4.5701 - val_acc: 0.2409\n",
      "Epoch 13/16\n",
      "58129/58129 [==============================] - 28s 483us/step - loss: 0.9398 - acc: 0.7642 - val_loss: 4.7764 - val_acc: 0.2413\n",
      "Epoch 14/16\n",
      "58129/58129 [==============================] - 28s 480us/step - loss: 0.8337 - acc: 0.7870 - val_loss: 4.9669 - val_acc: 0.2319\n",
      "Epoch 15/16\n",
      "58129/58129 [==============================] - 28s 480us/step - loss: 0.7570 - acc: 0.8052 - val_loss: 5.1702 - val_acc: 0.2372\n",
      "Epoch 16/16\n",
      "58129/58129 [==============================] - 28s 483us/step - loss: 0.6618 - acc: 0.8303 - val_loss: 5.4107 - val_acc: 0.2354\n"
     ]
    }
   ],
   "source": [
    "history1 = model1.fit(x_train, y_train,\n",
    "            batch_size=128,\n",
    "            epochs=16,\n",
    "            validation_data=(x_test, y_test))"
   ]
  },
  {
   "cell_type": "code",
   "execution_count": 17,
   "metadata": {
    "colab": {
     "base_uri": "https://localhost:8080/",
     "height": 51
    },
    "colab_type": "code",
    "id": "WtytRsl0OqWb",
    "outputId": "e9c57a29-b0da-42db-fff4-6b61bfd059e2"
   },
   "outputs": [
    {
     "name": "stdout",
     "output_type": "stream",
     "text": [
      "14533/14533 [==============================] - 6s 421us/step\n",
      "accuracy 0.24482212894893698\n"
     ]
    }
   ],
   "source": [
    "print('accuracy', model1.evaluate(x_test, y_test)[1])"
   ]
  },
  {
   "cell_type": "code",
   "execution_count": 18,
   "metadata": {
    "colab": {
     "base_uri": "https://localhost:8080/",
     "height": 51
    },
    "colab_type": "code",
    "id": "KKSaYcGAOqWe",
    "outputId": "23088fa0-46a2-4e9b-b18a-aa67ee9c7275"
   },
   "outputs": [
    {
     "name": "stdout",
     "output_type": "stream",
     "text": [
      "58129/58129 [==============================] - 25s 422us/step\n",
      "accuracy 0.9159455693402401\n"
     ]
    }
   ],
   "source": [
    "print('accuracy', model1.evaluate(x_train, y_train)[1])"
   ]
  },
  {
   "cell_type": "code",
   "execution_count": 0,
   "metadata": {
    "colab": {},
    "colab_type": "code",
    "collapsed": true,
    "id": "rJoHK6wBFppn"
   },
   "outputs": [],
   "source": []
  },
  {
   "cell_type": "markdown",
   "metadata": {
    "colab_type": "text",
    "id": "KOjFcZZWFrWs"
   },
   "source": [
    "#### 2. CNN"
   ]
  },
  {
   "cell_type": "code",
   "execution_count": 0,
   "metadata": {
    "colab": {},
    "colab_type": "code",
    "collapsed": true,
    "id": "SZ0QGhAPGXHg"
   },
   "outputs": [],
   "source": [
    "model_conv2 = Sequential()\n",
    "model_conv2.add(Embedding(max_features, output_dim = 30, input_length=236))\n",
    "model_conv2.add(Dropout(0.2))\n",
    "model_conv2.add(Conv1D(128, 5, activation='relu'))\n",
    "model_conv2.add(Conv1D(128, 5, activation='relu'))\n",
    "model_conv2.add(GlobalMaxPooling1D())\n",
    "model_conv2.add(Dropout(0.2))\n",
    "model_conv2.add(Dense(100, activation='softmax'))"
   ]
  },
  {
   "cell_type": "code",
   "execution_count": 0,
   "metadata": {
    "colab": {},
    "colab_type": "code",
    "collapsed": true,
    "id": "NY6n9ha5GXKH"
   },
   "outputs": [],
   "source": [
    "from keras import optimizers\n",
    "opt = optimizers.rmsprop(lr=0.001) # speed up optimization\n",
    "model_conv2.compile(optimizer=opt, loss=\"sparse_categorical_crossentropy\", metrics=[\"acc\"])\n"
   ]
  },
  {
   "cell_type": "code",
   "execution_count": 35,
   "metadata": {
    "colab": {
     "base_uri": "https://localhost:8080/",
     "height": 598
    },
    "colab_type": "code",
    "id": "hALcnyruGXMp",
    "outputId": "f44b2716-c7b8-4cd9-ba91-07d4b4765b6b"
   },
   "outputs": [
    {
     "name": "stdout",
     "output_type": "stream",
     "text": [
      "Train on 58129 samples, validate on 14533 samples\n",
      "Epoch 1/16\n",
      "58129/58129 [==============================] - 11s 188us/step - loss: 4.4664 - acc: 0.0254 - val_loss: 4.2822 - val_acc: 0.0520\n",
      "Epoch 2/16\n",
      "58129/58129 [==============================] - 10s 178us/step - loss: 4.2079 - acc: 0.0592 - val_loss: 4.1073 - val_acc: 0.0750\n",
      "Epoch 3/16\n",
      "58129/58129 [==============================] - 10s 178us/step - loss: 4.0162 - acc: 0.0892 - val_loss: 3.9565 - val_acc: 0.1044\n",
      "Epoch 4/16\n",
      "58129/58129 [==============================] - 10s 178us/step - loss: 3.8364 - acc: 0.1194 - val_loss: 3.8121 - val_acc: 0.1280\n",
      "Epoch 5/16\n",
      "58129/58129 [==============================] - 10s 178us/step - loss: 3.6756 - acc: 0.1485 - val_loss: 3.7152 - val_acc: 0.1531\n",
      "Epoch 6/16\n",
      "58129/58129 [==============================] - 10s 178us/step - loss: 3.5385 - acc: 0.1714 - val_loss: 3.6596 - val_acc: 0.1660\n",
      "Epoch 7/16\n",
      "58129/58129 [==============================] - 10s 178us/step - loss: 3.4033 - acc: 0.1968 - val_loss: 3.5850 - val_acc: 0.1795\n",
      "Epoch 8/16\n",
      "58129/58129 [==============================] - 10s 178us/step - loss: 3.2834 - acc: 0.2232 - val_loss: 3.5282 - val_acc: 0.1943\n",
      "Epoch 9/16\n",
      "58129/58129 [==============================] - 10s 178us/step - loss: 3.1634 - acc: 0.2444 - val_loss: 3.4847 - val_acc: 0.1994\n",
      "Epoch 10/16\n",
      "58129/58129 [==============================] - 10s 177us/step - loss: 3.0594 - acc: 0.2663 - val_loss: 3.5008 - val_acc: 0.2080\n",
      "Epoch 11/16\n",
      "58129/58129 [==============================] - 10s 177us/step - loss: 2.9582 - acc: 0.2850 - val_loss: 3.5390 - val_acc: 0.2009\n",
      "Epoch 12/16\n",
      "58129/58129 [==============================] - 10s 178us/step - loss: 2.8675 - acc: 0.3070 - val_loss: 3.4744 - val_acc: 0.2204\n",
      "Epoch 13/16\n",
      "58129/58129 [==============================] - 10s 178us/step - loss: 2.7856 - acc: 0.3244 - val_loss: 3.4889 - val_acc: 0.2227\n",
      "Epoch 14/16\n",
      "58129/58129 [==============================] - 10s 178us/step - loss: 2.7083 - acc: 0.3393 - val_loss: 3.4880 - val_acc: 0.2249\n",
      "Epoch 15/16\n",
      "58129/58129 [==============================] - 10s 178us/step - loss: 2.6439 - acc: 0.3549 - val_loss: 3.4767 - val_acc: 0.2309\n",
      "Epoch 16/16\n",
      "58129/58129 [==============================] - 10s 177us/step - loss: 2.5726 - acc: 0.3713 - val_loss: 3.4288 - val_acc: 0.2351\n"
     ]
    }
   ],
   "source": [
    "history2 = model_conv2.fit(x_train, y_train,\n",
    "            batch_size=128,\n",
    "            epochs=16,\n",
    "            validation_data=(x_test, y_test))"
   ]
  },
  {
   "cell_type": "code",
   "execution_count": 36,
   "metadata": {
    "colab": {
     "base_uri": "https://localhost:8080/",
     "height": 51
    },
    "colab_type": "code",
    "id": "islqOUDZGXPS",
    "outputId": "8088e2c2-dcd8-456d-f91c-a0e1cc8a5229"
   },
   "outputs": [
    {
     "name": "stdout",
     "output_type": "stream",
     "text": [
      "14533/14533 [==============================] - 2s 116us/step\n"
     ]
    },
    {
     "data": {
      "text/plain": [
       "[3.428831457017187, 0.23505126264466394]"
      ]
     },
     "execution_count": 36,
     "metadata": {
      "tags": []
     },
     "output_type": "execute_result"
    }
   ],
   "source": [
    "model_conv2.evaluate(x_test,y_test)\n"
   ]
  },
  {
   "cell_type": "markdown",
   "metadata": {
    "colab_type": "text",
    "id": "HxqC0VsOGBbF"
   },
   "source": [
    "#### 3. CNN + LSTM"
   ]
  },
  {
   "cell_type": "code",
   "execution_count": 0,
   "metadata": {
    "colab": {},
    "colab_type": "code",
    "collapsed": true,
    "id": "KHV_jJyiGEmD"
   },
   "outputs": [],
   "source": [
    "model_conv3 = Sequential()\n",
    "model_conv3.add(Embedding(max_features, output_dim = 30, input_length=236))\n",
    "model_conv3.add(Dropout(0.2))\n",
    "model_conv3.add(Conv1D(128, 5, activation='relu'))\n",
    "model_conv3.add(MaxPooling1D(4))\n",
    "model_conv3.add(LSTM(100))\n",
    "#model_conv.add(GlobalMaxPooling1D())\n",
    "\n",
    "model_conv3.add(Dense(100, activation='softmax'))"
   ]
  },
  {
   "cell_type": "code",
   "execution_count": 0,
   "metadata": {
    "colab": {},
    "colab_type": "code",
    "collapsed": true,
    "id": "HKP5F_8cGEok"
   },
   "outputs": [],
   "source": [
    "opt = optimizers.rmsprop(lr=0.001) # speed up optimization\n",
    "model_conv3.compile(optimizer=opt, loss=\"sparse_categorical_crossentropy\", metrics=[\"acc\"])"
   ]
  },
  {
   "cell_type": "code",
   "execution_count": 43,
   "metadata": {
    "colab": {
     "base_uri": "https://localhost:8080/",
     "height": 598
    },
    "colab_type": "code",
    "id": "L-vX6kJWGErL",
    "outputId": "ee5bf922-49f7-4bad-96f3-32f826102010"
   },
   "outputs": [
    {
     "name": "stdout",
     "output_type": "stream",
     "text": [
      "Train on 58129 samples, validate on 14533 samples\n",
      "Epoch 1/16\n",
      "58129/58129 [==============================] - 80s 1ms/step - loss: 4.4109 - acc: 0.0328 - val_loss: 4.2530 - val_acc: 0.0526\n",
      "Epoch 2/16\n",
      "58129/58129 [==============================] - 79s 1ms/step - loss: 4.0749 - acc: 0.0781 - val_loss: 3.9975 - val_acc: 0.0848\n",
      "Epoch 3/16\n",
      "58129/58129 [==============================] - 80s 1ms/step - loss: 3.7999 - acc: 0.1205 - val_loss: 3.8215 - val_acc: 0.1206\n",
      "Epoch 4/16\n",
      "58129/58129 [==============================] - 79s 1ms/step - loss: 3.6037 - acc: 0.1515 - val_loss: 3.7453 - val_acc: 0.1307\n",
      "Epoch 5/16\n",
      "58129/58129 [==============================] - 79s 1ms/step - loss: 3.4513 - acc: 0.1787 - val_loss: 3.6918 - val_acc: 0.1451\n",
      "Epoch 6/16\n",
      "58129/58129 [==============================] - 78s 1ms/step - loss: 3.3130 - acc: 0.2066 - val_loss: 3.6160 - val_acc: 0.1618\n",
      "Epoch 7/16\n",
      "58129/58129 [==============================] - 80s 1ms/step - loss: 3.1778 - acc: 0.2340 - val_loss: 3.5468 - val_acc: 0.1786\n",
      "Epoch 8/16\n",
      "58129/58129 [==============================] - 79s 1ms/step - loss: 3.0461 - acc: 0.2608 - val_loss: 3.5926 - val_acc: 0.1791\n",
      "Epoch 9/16\n",
      "58129/58129 [==============================] - 79s 1ms/step - loss: 2.9216 - acc: 0.2887 - val_loss: 3.4704 - val_acc: 0.1984\n",
      "Epoch 10/16\n",
      "58129/58129 [==============================] - 79s 1ms/step - loss: 2.8040 - acc: 0.3146 - val_loss: 3.4657 - val_acc: 0.2040\n",
      "Epoch 11/16\n",
      "58129/58129 [==============================] - 80s 1ms/step - loss: 2.6887 - acc: 0.3421 - val_loss: 3.4448 - val_acc: 0.2151\n",
      "Epoch 12/16\n",
      "58129/58129 [==============================] - 79s 1ms/step - loss: 2.5844 - acc: 0.3671 - val_loss: 3.5044 - val_acc: 0.2110\n",
      "Epoch 13/16\n",
      "58129/58129 [==============================] - 78s 1ms/step - loss: 2.4881 - acc: 0.3877 - val_loss: 3.4423 - val_acc: 0.2251\n",
      "Epoch 14/16\n",
      "58129/58129 [==============================] - 78s 1ms/step - loss: 2.3957 - acc: 0.4103 - val_loss: 3.5100 - val_acc: 0.2217\n",
      "Epoch 15/16\n",
      "58129/58129 [==============================] - 78s 1ms/step - loss: 2.3071 - acc: 0.4289 - val_loss: 3.4717 - val_acc: 0.2313\n",
      "Epoch 16/16\n",
      "58129/58129 [==============================] - 78s 1ms/step - loss: 2.2279 - acc: 0.4491 - val_loss: 3.5040 - val_acc: 0.2366\n"
     ]
    }
   ],
   "source": [
    "history3 = model_conv3.fit(x_train, y_train,\n",
    "            batch_size=128,\n",
    "            epochs=16,\n",
    "            validation_data=(x_test, y_test))"
   ]
  },
  {
   "cell_type": "code",
   "execution_count": 44,
   "metadata": {
    "colab": {
     "base_uri": "https://localhost:8080/",
     "height": 51
    },
    "colab_type": "code",
    "id": "rt0R_1giGEuK",
    "outputId": "05bfdc2e-764d-48b8-8609-da7f995c1bb5"
   },
   "outputs": [
    {
     "name": "stdout",
     "output_type": "stream",
     "text": [
      "14533/14533 [==============================] - 27s 2ms/step\n"
     ]
    },
    {
     "data": {
      "text/plain": [
       "[3.503996890483503, 0.2366338677492603]"
      ]
     },
     "execution_count": 44,
     "metadata": {
      "tags": []
     },
     "output_type": "execute_result"
    }
   ],
   "source": [
    "model_conv3.evaluate(x_test, y_test)\n"
   ]
  },
  {
   "cell_type": "markdown",
   "metadata": {
    "colab_type": "text",
    "id": "kwaGx5Y8aa6v"
   },
   "source": [
    "#### 4. Simple Pooling Model"
   ]
  },
  {
   "cell_type": "code",
   "execution_count": 0,
   "metadata": {
    "colab": {},
    "colab_type": "code",
    "collapsed": true,
    "id": "6Q-j-IriadPv"
   },
   "outputs": [],
   "source": [
    "#ref: https://github.com/keras-team/keras/blob/master/examples/imdb_fasttext.py"
   ]
  },
  {
   "cell_type": "code",
   "execution_count": 334,
   "metadata": {
    "colab": {},
    "colab_type": "code",
    "collapsed": true,
    "id": "uoX7381Uad0f"
   },
   "outputs": [],
   "source": [
    "model4 = Sequential()\n",
    "model4.add(Embedding(input_dim=max_features,\n",
    "                    output_dim=128))\n",
    "\n",
    "# we add a GlobalAveragePooling1D, which will average the embeddings\n",
    "# of all words in the document\n",
    "model4.add(GlobalAveragePooling1D())\n",
    "model4.add(Dropout(0.5))\n",
    "\n",
    "model4.add(Dense(100, activation=\"softmax\"))"
   ]
  },
  {
   "cell_type": "code",
   "execution_count": 335,
   "metadata": {
    "colab": {},
    "colab_type": "code",
    "collapsed": true,
    "id": "iHCRHm-pad3E"
   },
   "outputs": [],
   "source": [
    "opt = keras.optimizers.Adam(lr=0.01) # speed up optimization\n",
    "model4.compile(optimizer=opt, loss=\"sparse_categorical_crossentropy\", metrics=[\"acc\"])"
   ]
  },
  {
   "cell_type": "code",
   "execution_count": 336,
   "metadata": {
    "colab": {
     "base_uri": "https://localhost:8080/",
     "height": 598
    },
    "colab_type": "code",
    "id": "NOpgYwlcad5s",
    "outputId": "609e71ad-e576-4ff8-86a0-cafcbe7b9dd3"
   },
   "outputs": [
    {
     "name": "stdout",
     "output_type": "stream",
     "text": [
      "Train on 58129 samples, validate on 14533 samples\n",
      "Epoch 1/16\n",
      "58129/58129 [==============================] - 14s 242us/step - loss: 4.4572 - acc: 0.0418 - val_loss: 4.2301 - val_acc: 0.0888\n",
      "Epoch 2/16\n",
      "58129/58129 [==============================] - 14s 246us/step - loss: 3.9854 - acc: 0.1364 - val_loss: 3.7647 - val_acc: 0.1914\n",
      "Epoch 3/16\n",
      "58129/58129 [==============================] - 15s 258us/step - loss: 3.5156 - acc: 0.2304 - val_loss: 3.4225 - val_acc: 0.2556\n",
      "Epoch 4/16\n",
      "58129/58129 [==============================] - 14s 242us/step - loss: 3.1244 - acc: 0.3100 - val_loss: 3.1842 - val_acc: 0.3005\n",
      "Epoch 5/16\n",
      "58129/58129 [==============================] - 14s 243us/step - loss: 2.7931 - acc: 0.3828 - val_loss: 2.9930 - val_acc: 0.3384\n",
      "Epoch 6/16\n",
      "58129/58129 [==============================] - 14s 244us/step - loss: 2.5122 - acc: 0.4424 - val_loss: 2.8550 - val_acc: 0.3630\n",
      "Epoch 7/16\n",
      "58129/58129 [==============================] - 15s 251us/step - loss: 2.2685 - acc: 0.4973 - val_loss: 2.7688 - val_acc: 0.3750\n",
      "Epoch 8/16\n",
      "58129/58129 [==============================] - 13s 226us/step - loss: 2.0510 - acc: 0.5457 - val_loss: 2.6978 - val_acc: 0.3893\n",
      "Epoch 9/16\n",
      "58129/58129 [==============================] - 13s 231us/step - loss: 1.8625 - acc: 0.5862 - val_loss: 2.6401 - val_acc: 0.3986\n",
      "Epoch 10/16\n",
      "58129/58129 [==============================] - 14s 241us/step - loss: 1.6887 - acc: 0.6266 - val_loss: 2.6083 - val_acc: 0.4023\n",
      "Epoch 11/16\n",
      "58129/58129 [==============================] - 13s 220us/step - loss: 1.5325 - acc: 0.6613 - val_loss: 2.5804 - val_acc: 0.4122\n",
      "Epoch 12/16\n",
      "58129/58129 [==============================] - 14s 238us/step - loss: 1.4026 - acc: 0.6896 - val_loss: 2.5648 - val_acc: 0.4143\n",
      "Epoch 13/16\n",
      "58129/58129 [==============================] - 15s 259us/step - loss: 1.2771 - acc: 0.7175 - val_loss: 2.5774 - val_acc: 0.4177\n",
      "Epoch 14/16\n",
      "58129/58129 [==============================] - 14s 241us/step - loss: 1.1767 - acc: 0.7397 - val_loss: 2.5586 - val_acc: 0.4217\n",
      "Epoch 15/16\n",
      "58129/58129 [==============================] - 15s 252us/step - loss: 1.0742 - acc: 0.7613 - val_loss: 2.5753 - val_acc: 0.4222\n",
      "Epoch 16/16\n",
      "58129/58129 [==============================] - 14s 236us/step - loss: 0.9860 - acc: 0.7820 - val_loss: 2.5991 - val_acc: 0.4188\n"
     ]
    }
   ],
   "source": [
    "history4 = model4.fit(x_train, y_train,\n",
    "            batch_size=256,\n",
    "            epochs=16,\n",
    "            validation_data=(x_test, y_test))"
   ]
  },
  {
   "cell_type": "code",
   "execution_count": 338,
   "metadata": {
    "colab": {
     "base_uri": "https://localhost:8080/",
     "height": 51
    },
    "colab_type": "code",
    "id": "pHXxs7SMcevP",
    "outputId": "a8267eb6-edc1-45a8-a636-43d338b8e6d2"
   },
   "outputs": [
    {
     "name": "stdout",
     "output_type": "stream",
     "text": [
      "14533/14533 [==============================] - 1s 45us/step\n",
      "accuracy 0.418839881649687\n"
     ]
    }
   ],
   "source": [
    "print('accuracy', model4.evaluate(x_test, y_test)[1])"
   ]
  },
  {
   "cell_type": "markdown",
   "metadata": {
    "colab_type": "text",
    "id": "vu4I54U94pCU"
   },
   "source": [
    "#### Plots + Compare Models"
   ]
  },
  {
   "cell_type": "code",
   "execution_count": 396,
   "metadata": {
    "colab": {},
    "colab_type": "code",
    "collapsed": true,
    "id": "dpqBQOCv77jb"
   },
   "outputs": [],
   "source": [
    "import seaborn as sns\n",
    "import matplotlib.pyplot as plt\n",
    "sns.set_style(\"whitegrid\")\n"
   ]
  },
  {
   "cell_type": "code",
   "execution_count": 0,
   "metadata": {
    "colab": {
     "base_uri": "https://localhost:8080/",
     "height": 376
    },
    "colab_type": "code",
    "id": "XV6F62tw4tmW",
    "outputId": "19c37d99-903c-4046-8ff5-43a4bab38317"
   },
   "outputs": [
    {
     "data": {
      "image/png": "[encoded data removed]",
      "text/plain": [
       "<matplotlib.figure.Figure at 0x7fdaab66c278>"
      ]
     },
     "metadata": {
      "tags": []
     },
     "output_type": "display_data"
    }
   ],
   "source": [
    "# plot test vs. train to show overfitting!\n",
    "\n",
    "# Get values \n",
    "acc1     = history1.history['acc']\n",
    "val_acc1 = history1.history['val_acc']\n",
    "\n",
    "acc2     = history2.history['acc']\n",
    "val_acc2 = history2.history['val_acc']\n",
    "\n",
    "acc3     = history3.history['acc']\n",
    "val_acc3 = history3.history['val_acc']\n",
    "\n",
    "\n",
    "# Setup grid for plotting\n",
    "epochs = range(1, len(acc) + 1)\n",
    "\n",
    "# plot model 1\n",
    "plt.plot(epochs, acc1, 'bo', label='lstm train', color='k')\n",
    "plt.plot(epochs, val_acc1, 'b', label='lstm val', color='k')\n",
    "\n",
    "# plot model 2\n",
    "plt.plot(epochs, acc2, 'bo', label='blstm train', color='b')\n",
    "plt.plot(epochs, val_acc2, 'b', label='blstm val', color='b')\n",
    "\n",
    "# plot model 3\n",
    "plt.plot(epochs, acc3, 'bo', label='simple train', color='g')\n",
    "plt.plot(epochs, val_acc3, 'b', label='simple val', color='g')\n",
    "\n",
    "plt.title('Training and Validation Accuracy by Model')\n",
    "plt.xlabel('Epochs')\n",
    "plt.ylabel('Accuracy')\n",
    "plt.legend()\n",
    "plt.show()"
   ]
  },
  {
   "cell_type": "code",
   "execution_count": 339,
   "metadata": {
    "colab": {},
    "colab_type": "code",
    "collapsed": true,
    "id": "5oivhueE4to8"
   },
   "outputs": [],
   "source": [
    "# plot accuracy rates by author from best model\n",
    "from sklearn.metrics import classification_report, accuracy_score, confusion_matrix\n",
    "import numpy as np\n",
    "\n",
    "y_pred4 = model4.predict_classes(x_test)\n",
    "# print(classification_report(y_test, y_pred))\n",
    "\n",
    "cm = confusion_matrix(y_test, y_pred4) #only works with sparse\n",
    "cm = cm.astype('float') / cm.sum(axis=1)[:, np.newaxis]\n",
    "accuracies = cm.diagonal()"
   ]
  },
  {
   "cell_type": "code",
   "execution_count": 340,
   "metadata": {
    "colab": {},
    "colab_type": "code",
    "collapsed": true,
    "id": "-SBbkqhfqIYb"
   },
   "outputs": [],
   "source": [
    "test_scores = model4.predict(x_test) # basically the softmax output"
   ]
  },
  {
   "cell_type": "code",
   "execution_count": 397,
   "metadata": {
    "colab": {
     "base_uri": "https://localhost:8080/",
     "height": 575
    },
    "colab_type": "code",
    "id": "VdZNk1LU_aka",
    "outputId": "b6daf06c-c3bd-4be2-8bf1-7e49f6a138ad"
   },
   "outputs": [
    {
     "data": {
      "image/png": "[encoded data removed]",
      "text/plain": [
       "<matplotlib.figure.Figure at 0x1931f1c18>"
      ]
     },
     "metadata": {},
     "output_type": "display_data"
    }
   ],
   "source": [
    "plt.hist(accuracies, bins=10)\n",
    "plt.title('Simple Pooling Model: Test Accuracies by Author')\n",
    "plt.xlabel('Accuracy')\n",
    "plt.show()"
   ]
  },
  {
   "cell_type": "markdown",
   "metadata": {
    "colab_type": "text",
    "id": "S3zA9w_jOwcv"
   },
   "source": [
    "##### Top K Analysis"
   ]
  },
  {
   "cell_type": "code",
   "execution_count": 0,
   "metadata": {
    "colab": {},
    "colab_type": "code",
    "collapsed": true,
    "id": "SX4F9pUyO3Fp"
   },
   "outputs": [],
   "source": [
    "# get predictions for each DL model\n",
    "y_pred1 = model1.predict_classes(x_test)\n",
    "y_pred2 = model_conv2.predict_classes(x_test)\n",
    "y_pred3 = model_conv3.predict_classes(x_test)\n",
    "y_pred4 = model4.predict_classes(x_test)\n",
    "\n",
    "# get scores\n",
    "test_scores1 = model1.predict(x_test) # basically the softmax output\n",
    "test_scores2 = model_conv2.predict(x_test) # basically the softmax output\n",
    "test_scores3 = model_conv3.predict(x_test) # basically the softmax output\n",
    "test_scores4 = model4.predict(x_test) # basically the softmax output"
   ]
  },
  {
   "cell_type": "code",
   "execution_count": 0,
   "metadata": {
    "colab": {},
    "colab_type": "code",
    "collapsed": true,
    "id": "JlbOeJghPqU9"
   },
   "outputs": [],
   "source": [
    "def topk_acc(y_test, y_pred, k):\n",
    "  return keras.backend.eval(keras.metrics.sparse_top_k_categorical_accuracy(y_test, y_pred, k=k)) # force it to evaluate\n",
    "\n",
    "topk1 = [(k, topk_acc(y_test, test_scores1, k=k)) for k in range(1, 10)]\n",
    "topk2 = [(k, topk_acc(y_test, test_scores2, k=k)) for k in range(1, 10)]\n",
    "topk3 = [(k, topk_acc(y_test, test_scores3, k=k)) for k in range(1, 10)]\n",
    "topk4 = [(k, topk_acc(y_test, test_scores4, k=k)) for k in range(1, 10)]"
   ]
  },
  {
   "cell_type": "code",
   "execution_count": 0,
   "metadata": {
    "colab": {
     "base_uri": "https://localhost:8080/",
     "height": 153
    },
    "colab_type": "code",
    "id": "LrybKk4_4trp",
    "outputId": "1d0efa2e-e964-4bbb-be6c-236b27dc0f3c"
   },
   "outputs": [
    {
     "name": "stdout",
     "output_type": "stream",
     "text": [
      "0.7517241379310344\n",
      "68\n",
      "      author                                               body\n",
      "9346  djphan  Kansas is an underrated pickup opportunity... ...\n",
      "9347  djphan  how can i point to their argument without usin...\n",
      "9348  djphan  i did.. i see the subsequent comments... and t...\n",
      "9349  djphan  i literally quoted it in my first reply...  \\n...\n",
      "9350  djphan  youre saying that clinton did it herself... th...\n"
     ]
    }
   ],
   "source": [
    "# lots of politics, and very consistent writing style\n",
    "print(accuracies.max())\n",
    "print(accuracies.argmax())\n",
    "print(df[['author', 'body']][df['author_id'] == 68][0:5])"
   ]
  },
  {
   "cell_type": "markdown",
   "metadata": {
    "colab": {},
    "colab_type": "code",
    "id": "hhmib21gos-_"
   },
   "source": [
    "##### Author and Post Length Analysis"
   ]
  },
  {
   "cell_type": "code",
   "execution_count": 348,
   "metadata": {
    "collapsed": true
   },
   "outputs": [],
   "source": [
    "y_pred4 = model4.predict_classes(x_test)"
   ]
  },
  {
   "cell_type": "code",
   "execution_count": 372,
   "metadata": {},
   "outputs": [],
   "source": [
    "x_test_length = (x_test != 0).sum(axis=1) "
   ]
  },
  {
   "cell_type": "code",
   "execution_count": 398,
   "metadata": {},
   "outputs": [
    {
     "data": {
      "image/png": "[encoded data removed]",
      "text/plain": [
       "<matplotlib.figure.Figure at 0x1935c45c0>"
      ]
     },
     "metadata": {},
     "output_type": "display_data"
    }
   ],
   "source": [
    "length_by_author = pd.Series(x_test_length).groupby(y_test).mean() #avg post length, in tokens\n",
    "acc_by_author    = pd.Series(y_pred4 == y_test).groupby(y_test).mean()\n",
    "\n",
    "plt.scatter(length_by_author, acc_by_author, alpha=0.5)\n",
    "plt.title('Average Post Length and Test Accuracies by Author')\n",
    "plt.show()"
   ]
  },
  {
   "cell_type": "code",
   "execution_count": 399,
   "metadata": {},
   "outputs": [
    {
     "data": {
      "image/png": "[encoded data removed]",
      "text/plain": [
       "<matplotlib.figure.Figure at 0x19345cc18>"
      ]
     },
     "metadata": {},
     "output_type": "display_data"
    }
   ],
   "source": [
    "length_by_author = pd.Series(x_test_length).groupby(y_test).sum() # take sum\n",
    "acc_by_author    = pd.Series(y_pred4 == y_test).groupby(y_test).mean()\n",
    "\n",
    "plt.scatter(length_by_author, acc_by_author, alpha=0.5)\n",
    "plt.title('Post Length and Test Accuracy by Author')\n",
    "plt.ylabel('Accuracy')\n",
    "plt.xlabel('Total Tokens')\n",
    "plt.show()"
   ]
  },
  {
   "cell_type": "markdown",
   "metadata": {
    "colab_type": "text",
    "id": "EPWrrnylJEyy"
   },
   "source": [
    "#### Save Models"
   ]
  },
  {
   "cell_type": "code",
   "execution_count": 0,
   "metadata": {
    "colab": {},
    "colab_type": "code",
    "collapsed": true,
    "id": "8ekOaucEEKJ7"
   },
   "outputs": [],
   "source": [
    "model1.save('/content/gdrive/My Drive/colab/anly-author-id/model_l.h5')\n",
    "model2.save('/content/gdrive/My Drive/colab/anly-author-id/model_2.h5')\n",
    "model3.save('/content/gdrive/My Drive/colab/anly-author-id/model_3.h5')"
   ]
  },
  {
   "cell_type": "markdown",
   "metadata": {
    "colab_type": "text",
    "id": "IIzjZg8g8DPt"
   },
   "source": [
    "#### EXTRA. Multilayer"
   ]
  },
  {
   "cell_type": "code",
   "execution_count": 0,
   "metadata": {
    "colab": {},
    "colab_type": "code",
    "collapsed": true,
    "id": "jEe6VRBJ8FTr"
   },
   "outputs": [],
   "source": [
    "# Multilayer LSTM\n",
    "model5 = Sequential()\n",
    "model5.add(Embedding(input_dim=max_features,\n",
    "                    output_dim=128))\n",
    "\n",
    "model5.add(CuDNNLSTM(128, return_sequences=True))\n",
    "model5.add(Dropout(0.5))\n",
    "\n",
    "model5.add(CuDNNLSTM(64))\n",
    "model5.add(Dropout(0.5))\n",
    "\n",
    "model5.add(Dense(100, activation=\"softmax\"))\n",
    "\n",
    "model5.compile(optimizer=\"adam\", loss=\"sparse_categorical_crossentropy\", metrics=[\"acc\"])"
   ]
  },
  {
   "cell_type": "code",
   "execution_count": 0,
   "metadata": {
    "colab": {
     "base_uri": "https://localhost:8080/",
     "height": 578
    },
    "colab_type": "code",
    "id": "UjqWWQ5e8ZW9",
    "outputId": "3f51f76b-0a7b-486c-9bd4-40c96529f5d9"
   },
   "outputs": [
    {
     "name": "stdout",
     "output_type": "stream",
     "text": [
      "Train on 58129 samples, validate on 14533 samples\n",
      "Epoch 1/16\n",
      "58129/58129 [==============================] - 46s 797us/step - loss: 4.4563 - acc: 0.0301 - val_loss: 4.2198 - val_acc: 0.0588\n",
      "Epoch 2/16\n",
      "58129/58129 [==============================] - 44s 764us/step - loss: 4.1062 - acc: 0.0710 - val_loss: 3.9898 - val_acc: 0.0962\n",
      "Epoch 3/16\n",
      "58129/58129 [==============================] - 44s 756us/step - loss: 3.8289 - acc: 0.1135 - val_loss: 3.7824 - val_acc: 0.1303\n",
      "Epoch 4/16\n",
      "58129/58129 [==============================] - 44s 765us/step - loss: 3.6063 - acc: 0.1513 - val_loss: 3.6834 - val_acc: 0.1494\n",
      "Epoch 5/16\n",
      "58129/58129 [==============================] - 44s 761us/step - loss: 3.4146 - acc: 0.1893 - val_loss: 3.6164 - val_acc: 0.1682\n",
      "Epoch 6/16\n",
      "58129/58129 [==============================] - 44s 753us/step - loss: 3.2467 - acc: 0.2262 - val_loss: 3.5665 - val_acc: 0.1844\n",
      "Epoch 7/16\n",
      "58129/58129 [==============================] - 44s 754us/step - loss: 3.0894 - acc: 0.2571 - val_loss: 3.5518 - val_acc: 0.1955\n",
      "Epoch 8/16\n",
      "58129/58129 [==============================] - 44s 758us/step - loss: 2.9556 - acc: 0.2874 - val_loss: 3.5660 - val_acc: 0.1987\n",
      "Epoch 9/16\n",
      "58129/58129 [==============================] - 44s 759us/step - loss: 2.8245 - acc: 0.3168 - val_loss: 3.5581 - val_acc: 0.2088\n",
      "Epoch 10/16\n",
      "58129/58129 [==============================] - 44s 760us/step - loss: 2.7004 - acc: 0.3417 - val_loss: 3.5921 - val_acc: 0.2119\n",
      "Epoch 11/16\n",
      "58129/58129 [==============================] - 44s 763us/step - loss: 2.5878 - acc: 0.3679 - val_loss: 3.6038 - val_acc: 0.2152\n",
      "Epoch 12/16\n",
      "58129/58129 [==============================] - 44s 760us/step - loss: 2.4848 - acc: 0.3867 - val_loss: 3.6584 - val_acc: 0.2154\n",
      "Epoch 13/16\n",
      "58129/58129 [==============================] - 44s 759us/step - loss: 2.3831 - acc: 0.4115 - val_loss: 3.7496 - val_acc: 0.2236\n",
      "Epoch 14/16\n",
      "58129/58129 [==============================] - 44s 759us/step - loss: 2.2842 - acc: 0.4332 - val_loss: 3.8436 - val_acc: 0.2204\n",
      "Epoch 15/16\n",
      "58129/58129 [==============================] - 44s 760us/step - loss: 2.2001 - acc: 0.4511 - val_loss: 3.8885 - val_acc: 0.2209\n",
      "Epoch 16/16\n",
      "58129/58129 [==============================] - 44s 763us/step - loss: 2.1047 - acc: 0.4734 - val_loss: 3.9038 - val_acc: 0.2218\n"
     ]
    }
   ],
   "source": [
    "history5 = model5.fit(x_train, y_train,\n",
    "            batch_size=256,\n",
    "            epochs=16,\n",
    "            validation_data=(x_test, y_test))"
   ]
  },
  {
   "cell_type": "code",
   "execution_count": 0,
   "metadata": {
    "colab": {
     "base_uri": "https://localhost:8080/",
     "height": 51
    },
    "colab_type": "code",
    "id": "lcUApzDS8WBF",
    "outputId": "ec94ed9f-3901-443d-8cd0-008963136faf"
   },
   "outputs": [
    {
     "name": "stdout",
     "output_type": "stream",
     "text": [
      "14533/14533 [==============================] - 13s 883us/step\n",
      "accuracy 0.22183995045860463\n"
     ]
    }
   ],
   "source": [
    "print('accuracy', model4.evaluate(x_test, y_test)[1])"
   ]
  },
  {
   "cell_type": "markdown",
   "metadata": {
    "colab_type": "text",
    "id": "O3WV4r1678hK"
   },
   "source": [
    "#### EXTRA. Bidirectional"
   ]
  },
  {
   "cell_type": "markdown",
   "metadata": {
    "colab_type": "text",
    "id": "oOs-4FijYl7X"
   },
   "source": [
    "- Also overfits "
   ]
  },
  {
   "cell_type": "code",
   "execution_count": 0,
   "metadata": {
    "colab": {},
    "colab_type": "code",
    "collapsed": true,
    "id": "rWVRTrfszvFd"
   },
   "outputs": [],
   "source": [
    "# Bidirectional\n",
    "model2 = Sequential()\n",
    "model2.add(Embedding(input_dim=max_features,\n",
    "                     output_dim=128))\n",
    "\n",
    "model2.add(Bidirectional(CuDNNLSTM(128)))\n",
    "model2.add(Dropout(0.5))\n",
    "model2.add(Dense(100, activation=\"softmax\"))\n",
    "\n",
    "model2.compile(optimizer=\"adam\", loss=\"sparse_categorical_crossentropy\", metrics=[\"acc\"])"
   ]
  },
  {
   "cell_type": "code",
   "execution_count": 0,
   "metadata": {
    "colab": {
     "base_uri": "https://localhost:8080/",
     "height": 598
    },
    "colab_type": "code",
    "id": "xW0Rm8Dxz_aS",
    "outputId": "6d85d5dd-5fc0-43ba-c981-09a1f9b7488c"
   },
   "outputs": [
    {
     "name": "stdout",
     "output_type": "stream",
     "text": [
      "Train on 58129 samples, validate on 14533 samples\n",
      "Epoch 1/16\n",
      "58129/58129 [==============================] - 51s 885us/step - loss: 4.3861 - acc: 0.0376 - val_loss: 4.1800 - val_acc: 0.0564\n",
      "Epoch 2/16\n",
      "58129/58129 [==============================] - 51s 870us/step - loss: 4.0185 - acc: 0.0777 - val_loss: 3.9345 - val_acc: 0.0977\n",
      "Epoch 3/16\n",
      "58129/58129 [==============================] - 51s 872us/step - loss: 3.6703 - acc: 0.1319 - val_loss: 3.7773 - val_acc: 0.1301\n",
      "Epoch 4/16\n",
      "58129/58129 [==============================] - 51s 871us/step - loss: 3.3328 - acc: 0.1960 - val_loss: 3.6396 - val_acc: 0.1686\n",
      "Epoch 5/16\n",
      "58129/58129 [==============================] - 50s 866us/step - loss: 2.9899 - acc: 0.2714 - val_loss: 3.5972 - val_acc: 0.1881\n",
      "Epoch 6/16\n",
      "58129/58129 [==============================] - 51s 870us/step - loss: 2.6527 - acc: 0.3420 - val_loss: 3.6188 - val_acc: 0.2090\n",
      "Epoch 7/16\n",
      "58129/58129 [==============================] - 50s 868us/step - loss: 2.3577 - acc: 0.4141 - val_loss: 3.6761 - val_acc: 0.2206\n",
      "Epoch 8/16\n",
      "58129/58129 [==============================] - 50s 869us/step - loss: 2.0863 - acc: 0.4773 - val_loss: 3.8406 - val_acc: 0.2309\n",
      "Epoch 9/16\n",
      "58129/58129 [==============================] - 51s 870us/step - loss: 1.8353 - acc: 0.5414 - val_loss: 3.9056 - val_acc: 0.2382\n",
      "Epoch 10/16\n",
      "58129/58129 [==============================] - 51s 874us/step - loss: 1.6148 - acc: 0.5954 - val_loss: 4.0792 - val_acc: 0.2381\n",
      "Epoch 11/16\n",
      "58129/58129 [==============================] - 51s 872us/step - loss: 1.4221 - acc: 0.6429 - val_loss: 4.2494 - val_acc: 0.2404\n",
      "Epoch 12/16\n",
      "58129/58129 [==============================] - 51s 873us/step - loss: 1.2460 - acc: 0.6852 - val_loss: 4.4639 - val_acc: 0.2410\n",
      "Epoch 13/16\n",
      "58129/58129 [==============================] - 51s 870us/step - loss: 1.1078 - acc: 0.7204 - val_loss: 4.6721 - val_acc: 0.2402\n",
      "Epoch 14/16\n",
      "58129/58129 [==============================] - 51s 870us/step - loss: 0.9936 - acc: 0.7468 - val_loss: 4.8497 - val_acc: 0.2414\n",
      "Epoch 15/16\n",
      "58129/58129 [==============================] - 51s 870us/step - loss: 0.8845 - acc: 0.7750 - val_loss: 5.0776 - val_acc: 0.2424\n",
      "Epoch 16/16\n",
      "58129/58129 [==============================] - 51s 873us/step - loss: 0.7842 - acc: 0.8012 - val_loss: 5.2758 - val_acc: 0.2401\n"
     ]
    }
   ],
   "source": [
    "history2 = model2.fit(x_train, y_train,\n",
    "            batch_size=128,\n",
    "            epochs=16,\n",
    "            validation_data=(x_test, y_test))"
   ]
  },
  {
   "cell_type": "code",
   "execution_count": 0,
   "metadata": {
    "colab": {
     "base_uri": "https://localhost:8080/",
     "height": 51
    },
    "colab_type": "code",
    "id": "nItp-PAp3YLU",
    "outputId": "54cf8259-bf09-46b9-f9d3-a8cac575c512"
   },
   "outputs": [
    {
     "name": "stdout",
     "output_type": "stream",
     "text": [
      "14533/14533 [==============================] - 11s 758us/step\n",
      "accuracy 0.2401431225486823\n"
     ]
    }
   ],
   "source": [
    "print('accuracy', model2.evaluate(x_test, y_test)[1])"
   ]
  },
  {
   "cell_type": "markdown",
   "metadata": {
    "colab_type": "text",
    "id": "kvbCwDbzQRbI"
   },
   "source": [
    "#### EXTRA. GRU"
   ]
  },
  {
   "cell_type": "code",
   "execution_count": 0,
   "metadata": {
    "colab": {},
    "colab_type": "code",
    "collapsed": true,
    "id": "F9ZJ9pKQQSgE"
   },
   "outputs": [],
   "source": [
    "# Bidirectional\n",
    "model_gru = Sequential()\n",
    "model_gru.add(Embedding(input_dim=max_features,\n",
    "                     output_dim=128))\n",
    "\n",
    "model_gru.add(Bidirectional(CuDNNLSTM(128)))\n",
    "model_gru.add(Dropout(0.5))\n",
    "model_gru.add(Dense(100, activation=\"softmax\"))\n",
    "\n",
    "model_gru.compile(optimizer=\"adam\", loss=\"sparse_categorical_crossentropy\", metrics=[\"acc\"])"
   ]
  }
 ],
 "metadata": {
  "accelerator": "GPU",
  "colab": {
   "name": "text_preprocessing_and_modeling.ipynb",
   "provenance": [],
   "toc_visible": true,
   "version": "0.3.2"
  },
  "kernelspec": {
   "display_name": "Python 3",
   "language": "python",
   "name": "python3"
  },
  "language_info": {
   "codemirror_mode": {
    "name": "ipython",
    "version": 3
   },
   "file_extension": ".py",
   "mimetype": "text/x-python",
   "name": "python",
   "nbconvert_exporter": "python",
   "pygments_lexer": "ipython3",
   "version": "3.6.1"
  }
 },
 "nbformat": 4,
 "nbformat_minor": 1
}
