{
 "cells": [
  {
   "cell_type": "markdown",
   "metadata": {
    "colab_type": "text",
    "id": "Lu4PRj6EOqVP"
   },
   "source": [
    "### Preprocess Text Data and Modelling \n",
    "### ANLY 590 Project\n"
   ]
  },
  {
   "cell_type": "markdown",
   "metadata": {
    "colab_type": "text",
    "id": "n8Z-jpowOqVR"
   },
   "source": [
    "***"
   ]
  },
  {
   "cell_type": "markdown",
   "metadata": {
    "colab_type": "text",
    "id": "-YouD-XvOqVS"
   },
   "source": [
    "#### Prep"
   ]
  },
  {
   "cell_type": "code",
   "execution_count": 0,
   "metadata": {
    "colab": {},
    "colab_type": "code",
    "collapsed": true,
    "id": "Xo1IkInHOqVS"
   },
   "outputs": [],
   "source": [
    "# set working directory\n",
    "import os\n",
    "import sys\n",
    "path = '/Users/kgedney/Documents/georgetown/anly590/author-id-project'\n",
    "os.chdir(path)"
   ]
  },
  {
   "cell_type": "code",
   "execution_count": 0,
   "metadata": {
    "colab": {},
    "colab_type": "code",
    "collapsed": true,
    "id": "dm9sAyvLOqVW"
   },
   "outputs": [],
   "source": [
    "import numpy as np\n",
    "import pandas as pd"
   ]
  },
  {
   "cell_type": "code",
   "execution_count": 0,
   "metadata": {
    "colab": {},
    "colab_type": "code",
    "collapsed": true,
    "id": "R6czjVsqOqVY"
   },
   "outputs": [],
   "source": [
    "# load filtered data\n",
    "df = pd.read_csv('filtered_data.csv')"
   ]
  },
  {
   "cell_type": "markdown",
   "metadata": {
    "colab_type": "text",
    "id": "SSt2URxSOqVa"
   },
   "source": [
    "#### Google Colab Prep"
   ]
  },
  {
   "cell_type": "code",
   "execution_count": 0,
   "metadata": {
    "colab": {},
    "colab_type": "code",
    "collapsed": true,
    "id": "Rm4u23MHa1AE"
   },
   "outputs": [],
   "source": [
    "import numpy as np\n",
    "import pandas as pd"
   ]
  },
  {
   "cell_type": "code",
   "execution_count": 1,
   "metadata": {
    "colab": {
     "base_uri": "https://localhost:8080/",
     "height": 122
    },
    "colab_type": "code",
    "id": "W4WEkqUsOqVb",
    "outputId": "1da05027-c098-4542-883c-75e56d3cc413"
   },
   "outputs": [
    {
     "name": "stdout",
     "output_type": "stream",
     "text": [
      "Go to this URL in a browser: https://accounts.google.com/o/oauth2/auth?client_id=947318989803-6bn6qk8qdgf4n4g3pfee6491hc0brc4i.apps.googleusercontent.com&redirect_uri=urn%3Aietf%3Awg%3Aoauth%3A2.0%3Aoob&scope=email%20https%3A%2F%2Fwww.googleapis.com%2Fauth%2Fdocs.test%20https%3A%2F%2Fwww.googleapis.com%2Fauth%2Fdrive%20https%3A%2F%2Fwww.googleapis.com%2Fauth%2Fdrive.photos.readonly%20https%3A%2F%2Fwww.googleapis.com%2Fauth%2Fpeopleapi.readonly&response_type=code\n",
      "\n",
      "Enter your authorization code:\n",
      "··········\n",
      "Mounted at /content/gdrive\n"
     ]
    }
   ],
   "source": [
    "# get data from Google drive\n",
    "from google.colab import drive\n",
    "drive.mount('/content/gdrive')"
   ]
  },
  {
   "cell_type": "code",
   "execution_count": 3,
   "metadata": {
    "colab": {
     "base_uri": "https://localhost:8080/",
     "height": 527
    },
    "colab_type": "code",
    "id": "QJ11dU2QOqVe",
    "outputId": "ea9e1782-222e-4cf9-f413-2e6dcad3b4b5"
   },
   "outputs": [
    {
     "data": {
      "text/html": [
       "<div>\n",
       "<style scoped>\n",
       "    .dataframe tbody tr th:only-of-type {\n",
       "        vertical-align: middle;\n",
       "    }\n",
       "\n",
       "    .dataframe tbody tr th {\n",
       "        vertical-align: top;\n",
       "    }\n",
       "\n",
       "    .dataframe thead th {\n",
       "        text-align: right;\n",
       "    }\n",
       "</style>\n",
       "<table border=\"1\" class=\"dataframe\">\n",
       "  <thead>\n",
       "    <tr style=\"text-align: right;\">\n",
       "      <th></th>\n",
       "      <th>author</th>\n",
       "      <th>body</th>\n",
       "      <th>subreddit</th>\n",
       "      <th>permalink</th>\n",
       "      <th>num_chars</th>\n",
       "      <th>num_words</th>\n",
       "    </tr>\n",
       "  </thead>\n",
       "  <tbody>\n",
       "    <tr>\n",
       "      <th>0</th>\n",
       "      <td>GuaranteedAdmission</td>\n",
       "      <td>News aggregators don't filter Opinion pieces i...</td>\n",
       "      <td>AskAnAmerican</td>\n",
       "      <td>/r/AskAnAmerican/comments/9zrnid/america_whats...</td>\n",
       "      <td>69</td>\n",
       "      <td>11</td>\n",
       "    </tr>\n",
       "    <tr>\n",
       "      <th>1</th>\n",
       "      <td>GuaranteedAdmission</td>\n",
       "      <td>You can be in favor of a policy he supports an...</td>\n",
       "      <td>AskReddit</td>\n",
       "      <td>/r/AskReddit/comments/9zklcs/as_a_brit_who_onl...</td>\n",
       "      <td>74</td>\n",
       "      <td>17</td>\n",
       "    </tr>\n",
       "    <tr>\n",
       "      <th>2</th>\n",
       "      <td>GuaranteedAdmission</td>\n",
       "      <td>That depends. What is the penalty for breaking...</td>\n",
       "      <td>AskReddit</td>\n",
       "      <td>/r/AskReddit/comments/9zkfcd/how_would_you_fee...</td>\n",
       "      <td>202</td>\n",
       "      <td>36</td>\n",
       "    </tr>\n",
       "    <tr>\n",
       "      <th>3</th>\n",
       "      <td>GuaranteedAdmission</td>\n",
       "      <td>Because I like to think long term. Tax cuts fo...</td>\n",
       "      <td>AskReddit</td>\n",
       "      <td>/r/AskReddit/comments/9yxl98/liberals_of_reddi...</td>\n",
       "      <td>120</td>\n",
       "      <td>22</td>\n",
       "    </tr>\n",
       "    <tr>\n",
       "      <th>4</th>\n",
       "      <td>GuaranteedAdmission</td>\n",
       "      <td>We don't talk about the Highway Shoes, OP! Are...</td>\n",
       "      <td>AskReddit</td>\n",
       "      <td>/r/AskReddit/comments/9yrbvd/people_who_lost_a...</td>\n",
       "      <td>110</td>\n",
       "      <td>22</td>\n",
       "    </tr>\n",
       "  </tbody>\n",
       "</table>\n",
       "</div>"
      ],
      "text/plain": [
       "                author                                               body  \\\n",
       "0  GuaranteedAdmission  News aggregators don't filter Opinion pieces i...   \n",
       "1  GuaranteedAdmission  You can be in favor of a policy he supports an...   \n",
       "2  GuaranteedAdmission  That depends. What is the penalty for breaking...   \n",
       "3  GuaranteedAdmission  Because I like to think long term. Tax cuts fo...   \n",
       "4  GuaranteedAdmission  We don't talk about the Highway Shoes, OP! Are...   \n",
       "\n",
       "       subreddit                                          permalink  \\\n",
       "0  AskAnAmerican  /r/AskAnAmerican/comments/9zrnid/america_whats...   \n",
       "1      AskReddit  /r/AskReddit/comments/9zklcs/as_a_brit_who_onl...   \n",
       "2      AskReddit  /r/AskReddit/comments/9zkfcd/how_would_you_fee...   \n",
       "3      AskReddit  /r/AskReddit/comments/9yxl98/liberals_of_reddi...   \n",
       "4      AskReddit  /r/AskReddit/comments/9yrbvd/people_who_lost_a...   \n",
       "\n",
       "   num_chars  num_words  \n",
       "0         69         11  \n",
       "1         74         17  \n",
       "2        202         36  \n",
       "3        120         22  \n",
       "4        110         22  "
      ]
     },
     "execution_count": 3,
     "metadata": {
      "tags": []
     },
     "output_type": "execute_result"
    }
   ],
   "source": [
    "# manually add file from local to drive\n",
    "df = pd.read_csv('filtered_data.csv')\n",
    "df.head()"
   ]
  },
  {
   "cell_type": "code",
   "execution_count": 4,
   "metadata": {
    "colab": {
     "base_uri": "https://localhost:8080/",
     "height": 816
    },
    "colab_type": "code",
    "id": "O_Nh1qcIYl6S",
    "outputId": "4c389c3f-84f2-4263-e1b6-114778817e12"
   },
   "outputs": [
    {
     "name": "stdout",
     "output_type": "stream",
     "text": [
      "[nltk_data] Downloading collection 'popular'\n",
      "[nltk_data]    | \n",
      "[nltk_data]    | Downloading package cmudict to /root/nltk_data...\n",
      "[nltk_data]    |   Unzipping corpora/cmudict.zip.\n",
      "[nltk_data]    | Downloading package gazetteers to /root/nltk_data...\n",
      "[nltk_data]    |   Unzipping corpora/gazetteers.zip.\n",
      "[nltk_data]    | Downloading package genesis to /root/nltk_data...\n",
      "[nltk_data]    |   Unzipping corpora/genesis.zip.\n",
      "[nltk_data]    | Downloading package gutenberg to /root/nltk_data...\n",
      "[nltk_data]    |   Unzipping corpora/gutenberg.zip.\n",
      "[nltk_data]    | Downloading package inaugural to /root/nltk_data...\n",
      "[nltk_data]    |   Unzipping corpora/inaugural.zip.\n",
      "[nltk_data]    | Downloading package movie_reviews to\n",
      "[nltk_data]    |     /root/nltk_data...\n",
      "[nltk_data]    |   Unzipping corpora/movie_reviews.zip.\n",
      "[nltk_data]    | Downloading package names to /root/nltk_data...\n",
      "[nltk_data]    |   Unzipping corpora/names.zip.\n",
      "[nltk_data]    | Downloading package shakespeare to /root/nltk_data...\n",
      "[nltk_data]    |   Unzipping corpora/shakespeare.zip.\n",
      "[nltk_data]    | Downloading package stopwords to /root/nltk_data...\n",
      "[nltk_data]    |   Unzipping corpora/stopwords.zip.\n",
      "[nltk_data]    | Downloading package treebank to /root/nltk_data...\n",
      "[nltk_data]    |   Unzipping corpora/treebank.zip.\n",
      "[nltk_data]    | Downloading package twitter_samples to\n",
      "[nltk_data]    |     /root/nltk_data...\n",
      "[nltk_data]    |   Unzipping corpora/twitter_samples.zip.\n",
      "[nltk_data]    | Downloading package omw to /root/nltk_data...\n",
      "[nltk_data]    |   Unzipping corpora/omw.zip.\n",
      "[nltk_data]    | Downloading package wordnet to /root/nltk_data...\n",
      "[nltk_data]    |   Unzipping corpora/wordnet.zip.\n",
      "[nltk_data]    | Downloading package wordnet_ic to /root/nltk_data...\n",
      "[nltk_data]    |   Unzipping corpora/wordnet_ic.zip.\n",
      "[nltk_data]    | Downloading package words to /root/nltk_data...\n",
      "[nltk_data]    |   Unzipping corpora/words.zip.\n",
      "[nltk_data]    | Downloading package maxent_ne_chunker to\n",
      "[nltk_data]    |     /root/nltk_data...\n",
      "[nltk_data]    |   Unzipping chunkers/maxent_ne_chunker.zip.\n",
      "[nltk_data]    | Downloading package punkt to /root/nltk_data...\n",
      "[nltk_data]    |   Unzipping tokenizers/punkt.zip.\n",
      "[nltk_data]    | Downloading package snowball_data to\n",
      "[nltk_data]    |     /root/nltk_data...\n",
      "[nltk_data]    | Downloading package averaged_perceptron_tagger to\n",
      "[nltk_data]    |     /root/nltk_data...\n",
      "[nltk_data]    |   Unzipping taggers/averaged_perceptron_tagger.zip.\n",
      "[nltk_data]    | \n",
      "[nltk_data]  Done downloading collection popular\n"
     ]
    },
    {
     "data": {
      "text/plain": [
       "True"
      ]
     },
     "execution_count": 4,
     "metadata": {
      "tags": []
     },
     "output_type": "execute_result"
    }
   ],
   "source": [
    "# download nltk\n",
    "import nltk\n",
    "nltk.download('popular')"
   ]
  },
  {
   "cell_type": "markdown",
   "metadata": {
    "colab_type": "text",
    "id": "bJeXBWrvOqVg"
   },
   "source": [
    "#### Text Cleaning\n",
    "\n",
    "ref: https://www.analyticsvidhya.com/blog/2018/02/the-different-methods-deal-text-data-predictive-python/"
   ]
  },
  {
   "cell_type": "code",
   "execution_count": 0,
   "metadata": {
    "colab": {},
    "colab_type": "code",
    "collapsed": true,
    "id": "EHcxp11nOqVg"
   },
   "outputs": [],
   "source": [
    "# remove URLs and replace as '<url>'\n",
    "import re\n",
    "df['body_no_urls'] = df.apply(lambda row: re.sub(r\"http\\S+\", \"<url>\", row['body']), axis=1) "
   ]
  },
  {
   "cell_type": "code",
   "execution_count": 0,
   "metadata": {
    "colab": {},
    "colab_type": "code",
    "collapsed": true,
    "id": "9-JkOW2-OqVl"
   },
   "outputs": [],
   "source": [
    "# tokenize\n",
    "from nltk.tokenize import word_tokenize\n",
    "df['tokenized_nltk']  = df.apply(lambda row: word_tokenize(row['body_no_urls']), axis=1)"
   ]
  },
  {
   "cell_type": "code",
   "execution_count": 0,
   "metadata": {
    "colab": {},
    "colab_type": "code",
    "collapsed": true,
    "id": "SB80UklaOqVq"
   },
   "outputs": [],
   "source": [
    "# remove NERs"
   ]
  },
  {
   "cell_type": "code",
   "execution_count": 0,
   "metadata": {
    "colab": {},
    "colab_type": "code",
    "collapsed": true,
    "id": "I3DFwHCGOqVs"
   },
   "outputs": [],
   "source": [
    "# import spacy\n",
    "# nlp = spacy.load('en')"
   ]
  },
  {
   "cell_type": "code",
   "execution_count": 0,
   "metadata": {
    "colab": {},
    "colab_type": "code",
    "collapsed": true,
    "id": "8CEK1miBOqVu"
   },
   "outputs": [],
   "source": [
    "# def get_ners(input_doc):\n",
    "#     doc = nlp(input_doc)\n",
    "#     ners = str(doc.ents)\n",
    "#     return (ners)"
   ]
  },
  {
   "cell_type": "markdown",
   "metadata": {
    "colab_type": "text",
    "id": "jouchqjcOqVw"
   },
   "source": [
    "***"
   ]
  },
  {
   "cell_type": "markdown",
   "metadata": {
    "colab_type": "text",
    "id": "muQGleHGOqVx"
   },
   "source": [
    "#### Preprocess  for Modelling"
   ]
  },
  {
   "cell_type": "code",
   "execution_count": 7,
   "metadata": {
    "colab": {
     "base_uri": "https://localhost:8080/",
     "height": 34
    },
    "colab_type": "code",
    "id": "ZxVtQyhwOqVy",
    "outputId": "43ac0cf7-b911-40b0-b4f6-223397dee809"
   },
   "outputs": [
    {
     "name": "stderr",
     "output_type": "stream",
     "text": [
      "Using TensorFlow backend.\n"
     ]
    }
   ],
   "source": [
    "# install packages\n",
    "import numpy as np\n",
    "\n",
    "from sklearn import metrics\n",
    "from sklearn.model_selection import train_test_split\n",
    "from sklearn.feature_extraction.text import CountVectorizer, TfidfVectorizer\n",
    "\n",
    "import keras\n",
    "from keras import optimizers\n",
    "import tensorflow as tf\n",
    "\n",
    "from keras.utils import np_utils\n",
    "from keras.preprocessing import sequence\n",
    "from keras.preprocessing.text import Tokenizer\n",
    "\n",
    "from keras.models import Model, Sequential\n",
    "from keras.layers import Input, Dense, CuDNNLSTM, LSTM, Embedding, Bidirectional, GlobalAveragePooling1D, Conv1D, Activation, Flatten, Dropout, MaxPooling1D, Embedding, GlobalMaxPooling1D\n",
    "\n",
    "from keras.layers.core import Dense, Dropout"
   ]
  },
  {
   "cell_type": "code",
   "execution_count": 0,
   "metadata": {
    "colab": {},
    "colab_type": "code",
    "collapsed": true,
    "id": "2ToC3POKOqVz"
   },
   "outputs": [],
   "source": [
    "# create class assignments\n",
    "df['author_id'] = pd.Categorical(df.author).codes"
   ]
  },
  {
   "cell_type": "markdown",
   "metadata": {
    "colab_type": "text",
    "id": "pQZCE5H7OqV1"
   },
   "source": [
    "#### 0. Baseline Model: Linear SVM"
   ]
  },
  {
   "cell_type": "code",
   "execution_count": 41,
   "metadata": {
    "colab": {
     "base_uri": "https://localhost:8080/",
     "height": 34
    },
    "colab_type": "code",
    "id": "U8LagNfdOqV2",
    "outputId": "7ca8a360-2d2c-4c7f-a4a8-2397c16e1f4d"
   },
   "outputs": [
    {
     "data": {
      "text/plain": [
       "(58129, 53161)"
      ]
     },
     "execution_count": 41,
     "metadata": {
      "tags": []
     },
     "output_type": "execute_result"
    }
   ],
   "source": [
    "x = df['body_no_urls'].values\n",
    "y = df['author_id'].values\n",
    "\n",
    "x_train, x_test, y_train, y_test = train_test_split(x, y, test_size=0.20, random_state=22)\n",
    "\n",
    "tfidf_vec   = TfidfVectorizer()\n",
    "x_train_vec = tfidf_vec.fit_transform(x_train)\n",
    "x_test_vec  = tfidf_vec.transform(x_test)\n",
    "x_train_vec.shape"
   ]
  },
  {
   "cell_type": "code",
   "execution_count": 0,
   "metadata": {
    "colab": {},
    "colab_type": "code",
    "collapsed": true,
    "id": "FLAMT9ioOqV6"
   },
   "outputs": [],
   "source": [
    "from sklearn.svm import LinearSVC\n",
    "clf             = LinearSVC().fit(x_train_vec, y_train)\n",
    "predicted       = clf.predict(x_test_vec)\n",
    "predicted_score = clf.decision_function(x_test_vec)"
   ]
  },
  {
   "cell_type": "code",
   "execution_count": 43,
   "metadata": {
    "colab": {
     "base_uri": "https://localhost:8080/",
     "height": 34
    },
    "colab_type": "code",
    "id": "0x4wr9ziOqV9",
    "outputId": "1ca00d76-56fa-4c84-cd00-2e1e2b5efaef"
   },
   "outputs": [
    {
     "name": "stdout",
     "output_type": "stream",
     "text": [
      "accuracy 0.37789857565540497\n"
     ]
    }
   ],
   "source": [
    "print('accuracy', metrics.accuracy_score(y_test, predicted))"
   ]
  },
  {
   "cell_type": "code",
   "execution_count": 44,
   "metadata": {
    "colab": {
     "base_uri": "https://localhost:8080/",
     "height": 34
    },
    "colab_type": "code",
    "id": "v9KshrFvWO_3",
    "outputId": "0309df1c-34c4-4222-dc60-3bc36e5cdd85"
   },
   "outputs": [
    {
     "name": "stdout",
     "output_type": "stream",
     "text": [
      "train accuracy 0.9905382855373394\n"
     ]
    }
   ],
   "source": [
    "train_predicted = clf.predict(x_train_vec)\n",
    "train_predicted_score = clf.decision_function(x_train_vec)\n",
    "\n",
    "print('train accuracy', metrics.accuracy_score(y_train, train_predicted))"
   ]
  },
  {
   "cell_type": "code",
   "execution_count": 45,
   "metadata": {
    "colab": {
     "base_uri": "https://localhost:8080/",
     "height": 34
    },
    "colab_type": "code",
    "id": "ycStNkaYNWwd",
    "outputId": "87539a7f-d7e0-45c0-9832-afd148073607"
   },
   "outputs": [
    {
     "data": {
      "text/plain": [
       "(14533, 100)"
      ]
     },
     "execution_count": 45,
     "metadata": {
      "tags": []
     },
     "output_type": "execute_result"
    }
   ],
   "source": [
    "# top k accuracy (# ref: https://scikit-learn.org/stable/modules/svm.html)\n",
    "predicted_score = clf.decision_function(x_test_vec)\n",
    "predicted_score.shape"
   ]
  },
  {
   "cell_type": "code",
   "execution_count": 0,
   "metadata": {
    "colab": {},
    "colab_type": "code",
    "collapsed": true,
    "id": "-2aH0jUsNZeP"
   },
   "outputs": [],
   "source": [
    "# transform matrix of predictions to put them in order\n",
    "best_n = predicted_score.argsort()[:,::-1] # need to do in reverse order thats why need \"[::-1]\""
   ]
  },
  {
   "cell_type": "code",
   "execution_count": 47,
   "metadata": {
    "colab": {
     "base_uri": "https://localhost:8080/",
     "height": 34
    },
    "colab_type": "code",
    "id": "OX4iMj0LNbBP",
    "outputId": "ac7f7f6e-c62a-4706-bfdc-735cd1124661"
   },
   "outputs": [
    {
     "data": {
      "text/plain": [
       "0.5871464941856465"
      ]
     },
     "execution_count": 47,
     "metadata": {
      "tags": []
     },
     "output_type": "execute_result"
    }
   ],
   "source": [
    "# set up function to calculate top 5\n",
    "count = 0\n",
    "for i in range(0, y_test.shape[0]):\n",
    "    if (y_test[i] in best_n[i,0:5]):\n",
    "        count = count + 1\n",
    "\n",
    "top_5_acc = count / y_test.shape[0]\n",
    "top_5_acc"
   ]
  },
  {
   "cell_type": "code",
   "execution_count": 48,
   "metadata": {
    "colab": {
     "base_uri": "https://localhost:8080/",
     "height": 34
    },
    "colab_type": "code",
    "id": "pA3VzwGmYsix",
    "outputId": "a81a1c98-5182-414f-8ae1-487dc55704e4"
   },
   "outputs": [
    {
     "data": {
      "text/plain": [
       "0.6836854056285695"
      ]
     },
     "execution_count": 48,
     "metadata": {
      "tags": []
     },
     "output_type": "execute_result"
    }
   ],
   "source": [
    "# set up function to calculate top 10\n",
    "count = 0\n",
    "for i in range(0, y_test.shape[0]):\n",
    "    if (y_test[i] in best_n[i,0:10]):\n",
    "        count = count + 1\n",
    "\n",
    "top_10_acc = count / y_test.shape[0]\n",
    "top_10_acc"
   ]
  },
  {
   "cell_type": "markdown",
   "metadata": {
    "colab_type": "text",
    "id": "TMyJAaDMOqWA"
   },
   "source": [
    "#### Preprocess Data for Keras Models"
   ]
  },
  {
   "cell_type": "code",
   "execution_count": 52,
   "metadata": {
    "colab": {
     "base_uri": "https://localhost:8080/",
     "height": 34
    },
    "colab_type": "code",
    "id": "qZT9aqDkOqWA",
    "outputId": "6a2a5668-b403-490c-e55e-bb863894add8"
   },
   "outputs": [
    {
     "name": "stdout",
     "output_type": "stream",
     "text": [
      "236\n"
     ]
    }
   ],
   "source": [
    "# data preprocess\n",
    "x = df['tokenized_nltk'].values\n",
    "y = df['author_id'].values\n",
    "\n",
    "# create sequences\n",
    "max_features = 25000\n",
    "tokenizer    = Tokenizer(num_words = max_features)\n",
    "tokenizer.fit_on_texts(x)\n",
    "x_sequences  = tokenizer.texts_to_sequences(x)\n",
    "\n",
    "# pad each sequence to be max length\n",
    "maxlen = max(len(x) for x in x_sequences)\n",
    "print(maxlen)\n",
    "x_sequences = sequence.pad_sequences(x_sequences, maxlen)"
   ]
  },
  {
   "cell_type": "code",
   "execution_count": 0,
   "metadata": {
    "colab": {},
    "colab_type": "code",
    "collapsed": true,
    "id": "QpCgS_kgmAin"
   },
   "outputs": [],
   "source": [
    "# from keras.utils import to_categorical\n",
    "# print(y.shape)\n",
    "# y = to_categorical(y)\n",
    "# print(y.shape)"
   ]
  },
  {
   "cell_type": "code",
   "execution_count": 0,
   "metadata": {
    "colab": {},
    "colab_type": "code",
    "collapsed": true,
    "id": "0DGqh3gtOqWC"
   },
   "outputs": [],
   "source": [
    "# split test and train\n",
    "x_train, x_test, y_train, y_test = train_test_split(x_sequences, y, test_size=0.20, random_state=22)"
   ]
  },
  {
   "cell_type": "markdown",
   "metadata": {
    "colab_type": "text",
    "id": "ACtPY2hyOqWS"
   },
   "source": [
    "#### 1. Faster RNN Model: CuDNNLSTM "
   ]
  },
  {
   "cell_type": "markdown",
   "metadata": {
    "colab_type": "text",
    "id": "7Uxo-JLmYl7I"
   },
   "source": [
    "- Run on Google Colab, 14 mins.    \n",
    "- Very overfit"
   ]
  },
  {
   "cell_type": "code",
   "execution_count": 0,
   "metadata": {
    "colab": {},
    "colab_type": "code",
    "collapsed": true,
    "id": "wjN0EYtzOqWT"
   },
   "outputs": [],
   "source": [
    "# ref: https://keras.io/layers/recurrent/#cudnnlstm\n",
    "# faster LSTM implementation\n",
    "\n",
    "model1 = Sequential()\n",
    "model1.add(Embedding(input_dim=max_features,\n",
    "                     output_dim=128))\n",
    "model1.add(CuDNNLSTM(128))\n",
    "model1.add(Dropout(0.5))\n",
    "model1.add(Dense(100, activation=\"softmax\"))\n",
    "\n",
    "model1.compile(optimizer=\"adam\", loss=\"sparse_categorical_crossentropy\", metrics=[\"acc\"])"
   ]
  },
  {
   "cell_type": "code",
   "execution_count": 12,
   "metadata": {
    "colab": {
     "base_uri": "https://localhost:8080/",
     "height": 598
    },
    "colab_type": "code",
    "id": "qS9g-XvpOqWY",
    "outputId": "f397997a-4bc5-46dc-a35d-0d01760acb81"
   },
   "outputs": [
    {
     "name": "stdout",
     "output_type": "stream",
     "text": [
      "Train on 58129 samples, validate on 14533 samples\n",
      "Epoch 1/16\n",
      "58129/58129 [==============================] - 32s 553us/step - loss: 4.4084 - acc: 0.0360 - val_loss: 4.1502 - val_acc: 0.0628\n",
      "Epoch 2/16\n",
      "58129/58129 [==============================] - 28s 477us/step - loss: 3.9708 - acc: 0.0874 - val_loss: 3.8838 - val_acc: 0.1061\n",
      "Epoch 3/16\n",
      "58129/58129 [==============================] - 28s 477us/step - loss: 3.5852 - acc: 0.1513 - val_loss: 3.6819 - val_acc: 0.1499\n",
      "Epoch 4/16\n",
      "58129/58129 [==============================] - 28s 477us/step - loss: 3.2119 - acc: 0.2258 - val_loss: 3.5906 - val_acc: 0.1806\n",
      "Epoch 5/16\n",
      "58129/58129 [==============================] - 28s 478us/step - loss: 2.8439 - acc: 0.3056 - val_loss: 3.5279 - val_acc: 0.2073\n",
      "Epoch 6/16\n",
      "58129/58129 [==============================] - 28s 480us/step - loss: 2.4908 - acc: 0.3859 - val_loss: 3.5939 - val_acc: 0.2199\n",
      "Epoch 7/16\n",
      "58129/58129 [==============================] - 28s 481us/step - loss: 2.1779 - acc: 0.4590 - val_loss: 3.7040 - val_acc: 0.2296\n",
      "Epoch 8/16\n",
      "58129/58129 [==============================] - 28s 485us/step - loss: 1.8924 - acc: 0.5277 - val_loss: 3.7798 - val_acc: 0.2365\n",
      "Epoch 9/16\n",
      "58129/58129 [==============================] - 28s 484us/step - loss: 1.6440 - acc: 0.5898 - val_loss: 3.9727 - val_acc: 0.2406\n",
      "Epoch 10/16\n",
      "58129/58129 [==============================] - 28s 483us/step - loss: 1.4322 - acc: 0.6425 - val_loss: 4.1651 - val_acc: 0.2428\n",
      "Epoch 11/16\n",
      "58129/58129 [==============================] - 28s 481us/step - loss: 1.2468 - acc: 0.6874 - val_loss: 4.3726 - val_acc: 0.2427\n",
      "Epoch 12/16\n",
      "58129/58129 [==============================] - 28s 483us/step - loss: 1.0928 - acc: 0.7253 - val_loss: 4.5668 - val_acc: 0.2395\n",
      "Epoch 13/16\n",
      "58129/58129 [==============================] - 28s 483us/step - loss: 0.9643 - acc: 0.7566 - val_loss: 4.8100 - val_acc: 0.2439\n",
      "Epoch 14/16\n",
      "58129/58129 [==============================] - 28s 483us/step - loss: 0.8524 - acc: 0.7834 - val_loss: 4.9740 - val_acc: 0.2364\n",
      "Epoch 15/16\n",
      "58129/58129 [==============================] - 28s 483us/step - loss: 0.7678 - acc: 0.8034 - val_loss: 5.1351 - val_acc: 0.2377\n",
      "Epoch 16/16\n",
      "58129/58129 [==============================] - 28s 483us/step - loss: 0.6922 - acc: 0.8216 - val_loss: 5.3381 - val_acc: 0.2393\n"
     ]
    }
   ],
   "source": [
    "history1 = model1.fit(x_train, y_train,\n",
    "            batch_size=128,\n",
    "            epochs=16,\n",
    "            validation_data=(x_test, y_test))"
   ]
  },
  {
   "cell_type": "code",
   "execution_count": 13,
   "metadata": {
    "colab": {
     "base_uri": "https://localhost:8080/",
     "height": 51
    },
    "colab_type": "code",
    "id": "WtytRsl0OqWb",
    "outputId": "d4bfade6-9749-4e45-c19c-44dde539968d"
   },
   "outputs": [
    {
     "name": "stdout",
     "output_type": "stream",
     "text": [
      "14533/14533 [==============================] - 6s 431us/step\n",
      "accuracy 0.2393174155370536\n"
     ]
    }
   ],
   "source": [
    "print('accuracy', model1.evaluate(x_test, y_test)[1])"
   ]
  },
  {
   "cell_type": "code",
   "execution_count": 14,
   "metadata": {
    "colab": {
     "base_uri": "https://localhost:8080/",
     "height": 51
    },
    "colab_type": "code",
    "id": "KKSaYcGAOqWe",
    "outputId": "1d8b3026-ded3-4688-dc1f-d6d21d5ef06f"
   },
   "outputs": [
    {
     "name": "stdout",
     "output_type": "stream",
     "text": [
      "58129/58129 [==============================] - 25s 428us/step\n",
      "accuracy 0.9098728689669324\n"
     ]
    }
   ],
   "source": [
    "print('accuracy', model1.evaluate(x_train, y_train)[1])"
   ]
  },
  {
   "cell_type": "markdown",
   "metadata": {
    "colab_type": "text",
    "id": "KOjFcZZWFrWs"
   },
   "source": [
    "#### 2. CNN"
   ]
  },
  {
   "cell_type": "code",
   "execution_count": 0,
   "metadata": {
    "colab": {},
    "colab_type": "code",
    "collapsed": true,
    "id": "SZ0QGhAPGXHg"
   },
   "outputs": [],
   "source": [
    "model_conv2 = Sequential()\n",
    "model_conv2.add(Embedding(max_features, output_dim=128, input_length=236))\n",
    "model_conv2.add(Dropout(0.2))\n",
    "model_conv2.add(Conv1D(128, 5, activation='relu'))\n",
    "model_conv2.add(Conv1D(128, 5, activation='relu'))\n",
    "model_conv2.add(GlobalMaxPooling1D())\n",
    "model_conv2.add(Dropout(0.2))\n",
    "model_conv2.add(Dense(100, activation='softmax'))"
   ]
  },
  {
   "cell_type": "code",
   "execution_count": 0,
   "metadata": {
    "colab": {},
    "colab_type": "code",
    "collapsed": true,
    "id": "NY6n9ha5GXKH"
   },
   "outputs": [],
   "source": [
    "from keras import optimizers\n",
    "opt = optimizers.rmsprop(lr=0.001) # speed up optimization\n",
    "model_conv2.compile(optimizer=opt, loss=\"sparse_categorical_crossentropy\", metrics=[\"acc\"])\n"
   ]
  },
  {
   "cell_type": "code",
   "execution_count": 128,
   "metadata": {
    "colab": {
     "base_uri": "https://localhost:8080/",
     "height": 598
    },
    "colab_type": "code",
    "id": "hALcnyruGXMp",
    "outputId": "e9d4d848-5fc9-40b8-afbc-0e7fbdb8aa13"
   },
   "outputs": [
    {
     "name": "stdout",
     "output_type": "stream",
     "text": [
      "Train on 58129 samples, validate on 14533 samples\n",
      "Epoch 1/16\n",
      "58129/58129 [==============================] - 16s 272us/step - loss: 4.3897 - acc: 0.0377 - val_loss: 4.1839 - val_acc: 0.0667\n",
      "Epoch 2/16\n",
      "58129/58129 [==============================] - 14s 249us/step - loss: 4.0557 - acc: 0.0873 - val_loss: 3.9225 - val_acc: 0.1111\n",
      "Epoch 3/16\n",
      "58129/58129 [==============================] - 14s 249us/step - loss: 3.7756 - acc: 0.1319 - val_loss: 3.7115 - val_acc: 0.1501\n",
      "Epoch 4/16\n",
      "58129/58129 [==============================] - 14s 249us/step - loss: 3.5248 - acc: 0.1760 - val_loss: 3.5996 - val_acc: 0.1734\n",
      "Epoch 5/16\n",
      "58129/58129 [==============================] - 14s 249us/step - loss: 3.2894 - acc: 0.2214 - val_loss: 3.5324 - val_acc: 0.1920\n",
      "Epoch 6/16\n",
      "58129/58129 [==============================] - 15s 250us/step - loss: 3.0699 - acc: 0.2655 - val_loss: 3.5113 - val_acc: 0.2031\n",
      "Epoch 7/16\n",
      "58129/58129 [==============================] - 14s 249us/step - loss: 2.8584 - acc: 0.3103 - val_loss: 3.4597 - val_acc: 0.2154\n",
      "Epoch 8/16\n",
      "58129/58129 [==============================] - 14s 249us/step - loss: 2.6721 - acc: 0.3476 - val_loss: 3.4756 - val_acc: 0.2229\n",
      "Epoch 9/16\n",
      "58129/58129 [==============================] - 14s 249us/step - loss: 2.4965 - acc: 0.3867 - val_loss: 3.4499 - val_acc: 0.2256\n",
      "Epoch 10/16\n",
      "58129/58129 [==============================] - 14s 249us/step - loss: 2.3421 - acc: 0.4203 - val_loss: 3.4975 - val_acc: 0.2273\n",
      "Epoch 11/16\n",
      "58129/58129 [==============================] - 14s 249us/step - loss: 2.1916 - acc: 0.4514 - val_loss: 3.4934 - val_acc: 0.2395\n",
      "Epoch 12/16\n",
      "58129/58129 [==============================] - 15s 250us/step - loss: 2.0504 - acc: 0.4835 - val_loss: 3.6282 - val_acc: 0.2359\n",
      "Epoch 13/16\n",
      "58129/58129 [==============================] - 15s 251us/step - loss: 1.9185 - acc: 0.5143 - val_loss: 3.6734 - val_acc: 0.2364\n",
      "Epoch 14/16\n",
      "58129/58129 [==============================] - 15s 251us/step - loss: 1.8135 - acc: 0.5365 - val_loss: 3.8399 - val_acc: 0.2337\n",
      "Epoch 15/16\n",
      "58129/58129 [==============================] - 15s 250us/step - loss: 1.7036 - acc: 0.5620 - val_loss: 3.8363 - val_acc: 0.2405\n",
      "Epoch 16/16\n",
      "58129/58129 [==============================] - 15s 250us/step - loss: 1.5972 - acc: 0.5854 - val_loss: 3.8617 - val_acc: 0.2462\n"
     ]
    }
   ],
   "source": [
    "history2 = model_conv2.fit(x_train, y_train,\n",
    "            batch_size=128,\n",
    "            epochs=16,\n",
    "            validation_data=(x_test, y_test))"
   ]
  },
  {
   "cell_type": "code",
   "execution_count": 18,
   "metadata": {
    "colab": {
     "base_uri": "https://localhost:8080/",
     "height": 51
    },
    "colab_type": "code",
    "id": "islqOUDZGXPS",
    "outputId": "d1731221-d60c-43df-e7b7-37f8b458a00c"
   },
   "outputs": [
    {
     "name": "stdout",
     "output_type": "stream",
     "text": [
      "14533/14533 [==============================] - 2s 105us/step\n"
     ]
    },
    {
     "data": {
      "text/plain": [
       "[3.4621874713556475, 0.23243652377450638]"
      ]
     },
     "execution_count": 18,
     "metadata": {
      "tags": []
     },
     "output_type": "execute_result"
    }
   ],
   "source": [
    "model_conv2.evaluate(x_test,y_test)\n"
   ]
  },
  {
   "cell_type": "code",
   "execution_count": 26,
   "metadata": {
    "colab": {
     "base_uri": "https://localhost:8080/",
     "height": 51
    },
    "colab_type": "code",
    "id": "m-nSn6dMTPWO",
    "outputId": "856690fc-da64-452f-cd9f-f47404f4c233"
   },
   "outputs": [
    {
     "name": "stdout",
     "output_type": "stream",
     "text": [
      "58129/58129 [==============================] - 6s 95us/step\n",
      "train accuracy 0.502554662905431\n"
     ]
    }
   ],
   "source": [
    "print('train accuracy', model_conv2.evaluate(x_train, y_train)[1])"
   ]
  },
  {
   "cell_type": "markdown",
   "metadata": {
    "colab_type": "text",
    "id": "HxqC0VsOGBbF"
   },
   "source": [
    "#### 3. CNN + LSTM"
   ]
  },
  {
   "cell_type": "code",
   "execution_count": 0,
   "metadata": {
    "colab": {},
    "colab_type": "code",
    "collapsed": true,
    "id": "KHV_jJyiGEmD"
   },
   "outputs": [],
   "source": [
    "model_conv3 = Sequential()\n",
    "model_conv3.add(Embedding(max_features, output_dim=128, input_length=236))\n",
    "model_conv3.add(Dropout(0.2))\n",
    "model_conv3.add(Conv1D(128, 5, activation='relu'))\n",
    "model_conv3.add(MaxPooling1D(4))\n",
    "model_conv3.add(LSTM(100))\n",
    "#model_conv.add(GlobalMaxPooling1D())\n",
    "\n",
    "model_conv3.add(Dense(100, activation='softmax'))"
   ]
  },
  {
   "cell_type": "code",
   "execution_count": 0,
   "metadata": {
    "colab": {},
    "colab_type": "code",
    "collapsed": true,
    "id": "HKP5F_8cGEok"
   },
   "outputs": [],
   "source": [
    "opt = optimizers.rmsprop(lr=0.001) # speed up optimization\n",
    "model_conv3.compile(optimizer=opt, loss=\"sparse_categorical_crossentropy\", metrics=[\"acc\"])"
   ]
  },
  {
   "cell_type": "code",
   "execution_count": 21,
   "metadata": {
    "colab": {
     "base_uri": "https://localhost:8080/",
     "height": 598
    },
    "colab_type": "code",
    "id": "L-vX6kJWGErL",
    "outputId": "7f0d4d4e-bc7a-415b-cec8-eb6891fb484a"
   },
   "outputs": [
    {
     "name": "stdout",
     "output_type": "stream",
     "text": [
      "Train on 58129 samples, validate on 14533 samples\n",
      "Epoch 1/16\n",
      "58129/58129 [==============================] - 76s 1ms/step - loss: 4.4075 - acc: 0.0308 - val_loss: 4.2653 - val_acc: 0.0467\n",
      "Epoch 2/16\n",
      "58129/58129 [==============================] - 75s 1ms/step - loss: 4.1108 - acc: 0.0716 - val_loss: 4.1370 - val_acc: 0.0672\n",
      "Epoch 3/16\n",
      "58129/58129 [==============================] - 74s 1ms/step - loss: 3.8278 - acc: 0.1164 - val_loss: 3.8858 - val_acc: 0.1108\n",
      "Epoch 4/16\n",
      "58129/58129 [==============================] - 76s 1ms/step - loss: 3.6038 - acc: 0.1534 - val_loss: 3.7150 - val_acc: 0.1388\n",
      "Epoch 5/16\n",
      "58129/58129 [==============================] - 75s 1ms/step - loss: 3.4445 - acc: 0.1797 - val_loss: 3.6758 - val_acc: 0.1499\n",
      "Epoch 6/16\n",
      "58129/58129 [==============================] - 75s 1ms/step - loss: 3.2954 - acc: 0.2118 - val_loss: 3.5813 - val_acc: 0.1726\n",
      "Epoch 7/16\n",
      "58129/58129 [==============================] - 75s 1ms/step - loss: 3.1584 - acc: 0.2381 - val_loss: 3.6019 - val_acc: 0.1719\n",
      "Epoch 8/16\n",
      "58129/58129 [==============================] - 75s 1ms/step - loss: 3.0258 - acc: 0.2666 - val_loss: 3.6459 - val_acc: 0.1709\n",
      "Epoch 9/16\n",
      "58129/58129 [==============================] - 73s 1ms/step - loss: 2.9075 - acc: 0.2946 - val_loss: 3.5836 - val_acc: 0.1885\n",
      "Epoch 10/16\n",
      "58129/58129 [==============================] - 74s 1ms/step - loss: 2.7910 - acc: 0.3214 - val_loss: 3.5185 - val_acc: 0.2017\n",
      "Epoch 11/16\n",
      "58129/58129 [==============================] - 75s 1ms/step - loss: 2.6835 - acc: 0.3449 - val_loss: 3.4664 - val_acc: 0.2150\n",
      "Epoch 12/16\n",
      "58129/58129 [==============================] - 76s 1ms/step - loss: 2.5825 - acc: 0.3690 - val_loss: 3.4429 - val_acc: 0.2225\n",
      "Epoch 13/16\n",
      "58129/58129 [==============================] - 74s 1ms/step - loss: 2.4925 - acc: 0.3879 - val_loss: 3.4441 - val_acc: 0.2289\n",
      "Epoch 14/16\n",
      "58129/58129 [==============================] - 74s 1ms/step - loss: 2.4054 - acc: 0.4061 - val_loss: 3.4517 - val_acc: 0.2305\n",
      "Epoch 15/16\n",
      "58129/58129 [==============================] - 74s 1ms/step - loss: 2.3189 - acc: 0.4286 - val_loss: 3.4829 - val_acc: 0.2338\n",
      "Epoch 16/16\n",
      "58129/58129 [==============================] - 76s 1ms/step - loss: 2.2444 - acc: 0.4440 - val_loss: 3.4532 - val_acc: 0.2365\n"
     ]
    }
   ],
   "source": [
    "history3 = model_conv3.fit(x_train, y_train,\n",
    "            batch_size=128,\n",
    "            epochs=16,\n",
    "            validation_data=(x_test, y_test))"
   ]
  },
  {
   "cell_type": "code",
   "execution_count": 22,
   "metadata": {
    "colab": {
     "base_uri": "https://localhost:8080/",
     "height": 51
    },
    "colab_type": "code",
    "id": "rt0R_1giGEuK",
    "outputId": "85b1ac0a-a819-431d-9f01-bfcbc0830e96"
   },
   "outputs": [
    {
     "name": "stdout",
     "output_type": "stream",
     "text": [
      "14533/14533 [==============================] - 28s 2ms/step\n"
     ]
    },
    {
     "data": {
      "text/plain": [
       "[3.453166136941455, 0.2364962499150142]"
      ]
     },
     "execution_count": 22,
     "metadata": {
      "tags": []
     },
     "output_type": "execute_result"
    }
   ],
   "source": [
    "model_conv3.evaluate(x_test, y_test)\n"
   ]
  },
  {
   "cell_type": "code",
   "execution_count": 24,
   "metadata": {
    "colab": {
     "base_uri": "https://localhost:8080/",
     "height": 51
    },
    "colab_type": "code",
    "id": "prqQWuvFT5qJ",
    "outputId": "512eb601-7f7c-4806-980b-e701c68d0c90"
   },
   "outputs": [
    {
     "name": "stdout",
     "output_type": "stream",
     "text": [
      "58129/58129 [==============================] - 105s 2ms/step\n",
      "training acc [1.9474374311162956, 0.52392093447589]\n"
     ]
    }
   ],
   "source": [
    "print(\"training acc\", model_conv3.evaluate(x_train, y_train))\n"
   ]
  },
  {
   "cell_type": "markdown",
   "metadata": {
    "colab_type": "text",
    "id": "kwaGx5Y8aa6v"
   },
   "source": [
    "#### 4. Simple Pooling Model"
   ]
  },
  {
   "cell_type": "code",
   "execution_count": 0,
   "metadata": {
    "colab": {},
    "colab_type": "code",
    "collapsed": true,
    "id": "6Q-j-IriadPv"
   },
   "outputs": [],
   "source": [
    "#ref: https://github.com/keras-team/keras/blob/master/examples/imdb_fasttext.py"
   ]
  },
  {
   "cell_type": "code",
   "execution_count": 0,
   "metadata": {
    "colab": {},
    "colab_type": "code",
    "collapsed": true,
    "id": "uoX7381Uad0f"
   },
   "outputs": [],
   "source": [
    "model4 = Sequential()\n",
    "model4.add(Embedding(input_dim=max_features,\n",
    "                    output_dim=128))\n",
    "\n",
    "# we add a GlobalAveragePooling1D, which will average the embeddings\n",
    "# of all words in the document\n",
    "model4.add(GlobalAveragePooling1D())\n",
    "model4.add(Dropout(0.5))\n",
    "\n",
    "model4.add(Dense(100, activation=\"softmax\"))"
   ]
  },
  {
   "cell_type": "code",
   "execution_count": 0,
   "metadata": {
    "colab": {},
    "colab_type": "code",
    "collapsed": true,
    "id": "iHCRHm-pad3E"
   },
   "outputs": [],
   "source": [
    "opt = keras.optimizers.Adam(lr=0.01) # speed up optimization\n",
    "model4.compile(optimizer=opt, loss=\"sparse_categorical_crossentropy\", metrics=[\"acc\"])"
   ]
  },
  {
   "cell_type": "code",
   "execution_count": 57,
   "metadata": {
    "colab": {
     "base_uri": "https://localhost:8080/",
     "height": 598
    },
    "colab_type": "code",
    "id": "NOpgYwlcad5s",
    "outputId": "b9235e89-c1fb-4147-ee1d-f46eaac51779"
   },
   "outputs": [
    {
     "name": "stdout",
     "output_type": "stream",
     "text": [
      "Train on 58129 samples, validate on 14533 samples\n",
      "Epoch 1/16\n",
      "58129/58129 [==============================] - 3s 58us/step - loss: 4.4577 - acc: 0.0426 - val_loss: 4.2268 - val_acc: 0.1050\n",
      "Epoch 2/16\n",
      "58129/58129 [==============================] - 3s 45us/step - loss: 3.9847 - acc: 0.1355 - val_loss: 3.7686 - val_acc: 0.1907\n",
      "Epoch 3/16\n",
      "58129/58129 [==============================] - 3s 45us/step - loss: 3.5185 - acc: 0.2289 - val_loss: 3.4095 - val_acc: 0.2645\n",
      "Epoch 4/16\n",
      "58129/58129 [==============================] - 3s 45us/step - loss: 3.1185 - acc: 0.3144 - val_loss: 3.1559 - val_acc: 0.3103\n",
      "Epoch 5/16\n",
      "58129/58129 [==============================] - 3s 45us/step - loss: 2.7910 - acc: 0.3830 - val_loss: 2.9912 - val_acc: 0.3399\n",
      "Epoch 6/16\n",
      "58129/58129 [==============================] - 3s 45us/step - loss: 2.5084 - acc: 0.4455 - val_loss: 2.8619 - val_acc: 0.3588\n",
      "Epoch 7/16\n",
      "58129/58129 [==============================] - 3s 45us/step - loss: 2.2644 - acc: 0.4988 - val_loss: 2.7477 - val_acc: 0.3826\n",
      "Epoch 8/16\n",
      "58129/58129 [==============================] - 3s 45us/step - loss: 2.0462 - acc: 0.5477 - val_loss: 2.6892 - val_acc: 0.3907\n",
      "Epoch 9/16\n",
      "58129/58129 [==============================] - 3s 45us/step - loss: 1.8591 - acc: 0.5891 - val_loss: 2.6304 - val_acc: 0.4005\n",
      "Epoch 10/16\n",
      "58129/58129 [==============================] - 3s 45us/step - loss: 1.6858 - acc: 0.6277 - val_loss: 2.6004 - val_acc: 0.4074\n",
      "Epoch 11/16\n",
      "58129/58129 [==============================] - 3s 45us/step - loss: 1.5387 - acc: 0.6615 - val_loss: 2.5774 - val_acc: 0.4136\n",
      "Epoch 12/16\n",
      "58129/58129 [==============================] - 3s 45us/step - loss: 1.4008 - acc: 0.6903 - val_loss: 2.5554 - val_acc: 0.4179\n",
      "Epoch 13/16\n",
      "58129/58129 [==============================] - 3s 45us/step - loss: 1.2858 - acc: 0.7150 - val_loss: 2.5745 - val_acc: 0.4161\n",
      "Epoch 14/16\n",
      "58129/58129 [==============================] - 3s 45us/step - loss: 1.1717 - acc: 0.7416 - val_loss: 2.5643 - val_acc: 0.4201\n",
      "Epoch 15/16\n",
      "58129/58129 [==============================] - 3s 45us/step - loss: 1.0743 - acc: 0.7643 - val_loss: 2.5895 - val_acc: 0.4186\n",
      "Epoch 16/16\n",
      "58129/58129 [==============================] - 3s 45us/step - loss: 0.9874 - acc: 0.7790 - val_loss: 2.5933 - val_acc: 0.4171\n"
     ]
    }
   ],
   "source": [
    "history4 = model4.fit(x_train, y_train,\n",
    "            batch_size=256,\n",
    "            epochs=16,\n",
    "            validation_data=(x_test, y_test))"
   ]
  },
  {
   "cell_type": "code",
   "execution_count": 58,
   "metadata": {
    "colab": {
     "base_uri": "https://localhost:8080/",
     "height": 51
    },
    "colab_type": "code",
    "id": "pHXxs7SMcevP",
    "outputId": "c4ffc9f1-37b1-45db-9926-5f26b1de5031"
   },
   "outputs": [
    {
     "name": "stdout",
     "output_type": "stream",
     "text": [
      "14533/14533 [==============================] - 1s 52us/step\n",
      "accuracy 0.41711965870879386\n"
     ]
    }
   ],
   "source": [
    "print('accuracy', model4.evaluate(x_test, y_test)[1])"
   ]
  },
  {
   "cell_type": "code",
   "execution_count": 59,
   "metadata": {
    "colab": {
     "base_uri": "https://localhost:8080/",
     "height": 51
    },
    "colab_type": "code",
    "id": "cWKAfmndWo_U",
    "outputId": "3d30708d-9c58-46bb-ac64-48d431a6f6cf"
   },
   "outputs": [
    {
     "name": "stdout",
     "output_type": "stream",
     "text": [
      "58129/58129 [==============================] - 3s 52us/step\n",
      "train accuracy 0.889143112737154\n"
     ]
    }
   ],
   "source": [
    "print('train accuracy', model4.evaluate(x_train, y_train)[1])"
   ]
  },
  {
   "cell_type": "markdown",
   "metadata": {
    "colab_type": "text",
    "id": "vu4I54U94pCU"
   },
   "source": [
    "#### Plots + Compare Models"
   ]
  },
  {
   "cell_type": "code",
   "execution_count": 0,
   "metadata": {
    "colab": {},
    "colab_type": "code",
    "collapsed": true,
    "id": "dpqBQOCv77jb"
   },
   "outputs": [],
   "source": [
    "import seaborn as sns\n",
    "import matplotlib.pyplot as plt\n",
    "sns.set_style(\"ticks\")"
   ]
  },
  {
   "cell_type": "markdown",
   "metadata": {
    "colab_type": "text",
    "id": "-KpXsM5WfHfq"
   },
   "source": [
    "##### Plot Test and Train"
   ]
  },
  {
   "cell_type": "code",
   "execution_count": 0,
   "metadata": {
    "colab": {
     "base_uri": "https://localhost:8080/",
     "height": 376
    },
    "colab_type": "code",
    "id": "XV6F62tw4tmW",
    "outputId": "19c37d99-903c-4046-8ff5-43a4bab38317"
   },
   "outputs": [
    {
     "data": {
      "image/png": "[encoded data removed]",
      "text/plain": [
       "<matplotlib.figure.Figure at 0x7fdaab66c278>"
      ]
     },
     "metadata": {
      "tags": []
     },
     "output_type": "display_data"
    }
   ],
   "source": [
    "# plot test vs. train to show overfitting!\n",
    "\n",
    "# Get values \n",
    "acc1     = history1.history['acc']\n",
    "val_acc1 = history1.history['val_acc']\n",
    "\n",
    "acc2     = history2.history['acc']\n",
    "val_acc2 = history2.history['val_acc']\n",
    "\n",
    "acc3     = history3.history['acc']\n",
    "val_acc3 = history3.history['val_acc']\n",
    "\n",
    "\n",
    "# Setup grid for plotting\n",
    "epochs = range(1, len(acc) + 1)\n",
    "\n",
    "# plot model 1\n",
    "plt.plot(epochs, acc1, 'bo', label='lstm train', color='k')\n",
    "plt.plot(epochs, val_acc1, 'b', label='lstm val', color='k')\n",
    "\n",
    "# plot model 2\n",
    "plt.plot(epochs, acc2, 'bo', label='blstm train', color='b')\n",
    "plt.plot(epochs, val_acc2, 'b', label='blstm val', color='b')\n",
    "\n",
    "# plot model 3\n",
    "plt.plot(epochs, acc3, 'bo', label='simple train', color='g')\n",
    "plt.plot(epochs, val_acc3, 'b', label='simple val', color='g')\n",
    "\n",
    "plt.title('Training and Validation Accuracy by Model')\n",
    "plt.xlabel('Epochs')\n",
    "plt.ylabel('Accuracy')\n",
    "plt.legend()\n",
    "plt.show()"
   ]
  },
  {
   "cell_type": "markdown",
   "metadata": {
    "colab_type": "text",
    "id": "frah8BlefLWu"
   },
   "source": [
    "##### Plot Accuracy by Author"
   ]
  },
  {
   "cell_type": "code",
   "execution_count": 70,
   "metadata": {
    "colab": {
     "base_uri": "https://localhost:8080/",
     "height": 357
    },
    "colab_type": "code",
    "id": "5oivhueE4to8",
    "outputId": "3b6db55f-a880-4e95-ee19-0850a3c7a63e"
   },
   "outputs": [
    {
     "data": {
      "text/plain": [
       "array([0.36      , 0.75903614, 0.4214876 , 0.23972603, 0.51176471,\n",
       "       0.31428571, 0.17213115, 0.36507937, 0.35820896, 0.30322581,\n",
       "       0.52469136, 0.40909091, 0.37735849, 0.16666667, 0.45806452,\n",
       "       0.47333333, 0.47770701, 0.21428571, 0.60483871, 0.34883721,\n",
       "       0.41984733, 0.6557377 , 0.48760331, 0.4084507 , 0.49285714,\n",
       "       0.27941176, 0.46616541, 0.38059701, 0.34057971, 0.38607595,\n",
       "       0.46706587, 0.53125   , 0.57065217, 0.41803279, 0.45588235,\n",
       "       0.20714286, 0.2195122 , 0.6097561 , 0.68862275, 0.37341772,\n",
       "       0.48760331, 0.49494949, 0.32484076, 0.2519084 , 0.57386364,\n",
       "       0.3715847 , 0.24858757, 0.38095238, 0.33962264, 0.42207792,\n",
       "       0.6       , 0.2885906 , 0.71929825, 0.41104294, 0.38271605,\n",
       "       0.40206186, 0.32824427, 0.54069767, 0.28070175, 0.28301887,\n",
       "       0.46666667, 0.65591398, 0.58100559, 0.35833333, 0.43884892,\n",
       "       0.40425532, 0.375     , 0.40659341, 0.8       , 0.31914894,\n",
       "       0.38345865, 0.44565217, 0.62721893, 0.2890625 , 0.20645161,\n",
       "       0.11578947, 0.34265734, 0.2734375 , 0.11578947, 0.67567568,\n",
       "       0.421875  , 0.21367521, 0.29050279, 0.46103896, 0.37267081,\n",
       "       0.45882353, 0.24561404, 0.45833333, 0.35483871, 0.37190083,\n",
       "       0.38690476, 0.32258065, 0.33613445, 0.40196078, 0.24342105,\n",
       "       0.41477273, 0.59354839, 0.40490798, 0.40251572, 0.44155844])"
      ]
     },
     "execution_count": 70,
     "metadata": {
      "tags": []
     },
     "output_type": "execute_result"
    }
   ],
   "source": [
    "# plot accuracy rates by author from best model\n",
    "from sklearn.metrics import classification_report, accuracy_score, confusion_matrix\n",
    "import numpy as np\n",
    "\n",
    "y_pred4 = model4.predict_classes(x_test)\n",
    "# print(classification_report(y_test, y_pred4))\n",
    "\n",
    "cm = confusion_matrix(y_test, y_pred4) # only works with sparse\n",
    "cm = cm.astype('float') / cm.sum(axis=1)[:, np.newaxis]\n",
    "accuracies = cm.diagonal()\n",
    "accuracies"
   ]
  },
  {
   "cell_type": "code",
   "execution_count": 88,
   "metadata": {
    "colab": {
     "base_uri": "https://localhost:8080/",
     "height": 382
    },
    "colab_type": "code",
    "id": "VdZNk1LU_aka",
    "outputId": "ce789551-f856-4266-f1b1-ec6a08231c83"
   },
   "outputs": [
    {
     "data": {
      "image/png": "[encoded data removed]",
      "text/plain": [
       "<matplotlib.figure.Figure at 0x7fb3c7f9aeb8>"
      ]
     },
     "metadata": {
      "tags": []
     },
     "output_type": "display_data"
    }
   ],
   "source": [
    "plt.hist(accuracies, bins=10, color='#ff704d')\n",
    "plt.title('Test Accuracy by Author', fontweight=\"bold\")\n",
    "plt.xlabel('Accuracy')\n",
    "sns.despine()\n",
    "plt.show()"
   ]
  },
  {
   "cell_type": "markdown",
   "metadata": {
    "colab_type": "text",
    "id": "S3zA9w_jOwcv"
   },
   "source": [
    "##### Top K Analysis"
   ]
  },
  {
   "cell_type": "code",
   "execution_count": 0,
   "metadata": {
    "colab": {},
    "colab_type": "code",
    "collapsed": true,
    "id": "SX4F9pUyO3Fp"
   },
   "outputs": [],
   "source": [
    "# get predictions for each DL model\n",
    "y_pred1 = model1.predict_classes(x_test)\n",
    "y_pred2 = model_conv2.predict_classes(x_test)\n",
    "y_pred3 = model_conv3.predict_classes(x_test)\n",
    "y_pred4 = model4.predict_classes(x_test)\n",
    "\n",
    "# get scores - basically the softmax output\n",
    "test_scores1 = model1.predict(x_test) \n",
    "test_scores2 = model_conv2.predict(x_test) \n",
    "test_scores3 = model_conv3.predict(x_test) \n",
    "test_scores4 = model4.predict(x_test) "
   ]
  },
  {
   "cell_type": "code",
   "execution_count": 0,
   "metadata": {
    "colab": {},
    "colab_type": "code",
    "collapsed": true,
    "id": "JlbOeJghPqU9"
   },
   "outputs": [],
   "source": [
    "def topk_acc(y_test, y_pred, k):\n",
    "  return keras.backend.eval(keras.metrics.sparse_top_k_categorical_accuracy(y_test, y_pred, k=k)) # force it to evaluate\n",
    "\n",
    "topk1 = [(k, topk_acc(y_test, test_scores1, k=k)) for k in range(1, 51)]\n",
    "topk2 = [(k, topk_acc(y_test, test_scores2, k=k)) for k in range(1, 51)]\n",
    "topk3 = [(k, topk_acc(y_test, test_scores3, k=k)) for k in range(1, 51)]\n",
    "topk4 = [(k, topk_acc(y_test, test_scores4, k=k)) for k in range(1, 51)]"
   ]
  },
  {
   "cell_type": "code",
   "execution_count": 107,
   "metadata": {
    "colab": {
     "base_uri": "https://localhost:8080/",
     "height": 187
    },
    "colab_type": "code",
    "id": "yReGseg9XIF7",
    "outputId": "dfc2a319-9b31-442e-bfad-ff12218e6d4d"
   },
   "outputs": [
    {
     "data": {
      "text/plain": [
       "[(1, 0.23931742),\n",
       " (2, 0.31913576),\n",
       " (3, 0.3695039),\n",
       " (4, 0.41085804),\n",
       " (5, 0.4434735),\n",
       " (6, 0.46872634),\n",
       " (7, 0.49267185),\n",
       " (8, 0.5139338),\n",
       " (9, 0.53292507),\n",
       " (10, 0.55157226)]"
      ]
     },
     "execution_count": 107,
     "metadata": {
      "tags": []
     },
     "output_type": "execute_result"
    }
   ],
   "source": [
    "topk1[0:10]"
   ]
  },
  {
   "cell_type": "code",
   "execution_count": 38,
   "metadata": {
    "colab": {
     "base_uri": "https://localhost:8080/",
     "height": 187
    },
    "colab_type": "code",
    "id": "HLgcoBXqXKee",
    "outputId": "e6a0bee8-5678-43fc-a359-ccb7ec641751"
   },
   "outputs": [
    {
     "data": {
      "text/plain": [
       "[(1, 0.23243652),\n",
       " (2, 0.3217505),\n",
       " (3, 0.37755454),\n",
       " (4, 0.41863346),\n",
       " (5, 0.45228103),\n",
       " (6, 0.48592857),\n",
       " (7, 0.5148283),\n",
       " (8, 0.53794813),\n",
       " (9, 0.56024224),\n",
       " (10, 0.5800592)]"
      ]
     },
     "execution_count": 38,
     "metadata": {
      "tags": []
     },
     "output_type": "execute_result"
    }
   ],
   "source": [
    "topk2[0:10]"
   ]
  },
  {
   "cell_type": "code",
   "execution_count": 39,
   "metadata": {
    "colab": {
     "base_uri": "https://localhost:8080/",
     "height": 187
    },
    "colab_type": "code",
    "id": "uHbVkH90XLNm",
    "outputId": "5b7f6799-2614-47f5-b40f-5008d9e22d2d"
   },
   "outputs": [
    {
     "data": {
      "text/plain": [
       "[(1, 0.23649625),\n",
       " (2, 0.3278057),\n",
       " (3, 0.387463),\n",
       " (4, 0.43267047),\n",
       " (5, 0.46886396),\n",
       " (6, 0.49728206),\n",
       " (7, 0.5262506),\n",
       " (8, 0.5493704),\n",
       " (9, 0.5723526),\n",
       " (10, 0.59141266)]"
      ]
     },
     "execution_count": 39,
     "metadata": {
      "tags": []
     },
     "output_type": "execute_result"
    }
   ],
   "source": [
    "topk3[0:10]"
   ]
  },
  {
   "cell_type": "code",
   "execution_count": 40,
   "metadata": {
    "colab": {
     "base_uri": "https://localhost:8080/",
     "height": 187
    },
    "colab_type": "code",
    "id": "3CrXe3tIXv78",
    "outputId": "fd9ca914-7d54-4792-bf8d-6ddc6deb1040"
   },
   "outputs": [
    {
     "data": {
      "text/plain": [
       "[(1, 0.42179868),\n",
       " (2, 0.5168926),\n",
       " (3, 0.57138926),\n",
       " (4, 0.60985345),\n",
       " (5, 0.64067984),\n",
       " (6, 0.6689603),\n",
       " (7, 0.6922177),\n",
       " (8, 0.7110025),\n",
       " (9, 0.72744787),\n",
       " (10, 0.74334276)]"
      ]
     },
     "execution_count": 40,
     "metadata": {
      "tags": []
     },
     "output_type": "execute_result"
    }
   ],
   "source": [
    "topk4[0:10]"
   ]
  },
  {
   "cell_type": "code",
   "execution_count": 0,
   "metadata": {
    "colab": {},
    "colab_type": "code",
    "collapsed": true,
    "id": "wRIL-tmxjwXW"
   },
   "outputs": [],
   "source": [
    "# plot results\n",
    "k_values = [k for k in range(1,51)]"
   ]
  },
  {
   "cell_type": "code",
   "execution_count": 152,
   "metadata": {
    "colab": {
     "base_uri": "https://localhost:8080/",
     "height": 382
    },
    "colab_type": "code",
    "id": "06T_axulj9MV",
    "outputId": "663385fd-f921-4472-8c18-2c2a2de181dc"
   },
   "outputs": [
    {
     "data": {
      "image/png": "[encoded data removed]",
      "text/plain": [
       "<matplotlib.figure.Figure at 0x7fb3c67ba358>"
      ]
     },
     "metadata": {
      "tags": []
     },
     "output_type": "display_data"
    }
   ],
   "source": [
    "plt.plot(k_values, [k[1] for k in topk1], 'b', label='LSTM', color='r')\n",
    "plt.plot(k_values, [k[1] for k in topk2], 'b', label='CNN', color='#70db70')\n",
    "plt.plot(k_values, [k[1] for k in topk3], 'b', label='CNN+LSTM', color='#3399ff')\n",
    "plt.plot(k_values, [k[1] for k in topk4], 'b', label='Simple Pooling', color='#ff704d')\n",
    "\n",
    "plt.title('Top-k Accuracy', fontweight=\"bold\")\n",
    "plt.xlabel('k')\n",
    "plt.ylabel('Accuracy')\n",
    "plt.legend()\n",
    "plt.ylim(ymin=0)\n",
    "sns.despine()\n",
    "plt.show()"
   ]
  },
  {
   "cell_type": "code",
   "execution_count": 0,
   "metadata": {
    "colab": {},
    "colab_type": "code",
    "collapsed": true,
    "id": "YHKjqstIj9O7"
   },
   "outputs": [],
   "source": []
  },
  {
   "cell_type": "markdown",
   "metadata": {
    "colab_type": "text",
    "id": "sHgcFORxjthO"
   },
   "source": [
    "##### Best Author Analysis"
   ]
  },
  {
   "cell_type": "code",
   "execution_count": 0,
   "metadata": {
    "colab": {
     "base_uri": "https://localhost:8080/",
     "height": 153
    },
    "colab_type": "code",
    "id": "LrybKk4_4trp",
    "outputId": "1d0efa2e-e964-4bbb-be6c-236b27dc0f3c"
   },
   "outputs": [
    {
     "name": "stdout",
     "output_type": "stream",
     "text": [
      "0.7517241379310344\n",
      "68\n",
      "      author                                               body\n",
      "9346  djphan  Kansas is an underrated pickup opportunity... ...\n",
      "9347  djphan  how can i point to their argument without usin...\n",
      "9348  djphan  i did.. i see the subsequent comments... and t...\n",
      "9349  djphan  i literally quoted it in my first reply...  \\n...\n",
      "9350  djphan  youre saying that clinton did it herself... th...\n"
     ]
    }
   ],
   "source": [
    "# lots of politics, and very consistent writing style\n",
    "print(accuracies.max())\n",
    "print(accuracies.argmax())\n",
    "print(df[['author', 'body']][df['author_id'] == 68][0:5])"
   ]
  },
  {
   "cell_type": "code",
   "execution_count": 122,
   "metadata": {
    "colab": {
     "base_uri": "https://localhost:8080/",
     "height": 34
    },
    "colab_type": "code",
    "id": "C6BTJ5ovp3qB",
    "outputId": "f5163973-e3a1-4d9f-e4b8-1ea34cdad4ae"
   },
   "outputs": [
    {
     "name": "stdout",
     "output_type": "stream",
     "text": [
      "68\n"
     ]
    }
   ],
   "source": [
    "# check best author LSTM\n",
    "cm_1 = confusion_matrix(y_test, y_pred1) # only works with sparse\n",
    "cm_1 = cm_1.astype('float') / cm_1.sum(axis=1)[:, np.newaxis]\n",
    "accuracies_1 = cm.diagonal()\n",
    "accuracies_1\n",
    "print(accuracies_1.argmax())"
   ]
  },
  {
   "cell_type": "markdown",
   "metadata": {
    "colab_type": "text",
    "id": "iGTnOAWHjRzT"
   },
   "source": [
    "##### Author and Post Length Analysis"
   ]
  },
  {
   "cell_type": "code",
   "execution_count": 0,
   "metadata": {
    "colab": {},
    "colab_type": "code",
    "collapsed": true,
    "id": "MFaT04wJKxOU"
   },
   "outputs": [],
   "source": [
    "y_pred4 = model4.predict_classes(x_test)"
   ]
  },
  {
   "cell_type": "code",
   "execution_count": 0,
   "metadata": {
    "colab": {},
    "colab_type": "code",
    "collapsed": true,
    "id": "Ug6jRd6FKxOV"
   },
   "outputs": [],
   "source": [
    "x_test_length = (x_test != 0).sum(axis=1) "
   ]
  },
  {
   "cell_type": "code",
   "execution_count": 138,
   "metadata": {
    "colab": {
     "base_uri": "https://localhost:8080/",
     "height": 368
    },
    "colab_type": "code",
    "id": "H2Lytcp6KxOW",
    "outputId": "82ee5833-08a6-4900-8dbe-d87a87b10aac"
   },
   "outputs": [
    {
     "data": {
      "image/png": "[encoded data removed]",
      "text/plain": [
       "<matplotlib.figure.Figure at 0x7fb3c641dfd0>"
      ]
     },
     "metadata": {
      "tags": []
     },
     "output_type": "display_data"
    }
   ],
   "source": [
    "length_by_author = pd.Series(x_test_length).groupby(y_test).mean() #avg post length, in tokens\n",
    "acc_by_author    = pd.Series(y_pred4 == y_test).groupby(y_test).mean()\n",
    "\n",
    "plt.scatter(length_by_author, acc_by_author, alpha=0.6)\n",
    "plt.title('Average Post Length and Test Accuracies by Author')\n",
    "sns.despine()\n",
    "plt.show()"
   ]
  },
  {
   "cell_type": "code",
   "execution_count": 151,
   "metadata": {
    "colab": {
     "base_uri": "https://localhost:8080/",
     "height": 382
    },
    "colab_type": "code",
    "id": "omO_JcUIKxOY",
    "outputId": "72b7ec39-8789-4207-c656-4026c77015d3"
   },
   "outputs": [
    {
     "data": {
      "image/png": "[encoded data removed]",
      "text/plain": [
       "<matplotlib.figure.Figure at 0x7fb3c64de390>"
      ]
     },
     "metadata": {
      "tags": []
     },
     "output_type": "display_data"
    }
   ],
   "source": [
    "length_by_author = pd.Series(x_test_length).groupby(y_test).sum() # take sum\n",
    "acc_by_author    = pd.Series(y_pred4 == y_test).groupby(y_test).mean()\n",
    "\n",
    "plt.scatter(length_by_author, acc_by_author, alpha=0.6, color='#ff704d')\n",
    "plt.title('Comment Length and Test Accuracy by Author (cor=0.45)', fontweight=\"bold\")\n",
    "plt.ylabel('Accuracy')\n",
    "plt.xlabel('Total Tokens')\n",
    "plt.ylim(ymin=0)\n",
    "sns.despine()\n",
    "plt.show()"
   ]
  },
  {
   "cell_type": "code",
   "execution_count": 148,
   "metadata": {
    "colab": {
     "base_uri": "https://localhost:8080/",
     "height": 51
    },
    "colab_type": "code",
    "id": "nq8DFkBtAdYy",
    "outputId": "5a26ae81-f70c-48c0-d353-4d35bf9785de"
   },
   "outputs": [
    {
     "data": {
      "text/plain": [
       "array([[1.        , 0.44552191],\n",
       "       [0.44552191, 1.        ]])"
      ]
     },
     "execution_count": 148,
     "metadata": {
      "tags": []
     },
     "output_type": "execute_result"
    }
   ],
   "source": [
    "np.corrcoef(length_by_author, acc_by_author)"
   ]
  },
  {
   "cell_type": "markdown",
   "metadata": {
    "colab_type": "text",
    "id": "EPWrrnylJEyy"
   },
   "source": [
    "#### Save Models"
   ]
  },
  {
   "cell_type": "code",
   "execution_count": 0,
   "metadata": {
    "colab": {},
    "colab_type": "code",
    "collapsed": true,
    "id": "8ekOaucEEKJ7"
   },
   "outputs": [],
   "source": [
    "model1.save('/content/gdrive/My Drive/colab/anly-author-id/model_l.h5')\n",
    "model2.save('/content/gdrive/My Drive/colab/anly-author-id/model_2.h5')\n",
    "model3.save('/content/gdrive/My Drive/colab/anly-author-id/model_3.h5')"
   ]
  },
  {
   "cell_type": "markdown",
   "metadata": {
    "colab_type": "text",
    "id": "IIzjZg8g8DPt"
   },
   "source": [
    "#### EXTRA. Multilayer"
   ]
  },
  {
   "cell_type": "code",
   "execution_count": 0,
   "metadata": {
    "colab": {},
    "colab_type": "code",
    "collapsed": true,
    "id": "jEe6VRBJ8FTr"
   },
   "outputs": [],
   "source": [
    "# Multilayer LSTM\n",
    "model5 = Sequential()\n",
    "model5.add(Embedding(input_dim=max_features,\n",
    "                    output_dim=128))\n",
    "\n",
    "model5.add(CuDNNLSTM(128, return_sequences=True))\n",
    "model5.add(Dropout(0.5))\n",
    "\n",
    "model5.add(CuDNNLSTM(64))\n",
    "model5.add(Dropout(0.5))\n",
    "\n",
    "model5.add(Dense(100, activation=\"softmax\"))\n",
    "\n",
    "model5.compile(optimizer=\"adam\", loss=\"sparse_categorical_crossentropy\", metrics=[\"acc\"])"
   ]
  },
  {
   "cell_type": "code",
   "execution_count": 0,
   "metadata": {
    "colab": {
     "base_uri": "https://localhost:8080/",
     "height": 578
    },
    "colab_type": "code",
    "id": "UjqWWQ5e8ZW9",
    "outputId": "3f51f76b-0a7b-486c-9bd4-40c96529f5d9"
   },
   "outputs": [
    {
     "name": "stdout",
     "output_type": "stream",
     "text": [
      "Train on 58129 samples, validate on 14533 samples\n",
      "Epoch 1/16\n",
      "58129/58129 [==============================] - 46s 797us/step - loss: 4.4563 - acc: 0.0301 - val_loss: 4.2198 - val_acc: 0.0588\n",
      "Epoch 2/16\n",
      "58129/58129 [==============================] - 44s 764us/step - loss: 4.1062 - acc: 0.0710 - val_loss: 3.9898 - val_acc: 0.0962\n",
      "Epoch 3/16\n",
      "58129/58129 [==============================] - 44s 756us/step - loss: 3.8289 - acc: 0.1135 - val_loss: 3.7824 - val_acc: 0.1303\n",
      "Epoch 4/16\n",
      "58129/58129 [==============================] - 44s 765us/step - loss: 3.6063 - acc: 0.1513 - val_loss: 3.6834 - val_acc: 0.1494\n",
      "Epoch 5/16\n",
      "58129/58129 [==============================] - 44s 761us/step - loss: 3.4146 - acc: 0.1893 - val_loss: 3.6164 - val_acc: 0.1682\n",
      "Epoch 6/16\n",
      "58129/58129 [==============================] - 44s 753us/step - loss: 3.2467 - acc: 0.2262 - val_loss: 3.5665 - val_acc: 0.1844\n",
      "Epoch 7/16\n",
      "58129/58129 [==============================] - 44s 754us/step - loss: 3.0894 - acc: 0.2571 - val_loss: 3.5518 - val_acc: 0.1955\n",
      "Epoch 8/16\n",
      "58129/58129 [==============================] - 44s 758us/step - loss: 2.9556 - acc: 0.2874 - val_loss: 3.5660 - val_acc: 0.1987\n",
      "Epoch 9/16\n",
      "58129/58129 [==============================] - 44s 759us/step - loss: 2.8245 - acc: 0.3168 - val_loss: 3.5581 - val_acc: 0.2088\n",
      "Epoch 10/16\n",
      "58129/58129 [==============================] - 44s 760us/step - loss: 2.7004 - acc: 0.3417 - val_loss: 3.5921 - val_acc: 0.2119\n",
      "Epoch 11/16\n",
      "58129/58129 [==============================] - 44s 763us/step - loss: 2.5878 - acc: 0.3679 - val_loss: 3.6038 - val_acc: 0.2152\n",
      "Epoch 12/16\n",
      "58129/58129 [==============================] - 44s 760us/step - loss: 2.4848 - acc: 0.3867 - val_loss: 3.6584 - val_acc: 0.2154\n",
      "Epoch 13/16\n",
      "58129/58129 [==============================] - 44s 759us/step - loss: 2.3831 - acc: 0.4115 - val_loss: 3.7496 - val_acc: 0.2236\n",
      "Epoch 14/16\n",
      "58129/58129 [==============================] - 44s 759us/step - loss: 2.2842 - acc: 0.4332 - val_loss: 3.8436 - val_acc: 0.2204\n",
      "Epoch 15/16\n",
      "58129/58129 [==============================] - 44s 760us/step - loss: 2.2001 - acc: 0.4511 - val_loss: 3.8885 - val_acc: 0.2209\n",
      "Epoch 16/16\n",
      "58129/58129 [==============================] - 44s 763us/step - loss: 2.1047 - acc: 0.4734 - val_loss: 3.9038 - val_acc: 0.2218\n"
     ]
    }
   ],
   "source": [
    "history5 = model5.fit(x_train, y_train,\n",
    "            batch_size=256,\n",
    "            epochs=16,\n",
    "            validation_data=(x_test, y_test))"
   ]
  },
  {
   "cell_type": "code",
   "execution_count": 0,
   "metadata": {
    "colab": {
     "base_uri": "https://localhost:8080/",
     "height": 51
    },
    "colab_type": "code",
    "id": "lcUApzDS8WBF",
    "outputId": "ec94ed9f-3901-443d-8cd0-008963136faf"
   },
   "outputs": [
    {
     "name": "stdout",
     "output_type": "stream",
     "text": [
      "14533/14533 [==============================] - 13s 883us/step\n",
      "accuracy 0.22183995045860463\n"
     ]
    }
   ],
   "source": [
    "print('accuracy', model4.evaluate(x_test, y_test)[1])"
   ]
  },
  {
   "cell_type": "markdown",
   "metadata": {
    "colab_type": "text",
    "id": "O3WV4r1678hK"
   },
   "source": [
    "#### EXTRA. Bidirectional"
   ]
  },
  {
   "cell_type": "markdown",
   "metadata": {
    "colab_type": "text",
    "id": "oOs-4FijYl7X"
   },
   "source": [
    "- Also overfits "
   ]
  },
  {
   "cell_type": "code",
   "execution_count": 0,
   "metadata": {
    "colab": {},
    "colab_type": "code",
    "collapsed": true,
    "id": "rWVRTrfszvFd"
   },
   "outputs": [],
   "source": [
    "# Bidirectional\n",
    "model2 = Sequential()\n",
    "model2.add(Embedding(input_dim=max_features,\n",
    "                     output_dim=128))\n",
    "\n",
    "model2.add(Bidirectional(CuDNNLSTM(128)))\n",
    "model2.add(Dropout(0.5))\n",
    "model2.add(Dense(100, activation=\"softmax\"))\n",
    "\n",
    "model2.compile(optimizer=\"adam\", loss=\"sparse_categorical_crossentropy\", metrics=[\"acc\"])"
   ]
  },
  {
   "cell_type": "code",
   "execution_count": 0,
   "metadata": {
    "colab": {
     "base_uri": "https://localhost:8080/",
     "height": 598
    },
    "colab_type": "code",
    "id": "xW0Rm8Dxz_aS",
    "outputId": "6d85d5dd-5fc0-43ba-c981-09a1f9b7488c"
   },
   "outputs": [
    {
     "name": "stdout",
     "output_type": "stream",
     "text": [
      "Train on 58129 samples, validate on 14533 samples\n",
      "Epoch 1/16\n",
      "58129/58129 [==============================] - 51s 885us/step - loss: 4.3861 - acc: 0.0376 - val_loss: 4.1800 - val_acc: 0.0564\n",
      "Epoch 2/16\n",
      "58129/58129 [==============================] - 51s 870us/step - loss: 4.0185 - acc: 0.0777 - val_loss: 3.9345 - val_acc: 0.0977\n",
      "Epoch 3/16\n",
      "58129/58129 [==============================] - 51s 872us/step - loss: 3.6703 - acc: 0.1319 - val_loss: 3.7773 - val_acc: 0.1301\n",
      "Epoch 4/16\n",
      "58129/58129 [==============================] - 51s 871us/step - loss: 3.3328 - acc: 0.1960 - val_loss: 3.6396 - val_acc: 0.1686\n",
      "Epoch 5/16\n",
      "58129/58129 [==============================] - 50s 866us/step - loss: 2.9899 - acc: 0.2714 - val_loss: 3.5972 - val_acc: 0.1881\n",
      "Epoch 6/16\n",
      "58129/58129 [==============================] - 51s 870us/step - loss: 2.6527 - acc: 0.3420 - val_loss: 3.6188 - val_acc: 0.2090\n",
      "Epoch 7/16\n",
      "58129/58129 [==============================] - 50s 868us/step - loss: 2.3577 - acc: 0.4141 - val_loss: 3.6761 - val_acc: 0.2206\n",
      "Epoch 8/16\n",
      "58129/58129 [==============================] - 50s 869us/step - loss: 2.0863 - acc: 0.4773 - val_loss: 3.8406 - val_acc: 0.2309\n",
      "Epoch 9/16\n",
      "58129/58129 [==============================] - 51s 870us/step - loss: 1.8353 - acc: 0.5414 - val_loss: 3.9056 - val_acc: 0.2382\n",
      "Epoch 10/16\n",
      "58129/58129 [==============================] - 51s 874us/step - loss: 1.6148 - acc: 0.5954 - val_loss: 4.0792 - val_acc: 0.2381\n",
      "Epoch 11/16\n",
      "58129/58129 [==============================] - 51s 872us/step - loss: 1.4221 - acc: 0.6429 - val_loss: 4.2494 - val_acc: 0.2404\n",
      "Epoch 12/16\n",
      "58129/58129 [==============================] - 51s 873us/step - loss: 1.2460 - acc: 0.6852 - val_loss: 4.4639 - val_acc: 0.2410\n",
      "Epoch 13/16\n",
      "58129/58129 [==============================] - 51s 870us/step - loss: 1.1078 - acc: 0.7204 - val_loss: 4.6721 - val_acc: 0.2402\n",
      "Epoch 14/16\n",
      "58129/58129 [==============================] - 51s 870us/step - loss: 0.9936 - acc: 0.7468 - val_loss: 4.8497 - val_acc: 0.2414\n",
      "Epoch 15/16\n",
      "58129/58129 [==============================] - 51s 870us/step - loss: 0.8845 - acc: 0.7750 - val_loss: 5.0776 - val_acc: 0.2424\n",
      "Epoch 16/16\n",
      "58129/58129 [==============================] - 51s 873us/step - loss: 0.7842 - acc: 0.8012 - val_loss: 5.2758 - val_acc: 0.2401\n"
     ]
    }
   ],
   "source": [
    "history2 = model2.fit(x_train, y_train,\n",
    "            batch_size=128,\n",
    "            epochs=16,\n",
    "            validation_data=(x_test, y_test))"
   ]
  },
  {
   "cell_type": "code",
   "execution_count": 0,
   "metadata": {
    "colab": {
     "base_uri": "https://localhost:8080/",
     "height": 51
    },
    "colab_type": "code",
    "id": "nItp-PAp3YLU",
    "outputId": "54cf8259-bf09-46b9-f9d3-a8cac575c512"
   },
   "outputs": [
    {
     "name": "stdout",
     "output_type": "stream",
     "text": [
      "14533/14533 [==============================] - 11s 758us/step\n",
      "accuracy 0.2401431225486823\n"
     ]
    }
   ],
   "source": [
    "print('accuracy', model2.evaluate(x_test, y_test)[1])"
   ]
  },
  {
   "cell_type": "markdown",
   "metadata": {
    "colab_type": "text",
    "id": "kvbCwDbzQRbI"
   },
   "source": [
    "#### EXTRA. GRU"
   ]
  },
  {
   "cell_type": "code",
   "execution_count": 0,
   "metadata": {
    "colab": {},
    "colab_type": "code",
    "collapsed": true,
    "id": "F9ZJ9pKQQSgE"
   },
   "outputs": [],
   "source": [
    "# Bidirectional\n",
    "model_gru = Sequential()\n",
    "model_gru.add(Embedding(input_dim=max_features,\n",
    "                     output_dim=128))\n",
    "\n",
    "model_gru.add(Bidirectional(CuDNNLSTM(128)))\n",
    "model_gru.add(Dropout(0.5))\n",
    "model_gru.add(Dense(100, activation=\"softmax\"))\n",
    "\n",
    "model_gru.compile(optimizer=\"adam\", loss=\"sparse_categorical_crossentropy\", metrics=[\"acc\"])"
   ]
  }
 ],
 "metadata": {
  "accelerator": "GPU",
  "colab": {
   "name": "text_preprocessing_and_modeling.ipynb",
   "provenance": [],
   "toc_visible": true,
   "version": "0.3.2"
  },
  "kernelspec": {
   "display_name": "Python 3",
   "language": "python",
   "name": "python3"
  },
  "language_info": {
   "codemirror_mode": {
    "name": "ipython",
    "version": 3
   },
   "file_extension": ".py",
   "mimetype": "text/x-python",
   "name": "python",
   "nbconvert_exporter": "python",
   "pygments_lexer": "ipython3",
   "version": "3.6.1"
  }
 },
 "nbformat": 4,
 "nbformat_minor": 1
}
