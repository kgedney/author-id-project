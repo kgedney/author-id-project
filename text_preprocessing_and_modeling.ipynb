{
  "nbformat": 4,
  "nbformat_minor": 0,
  "metadata": {
    "colab": {
      "name": "text_preprocessing_and_modeling.ipynb",
      "version": "0.3.2",
      "provenance": [],
      "toc_visible": true
    },
    "kernelspec": {
      "display_name": "Python 3",
      "language": "python",
      "name": "python3"
    },
    "accelerator": "GPU"
  },
  "cells": [
    {
      "metadata": {
        "colab_type": "text",
        "id": "Lu4PRj6EOqVP"
      },
      "cell_type": "markdown",
      "source": [
        "### Preprocess Text Data and Modelling \n",
        "### ANLY 590 Project\n"
      ]
    },
    {
      "metadata": {
        "colab_type": "text",
        "id": "n8Z-jpowOqVR"
      },
      "cell_type": "markdown",
      "source": [
        "***"
      ]
    },
    {
      "metadata": {
        "colab_type": "text",
        "id": "-YouD-XvOqVS"
      },
      "cell_type": "markdown",
      "source": [
        "#### Prep"
      ]
    },
    {
      "metadata": {
        "colab_type": "code",
        "id": "Xo1IkInHOqVS",
        "outputId": "b6afba72-ecbc-47bb-9d34-8b39ca8d67c6",
        "colab": {
          "base_uri": "https://localhost:8080/",
          "height": 218
        }
      },
      "cell_type": "code",
      "source": [
        "# set working directory\n",
        "import os\n",
        "import sys\n",
        "path = '/Users/kgedney/Documents/georgetown/anly590/author-id-project'\n",
        "os.chdir(path)"
      ],
      "execution_count": 0,
      "outputs": [
        {
          "output_type": "error",
          "ename": "FileNotFoundError",
          "evalue": "ignored",
          "traceback": [
            "\u001b[0;31m---------------------------------------------------------------------------\u001b[0m",
            "\u001b[0;31mFileNotFoundError\u001b[0m                         Traceback (most recent call last)",
            "\u001b[0;32m<ipython-input-9-491fee56f3b9>\u001b[0m in \u001b[0;36m<module>\u001b[0;34m()\u001b[0m\n\u001b[1;32m      2\u001b[0m \u001b[0;32mimport\u001b[0m \u001b[0msys\u001b[0m\u001b[0;34m\u001b[0m\u001b[0;34m\u001b[0m\u001b[0m\n\u001b[1;32m      3\u001b[0m \u001b[0mpath\u001b[0m \u001b[0;34m=\u001b[0m \u001b[0;34m'/Users/kgedney/Documents/georgetown/anly590/author-id-project'\u001b[0m\u001b[0;34m\u001b[0m\u001b[0;34m\u001b[0m\u001b[0m\n\u001b[0;32m----> 4\u001b[0;31m \u001b[0mos\u001b[0m\u001b[0;34m.\u001b[0m\u001b[0mchdir\u001b[0m\u001b[0;34m(\u001b[0m\u001b[0mpath\u001b[0m\u001b[0;34m)\u001b[0m\u001b[0;34m\u001b[0m\u001b[0;34m\u001b[0m\u001b[0m\n\u001b[0m",
            "\u001b[0;31mFileNotFoundError\u001b[0m: [Errno 2] No such file or directory: '/Users/kgedney/Documents/georgetown/anly590/author-id-project'"
          ]
        }
      ]
    },
    {
      "metadata": {
        "colab_type": "code",
        "id": "dm9sAyvLOqVW",
        "colab": {}
      },
      "cell_type": "code",
      "source": [
        "import numpy as np\n",
        "import pandas as pd"
      ],
      "execution_count": 0,
      "outputs": []
    },
    {
      "metadata": {
        "colab_type": "code",
        "id": "R6czjVsqOqVY",
        "colab": {}
      },
      "cell_type": "code",
      "source": [
        "# load filtered data\n",
        "df = pd.read_csv('filtered_data.csv')"
      ],
      "execution_count": 0,
      "outputs": []
    },
    {
      "metadata": {
        "colab_type": "text",
        "id": "SSt2URxSOqVa"
      },
      "cell_type": "markdown",
      "source": [
        "#### Google Colab Prep"
      ]
    },
    {
      "metadata": {
        "id": "Rm4u23MHa1AE",
        "colab_type": "code",
        "colab": {}
      },
      "cell_type": "code",
      "source": [
        "import numpy as np\n",
        "import pandas as pd"
      ],
      "execution_count": 0,
      "outputs": []
    },
    {
      "metadata": {
        "colab_type": "code",
        "id": "W4WEkqUsOqVb",
        "outputId": "fe07817c-0d69-4b45-96cf-6d8583957e4e",
        "colab": {
          "base_uri": "https://localhost:8080/",
          "height": 122
        }
      },
      "cell_type": "code",
      "source": [
        "# get data from Google drive\n",
        "from google.colab import drive\n",
        "drive.mount('/content/gdrive')"
      ],
      "execution_count": 0,
      "outputs": [
        {
          "output_type": "stream",
          "text": [
            "Go to this URL in a browser: https://accounts.google.com/o/oauth2/auth?client_id=947318989803-6bn6qk8qdgf4n4g3pfee6491hc0brc4i.apps.googleusercontent.com&redirect_uri=urn%3Aietf%3Awg%3Aoauth%3A2.0%3Aoob&scope=email%20https%3A%2F%2Fwww.googleapis.com%2Fauth%2Fdocs.test%20https%3A%2F%2Fwww.googleapis.com%2Fauth%2Fdrive%20https%3A%2F%2Fwww.googleapis.com%2Fauth%2Fdrive.photos.readonly%20https%3A%2F%2Fwww.googleapis.com%2Fauth%2Fpeopleapi.readonly&response_type=code\n",
            "\n",
            "Enter your authorization code:\n",
            "··········\n",
            "Mounted at /content/gdrive\n"
          ],
          "name": "stdout"
        }
      ]
    },
    {
      "metadata": {
        "colab_type": "code",
        "id": "QJ11dU2QOqVe",
        "outputId": "23f27616-370d-460b-ebfc-0d426da9c12e",
        "colab": {
          "base_uri": "https://localhost:8080/",
          "height": 510
        }
      },
      "cell_type": "code",
      "source": [
        "# manually add file from local to drive\n",
        "df = pd.read_csv('filtered_data.csv')\n",
        "df.head()"
      ],
      "execution_count": 0,
      "outputs": [
        {
          "output_type": "execute_result",
          "data": {
            "text/html": [
              "<div>\n",
              "<style scoped>\n",
              "    .dataframe tbody tr th:only-of-type {\n",
              "        vertical-align: middle;\n",
              "    }\n",
              "\n",
              "    .dataframe tbody tr th {\n",
              "        vertical-align: top;\n",
              "    }\n",
              "\n",
              "    .dataframe thead th {\n",
              "        text-align: right;\n",
              "    }\n",
              "</style>\n",
              "<table border=\"1\" class=\"dataframe\">\n",
              "  <thead>\n",
              "    <tr style=\"text-align: right;\">\n",
              "      <th></th>\n",
              "      <th>author</th>\n",
              "      <th>body</th>\n",
              "      <th>subreddit</th>\n",
              "      <th>permalink</th>\n",
              "      <th>num_chars</th>\n",
              "      <th>num_words</th>\n",
              "    </tr>\n",
              "  </thead>\n",
              "  <tbody>\n",
              "    <tr>\n",
              "      <th>0</th>\n",
              "      <td>GuaranteedAdmission</td>\n",
              "      <td>News aggregators don't filter Opinion pieces i...</td>\n",
              "      <td>AskAnAmerican</td>\n",
              "      <td>/r/AskAnAmerican/comments/9zrnid/america_whats...</td>\n",
              "      <td>69</td>\n",
              "      <td>11</td>\n",
              "    </tr>\n",
              "    <tr>\n",
              "      <th>1</th>\n",
              "      <td>GuaranteedAdmission</td>\n",
              "      <td>You can be in favor of a policy he supports an...</td>\n",
              "      <td>AskReddit</td>\n",
              "      <td>/r/AskReddit/comments/9zklcs/as_a_brit_who_onl...</td>\n",
              "      <td>74</td>\n",
              "      <td>17</td>\n",
              "    </tr>\n",
              "    <tr>\n",
              "      <th>2</th>\n",
              "      <td>GuaranteedAdmission</td>\n",
              "      <td>That depends. What is the penalty for breaking...</td>\n",
              "      <td>AskReddit</td>\n",
              "      <td>/r/AskReddit/comments/9zkfcd/how_would_you_fee...</td>\n",
              "      <td>202</td>\n",
              "      <td>36</td>\n",
              "    </tr>\n",
              "    <tr>\n",
              "      <th>3</th>\n",
              "      <td>GuaranteedAdmission</td>\n",
              "      <td>Because I like to think long term. Tax cuts fo...</td>\n",
              "      <td>AskReddit</td>\n",
              "      <td>/r/AskReddit/comments/9yxl98/liberals_of_reddi...</td>\n",
              "      <td>120</td>\n",
              "      <td>22</td>\n",
              "    </tr>\n",
              "    <tr>\n",
              "      <th>4</th>\n",
              "      <td>GuaranteedAdmission</td>\n",
              "      <td>We don't talk about the Highway Shoes, OP! Are...</td>\n",
              "      <td>AskReddit</td>\n",
              "      <td>/r/AskReddit/comments/9yrbvd/people_who_lost_a...</td>\n",
              "      <td>110</td>\n",
              "      <td>22</td>\n",
              "    </tr>\n",
              "  </tbody>\n",
              "</table>\n",
              "</div>"
            ],
            "text/plain": [
              "                author                                               body  \\\n",
              "0  GuaranteedAdmission  News aggregators don't filter Opinion pieces i...   \n",
              "1  GuaranteedAdmission  You can be in favor of a policy he supports an...   \n",
              "2  GuaranteedAdmission  That depends. What is the penalty for breaking...   \n",
              "3  GuaranteedAdmission  Because I like to think long term. Tax cuts fo...   \n",
              "4  GuaranteedAdmission  We don't talk about the Highway Shoes, OP! Are...   \n",
              "\n",
              "       subreddit                                          permalink  \\\n",
              "0  AskAnAmerican  /r/AskAnAmerican/comments/9zrnid/america_whats...   \n",
              "1      AskReddit  /r/AskReddit/comments/9zklcs/as_a_brit_who_onl...   \n",
              "2      AskReddit  /r/AskReddit/comments/9zkfcd/how_would_you_fee...   \n",
              "3      AskReddit  /r/AskReddit/comments/9yxl98/liberals_of_reddi...   \n",
              "4      AskReddit  /r/AskReddit/comments/9yrbvd/people_who_lost_a...   \n",
              "\n",
              "   num_chars  num_words  \n",
              "0         69         11  \n",
              "1         74         17  \n",
              "2        202         36  \n",
              "3        120         22  \n",
              "4        110         22  "
            ]
          },
          "metadata": {
            "tags": []
          },
          "execution_count": 4
        }
      ]
    },
    {
      "metadata": {
        "id": "O_Nh1qcIYl6S",
        "colab_type": "code",
        "outputId": "f8ed8de9-0616-488d-e82b-ef5d8bb72c1d",
        "colab": {
          "base_uri": "https://localhost:8080/",
          "height": 850
        }
      },
      "cell_type": "code",
      "source": [
        "# download nltk\n",
        "import nltk\n",
        "nltk.download('popular')"
      ],
      "execution_count": 0,
      "outputs": [
        {
          "output_type": "stream",
          "text": [
            "[nltk_data] Downloading collection 'popular'\n",
            "[nltk_data]    | \n",
            "[nltk_data]    | Downloading package cmudict to /root/nltk_data...\n",
            "[nltk_data]    |   Package cmudict is already up-to-date!\n",
            "[nltk_data]    | Downloading package gazetteers to /root/nltk_data...\n",
            "[nltk_data]    |   Package gazetteers is already up-to-date!\n",
            "[nltk_data]    | Downloading package genesis to /root/nltk_data...\n",
            "[nltk_data]    |   Package genesis is already up-to-date!\n",
            "[nltk_data]    | Downloading package gutenberg to /root/nltk_data...\n",
            "[nltk_data]    |   Package gutenberg is already up-to-date!\n",
            "[nltk_data]    | Downloading package inaugural to /root/nltk_data...\n",
            "[nltk_data]    |   Package inaugural is already up-to-date!\n",
            "[nltk_data]    | Downloading package movie_reviews to\n",
            "[nltk_data]    |     /root/nltk_data...\n",
            "[nltk_data]    |   Package movie_reviews is already up-to-date!\n",
            "[nltk_data]    | Downloading package names to /root/nltk_data...\n",
            "[nltk_data]    |   Package names is already up-to-date!\n",
            "[nltk_data]    | Downloading package shakespeare to /root/nltk_data...\n",
            "[nltk_data]    |   Package shakespeare is already up-to-date!\n",
            "[nltk_data]    | Downloading package stopwords to /root/nltk_data...\n",
            "[nltk_data]    |   Package stopwords is already up-to-date!\n",
            "[nltk_data]    | Downloading package treebank to /root/nltk_data...\n",
            "[nltk_data]    |   Package treebank is already up-to-date!\n",
            "[nltk_data]    | Downloading package twitter_samples to\n",
            "[nltk_data]    |     /root/nltk_data...\n",
            "[nltk_data]    |   Package twitter_samples is already up-to-date!\n",
            "[nltk_data]    | Downloading package omw to /root/nltk_data...\n",
            "[nltk_data]    |   Package omw is already up-to-date!\n",
            "[nltk_data]    | Downloading package wordnet to /root/nltk_data...\n",
            "[nltk_data]    |   Package wordnet is already up-to-date!\n",
            "[nltk_data]    | Downloading package wordnet_ic to /root/nltk_data...\n",
            "[nltk_data]    |   Package wordnet_ic is already up-to-date!\n",
            "[nltk_data]    | Downloading package words to /root/nltk_data...\n",
            "[nltk_data]    |   Package words is already up-to-date!\n",
            "[nltk_data]    | Downloading package maxent_ne_chunker to\n",
            "[nltk_data]    |     /root/nltk_data...\n",
            "[nltk_data]    |   Package maxent_ne_chunker is already up-to-date!\n",
            "[nltk_data]    | Downloading package punkt to /root/nltk_data...\n",
            "[nltk_data]    |   Package punkt is already up-to-date!\n",
            "[nltk_data]    | Downloading package snowball_data to\n",
            "[nltk_data]    |     /root/nltk_data...\n",
            "[nltk_data]    |   Package snowball_data is already up-to-date!\n",
            "[nltk_data]    | Downloading package averaged_perceptron_tagger to\n",
            "[nltk_data]    |     /root/nltk_data...\n",
            "[nltk_data]    |   Package averaged_perceptron_tagger is already up-\n",
            "[nltk_data]    |       to-date!\n",
            "[nltk_data]    | \n",
            "[nltk_data]  Done downloading collection popular\n"
          ],
          "name": "stdout"
        },
        {
          "output_type": "execute_result",
          "data": {
            "text/plain": [
              "True"
            ]
          },
          "metadata": {
            "tags": []
          },
          "execution_count": 5
        }
      ]
    },
    {
      "metadata": {
        "colab_type": "text",
        "id": "bJeXBWrvOqVg"
      },
      "cell_type": "markdown",
      "source": [
        "#### Text Cleaning\n",
        "\n",
        "ref: https://www.analyticsvidhya.com/blog/2018/02/the-different-methods-deal-text-data-predictive-python/"
      ]
    },
    {
      "metadata": {
        "colab_type": "code",
        "id": "EHcxp11nOqVg",
        "colab": {}
      },
      "cell_type": "code",
      "source": [
        "# remove URLs and replace as '<url>'\n",
        "import re\n",
        "df['body_no_urls'] = df.apply(lambda row: re.sub(r\"http\\S+\", \"<url>\", row['body']), axis=1) "
      ],
      "execution_count": 0,
      "outputs": []
    },
    {
      "metadata": {
        "colab_type": "code",
        "id": "9-JkOW2-OqVl",
        "colab": {}
      },
      "cell_type": "code",
      "source": [
        "# tokenize\n",
        "from nltk.tokenize import word_tokenize\n",
        "df['tokenized_nltk']  = df.apply(lambda row: word_tokenize(row['body_no_urls']), axis=1)"
      ],
      "execution_count": 0,
      "outputs": []
    },
    {
      "metadata": {
        "colab_type": "code",
        "id": "SB80UklaOqVq",
        "colab": {}
      },
      "cell_type": "code",
      "source": [
        "# remove NERs"
      ],
      "execution_count": 0,
      "outputs": []
    },
    {
      "metadata": {
        "colab_type": "code",
        "id": "I3DFwHCGOqVs",
        "colab": {}
      },
      "cell_type": "code",
      "source": [
        "# import spacy\n",
        "# nlp = spacy.load('en')"
      ],
      "execution_count": 0,
      "outputs": []
    },
    {
      "metadata": {
        "colab_type": "code",
        "id": "8CEK1miBOqVu",
        "colab": {}
      },
      "cell_type": "code",
      "source": [
        "# def get_ners(input_doc):\n",
        "#     doc = nlp(input_doc)\n",
        "#     ners = str(doc.ents)\n",
        "#     return (ners)"
      ],
      "execution_count": 0,
      "outputs": []
    },
    {
      "metadata": {
        "colab_type": "text",
        "id": "jouchqjcOqVw"
      },
      "cell_type": "markdown",
      "source": [
        "***"
      ]
    },
    {
      "metadata": {
        "colab_type": "text",
        "id": "muQGleHGOqVx"
      },
      "cell_type": "markdown",
      "source": [
        "#### Modelling"
      ]
    },
    {
      "metadata": {
        "colab_type": "code",
        "id": "ZxVtQyhwOqVy",
        "outputId": "5cd39162-8e4a-4c5a-a14f-7226038fbf79",
        "colab": {
          "base_uri": "https://localhost:8080/",
          "height": 34
        }
      },
      "cell_type": "code",
      "source": [
        "# install packages\n",
        "import numpy as np\n",
        "\n",
        "from sklearn import metrics\n",
        "from sklearn.model_selection import train_test_split\n",
        "from sklearn.feature_extraction.text import CountVectorizer, TfidfVectorizer\n",
        "\n",
        "import keras\n",
        "import tensorflow as tf\n",
        "\n",
        "from keras.utils import np_utils\n",
        "from keras.preprocessing import sequence\n",
        "from keras.preprocessing.text import Tokenizer\n",
        "\n",
        "from keras.models import Model, Sequential\n",
        "from keras.layers import Input, Dense, CuDNNLSTM, LSTM, Embedding, Bidirectional, GlobalAveragePooling1D\n",
        "\n",
        "from keras.layers.core import Dense, Dropout"
      ],
      "execution_count": 0,
      "outputs": [
        {
          "output_type": "stream",
          "text": [
            "Using TensorFlow backend.\n"
          ],
          "name": "stderr"
        }
      ]
    },
    {
      "metadata": {
        "colab_type": "code",
        "id": "2ToC3POKOqVz",
        "colab": {}
      },
      "cell_type": "code",
      "source": [
        "# create class assignments\n",
        "df['author_id'] = pd.Categorical(df.author).codes"
      ],
      "execution_count": 0,
      "outputs": []
    },
    {
      "metadata": {
        "colab_type": "text",
        "id": "pQZCE5H7OqV1"
      },
      "cell_type": "markdown",
      "source": [
        "#### Baseline Model: Linear SVM"
      ]
    },
    {
      "metadata": {
        "colab_type": "code",
        "id": "U8LagNfdOqV2",
        "outputId": "c1fb9a6d-a180-45c6-86a0-d9dfb102152a",
        "colab": {}
      },
      "cell_type": "code",
      "source": [
        "x = df['body_no_urls'].values\n",
        "y = df['author_id'].values\n",
        "\n",
        "x_train, x_test, y_train, y_test = train_test_split(x, y, test_size=0.20, random_state=22)\n",
        "\n",
        "tfidf_vec   = TfidfVectorizer()\n",
        "x_train_vec = tfidf_vec.fit_transform(x_train)\n",
        "x_test_vec  = tfidf_vec.transform(x_test)\n",
        "x_train_vec.shape"
      ],
      "execution_count": 0,
      "outputs": [
        {
          "output_type": "stream",
          "text": [
            "/Users/kgedney/anaconda/lib/python3.6/site-packages/sklearn/feature_extraction/text.py:1059: FutureWarning: Conversion of the second argument of issubdtype from `float` to `np.floating` is deprecated. In future, it will be treated as `np.float64 == np.dtype(float).type`.\n",
            "  if hasattr(X, 'dtype') and np.issubdtype(X.dtype, np.float):\n"
          ],
          "name": "stderr"
        },
        {
          "output_type": "execute_result",
          "data": {
            "text/plain": [
              "(58129, 53161)"
            ]
          },
          "metadata": {
            "tags": []
          },
          "execution_count": 177
        }
      ]
    },
    {
      "metadata": {
        "colab_type": "code",
        "id": "FLAMT9ioOqV6",
        "colab": {}
      },
      "cell_type": "code",
      "source": [
        "from sklearn.svm import LinearSVC\n",
        "clf             = LinearSVC().fit(x_train_vec, y_train)\n",
        "predicted       = clf.predict(x_test_vec)\n",
        "predicted_score = clf.decision_function(x_test_vec)"
      ],
      "execution_count": 0,
      "outputs": []
    },
    {
      "metadata": {
        "colab_type": "code",
        "id": "0x4wr9ziOqV9",
        "outputId": "a35c9563-5f5e-4425-91ee-6d7b7de2a7be",
        "colab": {}
      },
      "cell_type": "code",
      "source": [
        "print('accuracy', metrics.accuracy_score(y_test, predicted))"
      ],
      "execution_count": 0,
      "outputs": [
        {
          "output_type": "stream",
          "text": [
            "accuracy 0.37789857565540497\n"
          ],
          "name": "stdout"
        }
      ]
    },
    {
      "metadata": {
        "colab_type": "text",
        "id": "TMyJAaDMOqWA"
      },
      "cell_type": "markdown",
      "source": [
        "#### Preprocess Data for Keras Models"
      ]
    },
    {
      "metadata": {
        "colab_type": "code",
        "id": "qZT9aqDkOqWA",
        "outputId": "987da2cb-3997-4dac-d84b-ead25a5c4200",
        "colab": {
          "base_uri": "https://localhost:8080/",
          "height": 34
        }
      },
      "cell_type": "code",
      "source": [
        "# data preprocess\n",
        "x = df['tokenized_nltk'].values\n",
        "y = df['author_id'].values\n",
        "\n",
        "# create sequences\n",
        "max_features = 25000\n",
        "tokenizer    = Tokenizer(num_words = max_features)\n",
        "tokenizer.fit_on_texts(x)\n",
        "x_sequences  = tokenizer.texts_to_sequences(x)\n",
        "\n",
        "# pad each sequence to be max length\n",
        "maxlen = max(len(x) for x in x_sequences)\n",
        "print(maxlen)\n",
        "x_sequences = sequence.pad_sequences(x_sequences, maxlen)"
      ],
      "execution_count": 0,
      "outputs": [
        {
          "output_type": "stream",
          "text": [
            "236\n"
          ],
          "name": "stdout"
        }
      ]
    },
    {
      "metadata": {
        "id": "QpCgS_kgmAin",
        "colab_type": "code",
        "outputId": "673af8c3-8594-4811-8af7-823e94a18256",
        "colab": {
          "base_uri": "https://localhost:8080/",
          "height": 51
        }
      },
      "cell_type": "code",
      "source": [
        "# from keras.utils import to_categorical\n",
        "# print(y.shape)\n",
        "# y = to_categorical(y)\n",
        "# print(y.shape)"
      ],
      "execution_count": 0,
      "outputs": [
        {
          "output_type": "stream",
          "text": [
            "(72662,)\n",
            "(72662, 100)\n"
          ],
          "name": "stdout"
        }
      ]
    },
    {
      "metadata": {
        "colab_type": "code",
        "id": "0DGqh3gtOqWC",
        "colab": {}
      },
      "cell_type": "code",
      "source": [
        "# split test and train\n",
        "x_train, x_test, y_train, y_test = train_test_split(x_sequences, y, test_size=0.20, random_state=22)"
      ],
      "execution_count": 0,
      "outputs": []
    },
    {
      "metadata": {
        "colab_type": "text",
        "id": "ywbmZM4eOqWE"
      },
      "cell_type": "markdown",
      "source": [
        "#### 0. Recurrent Nueral Network: LSTM"
      ]
    },
    {
      "metadata": {
        "colab_type": "code",
        "collapsed": true,
        "id": "g1BDq-oAOqWF",
        "colab": {}
      },
      "cell_type": "code",
      "source": [
        "model = Sequential()\n",
        "\n",
        "# add embedding layer\n",
        "model.add(Embedding(input_dim=max_features,\n",
        "                    output_dim=128,\n",
        "                    mask_zero=True))\n",
        "# add rnn layer\n",
        "model.add(LSTM(128))\n",
        "# model.add(Dropout(0.2))\n",
        "\n",
        "# output layer, 100-categorical classification\n",
        "model.add(Dense(100, activation=\"softmax\"))"
      ],
      "execution_count": 0,
      "outputs": []
    },
    {
      "metadata": {
        "colab_type": "code",
        "collapsed": true,
        "id": "ENLFvczYOqWI",
        "colab": {}
      },
      "cell_type": "code",
      "source": [
        "model.compile(optimizer=\"rmsprop\", loss=\"sparse_categorical_crossentropy\", metrics=[\"acc\"])"
      ],
      "execution_count": 0,
      "outputs": []
    },
    {
      "metadata": {
        "colab_type": "code",
        "id": "FE0of04nOqWL",
        "outputId": "41884075-1f6c-4094-9ded-5dc6ed505a59",
        "colab": {}
      },
      "cell_type": "code",
      "source": [
        "model.fit(x_train, y_train,\n",
        "            batch_size=128,\n",
        "            epochs=1,\n",
        "            validation_data=(x_test, y_test))"
      ],
      "execution_count": 0,
      "outputs": [
        {
          "output_type": "stream",
          "text": [
            "Train on 58129 samples, validate on 14533 samples\n",
            "Epoch 1/1\n",
            " 4608/58129 [=>............................] - ETA: 3:20 - loss: 4.6005 - acc: 0.0117"
          ],
          "name": "stdout"
        },
        {
          "output_type": "stream",
          "text": [
            "Exception ignored in: <bound method BaseSession._Callable.__del__ of <tensorflow.python.client.session.BaseSession._Callable object at 0x12af0d9b0>>\n",
            "Traceback (most recent call last):\n",
            "  File \"/Users/kgedney/anaconda/lib/python3.6/site-packages/tensorflow/python/client/session.py\", line 1408, in __del__\n",
            "    def __del__(self):\n",
            "KeyboardInterrupt\n"
          ],
          "name": "stderr"
        },
        {
          "output_type": "stream",
          "text": [
            " 5632/58129 [=>............................] - ETA: 3:18 - loss: 4.5987 - acc: 0.0133"
          ],
          "name": "stdout"
        },
        {
          "output_type": "error",
          "ename": "KeyboardInterrupt",
          "evalue": "",
          "traceback": [
            "\u001b[0;31m---------------------------------------------------------------------------\u001b[0m",
            "\u001b[0;31mKeyboardInterrupt\u001b[0m                         Traceback (most recent call last)",
            "\u001b[0;32m<ipython-input-119-0dfc582a67ac>\u001b[0m in \u001b[0;36m<module>\u001b[0;34m()\u001b[0m\n\u001b[1;32m      2\u001b[0m             \u001b[0mbatch_size\u001b[0m\u001b[0;34m=\u001b[0m\u001b[0;36m128\u001b[0m\u001b[0;34m,\u001b[0m\u001b[0;34m\u001b[0m\u001b[0m\n\u001b[1;32m      3\u001b[0m             \u001b[0mepochs\u001b[0m\u001b[0;34m=\u001b[0m\u001b[0;36m1\u001b[0m\u001b[0;34m,\u001b[0m\u001b[0;34m\u001b[0m\u001b[0m\n\u001b[0;32m----> 4\u001b[0;31m             validation_data=(x_test, y_test))\n\u001b[0m",
            "\u001b[0;32m/Users/kgedney/anaconda/lib/python3.6/site-packages/keras/engine/training.py\u001b[0m in \u001b[0;36mfit\u001b[0;34m(self, x, y, batch_size, epochs, verbose, callbacks, validation_split, validation_data, shuffle, class_weight, sample_weight, initial_epoch, steps_per_epoch, validation_steps, **kwargs)\u001b[0m\n\u001b[1;32m   1037\u001b[0m                                         \u001b[0minitial_epoch\u001b[0m\u001b[0;34m=\u001b[0m\u001b[0minitial_epoch\u001b[0m\u001b[0;34m,\u001b[0m\u001b[0;34m\u001b[0m\u001b[0m\n\u001b[1;32m   1038\u001b[0m                                         \u001b[0msteps_per_epoch\u001b[0m\u001b[0;34m=\u001b[0m\u001b[0msteps_per_epoch\u001b[0m\u001b[0;34m,\u001b[0m\u001b[0;34m\u001b[0m\u001b[0m\n\u001b[0;32m-> 1039\u001b[0;31m                                         validation_steps=validation_steps)\n\u001b[0m\u001b[1;32m   1040\u001b[0m \u001b[0;34m\u001b[0m\u001b[0m\n\u001b[1;32m   1041\u001b[0m     def evaluate(self, x=None, y=None,\n",
            "\u001b[0;32m/Users/kgedney/anaconda/lib/python3.6/site-packages/keras/engine/training_arrays.py\u001b[0m in \u001b[0;36mfit_loop\u001b[0;34m(model, f, ins, out_labels, batch_size, epochs, verbose, callbacks, val_f, val_ins, shuffle, callback_metrics, initial_epoch, steps_per_epoch, validation_steps)\u001b[0m\n\u001b[1;32m    197\u001b[0m                     \u001b[0mins_batch\u001b[0m\u001b[0;34m[\u001b[0m\u001b[0mi\u001b[0m\u001b[0;34m]\u001b[0m \u001b[0;34m=\u001b[0m \u001b[0mins_batch\u001b[0m\u001b[0;34m[\u001b[0m\u001b[0mi\u001b[0m\u001b[0;34m]\u001b[0m\u001b[0;34m.\u001b[0m\u001b[0mtoarray\u001b[0m\u001b[0;34m(\u001b[0m\u001b[0;34m)\u001b[0m\u001b[0;34m\u001b[0m\u001b[0m\n\u001b[1;32m    198\u001b[0m \u001b[0;34m\u001b[0m\u001b[0m\n\u001b[0;32m--> 199\u001b[0;31m                 \u001b[0mouts\u001b[0m \u001b[0;34m=\u001b[0m \u001b[0mf\u001b[0m\u001b[0;34m(\u001b[0m\u001b[0mins_batch\u001b[0m\u001b[0;34m)\u001b[0m\u001b[0;34m\u001b[0m\u001b[0m\n\u001b[0m\u001b[1;32m    200\u001b[0m                 \u001b[0mouts\u001b[0m \u001b[0;34m=\u001b[0m \u001b[0mto_list\u001b[0m\u001b[0;34m(\u001b[0m\u001b[0mouts\u001b[0m\u001b[0;34m)\u001b[0m\u001b[0;34m\u001b[0m\u001b[0m\n\u001b[1;32m    201\u001b[0m                 \u001b[0;32mfor\u001b[0m \u001b[0ml\u001b[0m\u001b[0;34m,\u001b[0m \u001b[0mo\u001b[0m \u001b[0;32min\u001b[0m \u001b[0mzip\u001b[0m\u001b[0;34m(\u001b[0m\u001b[0mout_labels\u001b[0m\u001b[0;34m,\u001b[0m \u001b[0mouts\u001b[0m\u001b[0;34m)\u001b[0m\u001b[0;34m:\u001b[0m\u001b[0;34m\u001b[0m\u001b[0m\n",
            "\u001b[0;32m/Users/kgedney/anaconda/lib/python3.6/site-packages/keras/backend/tensorflow_backend.py\u001b[0m in \u001b[0;36m__call__\u001b[0;34m(self, inputs)\u001b[0m\n\u001b[1;32m   2713\u001b[0m                 \u001b[0;32mreturn\u001b[0m \u001b[0mself\u001b[0m\u001b[0;34m.\u001b[0m\u001b[0m_legacy_call\u001b[0m\u001b[0;34m(\u001b[0m\u001b[0minputs\u001b[0m\u001b[0;34m)\u001b[0m\u001b[0;34m\u001b[0m\u001b[0m\n\u001b[1;32m   2714\u001b[0m \u001b[0;34m\u001b[0m\u001b[0m\n\u001b[0;32m-> 2715\u001b[0;31m             \u001b[0;32mreturn\u001b[0m \u001b[0mself\u001b[0m\u001b[0;34m.\u001b[0m\u001b[0m_call\u001b[0m\u001b[0;34m(\u001b[0m\u001b[0minputs\u001b[0m\u001b[0;34m)\u001b[0m\u001b[0;34m\u001b[0m\u001b[0m\n\u001b[0m\u001b[1;32m   2716\u001b[0m         \u001b[0;32melse\u001b[0m\u001b[0;34m:\u001b[0m\u001b[0;34m\u001b[0m\u001b[0m\n\u001b[1;32m   2717\u001b[0m             \u001b[0;32mif\u001b[0m \u001b[0mpy_any\u001b[0m\u001b[0;34m(\u001b[0m\u001b[0mis_tensor\u001b[0m\u001b[0;34m(\u001b[0m\u001b[0mx\u001b[0m\u001b[0;34m)\u001b[0m \u001b[0;32mfor\u001b[0m \u001b[0mx\u001b[0m \u001b[0;32min\u001b[0m \u001b[0minputs\u001b[0m\u001b[0;34m)\u001b[0m\u001b[0;34m:\u001b[0m\u001b[0;34m\u001b[0m\u001b[0m\n",
            "\u001b[0;32m/Users/kgedney/anaconda/lib/python3.6/site-packages/keras/backend/tensorflow_backend.py\u001b[0m in \u001b[0;36m_call\u001b[0;34m(self, inputs)\u001b[0m\n\u001b[1;32m   2673\u001b[0m             \u001b[0mfetched\u001b[0m \u001b[0;34m=\u001b[0m \u001b[0mself\u001b[0m\u001b[0;34m.\u001b[0m\u001b[0m_callable_fn\u001b[0m\u001b[0;34m(\u001b[0m\u001b[0;34m*\u001b[0m\u001b[0marray_vals\u001b[0m\u001b[0;34m,\u001b[0m \u001b[0mrun_metadata\u001b[0m\u001b[0;34m=\u001b[0m\u001b[0mself\u001b[0m\u001b[0;34m.\u001b[0m\u001b[0mrun_metadata\u001b[0m\u001b[0;34m)\u001b[0m\u001b[0;34m\u001b[0m\u001b[0m\n\u001b[1;32m   2674\u001b[0m         \u001b[0;32melse\u001b[0m\u001b[0;34m:\u001b[0m\u001b[0;34m\u001b[0m\u001b[0m\n\u001b[0;32m-> 2675\u001b[0;31m             \u001b[0mfetched\u001b[0m \u001b[0;34m=\u001b[0m \u001b[0mself\u001b[0m\u001b[0;34m.\u001b[0m\u001b[0m_callable_fn\u001b[0m\u001b[0;34m(\u001b[0m\u001b[0;34m*\u001b[0m\u001b[0marray_vals\u001b[0m\u001b[0;34m)\u001b[0m\u001b[0;34m\u001b[0m\u001b[0m\n\u001b[0m\u001b[1;32m   2676\u001b[0m         \u001b[0;32mreturn\u001b[0m \u001b[0mfetched\u001b[0m\u001b[0;34m[\u001b[0m\u001b[0;34m:\u001b[0m\u001b[0mlen\u001b[0m\u001b[0;34m(\u001b[0m\u001b[0mself\u001b[0m\u001b[0;34m.\u001b[0m\u001b[0moutputs\u001b[0m\u001b[0;34m)\u001b[0m\u001b[0;34m]\u001b[0m\u001b[0;34m\u001b[0m\u001b[0m\n\u001b[1;32m   2677\u001b[0m \u001b[0;34m\u001b[0m\u001b[0m\n",
            "\u001b[0;32m/Users/kgedney/anaconda/lib/python3.6/site-packages/tensorflow/python/client/session.py\u001b[0m in \u001b[0;36m__call__\u001b[0;34m(self, *args, **kwargs)\u001b[0m\n\u001b[1;32m   1397\u001b[0m           ret = tf_session.TF_SessionRunCallable(\n\u001b[1;32m   1398\u001b[0m               \u001b[0mself\u001b[0m\u001b[0;34m.\u001b[0m\u001b[0m_session\u001b[0m\u001b[0;34m.\u001b[0m\u001b[0m_session\u001b[0m\u001b[0;34m,\u001b[0m \u001b[0mself\u001b[0m\u001b[0;34m.\u001b[0m\u001b[0m_handle\u001b[0m\u001b[0;34m,\u001b[0m \u001b[0margs\u001b[0m\u001b[0;34m,\u001b[0m \u001b[0mstatus\u001b[0m\u001b[0;34m,\u001b[0m\u001b[0;34m\u001b[0m\u001b[0m\n\u001b[0;32m-> 1399\u001b[0;31m               run_metadata_ptr)\n\u001b[0m\u001b[1;32m   1400\u001b[0m         \u001b[0;32mif\u001b[0m \u001b[0mrun_metadata\u001b[0m\u001b[0;34m:\u001b[0m\u001b[0;34m\u001b[0m\u001b[0m\n\u001b[1;32m   1401\u001b[0m           \u001b[0mproto_data\u001b[0m \u001b[0;34m=\u001b[0m \u001b[0mtf_session\u001b[0m\u001b[0;34m.\u001b[0m\u001b[0mTF_GetBuffer\u001b[0m\u001b[0;34m(\u001b[0m\u001b[0mrun_metadata_ptr\u001b[0m\u001b[0;34m)\u001b[0m\u001b[0;34m\u001b[0m\u001b[0m\n",
            "\u001b[0;31mKeyboardInterrupt\u001b[0m: "
          ]
        }
      ]
    },
    {
      "metadata": {
        "colab_type": "code",
        "collapsed": true,
        "id": "XmjpsBgUOqWN",
        "colab": {}
      },
      "cell_type": "code",
      "source": [
        "print('accuracy', model.evaluate(x_test, y_test)[1])"
      ],
      "execution_count": 0,
      "outputs": []
    },
    {
      "metadata": {
        "colab_type": "code",
        "id": "uTwpXXW0OqWO",
        "outputId": "255c088f-141b-47c7-e41b-78265389dcf8",
        "colab": {}
      },
      "cell_type": "code",
      "source": [
        "(y_train == 57).mean() # guess majority class baseline"
      ],
      "execution_count": 0,
      "outputs": [
        {
          "output_type": "execute_result",
          "data": {
            "text/plain": [
              "0.012558275559531387"
            ]
          },
          "metadata": {
            "tags": []
          },
          "execution_count": 116
        }
      ]
    },
    {
      "metadata": {
        "colab_type": "code",
        "collapsed": true,
        "id": "luYk04aPOqWR",
        "colab": {}
      },
      "cell_type": "code",
      "source": [
        "# keras.metrics.top_k_categorical_accuracy(y_test, predicted, k=5)"
      ],
      "execution_count": 0,
      "outputs": []
    },
    {
      "metadata": {
        "colab_type": "text",
        "id": "ACtPY2hyOqWS"
      },
      "cell_type": "markdown",
      "source": [
        "#### 1. Faster RNN Model: CuDNNLSTM "
      ]
    },
    {
      "metadata": {
        "id": "7Uxo-JLmYl7I",
        "colab_type": "text"
      },
      "cell_type": "markdown",
      "source": [
        "- Run on Google Colab, 14 mins.    \n",
        "- Very overfit"
      ]
    },
    {
      "metadata": {
        "colab_type": "code",
        "id": "wjN0EYtzOqWT",
        "colab": {}
      },
      "cell_type": "code",
      "source": [
        "# ref: https://keras.io/layers/recurrent/#cudnnlstm\n",
        "# faster LSTM implementation\n",
        "\n",
        "model1 = Sequential()\n",
        "model1.add(Embedding(input_dim=max_features,\n",
        "                     output_dim=128))\n",
        "model1.add(CuDNNLSTM(128))\n",
        "model1.add(Dropout(0.5))\n",
        "model1.add(Dense(100, activation=\"softmax\"))\n",
        "\n",
        "model1.compile(optimizer=\"adam\", loss=\"sparse_categorical_crossentropy\", metrics=[\"acc\"])"
      ],
      "execution_count": 0,
      "outputs": []
    },
    {
      "metadata": {
        "colab_type": "code",
        "id": "qS9g-XvpOqWY",
        "outputId": "7d401af7-48f3-40fd-c464-b802c4c98e28",
        "colab": {
          "base_uri": "https://localhost:8080/",
          "height": 598
        }
      },
      "cell_type": "code",
      "source": [
        "history1 = model1.fit(x_train, y_train,\n",
        "            batch_size=128,\n",
        "            epochs=16,\n",
        "            validation_data=(x_test, y_test))"
      ],
      "execution_count": 0,
      "outputs": [
        {
          "output_type": "stream",
          "text": [
            "Train on 58129 samples, validate on 14533 samples\n",
            "Epoch 1/16\n",
            "58129/58129 [==============================] - 28s 478us/step - loss: 4.1751 - acc: 0.0600 - val_loss: 4.0011 - val_acc: 0.0813\n",
            "Epoch 2/16\n",
            "58129/58129 [==============================] - 28s 474us/step - loss: 3.8129 - acc: 0.1118 - val_loss: 3.7776 - val_acc: 0.1312\n",
            "Epoch 3/16\n",
            "58129/58129 [==============================] - 28s 474us/step - loss: 3.4309 - acc: 0.1815 - val_loss: 3.6797 - val_acc: 0.1569\n",
            "Epoch 4/16\n",
            "58129/58129 [==============================] - 28s 476us/step - loss: 3.0639 - acc: 0.2570 - val_loss: 3.5808 - val_acc: 0.1903\n",
            "Epoch 5/16\n",
            "58129/58129 [==============================] - 28s 478us/step - loss: 2.6972 - acc: 0.3375 - val_loss: 3.5613 - val_acc: 0.2191\n",
            "Epoch 6/16\n",
            "58129/58129 [==============================] - 28s 481us/step - loss: 2.3518 - acc: 0.4208 - val_loss: 3.5730 - val_acc: 0.2314\n",
            "Epoch 7/16\n",
            "58129/58129 [==============================] - 28s 479us/step - loss: 2.0401 - acc: 0.4960 - val_loss: 3.6592 - val_acc: 0.2470\n",
            "Epoch 8/16\n",
            "58129/58129 [==============================] - 28s 475us/step - loss: 1.7720 - acc: 0.5602 - val_loss: 3.7939 - val_acc: 0.2470\n",
            "Epoch 9/16\n",
            "58129/58129 [==============================] - 28s 478us/step - loss: 1.5221 - acc: 0.6191 - val_loss: 3.9985 - val_acc: 0.2507\n",
            "Epoch 10/16\n",
            "58129/58129 [==============================] - 28s 478us/step - loss: 1.3183 - acc: 0.6706 - val_loss: 4.2235 - val_acc: 0.2400\n",
            "Epoch 11/16\n",
            "58129/58129 [==============================] - 28s 474us/step - loss: 1.1494 - acc: 0.7102 - val_loss: 4.4015 - val_acc: 0.2488\n",
            "Epoch 12/16\n",
            "58129/58129 [==============================] - 28s 476us/step - loss: 1.0006 - acc: 0.7474 - val_loss: 4.6498 - val_acc: 0.2452\n",
            "Epoch 13/16\n",
            "58129/58129 [==============================] - 28s 475us/step - loss: 0.8953 - acc: 0.7735 - val_loss: 4.7766 - val_acc: 0.2452\n",
            "Epoch 14/16\n",
            "58129/58129 [==============================] - 28s 479us/step - loss: 0.7821 - acc: 0.8027 - val_loss: 5.0736 - val_acc: 0.2444\n",
            "Epoch 15/16\n",
            "58129/58129 [==============================] - 28s 480us/step - loss: 0.6982 - acc: 0.8217 - val_loss: 5.2786 - val_acc: 0.2459\n",
            "Epoch 16/16\n",
            "58129/58129 [==============================] - 28s 478us/step - loss: 0.6235 - acc: 0.8391 - val_loss: 5.4227 - val_acc: 0.2426\n"
          ],
          "name": "stdout"
        }
      ]
    },
    {
      "metadata": {
        "colab_type": "code",
        "id": "WtytRsl0OqWb",
        "outputId": "41231a22-5dce-4b48-8e85-0e48b5b66806",
        "colab": {
          "base_uri": "https://localhost:8080/",
          "height": 51
        }
      },
      "cell_type": "code",
      "source": [
        "print('accuracy', model1.evaluate(x_test, y_test)[1])"
      ],
      "execution_count": 0,
      "outputs": [
        {
          "output_type": "stream",
          "text": [
            "14533/14533 [==============================] - 7s 449us/step\n",
            "accuracy 0.2425514346659327\n"
          ],
          "name": "stdout"
        }
      ]
    },
    {
      "metadata": {
        "colab_type": "code",
        "id": "KKSaYcGAOqWe",
        "outputId": "a426524b-6305-410d-b0ca-075ca44e6f15",
        "colab": {
          "base_uri": "https://localhost:8080/",
          "height": 51
        }
      },
      "cell_type": "code",
      "source": [
        "print('accuracy', model1.evaluate(x_train, y_train)[1])"
      ],
      "execution_count": 0,
      "outputs": [
        {
          "output_type": "stream",
          "text": [
            "58129/58129 [==============================] - 25s 427us/step\n",
            "accuracy 0.9214849730801977\n"
          ],
          "name": "stdout"
        }
      ]
    },
    {
      "metadata": {
        "colab_type": "text",
        "id": "O3WV4r1678hK"
      },
      "cell_type": "markdown",
      "source": [
        "#### 2. Bidirectional"
      ]
    },
    {
      "metadata": {
        "id": "oOs-4FijYl7X",
        "colab_type": "text"
      },
      "cell_type": "markdown",
      "source": [
        "- Also overfits "
      ]
    },
    {
      "metadata": {
        "colab_type": "code",
        "id": "rWVRTrfszvFd",
        "colab": {}
      },
      "cell_type": "code",
      "source": [
        "# Bidirectional\n",
        "model2 = Sequential()\n",
        "model2.add(Embedding(input_dim=max_features,\n",
        "                     output_dim=128))\n",
        "\n",
        "model2.add(Bidirectional(CuDNNLSTM(128)))\n",
        "model2.add(Dropout(0.5))\n",
        "model2.add(Dense(100, activation=\"softmax\"))\n",
        "\n",
        "model2.compile(optimizer=\"adam\", loss=\"sparse_categorical_crossentropy\", metrics=[\"acc\"])"
      ],
      "execution_count": 0,
      "outputs": []
    },
    {
      "metadata": {
        "colab_type": "code",
        "id": "xW0Rm8Dxz_aS",
        "outputId": "6d85d5dd-5fc0-43ba-c981-09a1f9b7488c",
        "colab": {
          "base_uri": "https://localhost:8080/",
          "height": 598
        }
      },
      "cell_type": "code",
      "source": [
        "history2 = model2.fit(x_train, y_train,\n",
        "            batch_size=128,\n",
        "            epochs=16,\n",
        "            validation_data=(x_test, y_test))"
      ],
      "execution_count": 0,
      "outputs": [
        {
          "output_type": "stream",
          "text": [
            "Train on 58129 samples, validate on 14533 samples\n",
            "Epoch 1/16\n",
            "58129/58129 [==============================] - 51s 885us/step - loss: 4.3861 - acc: 0.0376 - val_loss: 4.1800 - val_acc: 0.0564\n",
            "Epoch 2/16\n",
            "58129/58129 [==============================] - 51s 870us/step - loss: 4.0185 - acc: 0.0777 - val_loss: 3.9345 - val_acc: 0.0977\n",
            "Epoch 3/16\n",
            "58129/58129 [==============================] - 51s 872us/step - loss: 3.6703 - acc: 0.1319 - val_loss: 3.7773 - val_acc: 0.1301\n",
            "Epoch 4/16\n",
            "58129/58129 [==============================] - 51s 871us/step - loss: 3.3328 - acc: 0.1960 - val_loss: 3.6396 - val_acc: 0.1686\n",
            "Epoch 5/16\n",
            "58129/58129 [==============================] - 50s 866us/step - loss: 2.9899 - acc: 0.2714 - val_loss: 3.5972 - val_acc: 0.1881\n",
            "Epoch 6/16\n",
            "58129/58129 [==============================] - 51s 870us/step - loss: 2.6527 - acc: 0.3420 - val_loss: 3.6188 - val_acc: 0.2090\n",
            "Epoch 7/16\n",
            "58129/58129 [==============================] - 50s 868us/step - loss: 2.3577 - acc: 0.4141 - val_loss: 3.6761 - val_acc: 0.2206\n",
            "Epoch 8/16\n",
            "58129/58129 [==============================] - 50s 869us/step - loss: 2.0863 - acc: 0.4773 - val_loss: 3.8406 - val_acc: 0.2309\n",
            "Epoch 9/16\n",
            "58129/58129 [==============================] - 51s 870us/step - loss: 1.8353 - acc: 0.5414 - val_loss: 3.9056 - val_acc: 0.2382\n",
            "Epoch 10/16\n",
            "58129/58129 [==============================] - 51s 874us/step - loss: 1.6148 - acc: 0.5954 - val_loss: 4.0792 - val_acc: 0.2381\n",
            "Epoch 11/16\n",
            "58129/58129 [==============================] - 51s 872us/step - loss: 1.4221 - acc: 0.6429 - val_loss: 4.2494 - val_acc: 0.2404\n",
            "Epoch 12/16\n",
            "58129/58129 [==============================] - 51s 873us/step - loss: 1.2460 - acc: 0.6852 - val_loss: 4.4639 - val_acc: 0.2410\n",
            "Epoch 13/16\n",
            "58129/58129 [==============================] - 51s 870us/step - loss: 1.1078 - acc: 0.7204 - val_loss: 4.6721 - val_acc: 0.2402\n",
            "Epoch 14/16\n",
            "58129/58129 [==============================] - 51s 870us/step - loss: 0.9936 - acc: 0.7468 - val_loss: 4.8497 - val_acc: 0.2414\n",
            "Epoch 15/16\n",
            "58129/58129 [==============================] - 51s 870us/step - loss: 0.8845 - acc: 0.7750 - val_loss: 5.0776 - val_acc: 0.2424\n",
            "Epoch 16/16\n",
            "58129/58129 [==============================] - 51s 873us/step - loss: 0.7842 - acc: 0.8012 - val_loss: 5.2758 - val_acc: 0.2401\n"
          ],
          "name": "stdout"
        }
      ]
    },
    {
      "metadata": {
        "colab_type": "code",
        "id": "nItp-PAp3YLU",
        "outputId": "54cf8259-bf09-46b9-f9d3-a8cac575c512",
        "colab": {
          "base_uri": "https://localhost:8080/",
          "height": 51
        }
      },
      "cell_type": "code",
      "source": [
        "print('accuracy', model2.evaluate(x_test, y_test)[1])"
      ],
      "execution_count": 0,
      "outputs": [
        {
          "output_type": "stream",
          "text": [
            "14533/14533 [==============================] - 11s 758us/step\n",
            "accuracy 0.2401431225486823\n"
          ],
          "name": "stdout"
        }
      ]
    },
    {
      "metadata": {
        "colab_type": "text",
        "id": "kwaGx5Y8aa6v"
      },
      "cell_type": "markdown",
      "source": [
        "#### 3. Simple Pooling Model"
      ]
    },
    {
      "metadata": {
        "colab_type": "code",
        "id": "6Q-j-IriadPv",
        "colab": {}
      },
      "cell_type": "code",
      "source": [
        "#ref: https://github.com/keras-team/keras/blob/master/examples/imdb_fasttext.py"
      ],
      "execution_count": 0,
      "outputs": []
    },
    {
      "metadata": {
        "colab_type": "code",
        "id": "uoX7381Uad0f",
        "colab": {}
      },
      "cell_type": "code",
      "source": [
        "model3 = Sequential()\n",
        "model3.add(Embedding(input_dim=max_features,\n",
        "                    output_dim=128))\n",
        "\n",
        "# we add a GlobalAveragePooling1D, which will average the embeddings\n",
        "# of all words in the document\n",
        "model3.add(GlobalAveragePooling1D())\n",
        "model3.add(Dropout(0.5))\n",
        "\n",
        "model3.add(Dense(100, activation=\"softmax\"))"
      ],
      "execution_count": 0,
      "outputs": []
    },
    {
      "metadata": {
        "colab_type": "code",
        "id": "iHCRHm-pad3E",
        "colab": {}
      },
      "cell_type": "code",
      "source": [
        "opt = keras.optimizers.Adam(lr=0.01) # speed up optimization\n",
        "model3.compile(optimizer=opt, loss=\"sparse_categorical_crossentropy\", metrics=[\"acc\"])"
      ],
      "execution_count": 0,
      "outputs": []
    },
    {
      "metadata": {
        "colab_type": "code",
        "id": "NOpgYwlcad5s",
        "outputId": "1ffa0052-39cf-4811-ccb5-3d3d13826354",
        "colab": {
          "base_uri": "https://localhost:8080/",
          "height": 598
        }
      },
      "cell_type": "code",
      "source": [
        "history3 = model3.fit(x_train, y_train,\n",
        "            batch_size=256,\n",
        "            epochs=16,\n",
        "            validation_data=(x_test, y_test))"
      ],
      "execution_count": 0,
      "outputs": [
        {
          "output_type": "stream",
          "text": [
            "Train on 58129 samples, validate on 14533 samples\n",
            "Epoch 1/16\n",
            "58129/58129 [==============================] - 3s 57us/step - loss: 4.4614 - acc: 0.0423 - val_loss: 4.2416 - val_acc: 0.0908\n",
            "Epoch 2/16\n",
            "58129/58129 [==============================] - 3s 45us/step - loss: 3.9859 - acc: 0.1360 - val_loss: 3.7676 - val_acc: 0.1842\n",
            "Epoch 3/16\n",
            "58129/58129 [==============================] - 3s 45us/step - loss: 3.5087 - acc: 0.2306 - val_loss: 3.4221 - val_acc: 0.2571\n",
            "Epoch 4/16\n",
            "58129/58129 [==============================] - 3s 45us/step - loss: 3.1174 - acc: 0.3118 - val_loss: 3.1659 - val_acc: 0.3058\n",
            "Epoch 5/16\n",
            "58129/58129 [==============================] - 3s 45us/step - loss: 2.7843 - acc: 0.3846 - val_loss: 2.9862 - val_acc: 0.3374\n",
            "Epoch 6/16\n",
            "58129/58129 [==============================] - 3s 46us/step - loss: 2.5091 - acc: 0.4449 - val_loss: 2.8559 - val_acc: 0.3663\n",
            "Epoch 7/16\n",
            "58129/58129 [==============================] - 3s 46us/step - loss: 2.2611 - acc: 0.4998 - val_loss: 2.7582 - val_acc: 0.3822\n",
            "Epoch 8/16\n",
            "58129/58129 [==============================] - 3s 46us/step - loss: 2.0416 - acc: 0.5459 - val_loss: 2.6842 - val_acc: 0.3957\n",
            "Epoch 9/16\n",
            "58129/58129 [==============================] - 3s 46us/step - loss: 1.8521 - acc: 0.5877 - val_loss: 2.6214 - val_acc: 0.4076\n",
            "Epoch 10/16\n",
            "58129/58129 [==============================] - 3s 46us/step - loss: 1.6902 - acc: 0.6252 - val_loss: 2.5844 - val_acc: 0.4115\n",
            "Epoch 11/16\n",
            "58129/58129 [==============================] - 3s 45us/step - loss: 1.5338 - acc: 0.6610 - val_loss: 2.5697 - val_acc: 0.4136\n",
            "Epoch 12/16\n",
            "58129/58129 [==============================] - 3s 46us/step - loss: 1.3948 - acc: 0.6913 - val_loss: 2.5575 - val_acc: 0.4206\n",
            "Epoch 13/16\n",
            "58129/58129 [==============================] - 3s 45us/step - loss: 1.2838 - acc: 0.7165 - val_loss: 2.5487 - val_acc: 0.4195\n",
            "Epoch 14/16\n",
            "58129/58129 [==============================] - 3s 46us/step - loss: 1.1663 - acc: 0.7443 - val_loss: 2.5760 - val_acc: 0.4162\n",
            "Epoch 15/16\n",
            "58129/58129 [==============================] - 3s 45us/step - loss: 1.0815 - acc: 0.7602 - val_loss: 2.5777 - val_acc: 0.4204\n",
            "Epoch 16/16\n",
            "58129/58129 [==============================] - 3s 46us/step - loss: 0.9923 - acc: 0.7787 - val_loss: 2.6051 - val_acc: 0.4190\n"
          ],
          "name": "stdout"
        }
      ]
    },
    {
      "metadata": {
        "colab_type": "code",
        "id": "pHXxs7SMcevP",
        "outputId": "92e165de-386f-4d4e-8029-8d7c8d19efef",
        "colab": {
          "base_uri": "https://localhost:8080/",
          "height": 51
        }
      },
      "cell_type": "code",
      "source": [
        "print('accuracy', model3.evaluate(x_test, y_test)[1])"
      ],
      "execution_count": 0,
      "outputs": [
        {
          "output_type": "stream",
          "text": [
            "14533/14533 [==============================] - 1s 57us/step\n",
            "accuracy 0.41904630840156887\n"
          ],
          "name": "stdout"
        }
      ]
    },
    {
      "metadata": {
        "colab_type": "text",
        "id": "vu4I54U94pCU"
      },
      "cell_type": "markdown",
      "source": [
        "#### Plots + Compare Models"
      ]
    },
    {
      "metadata": {
        "colab_type": "code",
        "id": "dpqBQOCv77jb",
        "colab": {}
      },
      "cell_type": "code",
      "source": [
        "import matplotlib.pyplot as plt"
      ],
      "execution_count": 0,
      "outputs": []
    },
    {
      "metadata": {
        "colab_type": "code",
        "id": "XV6F62tw4tmW",
        "outputId": "19c37d99-903c-4046-8ff5-43a4bab38317",
        "colab": {
          "base_uri": "https://localhost:8080/",
          "height": 376
        }
      },
      "cell_type": "code",
      "source": [
        "# plot test vs. train to show overfitting!\n",
        "\n",
        "# Get values \n",
        "acc1     = history1.history['acc']\n",
        "val_acc1 = history1.history['val_acc']\n",
        "\n",
        "acc2     = history2.history['acc']\n",
        "val_acc2 = history2.history['val_acc']\n",
        "\n",
        "acc3     = history3.history['acc']\n",
        "val_acc3 = history3.history['val_acc']\n",
        "\n",
        "\n",
        "# Setup grid for plotting\n",
        "epochs = range(1, len(acc) + 1)\n",
        "\n",
        "# plot model 1\n",
        "plt.plot(epochs, acc1, 'bo', label='lstm train', color='k')\n",
        "plt.plot(epochs, val_acc1, 'b', label='lstm val', color='k')\n",
        "\n",
        "# plot model 2\n",
        "plt.plot(epochs, acc2, 'bo', label='blstm train', color='b')\n",
        "plt.plot(epochs, val_acc2, 'b', label='blstm val', color='b')\n",
        "\n",
        "# plot model 3\n",
        "plt.plot(epochs, acc3, 'bo', label='simple train', color='g')\n",
        "plt.plot(epochs, val_acc3, 'b', label='simple val', color='g')\n",
        "\n",
        "plt.title('Training and Validation Accuracy by Model')\n",
        "plt.xlabel('Epochs')\n",
        "plt.ylabel('Accuracy')\n",
        "plt.legend()\n",
        "plt.show()"
      ],
      "execution_count": 0,
      "outputs": [
        {
          "output_type": "display_data",
          "data": {
            "image/png": "[encoded data removed]",
            "text/plain": [
              "<matplotlib.figure.Figure at 0x7fdaab66c278>"
            ]
          },
          "metadata": {
            "tags": []
          }
        }
      ]
    },
    {
      "metadata": {
        "colab_type": "code",
        "id": "5oivhueE4to8",
        "colab": {}
      },
      "cell_type": "code",
      "source": [
        "# plot accuracy rates by author from best model\n",
        "from sklearn.metrics import classification_report, accuracy_score, confusion_matrix\n",
        "import numpy as np\n",
        "\n",
        "y_pred = model3.predict_classes(x_test)\n",
        "# print(classification_report(y_test, y_pred))\n",
        "\n",
        "cm = confusion_matrix(y_test, y_pred) #only works with sparse\n",
        "cm = cm.astype('float') / cm.sum(axis=1)[:, np.newaxis]\n",
        "accuracies = cm.diagonal()"
      ],
      "execution_count": 0,
      "outputs": []
    },
    {
      "metadata": {
        "id": "-SBbkqhfqIYb",
        "colab_type": "code",
        "colab": {}
      },
      "cell_type": "code",
      "source": [
        "test_scores = model3.predict(x_test) # basically the softmax output"
      ],
      "execution_count": 0,
      "outputs": []
    },
    {
      "metadata": {
        "id": "LHP-uvZxqJzp",
        "colab_type": "code",
        "outputId": "0d5398c8-72b5-49f2-b867-3c0db0d1f630",
        "colab": {
          "base_uri": "https://localhost:8080/",
          "height": 170
        }
      },
      "cell_type": "code",
      "source": [
        "def topk_acc(y_test, y_pred, k):\n",
        "  return keras.backend.eval(keras.metrics.sparse_top_k_categorical_accuracy(y_test, y_pred, k=k)) # force it to evaluate\n",
        "\n",
        "[(k, topk_acc(y_test, test_scores, k=k)) for k in range(1, 10)]"
      ],
      "execution_count": 0,
      "outputs": [
        {
          "output_type": "execute_result",
          "data": {
            "text/plain": [
              "[(1, 0.4190463),\n",
              " (2, 0.51826876),\n",
              " (3, 0.5746233),\n",
              " (4, 0.6150141),\n",
              " (5, 0.6444643),\n",
              " (6, 0.6697172),\n",
              " (7, 0.6920801),\n",
              " (8, 0.71134657),\n",
              " (9, 0.7271038)]"
            ]
          },
          "metadata": {
            "tags": []
          },
          "execution_count": 117
        }
      ]
    },
    {
      "metadata": {
        "colab_type": "code",
        "id": "VdZNk1LU_aka",
        "outputId": "3d2f2b61-0d11-452c-ce42-d767edeaa8de",
        "colab": {
          "base_uri": "https://localhost:8080/",
          "height": 376
        }
      },
      "cell_type": "code",
      "source": [
        "plt.hist(accuracies, bins=10)\n",
        "plt.title('Histogram of Test Accuracy by Author')\n",
        "plt.xlabel('Accuracy')\n",
        "plt.show()"
      ],
      "execution_count": 0,
      "outputs": [
        {
          "output_type": "display_data",
          "data": {
            "image/png": "[encoded data removed]",
            "text/plain": [
              "<matplotlib.figure.Figure at 0x7fdacc93a400>"
            ]
          },
          "metadata": {
            "tags": []
          }
        }
      ]
    },
    {
      "metadata": {
        "colab_type": "code",
        "id": "LrybKk4_4trp",
        "outputId": "1d0efa2e-e964-4bbb-be6c-236b27dc0f3c",
        "colab": {
          "base_uri": "https://localhost:8080/",
          "height": 153
        }
      },
      "cell_type": "code",
      "source": [
        "# lots of politics, and very consistent writing style\n",
        "print(accuracies.max())\n",
        "print(accuracies.argmax())\n",
        "print(df[['author', 'body']][df['author_id'] == 68][0:5])"
      ],
      "execution_count": 0,
      "outputs": [
        {
          "output_type": "stream",
          "text": [
            "0.7517241379310344\n",
            "68\n",
            "      author                                               body\n",
            "9346  djphan  Kansas is an underrated pickup opportunity... ...\n",
            "9347  djphan  how can i point to their argument without usin...\n",
            "9348  djphan  i did.. i see the subsequent comments... and t...\n",
            "9349  djphan  i literally quoted it in my first reply...  \\n...\n",
            "9350  djphan  youre saying that clinton did it herself... th...\n"
          ],
          "name": "stdout"
        }
      ]
    },
    {
      "metadata": {
        "id": "hhmib21gos-_",
        "colab_type": "code",
        "colab": {}
      },
      "cell_type": "code",
      "source": [
        ""
      ],
      "execution_count": 0,
      "outputs": []
    },
    {
      "metadata": {
        "colab_type": "text",
        "id": "EPWrrnylJEyy"
      },
      "cell_type": "markdown",
      "source": [
        "#### Save Models"
      ]
    },
    {
      "metadata": {
        "colab_type": "code",
        "id": "8ekOaucEEKJ7",
        "colab": {}
      },
      "cell_type": "code",
      "source": [
        "model1.save('/content/gdrive/My Drive/colab/anly-author-id/model_l.h5')\n",
        "model2.save('/content/gdrive/My Drive/colab/anly-author-id/model_2.h5')\n",
        "model3.save('/content/gdrive/My Drive/colab/anly-author-id/model_3.h5')"
      ],
      "execution_count": 0,
      "outputs": []
    },
    {
      "metadata": {
        "colab_type": "text",
        "id": "IIzjZg8g8DPt"
      },
      "cell_type": "markdown",
      "source": [
        "#### EXTRA. Multilayer"
      ]
    },
    {
      "metadata": {
        "colab_type": "code",
        "collapsed": true,
        "id": "jEe6VRBJ8FTr",
        "colab": {}
      },
      "cell_type": "code",
      "source": [
        "# Multilayer LSTM\n",
        "model5 = Sequential()\n",
        "model5.add(Embedding(input_dim=max_features,\n",
        "                    output_dim=128))\n",
        "\n",
        "model5.add(CuDNNLSTM(128, return_sequences=True))\n",
        "model5.add(Dropout(0.5))\n",
        "\n",
        "model5.add(CuDNNLSTM(64))\n",
        "model5.add(Dropout(0.5))\n",
        "\n",
        "model5.add(Dense(100, activation=\"softmax\"))\n",
        "\n",
        "model5.compile(optimizer=\"adam\", loss=\"sparse_categorical_crossentropy\", metrics=[\"acc\"])"
      ],
      "execution_count": 0,
      "outputs": []
    },
    {
      "metadata": {
        "colab_type": "code",
        "id": "UjqWWQ5e8ZW9",
        "outputId": "3f51f76b-0a7b-486c-9bd4-40c96529f5d9",
        "colab": {
          "base_uri": "https://localhost:8080/",
          "height": 578
        }
      },
      "cell_type": "code",
      "source": [
        "history5 = model5.fit(x_train, y_train,\n",
        "            batch_size=256,\n",
        "            epochs=16,\n",
        "            validation_data=(x_test, y_test))"
      ],
      "execution_count": 0,
      "outputs": [
        {
          "output_type": "stream",
          "text": [
            "Train on 58129 samples, validate on 14533 samples\n",
            "Epoch 1/16\n",
            "58129/58129 [==============================] - 46s 797us/step - loss: 4.4563 - acc: 0.0301 - val_loss: 4.2198 - val_acc: 0.0588\n",
            "Epoch 2/16\n",
            "58129/58129 [==============================] - 44s 764us/step - loss: 4.1062 - acc: 0.0710 - val_loss: 3.9898 - val_acc: 0.0962\n",
            "Epoch 3/16\n",
            "58129/58129 [==============================] - 44s 756us/step - loss: 3.8289 - acc: 0.1135 - val_loss: 3.7824 - val_acc: 0.1303\n",
            "Epoch 4/16\n",
            "58129/58129 [==============================] - 44s 765us/step - loss: 3.6063 - acc: 0.1513 - val_loss: 3.6834 - val_acc: 0.1494\n",
            "Epoch 5/16\n",
            "58129/58129 [==============================] - 44s 761us/step - loss: 3.4146 - acc: 0.1893 - val_loss: 3.6164 - val_acc: 0.1682\n",
            "Epoch 6/16\n",
            "58129/58129 [==============================] - 44s 753us/step - loss: 3.2467 - acc: 0.2262 - val_loss: 3.5665 - val_acc: 0.1844\n",
            "Epoch 7/16\n",
            "58129/58129 [==============================] - 44s 754us/step - loss: 3.0894 - acc: 0.2571 - val_loss: 3.5518 - val_acc: 0.1955\n",
            "Epoch 8/16\n",
            "58129/58129 [==============================] - 44s 758us/step - loss: 2.9556 - acc: 0.2874 - val_loss: 3.5660 - val_acc: 0.1987\n",
            "Epoch 9/16\n",
            "58129/58129 [==============================] - 44s 759us/step - loss: 2.8245 - acc: 0.3168 - val_loss: 3.5581 - val_acc: 0.2088\n",
            "Epoch 10/16\n",
            "58129/58129 [==============================] - 44s 760us/step - loss: 2.7004 - acc: 0.3417 - val_loss: 3.5921 - val_acc: 0.2119\n",
            "Epoch 11/16\n",
            "58129/58129 [==============================] - 44s 763us/step - loss: 2.5878 - acc: 0.3679 - val_loss: 3.6038 - val_acc: 0.2152\n",
            "Epoch 12/16\n",
            "58129/58129 [==============================] - 44s 760us/step - loss: 2.4848 - acc: 0.3867 - val_loss: 3.6584 - val_acc: 0.2154\n",
            "Epoch 13/16\n",
            "58129/58129 [==============================] - 44s 759us/step - loss: 2.3831 - acc: 0.4115 - val_loss: 3.7496 - val_acc: 0.2236\n",
            "Epoch 14/16\n",
            "58129/58129 [==============================] - 44s 759us/step - loss: 2.2842 - acc: 0.4332 - val_loss: 3.8436 - val_acc: 0.2204\n",
            "Epoch 15/16\n",
            "58129/58129 [==============================] - 44s 760us/step - loss: 2.2001 - acc: 0.4511 - val_loss: 3.8885 - val_acc: 0.2209\n",
            "Epoch 16/16\n",
            "58129/58129 [==============================] - 44s 763us/step - loss: 2.1047 - acc: 0.4734 - val_loss: 3.9038 - val_acc: 0.2218\n"
          ],
          "name": "stdout"
        }
      ]
    },
    {
      "metadata": {
        "colab_type": "code",
        "id": "lcUApzDS8WBF",
        "outputId": "ec94ed9f-3901-443d-8cd0-008963136faf",
        "colab": {
          "base_uri": "https://localhost:8080/",
          "height": 51
        }
      },
      "cell_type": "code",
      "source": [
        "print('accuracy', model4.evaluate(x_test, y_test)[1])"
      ],
      "execution_count": 0,
      "outputs": [
        {
          "output_type": "stream",
          "text": [
            "14533/14533 [==============================] - 13s 883us/step\n",
            "accuracy 0.22183995045860463\n"
          ],
          "name": "stdout"
        }
      ]
    }
  ]
}