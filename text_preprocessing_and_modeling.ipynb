{
 "cells": [
  {
   "cell_type": "markdown",
   "metadata": {
    "colab_type": "text",
    "id": "Lu4PRj6EOqVP"
   },
   "source": [
    "### Preprocess Text Data and Modelling \n",
    "### ANLY 590 Project\n"
   ]
  },
  {
   "cell_type": "markdown",
   "metadata": {
    "colab_type": "text",
    "id": "n8Z-jpowOqVR"
   },
   "source": [
    "***"
   ]
  },
  {
   "cell_type": "markdown",
   "metadata": {
    "colab_type": "text",
    "id": "-YouD-XvOqVS"
   },
   "source": [
    "#### Prep"
   ]
  },
  {
   "cell_type": "code",
   "execution_count": 180,
   "metadata": {
    "colab": {
     "base_uri": "https://localhost:8080/",
     "height": 198
    },
    "colab_type": "code",
    "id": "Xo1IkInHOqVS",
    "outputId": "036a5546-29bc-4d01-8eb8-50fbf0a47001"
   },
   "outputs": [],
   "source": [
    "# set working directory\n",
    "import os\n",
    "import sys\n",
    "path = '/Users/kgedney/Documents/georgetown/anly590/author-id-project'\n",
    "os.chdir(path)"
   ]
  },
  {
   "cell_type": "code",
   "execution_count": 181,
   "metadata": {
    "colab": {},
    "colab_type": "code",
    "collapsed": true,
    "id": "dm9sAyvLOqVW"
   },
   "outputs": [],
   "source": [
    "import numpy as np\n",
    "import pandas as pd"
   ]
  },
  {
   "cell_type": "code",
   "execution_count": 182,
   "metadata": {
    "colab": {},
    "colab_type": "code",
    "collapsed": true,
    "id": "R6czjVsqOqVY"
   },
   "outputs": [],
   "source": [
    "# load filtered data\n",
    "df = pd.read_csv('filtered_data.csv')"
   ]
  },
  {
   "cell_type": "markdown",
   "metadata": {
    "colab_type": "text",
    "id": "SSt2URxSOqVa"
   },
   "source": [
    "#### Google Colab Prep"
   ]
  },
  {
   "cell_type": "code",
   "execution_count": 9,
   "metadata": {
    "colab": {
     "base_uri": "https://localhost:8080/",
     "height": 34
    },
    "colab_type": "code",
    "id": "W4WEkqUsOqVb",
    "outputId": "47d93717-e104-420d-f712-865ff3478248"
   },
   "outputs": [
    {
     "name": "stdout",
     "output_type": "stream",
     "text": [
      "Drive already mounted at /content/drive; to attempt to forcibly remount, call drive.mount(\"/content/drive\", force_remount=True).\n"
     ]
    }
   ],
   "source": [
    "# get data from Google drive\n",
    "from google.colab import drive\n",
    "drive.mount('/content/drive')"
   ]
  },
  {
   "cell_type": "code",
   "execution_count": 162,
   "metadata": {
    "colab": {
     "base_uri": "https://localhost:8080/",
     "height": 204
    },
    "colab_type": "code",
    "id": "QJ11dU2QOqVe",
    "outputId": "0d82474c-c01b-4557-f210-75dbf5cda2fe"
   },
   "outputs": [
    {
     "data": {
      "text/html": [
       "<div>\n",
       "<style scoped>\n",
       "    .dataframe tbody tr th:only-of-type {\n",
       "        vertical-align: middle;\n",
       "    }\n",
       "\n",
       "    .dataframe tbody tr th {\n",
       "        vertical-align: top;\n",
       "    }\n",
       "\n",
       "    .dataframe thead th {\n",
       "        text-align: right;\n",
       "    }\n",
       "</style>\n",
       "<table border=\"1\" class=\"dataframe\">\n",
       "  <thead>\n",
       "    <tr style=\"text-align: right;\">\n",
       "      <th></th>\n",
       "      <th>author</th>\n",
       "      <th>body</th>\n",
       "      <th>subreddit</th>\n",
       "      <th>permalink</th>\n",
       "      <th>num_chars</th>\n",
       "      <th>num_words</th>\n",
       "    </tr>\n",
       "  </thead>\n",
       "  <tbody>\n",
       "    <tr>\n",
       "      <th>0</th>\n",
       "      <td>GuaranteedAdmission</td>\n",
       "      <td>News aggregators don't filter Opinion pieces i...</td>\n",
       "      <td>AskAnAmerican</td>\n",
       "      <td>/r/AskAnAmerican/comments/9zrnid/america_whats...</td>\n",
       "      <td>69</td>\n",
       "      <td>11</td>\n",
       "    </tr>\n",
       "    <tr>\n",
       "      <th>1</th>\n",
       "      <td>GuaranteedAdmission</td>\n",
       "      <td>You can be in favor of a policy he supports an...</td>\n",
       "      <td>AskReddit</td>\n",
       "      <td>/r/AskReddit/comments/9zklcs/as_a_brit_who_onl...</td>\n",
       "      <td>74</td>\n",
       "      <td>17</td>\n",
       "    </tr>\n",
       "    <tr>\n",
       "      <th>2</th>\n",
       "      <td>GuaranteedAdmission</td>\n",
       "      <td>That depends. What is the penalty for breaking...</td>\n",
       "      <td>AskReddit</td>\n",
       "      <td>/r/AskReddit/comments/9zkfcd/how_would_you_fee...</td>\n",
       "      <td>202</td>\n",
       "      <td>36</td>\n",
       "    </tr>\n",
       "    <tr>\n",
       "      <th>3</th>\n",
       "      <td>GuaranteedAdmission</td>\n",
       "      <td>Because I like to think long term. Tax cuts fo...</td>\n",
       "      <td>AskReddit</td>\n",
       "      <td>/r/AskReddit/comments/9yxl98/liberals_of_reddi...</td>\n",
       "      <td>120</td>\n",
       "      <td>22</td>\n",
       "    </tr>\n",
       "    <tr>\n",
       "      <th>4</th>\n",
       "      <td>GuaranteedAdmission</td>\n",
       "      <td>We don't talk about the Highway Shoes, OP! Are...</td>\n",
       "      <td>AskReddit</td>\n",
       "      <td>/r/AskReddit/comments/9yrbvd/people_who_lost_a...</td>\n",
       "      <td>110</td>\n",
       "      <td>22</td>\n",
       "    </tr>\n",
       "  </tbody>\n",
       "</table>\n",
       "</div>"
      ],
      "text/plain": [
       "                author                                               body  \\\n",
       "0  GuaranteedAdmission  News aggregators don't filter Opinion pieces i...   \n",
       "1  GuaranteedAdmission  You can be in favor of a policy he supports an...   \n",
       "2  GuaranteedAdmission  That depends. What is the penalty for breaking...   \n",
       "3  GuaranteedAdmission  Because I like to think long term. Tax cuts fo...   \n",
       "4  GuaranteedAdmission  We don't talk about the Highway Shoes, OP! Are...   \n",
       "\n",
       "       subreddit                                          permalink  \\\n",
       "0  AskAnAmerican  /r/AskAnAmerican/comments/9zrnid/america_whats...   \n",
       "1      AskReddit  /r/AskReddit/comments/9zklcs/as_a_brit_who_onl...   \n",
       "2      AskReddit  /r/AskReddit/comments/9zkfcd/how_would_you_fee...   \n",
       "3      AskReddit  /r/AskReddit/comments/9yxl98/liberals_of_reddi...   \n",
       "4      AskReddit  /r/AskReddit/comments/9yrbvd/people_who_lost_a...   \n",
       "\n",
       "   num_chars  num_words  \n",
       "0         69         11  \n",
       "1         74         17  \n",
       "2        202         36  \n",
       "3        120         22  \n",
       "4        110         22  "
      ]
     },
     "execution_count": 162,
     "metadata": {
      "tags": []
     },
     "output_type": "execute_result"
    }
   ],
   "source": [
    "# manually add file from local to drive\n",
    "df = pd.read_csv('filtered_data.csv')\n",
    "df.head()"
   ]
  },
  {
   "cell_type": "code",
   "execution_count": null,
   "metadata": {
    "collapsed": true
   },
   "outputs": [],
   "source": [
    "# download nltk\n",
    "import nltk\n",
    "nltk.download('popular')"
   ]
  },
  {
   "cell_type": "markdown",
   "metadata": {
    "colab_type": "text",
    "id": "bJeXBWrvOqVg"
   },
   "source": [
    "#### Text Cleaning\n",
    "\n",
    "ref: https://www.analyticsvidhya.com/blog/2018/02/the-different-methods-deal-text-data-predictive-python/"
   ]
  },
  {
   "cell_type": "code",
   "execution_count": 184,
   "metadata": {
    "colab": {},
    "colab_type": "code",
    "collapsed": true,
    "id": "EHcxp11nOqVg"
   },
   "outputs": [],
   "source": [
    "# remove URLs and replace as '<url>'\n",
    "import re\n",
    "df['body_no_urls'] = df.apply(lambda row: re.sub(r\"http\\S+\", \"<url>\", row['body']), axis=1) "
   ]
  },
  {
   "cell_type": "code",
   "execution_count": 185,
   "metadata": {
    "colab": {},
    "colab_type": "code",
    "collapsed": true,
    "id": "9-JkOW2-OqVl"
   },
   "outputs": [],
   "source": [
    "# tokenize\n",
    "from nltk.tokenize import word_tokenize\n",
    "df['tokenized_nltk']  = df.apply(lambda row: word_tokenize(row['body_no_urls']), axis=1)"
   ]
  },
  {
   "cell_type": "code",
   "execution_count": 0,
   "metadata": {
    "colab": {},
    "colab_type": "code",
    "collapsed": true,
    "id": "SB80UklaOqVq"
   },
   "outputs": [],
   "source": [
    "# remove NERs"
   ]
  },
  {
   "cell_type": "code",
   "execution_count": 0,
   "metadata": {
    "colab": {},
    "colab_type": "code",
    "collapsed": true,
    "id": "I3DFwHCGOqVs"
   },
   "outputs": [],
   "source": [
    "# import spacy\n",
    "# nlp = spacy.load('en')"
   ]
  },
  {
   "cell_type": "code",
   "execution_count": 0,
   "metadata": {
    "colab": {},
    "colab_type": "code",
    "collapsed": true,
    "id": "8CEK1miBOqVu"
   },
   "outputs": [],
   "source": [
    "# def get_ners(input_doc):\n",
    "#     doc = nlp(input_doc)\n",
    "#     ners = str(doc.ents)\n",
    "#     return (ners)"
   ]
  },
  {
   "cell_type": "markdown",
   "metadata": {
    "colab_type": "text",
    "id": "jouchqjcOqVw"
   },
   "source": [
    "***"
   ]
  },
  {
   "cell_type": "markdown",
   "metadata": {
    "colab_type": "text",
    "id": "muQGleHGOqVx"
   },
   "source": [
    "#### Modelling"
   ]
  },
  {
   "cell_type": "code",
   "execution_count": 189,
   "metadata": {
    "colab": {},
    "colab_type": "code",
    "collapsed": true,
    "id": "ZxVtQyhwOqVy"
   },
   "outputs": [],
   "source": [
    "# install packages\n",
    "import numpy as np\n",
    "\n",
    "from sklearn import metrics\n",
    "from sklearn.model_selection import train_test_split\n",
    "from sklearn.feature_extraction.text import CountVectorizer, TfidfVectorizer\n",
    "\n",
    "import keras\n",
    "import tensorflow as tf\n",
    "\n",
    "from keras.utils import np_utils\n",
    "from keras.preprocessing import sequence\n",
    "from keras.preprocessing.text import Tokenizer\n",
    "\n",
    "from keras.models import Model, Sequential\n",
    "from keras.layers import Input, Dense, CuDNNLSTM, LSTM, Embedding, Bidirectional, GlobalAveragePooling1D\n",
    "\n",
    "from keras.layers.core import Dense, Dropout"
   ]
  },
  {
   "cell_type": "code",
   "execution_count": 190,
   "metadata": {
    "colab": {},
    "colab_type": "code",
    "collapsed": true,
    "id": "2ToC3POKOqVz"
   },
   "outputs": [],
   "source": [
    "# create class assignments\n",
    "df['author_id'] = pd.Categorical(df.author).codes"
   ]
  },
  {
   "cell_type": "markdown",
   "metadata": {
    "colab_type": "text",
    "id": "pQZCE5H7OqV1"
   },
   "source": [
    "#### Baseline Model: Linear SVM"
   ]
  },
  {
   "cell_type": "code",
   "execution_count": 0,
   "metadata": {
    "colab": {},
    "colab_type": "code",
    "id": "U8LagNfdOqV2",
    "outputId": "c1fb9a6d-a180-45c6-86a0-d9dfb102152a"
   },
   "outputs": [
    {
     "name": "stderr",
     "output_type": "stream",
     "text": [
      "/Users/kgedney/anaconda/lib/python3.6/site-packages/sklearn/feature_extraction/text.py:1059: FutureWarning: Conversion of the second argument of issubdtype from `float` to `np.floating` is deprecated. In future, it will be treated as `np.float64 == np.dtype(float).type`.\n",
      "  if hasattr(X, 'dtype') and np.issubdtype(X.dtype, np.float):\n"
     ]
    },
    {
     "data": {
      "text/plain": [
       "(58129, 53161)"
      ]
     },
     "execution_count": 177,
     "metadata": {
      "tags": []
     },
     "output_type": "execute_result"
    }
   ],
   "source": [
    "x = df['body_no_urls'].values\n",
    "y = df['author_id'].values\n",
    "\n",
    "x_train, x_test, y_train, y_test = train_test_split(x, y, test_size=0.20, random_state=22)\n",
    "\n",
    "tfidf_vec   = TfidfVectorizer()\n",
    "x_train_vec = tfidf_vec.fit_transform(x_train)\n",
    "x_test_vec  = tfidf_vec.transform(x_test)\n",
    "x_train_vec.shape"
   ]
  },
  {
   "cell_type": "code",
   "execution_count": 0,
   "metadata": {
    "colab": {},
    "colab_type": "code",
    "collapsed": true,
    "id": "FLAMT9ioOqV6"
   },
   "outputs": [],
   "source": [
    "from sklearn.svm import LinearSVC\n",
    "clf             = LinearSVC().fit(x_train_vec, y_train)\n",
    "predicted       = clf.predict(x_test_vec)\n",
    "predicted_score = clf.decision_function(x_test_vec)"
   ]
  },
  {
   "cell_type": "code",
   "execution_count": 0,
   "metadata": {
    "colab": {},
    "colab_type": "code",
    "id": "0x4wr9ziOqV9",
    "outputId": "a35c9563-5f5e-4425-91ee-6d7b7de2a7be"
   },
   "outputs": [
    {
     "name": "stdout",
     "output_type": "stream",
     "text": [
      "accuracy 0.37789857565540497\n"
     ]
    }
   ],
   "source": [
    "print('accuracy', metrics.accuracy_score(y_test, predicted))"
   ]
  },
  {
   "cell_type": "markdown",
   "metadata": {
    "colab_type": "text",
    "id": "TMyJAaDMOqWA"
   },
   "source": [
    "#### Preprocess Data for Keras Models"
   ]
  },
  {
   "cell_type": "code",
   "execution_count": 167,
   "metadata": {
    "colab": {
     "base_uri": "https://localhost:8080/",
     "height": 34
    },
    "colab_type": "code",
    "id": "qZT9aqDkOqWA",
    "outputId": "e08161f2-8042-48ad-e2b2-9e5da07813a1"
   },
   "outputs": [
    {
     "name": "stdout",
     "output_type": "stream",
     "text": [
      "236\n"
     ]
    }
   ],
   "source": [
    "# data preprocess\n",
    "x = df['tokenized_nltk'].values\n",
    "y = df['author_id'].values\n",
    "\n",
    "# create sequences\n",
    "max_features = 25000\n",
    "tokenizer    = Tokenizer(num_words = max_features)\n",
    "tokenizer.fit_on_texts(x)\n",
    "x_sequences  = tokenizer.texts_to_sequences(x)\n",
    "\n",
    "# pad each sequence to be max length\n",
    "maxlen = max(len(x) for x in x_sequences)\n",
    "print(maxlen)\n",
    "x_sequences = sequence.pad_sequences(x_sequences, maxlen)"
   ]
  },
  {
   "cell_type": "code",
   "execution_count": 0,
   "metadata": {
    "colab": {},
    "colab_type": "code",
    "collapsed": true,
    "id": "0DGqh3gtOqWC"
   },
   "outputs": [],
   "source": [
    "# split test and train\n",
    "x_train, x_test, y_train, y_test = train_test_split(x_sequences, y, test_size=0.20, random_state=22)"
   ]
  },
  {
   "cell_type": "markdown",
   "metadata": {
    "colab_type": "text",
    "id": "ywbmZM4eOqWE"
   },
   "source": [
    "#### 0. Recurrent Nueral Network: LSTM"
   ]
  },
  {
   "cell_type": "code",
   "execution_count": 0,
   "metadata": {
    "colab": {},
    "colab_type": "code",
    "collapsed": true,
    "id": "g1BDq-oAOqWF"
   },
   "outputs": [],
   "source": [
    "model = Sequential()\n",
    "\n",
    "# add embedding layer\n",
    "model.add(Embedding(input_dim=max_features,\n",
    "                    output_dim=128,\n",
    "                    mask_zero=True))\n",
    "# add rnn layer\n",
    "model.add(LSTM(128))\n",
    "# model.add(Dropout(0.2))\n",
    "\n",
    "# output layer, 100-categorical classification\n",
    "model.add(Dense(100, activation=\"softmax\"))"
   ]
  },
  {
   "cell_type": "code",
   "execution_count": 0,
   "metadata": {
    "colab": {},
    "colab_type": "code",
    "collapsed": true,
    "id": "ENLFvczYOqWI"
   },
   "outputs": [],
   "source": [
    "model.compile(optimizer=\"rmsprop\", loss=\"sparse_categorical_crossentropy\", metrics=[\"acc\"])"
   ]
  },
  {
   "cell_type": "code",
   "execution_count": 0,
   "metadata": {
    "colab": {},
    "colab_type": "code",
    "id": "FE0of04nOqWL",
    "outputId": "41884075-1f6c-4094-9ded-5dc6ed505a59"
   },
   "outputs": [
    {
     "name": "stdout",
     "output_type": "stream",
     "text": [
      "Train on 58129 samples, validate on 14533 samples\n",
      "Epoch 1/1\n",
      " 4608/58129 [=>............................] - ETA: 3:20 - loss: 4.6005 - acc: 0.0117"
     ]
    },
    {
     "name": "stderr",
     "output_type": "stream",
     "text": [
      "Exception ignored in: <bound method BaseSession._Callable.__del__ of <tensorflow.python.client.session.BaseSession._Callable object at 0x12af0d9b0>>\n",
      "Traceback (most recent call last):\n",
      "  File \"/Users/kgedney/anaconda/lib/python3.6/site-packages/tensorflow/python/client/session.py\", line 1408, in __del__\n",
      "    def __del__(self):\n",
      "KeyboardInterrupt\n"
     ]
    },
    {
     "name": "stdout",
     "output_type": "stream",
     "text": [
      " 5632/58129 [=>............................] - ETA: 3:18 - loss: 4.5987 - acc: 0.0133"
     ]
    },
    {
     "ename": "KeyboardInterrupt",
     "evalue": "",
     "output_type": "error",
     "traceback": [
      "\u001b[0;31m---------------------------------------------------------------------------\u001b[0m",
      "\u001b[0;31mKeyboardInterrupt\u001b[0m                         Traceback (most recent call last)",
      "\u001b[0;32m<ipython-input-119-0dfc582a67ac>\u001b[0m in \u001b[0;36m<module>\u001b[0;34m()\u001b[0m\n\u001b[1;32m      2\u001b[0m             \u001b[0mbatch_size\u001b[0m\u001b[0;34m=\u001b[0m\u001b[0;36m128\u001b[0m\u001b[0;34m,\u001b[0m\u001b[0;34m\u001b[0m\u001b[0m\n\u001b[1;32m      3\u001b[0m             \u001b[0mepochs\u001b[0m\u001b[0;34m=\u001b[0m\u001b[0;36m1\u001b[0m\u001b[0;34m,\u001b[0m\u001b[0;34m\u001b[0m\u001b[0m\n\u001b[0;32m----> 4\u001b[0;31m             validation_data=(x_test, y_test))\n\u001b[0m",
      "\u001b[0;32m/Users/kgedney/anaconda/lib/python3.6/site-packages/keras/engine/training.py\u001b[0m in \u001b[0;36mfit\u001b[0;34m(self, x, y, batch_size, epochs, verbose, callbacks, validation_split, validation_data, shuffle, class_weight, sample_weight, initial_epoch, steps_per_epoch, validation_steps, **kwargs)\u001b[0m\n\u001b[1;32m   1037\u001b[0m                                         \u001b[0minitial_epoch\u001b[0m\u001b[0;34m=\u001b[0m\u001b[0minitial_epoch\u001b[0m\u001b[0;34m,\u001b[0m\u001b[0;34m\u001b[0m\u001b[0m\n\u001b[1;32m   1038\u001b[0m                                         \u001b[0msteps_per_epoch\u001b[0m\u001b[0;34m=\u001b[0m\u001b[0msteps_per_epoch\u001b[0m\u001b[0;34m,\u001b[0m\u001b[0;34m\u001b[0m\u001b[0m\n\u001b[0;32m-> 1039\u001b[0;31m                                         validation_steps=validation_steps)\n\u001b[0m\u001b[1;32m   1040\u001b[0m \u001b[0;34m\u001b[0m\u001b[0m\n\u001b[1;32m   1041\u001b[0m     def evaluate(self, x=None, y=None,\n",
      "\u001b[0;32m/Users/kgedney/anaconda/lib/python3.6/site-packages/keras/engine/training_arrays.py\u001b[0m in \u001b[0;36mfit_loop\u001b[0;34m(model, f, ins, out_labels, batch_size, epochs, verbose, callbacks, val_f, val_ins, shuffle, callback_metrics, initial_epoch, steps_per_epoch, validation_steps)\u001b[0m\n\u001b[1;32m    197\u001b[0m                     \u001b[0mins_batch\u001b[0m\u001b[0;34m[\u001b[0m\u001b[0mi\u001b[0m\u001b[0;34m]\u001b[0m \u001b[0;34m=\u001b[0m \u001b[0mins_batch\u001b[0m\u001b[0;34m[\u001b[0m\u001b[0mi\u001b[0m\u001b[0;34m]\u001b[0m\u001b[0;34m.\u001b[0m\u001b[0mtoarray\u001b[0m\u001b[0;34m(\u001b[0m\u001b[0;34m)\u001b[0m\u001b[0;34m\u001b[0m\u001b[0m\n\u001b[1;32m    198\u001b[0m \u001b[0;34m\u001b[0m\u001b[0m\n\u001b[0;32m--> 199\u001b[0;31m                 \u001b[0mouts\u001b[0m \u001b[0;34m=\u001b[0m \u001b[0mf\u001b[0m\u001b[0;34m(\u001b[0m\u001b[0mins_batch\u001b[0m\u001b[0;34m)\u001b[0m\u001b[0;34m\u001b[0m\u001b[0m\n\u001b[0m\u001b[1;32m    200\u001b[0m                 \u001b[0mouts\u001b[0m \u001b[0;34m=\u001b[0m \u001b[0mto_list\u001b[0m\u001b[0;34m(\u001b[0m\u001b[0mouts\u001b[0m\u001b[0;34m)\u001b[0m\u001b[0;34m\u001b[0m\u001b[0m\n\u001b[1;32m    201\u001b[0m                 \u001b[0;32mfor\u001b[0m \u001b[0ml\u001b[0m\u001b[0;34m,\u001b[0m \u001b[0mo\u001b[0m \u001b[0;32min\u001b[0m \u001b[0mzip\u001b[0m\u001b[0;34m(\u001b[0m\u001b[0mout_labels\u001b[0m\u001b[0;34m,\u001b[0m \u001b[0mouts\u001b[0m\u001b[0;34m)\u001b[0m\u001b[0;34m:\u001b[0m\u001b[0;34m\u001b[0m\u001b[0m\n",
      "\u001b[0;32m/Users/kgedney/anaconda/lib/python3.6/site-packages/keras/backend/tensorflow_backend.py\u001b[0m in \u001b[0;36m__call__\u001b[0;34m(self, inputs)\u001b[0m\n\u001b[1;32m   2713\u001b[0m                 \u001b[0;32mreturn\u001b[0m \u001b[0mself\u001b[0m\u001b[0;34m.\u001b[0m\u001b[0m_legacy_call\u001b[0m\u001b[0;34m(\u001b[0m\u001b[0minputs\u001b[0m\u001b[0;34m)\u001b[0m\u001b[0;34m\u001b[0m\u001b[0m\n\u001b[1;32m   2714\u001b[0m \u001b[0;34m\u001b[0m\u001b[0m\n\u001b[0;32m-> 2715\u001b[0;31m             \u001b[0;32mreturn\u001b[0m \u001b[0mself\u001b[0m\u001b[0;34m.\u001b[0m\u001b[0m_call\u001b[0m\u001b[0;34m(\u001b[0m\u001b[0minputs\u001b[0m\u001b[0;34m)\u001b[0m\u001b[0;34m\u001b[0m\u001b[0m\n\u001b[0m\u001b[1;32m   2716\u001b[0m         \u001b[0;32melse\u001b[0m\u001b[0;34m:\u001b[0m\u001b[0;34m\u001b[0m\u001b[0m\n\u001b[1;32m   2717\u001b[0m             \u001b[0;32mif\u001b[0m \u001b[0mpy_any\u001b[0m\u001b[0;34m(\u001b[0m\u001b[0mis_tensor\u001b[0m\u001b[0;34m(\u001b[0m\u001b[0mx\u001b[0m\u001b[0;34m)\u001b[0m \u001b[0;32mfor\u001b[0m \u001b[0mx\u001b[0m \u001b[0;32min\u001b[0m \u001b[0minputs\u001b[0m\u001b[0;34m)\u001b[0m\u001b[0;34m:\u001b[0m\u001b[0;34m\u001b[0m\u001b[0m\n",
      "\u001b[0;32m/Users/kgedney/anaconda/lib/python3.6/site-packages/keras/backend/tensorflow_backend.py\u001b[0m in \u001b[0;36m_call\u001b[0;34m(self, inputs)\u001b[0m\n\u001b[1;32m   2673\u001b[0m             \u001b[0mfetched\u001b[0m \u001b[0;34m=\u001b[0m \u001b[0mself\u001b[0m\u001b[0;34m.\u001b[0m\u001b[0m_callable_fn\u001b[0m\u001b[0;34m(\u001b[0m\u001b[0;34m*\u001b[0m\u001b[0marray_vals\u001b[0m\u001b[0;34m,\u001b[0m \u001b[0mrun_metadata\u001b[0m\u001b[0;34m=\u001b[0m\u001b[0mself\u001b[0m\u001b[0;34m.\u001b[0m\u001b[0mrun_metadata\u001b[0m\u001b[0;34m)\u001b[0m\u001b[0;34m\u001b[0m\u001b[0m\n\u001b[1;32m   2674\u001b[0m         \u001b[0;32melse\u001b[0m\u001b[0;34m:\u001b[0m\u001b[0;34m\u001b[0m\u001b[0m\n\u001b[0;32m-> 2675\u001b[0;31m             \u001b[0mfetched\u001b[0m \u001b[0;34m=\u001b[0m \u001b[0mself\u001b[0m\u001b[0;34m.\u001b[0m\u001b[0m_callable_fn\u001b[0m\u001b[0;34m(\u001b[0m\u001b[0;34m*\u001b[0m\u001b[0marray_vals\u001b[0m\u001b[0;34m)\u001b[0m\u001b[0;34m\u001b[0m\u001b[0m\n\u001b[0m\u001b[1;32m   2676\u001b[0m         \u001b[0;32mreturn\u001b[0m \u001b[0mfetched\u001b[0m\u001b[0;34m[\u001b[0m\u001b[0;34m:\u001b[0m\u001b[0mlen\u001b[0m\u001b[0;34m(\u001b[0m\u001b[0mself\u001b[0m\u001b[0;34m.\u001b[0m\u001b[0moutputs\u001b[0m\u001b[0;34m)\u001b[0m\u001b[0;34m]\u001b[0m\u001b[0;34m\u001b[0m\u001b[0m\n\u001b[1;32m   2677\u001b[0m \u001b[0;34m\u001b[0m\u001b[0m\n",
      "\u001b[0;32m/Users/kgedney/anaconda/lib/python3.6/site-packages/tensorflow/python/client/session.py\u001b[0m in \u001b[0;36m__call__\u001b[0;34m(self, *args, **kwargs)\u001b[0m\n\u001b[1;32m   1397\u001b[0m           ret = tf_session.TF_SessionRunCallable(\n\u001b[1;32m   1398\u001b[0m               \u001b[0mself\u001b[0m\u001b[0;34m.\u001b[0m\u001b[0m_session\u001b[0m\u001b[0;34m.\u001b[0m\u001b[0m_session\u001b[0m\u001b[0;34m,\u001b[0m \u001b[0mself\u001b[0m\u001b[0;34m.\u001b[0m\u001b[0m_handle\u001b[0m\u001b[0;34m,\u001b[0m \u001b[0margs\u001b[0m\u001b[0;34m,\u001b[0m \u001b[0mstatus\u001b[0m\u001b[0;34m,\u001b[0m\u001b[0;34m\u001b[0m\u001b[0m\n\u001b[0;32m-> 1399\u001b[0;31m               run_metadata_ptr)\n\u001b[0m\u001b[1;32m   1400\u001b[0m         \u001b[0;32mif\u001b[0m \u001b[0mrun_metadata\u001b[0m\u001b[0;34m:\u001b[0m\u001b[0;34m\u001b[0m\u001b[0m\n\u001b[1;32m   1401\u001b[0m           \u001b[0mproto_data\u001b[0m \u001b[0;34m=\u001b[0m \u001b[0mtf_session\u001b[0m\u001b[0;34m.\u001b[0m\u001b[0mTF_GetBuffer\u001b[0m\u001b[0;34m(\u001b[0m\u001b[0mrun_metadata_ptr\u001b[0m\u001b[0;34m)\u001b[0m\u001b[0;34m\u001b[0m\u001b[0m\n",
      "\u001b[0;31mKeyboardInterrupt\u001b[0m: "
     ]
    }
   ],
   "source": [
    "model.fit(x_train, y_train,\n",
    "            batch_size=128,\n",
    "            epochs=1,\n",
    "            validation_data=(x_test, y_test))"
   ]
  },
  {
   "cell_type": "code",
   "execution_count": 0,
   "metadata": {
    "colab": {},
    "colab_type": "code",
    "collapsed": true,
    "id": "XmjpsBgUOqWN"
   },
   "outputs": [],
   "source": [
    "print('accuracy', model.evaluate(x_test, y_test)[1])"
   ]
  },
  {
   "cell_type": "code",
   "execution_count": 0,
   "metadata": {
    "colab": {},
    "colab_type": "code",
    "id": "uTwpXXW0OqWO",
    "outputId": "255c088f-141b-47c7-e41b-78265389dcf8"
   },
   "outputs": [
    {
     "data": {
      "text/plain": [
       "0.012558275559531387"
      ]
     },
     "execution_count": 116,
     "metadata": {
      "tags": []
     },
     "output_type": "execute_result"
    }
   ],
   "source": [
    "(y_train == 57).mean() # guess majority class baseline"
   ]
  },
  {
   "cell_type": "code",
   "execution_count": 0,
   "metadata": {
    "colab": {},
    "colab_type": "code",
    "collapsed": true,
    "id": "luYk04aPOqWR"
   },
   "outputs": [],
   "source": [
    "# keras.metrics.top_k_categorical_accuracy(y_test, predicted, k=5)"
   ]
  },
  {
   "cell_type": "markdown",
   "metadata": {
    "colab_type": "text",
    "id": "ACtPY2hyOqWS"
   },
   "source": [
    "#### 1. Faster RNN Model: CuDNNLSTM "
   ]
  },
  {
   "cell_type": "markdown",
   "metadata": {},
   "source": [
    "- Run on Google Colab, 14 mins.    \n",
    "- Very overfit"
   ]
  },
  {
   "cell_type": "code",
   "execution_count": 0,
   "metadata": {
    "colab": {},
    "colab_type": "code",
    "collapsed": true,
    "id": "wjN0EYtzOqWT"
   },
   "outputs": [],
   "source": [
    "# ref: https://keras.io/layers/recurrent/#cudnnlstm\n",
    "# faster LSTM implementation\n",
    "\n",
    "model1 = Sequential()\n",
    "model1.add(Embedding(input_dim=max_features,\n",
    "                     output_dim=128))\n",
    "model1.add(CuDNNLSTM(128))\n",
    "model1.add(Dropout(0.5))\n",
    "model1.add(Dense(100, activation=\"softmax\"))\n",
    "\n",
    "model1.compile(optimizer=\"adam\", loss=\"sparse_categorical_crossentropy\", metrics=[\"acc\"])"
   ]
  },
  {
   "cell_type": "code",
   "execution_count": 170,
   "metadata": {
    "colab": {
     "base_uri": "https://localhost:8080/",
     "height": 578
    },
    "colab_type": "code",
    "id": "qS9g-XvpOqWY",
    "outputId": "104d4326-b4cb-46e5-bfd8-13e531856e88"
   },
   "outputs": [
    {
     "name": "stdout",
     "output_type": "stream",
     "text": [
      "Train on 58129 samples, validate on 14533 samples\n",
      "Epoch 1/16\n",
      "58129/58129 [==============================] - 31s 541us/step - loss: 4.3885 - acc: 0.0355 - val_loss: 4.1402 - val_acc: 0.0617\n",
      "Epoch 2/16\n",
      "58129/58129 [==============================] - 29s 499us/step - loss: 3.9996 - acc: 0.0799 - val_loss: 3.8960 - val_acc: 0.1011\n",
      "Epoch 3/16\n",
      "58129/58129 [==============================] - 29s 499us/step - loss: 3.6316 - acc: 0.1414 - val_loss: 3.7022 - val_acc: 0.1438\n",
      "Epoch 4/16\n",
      "58129/58129 [==============================] - 29s 503us/step - loss: 3.2425 - acc: 0.2188 - val_loss: 3.5500 - val_acc: 0.1838\n",
      "Epoch 5/16\n",
      "58129/58129 [==============================] - 29s 505us/step - loss: 2.8523 - acc: 0.3047 - val_loss: 3.5331 - val_acc: 0.2100\n",
      "Epoch 6/16\n",
      "58129/58129 [==============================] - 29s 501us/step - loss: 2.4923 - acc: 0.3857 - val_loss: 3.5573 - val_acc: 0.2233\n",
      "Epoch 7/16\n",
      "58129/58129 [==============================] - 29s 504us/step - loss: 2.1769 - acc: 0.4616 - val_loss: 3.6286 - val_acc: 0.2403\n",
      "Epoch 8/16\n",
      "58129/58129 [==============================] - 29s 494us/step - loss: 1.8854 - acc: 0.5320 - val_loss: 3.7997 - val_acc: 0.2389\n",
      "Epoch 9/16\n",
      "58129/58129 [==============================] - 29s 499us/step - loss: 1.6347 - acc: 0.5909 - val_loss: 3.8971 - val_acc: 0.2418\n",
      "Epoch 10/16\n",
      "58129/58129 [==============================] - 29s 504us/step - loss: 1.4160 - acc: 0.6478 - val_loss: 4.1129 - val_acc: 0.2451\n",
      "Epoch 11/16\n",
      "58129/58129 [==============================] - 29s 507us/step - loss: 1.2273 - acc: 0.6917 - val_loss: 4.3583 - val_acc: 0.2471\n",
      "Epoch 12/16\n",
      "58129/58129 [==============================] - 29s 505us/step - loss: 1.0791 - acc: 0.7273 - val_loss: 4.5167 - val_acc: 0.2437\n",
      "Epoch 13/16\n",
      "58129/58129 [==============================] - 29s 499us/step - loss: 0.9395 - acc: 0.7615 - val_loss: 4.7891 - val_acc: 0.2437\n",
      "Epoch 14/16\n",
      "58129/58129 [==============================] - 29s 505us/step - loss: 0.8442 - acc: 0.7846 - val_loss: 4.8873 - val_acc: 0.2426\n",
      "Epoch 15/16\n",
      "58129/58129 [==============================] - 29s 498us/step - loss: 0.7480 - acc: 0.8077 - val_loss: 5.1396 - val_acc: 0.2441\n",
      "Epoch 16/16\n",
      "58129/58129 [==============================] - 29s 497us/step - loss: 0.6523 - acc: 0.8339 - val_loss: 5.3096 - val_acc: 0.2411\n"
     ]
    }
   ],
   "source": [
    "history1 = model1.fit(x_train, y_train,\n",
    "            batch_size=128,\n",
    "            epochs=16,\n",
    "            validation_data=(x_test, y_test))"
   ]
  },
  {
   "cell_type": "code",
   "execution_count": 181,
   "metadata": {
    "colab": {
     "base_uri": "https://localhost:8080/",
     "height": 51
    },
    "colab_type": "code",
    "id": "WtytRsl0OqWb",
    "outputId": "bf6b3b20-872d-476a-b1ec-c8a21b7e1a70"
   },
   "outputs": [
    {
     "name": "stdout",
     "output_type": "stream",
     "text": [
      "14533/14533 [==============================] - 7s 484us/step\n",
      "accuracy 0.24110644739558246\n"
     ]
    }
   ],
   "source": [
    "print('accuracy', model1.evaluate(x_test, y_test)[1])"
   ]
  },
  {
   "cell_type": "code",
   "execution_count": 182,
   "metadata": {
    "colab": {
     "base_uri": "https://localhost:8080/",
     "height": 51
    },
    "colab_type": "code",
    "id": "KKSaYcGAOqWe",
    "outputId": "f54956c5-a547-44ad-e55d-02dc4ca80de0"
   },
   "outputs": [
    {
     "name": "stdout",
     "output_type": "stream",
     "text": [
      "58129/58129 [==============================] - 28s 481us/step\n",
      "accuracy 0.9177690997639528\n"
     ]
    }
   ],
   "source": [
    "print('accuracy', model1.evaluate(x_train, y_train)[1])"
   ]
  },
  {
   "cell_type": "code",
   "execution_count": 0,
   "metadata": {
    "colab": {},
    "colab_type": "code",
    "collapsed": true,
    "id": "EAPr3t92osUN"
   },
   "outputs": [],
   "source": [
    "# save models #ref: https://medium.com/tensorflow/train-on-google-colab-and-run-on-the-browser-a-case-study-8a45f9b1474e\n"
   ]
  },
  {
   "cell_type": "markdown",
   "metadata": {
    "colab_type": "text",
    "id": "O3WV4r1678hK"
   },
   "source": [
    "#### 2. Bidirectional"
   ]
  },
  {
   "cell_type": "markdown",
   "metadata": {},
   "source": [
    "- Also overfits "
   ]
  },
  {
   "cell_type": "code",
   "execution_count": 0,
   "metadata": {
    "colab": {},
    "colab_type": "code",
    "collapsed": true,
    "id": "rWVRTrfszvFd"
   },
   "outputs": [],
   "source": [
    "# Bidirectional\n",
    "model2 = Sequential()\n",
    "model2.add(Embedding(input_dim=max_features,\n",
    "                     output_dim=128))\n",
    "\n",
    "model2.add(Bidirectional(CuDNNLSTM(128)))\n",
    "model2.add(Dropout(0.5))\n",
    "model2.add(Dense(100, activation=\"softmax\"))\n",
    "\n",
    "model2.compile(optimizer=\"adam\", loss=\"sparse_categorical_crossentropy\", metrics=[\"acc\"])"
   ]
  },
  {
   "cell_type": "code",
   "execution_count": 205,
   "metadata": {
    "colab": {
     "base_uri": "https://localhost:8080/",
     "height": 578
    },
    "colab_type": "code",
    "id": "xW0Rm8Dxz_aS",
    "outputId": "b60270b2-05f7-4f97-8ce5-03903902ab90"
   },
   "outputs": [
    {
     "name": "stdout",
     "output_type": "stream",
     "text": [
      "Train on 58129 samples, validate on 14533 samples\n",
      "Epoch 1/16\n",
      "58129/58129 [==============================] - 55s 944us/step - loss: 4.3900 - acc: 0.0376 - val_loss: 4.1689 - val_acc: 0.0581\n",
      "Epoch 2/16\n",
      "58129/58129 [==============================] - 53s 906us/step - loss: 4.0336 - acc: 0.0756 - val_loss: 3.9293 - val_acc: 0.0972\n",
      "Epoch 3/16\n",
      "58129/58129 [==============================] - 52s 897us/step - loss: 3.6746 - acc: 0.1363 - val_loss: 3.6980 - val_acc: 0.1485\n",
      "Epoch 4/16\n",
      "58129/58129 [==============================] - 52s 887us/step - loss: 3.2963 - acc: 0.2091 - val_loss: 3.5974 - val_acc: 0.1812\n",
      "Epoch 5/16\n",
      "58129/58129 [==============================] - 52s 889us/step - loss: 2.9070 - acc: 0.2940 - val_loss: 3.5326 - val_acc: 0.2072\n",
      "Epoch 6/16\n",
      "58129/58129 [==============================] - 52s 896us/step - loss: 2.5616 - acc: 0.3727 - val_loss: 3.5402 - val_acc: 0.2257\n",
      "Epoch 7/16\n",
      "58129/58129 [==============================] - 52s 893us/step - loss: 2.2489 - acc: 0.4428 - val_loss: 3.6088 - val_acc: 0.2351\n",
      "Epoch 8/16\n",
      "58129/58129 [==============================] - 52s 900us/step - loss: 1.9617 - acc: 0.5128 - val_loss: 3.7237 - val_acc: 0.2461\n",
      "Epoch 9/16\n",
      "58129/58129 [==============================] - 52s 892us/step - loss: 1.7075 - acc: 0.5739 - val_loss: 3.8799 - val_acc: 0.2430\n",
      "Epoch 10/16\n",
      "58129/58129 [==============================] - 52s 887us/step - loss: 1.4950 - acc: 0.6279 - val_loss: 4.0897 - val_acc: 0.2467\n",
      "Epoch 11/16\n",
      "58129/58129 [==============================] - 52s 903us/step - loss: 1.2967 - acc: 0.6733 - val_loss: 4.2930 - val_acc: 0.2469\n",
      "Epoch 12/16\n",
      "58129/58129 [==============================] - 52s 901us/step - loss: 1.1546 - acc: 0.7101 - val_loss: 4.4834 - val_acc: 0.2435\n",
      "Epoch 13/16\n",
      "58129/58129 [==============================] - 52s 894us/step - loss: 1.0122 - acc: 0.7449 - val_loss: 4.7126 - val_acc: 0.2443\n",
      "Epoch 14/16\n",
      "58129/58129 [==============================] - 52s 896us/step - loss: 0.8915 - acc: 0.7738 - val_loss: 4.8658 - val_acc: 0.2448\n",
      "Epoch 15/16\n",
      "58129/58129 [==============================] - 52s 897us/step - loss: 0.8098 - acc: 0.7931 - val_loss: 5.1250 - val_acc: 0.2419\n",
      "Epoch 16/16\n",
      "58129/58129 [==============================] - 52s 898us/step - loss: 0.7257 - acc: 0.8131 - val_loss: 5.2955 - val_acc: 0.2438\n"
     ]
    }
   ],
   "source": [
    "history2 = model2.fit(x_train, y_train,\n",
    "            batch_size=128,\n",
    "            epochs=16,\n",
    "            validation_data=(x_test, y_test))"
   ]
  },
  {
   "cell_type": "code",
   "execution_count": 206,
   "metadata": {
    "colab": {
     "base_uri": "https://localhost:8080/",
     "height": 51
    },
    "colab_type": "code",
    "id": "nItp-PAp3YLU",
    "outputId": "f23c87d9-cd70-4ce4-d473-ea65fb5d73a4"
   },
   "outputs": [
    {
     "name": "stdout",
     "output_type": "stream",
     "text": [
      "14533/14533 [==============================] - 13s 905us/step\n",
      "accuracy 0.24378999518337577\n"
     ]
    }
   ],
   "source": [
    "print('accuracy', model2.evaluate(x_test, y_test)[1])"
   ]
  },
  {
   "cell_type": "markdown",
   "metadata": {
    "colab_type": "text",
    "id": "kwaGx5Y8aa6v"
   },
   "source": [
    "#### 3. Averaging Word Embeddings: Very Simple Model/ Similar to FastText"
   ]
  },
  {
   "cell_type": "code",
   "execution_count": 0,
   "metadata": {
    "colab": {},
    "colab_type": "code",
    "collapsed": true,
    "id": "6Q-j-IriadPv"
   },
   "outputs": [],
   "source": [
    "#ref: https://github.com/keras-team/keras/blob/master/examples/imdb_fasttext.py"
   ]
  },
  {
   "cell_type": "code",
   "execution_count": 0,
   "metadata": {
    "colab": {},
    "colab_type": "code",
    "collapsed": true,
    "id": "uoX7381Uad0f"
   },
   "outputs": [],
   "source": [
    "model3 = Sequential()\n",
    "model3.add(Embedding(input_dim=max_features,\n",
    "                    output_dim=128))\n",
    "\n",
    "# we add a GlobalAveragePooling1D, which will average the embeddings\n",
    "# of all words in the document\n",
    "model3.add(GlobalAveragePooling1D())\n",
    "model3.add(Dropout(0.5))\n",
    "\n",
    "model3.add(Dense(100, activation=\"softmax\"))"
   ]
  },
  {
   "cell_type": "code",
   "execution_count": 0,
   "metadata": {
    "colab": {},
    "colab_type": "code",
    "collapsed": true,
    "id": "iHCRHm-pad3E"
   },
   "outputs": [],
   "source": [
    "opt = keras.optimizers.Adam(lr=0.01) # speed up optimization\n",
    "model3.compile(optimizer=opt, loss=\"sparse_categorical_crossentropy\", metrics=[\"acc\"])"
   ]
  },
  {
   "cell_type": "code",
   "execution_count": 233,
   "metadata": {
    "colab": {
     "base_uri": "https://localhost:8080/",
     "height": 578
    },
    "colab_type": "code",
    "id": "NOpgYwlcad5s",
    "outputId": "e5dd2ca2-5618-4853-f994-769d349c19b4"
   },
   "outputs": [
    {
     "name": "stdout",
     "output_type": "stream",
     "text": [
      "Train on 58129 samples, validate on 14533 samples\n",
      "Epoch 1/16\n",
      "58129/58129 [==============================] - 6s 101us/step - loss: 4.4629 - acc: 0.0437 - val_loss: 4.2385 - val_acc: 0.0897\n",
      "Epoch 2/16\n",
      "58129/58129 [==============================] - 3s 51us/step - loss: 3.9853 - acc: 0.1360 - val_loss: 3.7689 - val_acc: 0.1910\n",
      "Epoch 3/16\n",
      "58129/58129 [==============================] - 3s 51us/step - loss: 3.5121 - acc: 0.2322 - val_loss: 3.4123 - val_acc: 0.2544\n",
      "Epoch 4/16\n",
      "58129/58129 [==============================] - 3s 52us/step - loss: 3.1155 - acc: 0.3150 - val_loss: 3.1577 - val_acc: 0.3095\n",
      "Epoch 5/16\n",
      "58129/58129 [==============================] - 3s 52us/step - loss: 2.7806 - acc: 0.3850 - val_loss: 2.9838 - val_acc: 0.3423\n",
      "Epoch 6/16\n",
      "58129/58129 [==============================] - 3s 52us/step - loss: 2.4962 - acc: 0.4494 - val_loss: 2.8611 - val_acc: 0.3621\n",
      "Epoch 7/16\n",
      "58129/58129 [==============================] - 3s 52us/step - loss: 2.2576 - acc: 0.5005 - val_loss: 2.7541 - val_acc: 0.3784\n",
      "Epoch 8/16\n",
      "58129/58129 [==============================] - 3s 52us/step - loss: 2.0471 - acc: 0.5444 - val_loss: 2.6990 - val_acc: 0.3879\n",
      "Epoch 9/16\n",
      "58129/58129 [==============================] - 3s 51us/step - loss: 1.8573 - acc: 0.5877 - val_loss: 2.6370 - val_acc: 0.4001\n",
      "Epoch 10/16\n",
      "58129/58129 [==============================] - 3s 51us/step - loss: 1.6863 - acc: 0.6258 - val_loss: 2.6236 - val_acc: 0.4034\n",
      "Epoch 11/16\n",
      "58129/58129 [==============================] - 3s 51us/step - loss: 1.5349 - acc: 0.6603 - val_loss: 2.5730 - val_acc: 0.4175\n",
      "Epoch 12/16\n",
      "58129/58129 [==============================] - 3s 52us/step - loss: 1.4007 - acc: 0.6913 - val_loss: 2.5672 - val_acc: 0.4143\n",
      "Epoch 13/16\n",
      "58129/58129 [==============================] - 3s 52us/step - loss: 1.2835 - acc: 0.7151 - val_loss: 2.5778 - val_acc: 0.4153\n",
      "Epoch 14/16\n",
      "58129/58129 [==============================] - 3s 52us/step - loss: 1.1732 - acc: 0.7389 - val_loss: 2.5580 - val_acc: 0.4230\n",
      "Epoch 15/16\n",
      "58129/58129 [==============================] - 3s 52us/step - loss: 1.0828 - acc: 0.7611 - val_loss: 2.5917 - val_acc: 0.4159\n",
      "Epoch 16/16\n",
      "58129/58129 [==============================] - 3s 52us/step - loss: 0.9927 - acc: 0.7790 - val_loss: 2.6232 - val_acc: 0.4187\n"
     ]
    }
   ],
   "source": [
    "history3 = model3.fit(x_train, y_train,\n",
    "            batch_size=256,\n",
    "            epochs=16,\n",
    "            validation_data=(x_test, y_test))"
   ]
  },
  {
   "cell_type": "code",
   "execution_count": 234,
   "metadata": {
    "colab": {
     "base_uri": "https://localhost:8080/",
     "height": 51
    },
    "colab_type": "code",
    "id": "pHXxs7SMcevP",
    "outputId": "99a4c2ca-c40d-420a-d26f-fbb55ccd2cfa"
   },
   "outputs": [
    {
     "name": "stdout",
     "output_type": "stream",
     "text": [
      "14533/14533 [==============================] - 1s 73us/step\n",
      "accuracy 0.41870226381441555\n"
     ]
    }
   ],
   "source": [
    "print('accuracy', model3.evaluate(x_test, y_test)[1])"
   ]
  },
  {
   "cell_type": "markdown",
   "metadata": {
    "colab_type": "text",
    "id": "vu4I54U94pCU"
   },
   "source": [
    "#### Plots + Compare Models"
   ]
  },
  {
   "cell_type": "code",
   "execution_count": 0,
   "metadata": {
    "colab": {},
    "colab_type": "code",
    "collapsed": true,
    "id": "dpqBQOCv77jb"
   },
   "outputs": [],
   "source": [
    "import matplotlib.pyplot as plt"
   ]
  },
  {
   "cell_type": "code",
   "execution_count": 176,
   "metadata": {
    "colab": {
     "base_uri": "https://localhost:8080/",
     "height": 376
    },
    "colab_type": "code",
    "id": "XV6F62tw4tmW",
    "outputId": "572d2466-3e7f-46da-b307-eb587c142011"
   },
   "outputs": [
    {
     "data": {
      "image/png": "[encoded data removed]",
      "text/plain": [
       "<matplotlib.figure.Figure at 0x7fcd58491dd8>"
      ]
     },
     "metadata": {
      "tags": []
     },
     "output_type": "display_data"
    }
   ],
   "source": [
    "# plot test vs. train to show overfitting!\n",
    "\n",
    "# Get loss function\n",
    "acc = history1.history['acc']\n",
    "val_acc = history1.history['val_acc']\n",
    "\n",
    "# Setup grid for plotting\n",
    "epochs =range(1, len(loss) + 1)\n",
    "# Plot\n",
    "plt.plot(epochs, acc, 'bo', label='Training Accuracy')\n",
    "plt.plot(epochs, val_acc, 'b', label='Validation Accuracy')\n",
    "plt.title('Training and validation accuracy')\n",
    "plt.xlabel('Epochs')\n",
    "plt.ylabel('Accuracy')\n",
    "plt.legend()\n",
    "plt.show()"
   ]
  },
  {
   "cell_type": "code",
   "execution_count": 0,
   "metadata": {
    "colab": {},
    "colab_type": "code",
    "collapsed": true,
    "id": "5oivhueE4to8"
   },
   "outputs": [],
   "source": [
    "# plot accuracy rates by author\n",
    "from sklearn.metrics import classification_report, accuracy_score, confusion_matrix\n",
    "import numpy as np\n",
    "\n",
    "y_pred = model1.predict_classes(x_test)\n",
    "# print(classification_report(y_test, y_pred))\n",
    "\n",
    "cm = confusion_matrix(y_test, y_pred)\n",
    "cm = cm.astype('float') / cm.sum(axis=1)[:, np.newaxis]\n",
    "accuracies = cm.diagonal()"
   ]
  },
  {
   "cell_type": "code",
   "execution_count": 193,
   "metadata": {
    "colab": {
     "base_uri": "https://localhost:8080/",
     "height": 362
    },
    "colab_type": "code",
    "id": "VdZNk1LU_aka",
    "outputId": "ad80c0a5-f366-40bb-dba4-a9b668b808b4"
   },
   "outputs": [
    {
     "data": {
      "image/png": "[encoded data removed]",
      "text/plain": [
       "<matplotlib.figure.Figure at 0x7fcd580f05c0>"
      ]
     },
     "metadata": {
      "tags": []
     },
     "output_type": "display_data"
    }
   ],
   "source": [
    "plt.hist(accuracies, bins=20)\n",
    "plt.title('Histogram of Test Accuracy by Author')\n",
    "plt.show()"
   ]
  },
  {
   "cell_type": "code",
   "execution_count": 215,
   "metadata": {
    "colab": {
     "base_uri": "https://localhost:8080/",
     "height": 153
    },
    "colab_type": "code",
    "id": "LrybKk4_4trp",
    "outputId": "5f133a10-0085-4bd5-dbed-37017d1bdfd1"
   },
   "outputs": [
    {
     "name": "stdout",
     "output_type": "stream",
     "text": [
      "0.7034482758620689\n",
      "68\n",
      "      author                                               body\n",
      "9346  djphan  Kansas is an underrated pickup opportunity... ...\n",
      "9347  djphan  how can i point to their argument without usin...\n",
      "9348  djphan  i did.. i see the subsequent comments... and t...\n",
      "9349  djphan  i literally quoted it in my first reply...  \\n...\n",
      "9350  djphan  youre saying that clinton did it herself... th...\n"
     ]
    }
   ],
   "source": [
    "# lots of politics, and very consistent writing style\n",
    "print(accuracies.max())\n",
    "print(accuracies.argmax())\n",
    "print(df[['author', 'body']][df['author_id'] == 68][0:5])"
   ]
  },
  {
   "cell_type": "code",
   "execution_count": 186,
   "metadata": {
    "colab": {
     "base_uri": "https://localhost:8080/",
     "height": 1408
    },
    "colab_type": "code",
    "id": "UhdOlqNYEKEi",
    "outputId": "6ca328d3-f253-4332-85cd-f774ebdbe0aa"
   },
   "outputs": [],
   "source": [
    "# # keras.metrics.top_k_categorical_accuracy(y_test, predicted, k=5)\n",
    "# from keras.metrics import top_k_categorical_accuracy\n",
    "# keras.metrics.top_k_categorical_accuracy(y_test, y_pred, k=2)"
   ]
  },
  {
   "cell_type": "code",
   "execution_count": 0,
   "metadata": {
    "colab": {},
    "colab_type": "code",
    "collapsed": true,
    "id": "zxI_848gEKHC"
   },
   "outputs": [],
   "source": []
  },
  {
   "cell_type": "markdown",
   "metadata": {
    "colab_type": "text",
    "id": "EPWrrnylJEyy"
   },
   "source": [
    "#### Save Models"
   ]
  },
  {
   "cell_type": "code",
   "execution_count": 0,
   "metadata": {
    "colab": {},
    "colab_type": "code",
    "collapsed": true,
    "id": "8ekOaucEEKJ7"
   },
   "outputs": [],
   "source": [
    "model1.save('model_l.h5')"
   ]
  },
  {
   "cell_type": "code",
   "execution_count": 0,
   "metadata": {
    "colab": {},
    "colab_type": "code",
    "collapsed": true,
    "id": "Cscj086rJd_A"
   },
   "outputs": [],
   "source": []
  },
  {
   "cell_type": "markdown",
   "metadata": {
    "colab_type": "text",
    "id": "IIzjZg8g8DPt"
   },
   "source": [
    "#### EXTRA. Multilayer"
   ]
  },
  {
   "cell_type": "code",
   "execution_count": 0,
   "metadata": {
    "colab": {},
    "colab_type": "code",
    "collapsed": true,
    "id": "jEe6VRBJ8FTr"
   },
   "outputs": [],
   "source": [
    "# Multilayer LSTM\n",
    "model5 = Sequential()\n",
    "model5.add(Embedding(input_dim=max_features,\n",
    "                    output_dim=128))\n",
    "\n",
    "model5.add(CuDNNLSTM(128, return_sequences=True))\n",
    "model5.add(Dropout(0.5))\n",
    "\n",
    "model5.add(CuDNNLSTM(64))\n",
    "model5.add(Dropout(0.5))\n",
    "\n",
    "model5.add(Dense(100, activation=\"softmax\"))\n",
    "\n",
    "model5.compile(optimizer=\"adam\", loss=\"sparse_categorical_crossentropy\", metrics=[\"acc\"])"
   ]
  },
  {
   "cell_type": "code",
   "execution_count": 68,
   "metadata": {
    "colab": {
     "base_uri": "https://localhost:8080/",
     "height": 578
    },
    "colab_type": "code",
    "id": "UjqWWQ5e8ZW9",
    "outputId": "3f51f76b-0a7b-486c-9bd4-40c96529f5d9"
   },
   "outputs": [
    {
     "name": "stdout",
     "output_type": "stream",
     "text": [
      "Train on 58129 samples, validate on 14533 samples\n",
      "Epoch 1/16\n",
      "58129/58129 [==============================] - 46s 797us/step - loss: 4.4563 - acc: 0.0301 - val_loss: 4.2198 - val_acc: 0.0588\n",
      "Epoch 2/16\n",
      "58129/58129 [==============================] - 44s 764us/step - loss: 4.1062 - acc: 0.0710 - val_loss: 3.9898 - val_acc: 0.0962\n",
      "Epoch 3/16\n",
      "58129/58129 [==============================] - 44s 756us/step - loss: 3.8289 - acc: 0.1135 - val_loss: 3.7824 - val_acc: 0.1303\n",
      "Epoch 4/16\n",
      "58129/58129 [==============================] - 44s 765us/step - loss: 3.6063 - acc: 0.1513 - val_loss: 3.6834 - val_acc: 0.1494\n",
      "Epoch 5/16\n",
      "58129/58129 [==============================] - 44s 761us/step - loss: 3.4146 - acc: 0.1893 - val_loss: 3.6164 - val_acc: 0.1682\n",
      "Epoch 6/16\n",
      "58129/58129 [==============================] - 44s 753us/step - loss: 3.2467 - acc: 0.2262 - val_loss: 3.5665 - val_acc: 0.1844\n",
      "Epoch 7/16\n",
      "58129/58129 [==============================] - 44s 754us/step - loss: 3.0894 - acc: 0.2571 - val_loss: 3.5518 - val_acc: 0.1955\n",
      "Epoch 8/16\n",
      "58129/58129 [==============================] - 44s 758us/step - loss: 2.9556 - acc: 0.2874 - val_loss: 3.5660 - val_acc: 0.1987\n",
      "Epoch 9/16\n",
      "58129/58129 [==============================] - 44s 759us/step - loss: 2.8245 - acc: 0.3168 - val_loss: 3.5581 - val_acc: 0.2088\n",
      "Epoch 10/16\n",
      "58129/58129 [==============================] - 44s 760us/step - loss: 2.7004 - acc: 0.3417 - val_loss: 3.5921 - val_acc: 0.2119\n",
      "Epoch 11/16\n",
      "58129/58129 [==============================] - 44s 763us/step - loss: 2.5878 - acc: 0.3679 - val_loss: 3.6038 - val_acc: 0.2152\n",
      "Epoch 12/16\n",
      "58129/58129 [==============================] - 44s 760us/step - loss: 2.4848 - acc: 0.3867 - val_loss: 3.6584 - val_acc: 0.2154\n",
      "Epoch 13/16\n",
      "58129/58129 [==============================] - 44s 759us/step - loss: 2.3831 - acc: 0.4115 - val_loss: 3.7496 - val_acc: 0.2236\n",
      "Epoch 14/16\n",
      "58129/58129 [==============================] - 44s 759us/step - loss: 2.2842 - acc: 0.4332 - val_loss: 3.8436 - val_acc: 0.2204\n",
      "Epoch 15/16\n",
      "58129/58129 [==============================] - 44s 760us/step - loss: 2.2001 - acc: 0.4511 - val_loss: 3.8885 - val_acc: 0.2209\n",
      "Epoch 16/16\n",
      "58129/58129 [==============================] - 44s 763us/step - loss: 2.1047 - acc: 0.4734 - val_loss: 3.9038 - val_acc: 0.2218\n"
     ]
    }
   ],
   "source": [
    "history5 = model5.fit(x_train, y_train,\n",
    "            batch_size=256,\n",
    "            epochs=16,\n",
    "            validation_data=(x_test, y_test))"
   ]
  },
  {
   "cell_type": "code",
   "execution_count": 69,
   "metadata": {
    "colab": {
     "base_uri": "https://localhost:8080/",
     "height": 51
    },
    "colab_type": "code",
    "id": "lcUApzDS8WBF",
    "outputId": "ec94ed9f-3901-443d-8cd0-008963136faf"
   },
   "outputs": [
    {
     "name": "stdout",
     "output_type": "stream",
     "text": [
      "14533/14533 [==============================] - 13s 883us/step\n",
      "accuracy 0.22183995045860463\n"
     ]
    }
   ],
   "source": [
    "print('accuracy', model4.evaluate(x_test, y_test)[1])"
   ]
  }
 ],
 "metadata": {
  "accelerator": "GPU",
  "colab": {
   "name": "text_preprocessing_and_modeling.ipynb",
   "provenance": [],
   "toc_visible": true,
   "version": "0.3.2"
  },
  "kernelspec": {
   "display_name": "Python 3",
   "language": "python",
   "name": "python3"
  },
  "language_info": {
   "codemirror_mode": {
    "name": "ipython",
    "version": 3
   },
   "file_extension": ".py",
   "mimetype": "text/x-python",
   "name": "python",
   "nbconvert_exporter": "python",
   "pygments_lexer": "ipython3",
   "version": "3.6.1"
  }
 },
 "nbformat": 4,
 "nbformat_minor": 1
}
