{
  "nbformat": 4,
  "nbformat_minor": 0,
  "metadata": {
    "colab": {
      "name": "text_preprocessing_and_modeling.ipynb",
      "version": "0.3.2",
      "provenance": [],
      "toc_visible": true
    },
    "kernelspec": {
      "display_name": "Python 3",
      "language": "python",
      "name": "python3"
    },
    "accelerator": "GPU"
  },
  "cells": [
    {
      "metadata": {
        "colab_type": "text",
        "id": "Lu4PRj6EOqVP"
      },
      "cell_type": "markdown",
      "source": [
        "### Preprocess Text Data and Modelling \n",
        "### ANLY 590 Project\n"
      ]
    },
    {
      "metadata": {
        "colab_type": "text",
        "id": "n8Z-jpowOqVR"
      },
      "cell_type": "markdown",
      "source": [
        "***"
      ]
    },
    {
      "metadata": {
        "colab_type": "text",
        "id": "-YouD-XvOqVS"
      },
      "cell_type": "markdown",
      "source": [
        "#### Prep"
      ]
    },
    {
      "metadata": {
        "colab_type": "code",
        "id": "Xo1IkInHOqVS",
        "outputId": "b6afba72-ecbc-47bb-9d34-8b39ca8d67c6",
        "colab": {
          "base_uri": "https://localhost:8080/",
          "height": 218
        }
      },
      "cell_type": "code",
      "source": [
        "# set working directory\n",
        "import os\n",
        "import sys\n",
        "path = '/Users/kgedney/Documents/georgetown/anly590/author-id-project'\n",
        "os.chdir(path)"
      ],
      "execution_count": 0,
      "outputs": [
        {
          "output_type": "error",
          "ename": "FileNotFoundError",
          "evalue": "ignored",
          "traceback": [
            "\u001b[0;31m---------------------------------------------------------------------------\u001b[0m",
            "\u001b[0;31mFileNotFoundError\u001b[0m                         Traceback (most recent call last)",
            "\u001b[0;32m<ipython-input-9-491fee56f3b9>\u001b[0m in \u001b[0;36m<module>\u001b[0;34m()\u001b[0m\n\u001b[1;32m      2\u001b[0m \u001b[0;32mimport\u001b[0m \u001b[0msys\u001b[0m\u001b[0;34m\u001b[0m\u001b[0;34m\u001b[0m\u001b[0m\n\u001b[1;32m      3\u001b[0m \u001b[0mpath\u001b[0m \u001b[0;34m=\u001b[0m \u001b[0;34m'/Users/kgedney/Documents/georgetown/anly590/author-id-project'\u001b[0m\u001b[0;34m\u001b[0m\u001b[0;34m\u001b[0m\u001b[0m\n\u001b[0;32m----> 4\u001b[0;31m \u001b[0mos\u001b[0m\u001b[0;34m.\u001b[0m\u001b[0mchdir\u001b[0m\u001b[0;34m(\u001b[0m\u001b[0mpath\u001b[0m\u001b[0;34m)\u001b[0m\u001b[0;34m\u001b[0m\u001b[0;34m\u001b[0m\u001b[0m\n\u001b[0m",
            "\u001b[0;31mFileNotFoundError\u001b[0m: [Errno 2] No such file or directory: '/Users/kgedney/Documents/georgetown/anly590/author-id-project'"
          ]
        }
      ]
    },
    {
      "metadata": {
        "colab_type": "code",
        "id": "dm9sAyvLOqVW",
        "colab": {}
      },
      "cell_type": "code",
      "source": [
        "import numpy as np\n",
        "import pandas as pd"
      ],
      "execution_count": 0,
      "outputs": []
    },
    {
      "metadata": {
        "colab_type": "code",
        "id": "R6czjVsqOqVY",
        "colab": {}
      },
      "cell_type": "code",
      "source": [
        "# load filtered data\n",
        "df = pd.read_csv('filtered_data.csv')"
      ],
      "execution_count": 0,
      "outputs": []
    },
    {
      "metadata": {
        "colab_type": "text",
        "id": "SSt2URxSOqVa"
      },
      "cell_type": "markdown",
      "source": [
        "#### Google Colab Prep"
      ]
    },
    {
      "metadata": {
        "id": "Rm4u23MHa1AE",
        "colab_type": "code",
        "colab": {}
      },
      "cell_type": "code",
      "source": [
        "import numpy as np\n",
        "import pandas as pd"
      ],
      "execution_count": 0,
      "outputs": []
    },
    {
      "metadata": {
        "colab_type": "code",
        "id": "W4WEkqUsOqVb",
        "outputId": "a2d59ceb-9b8a-4345-e13a-47c8025b222e",
        "colab": {
          "base_uri": "https://localhost:8080/",
          "height": 122
        }
      },
      "cell_type": "code",
      "source": [
        "# get data from Google drive\n",
        "from google.colab import drive\n",
        "drive.mount('/content/gdrive')"
      ],
      "execution_count": 1,
      "outputs": [
        {
          "output_type": "stream",
          "text": [
            "Go to this URL in a browser: https://accounts.google.com/o/oauth2/auth?client_id=947318989803-6bn6qk8qdgf4n4g3pfee6491hc0brc4i.apps.googleusercontent.com&redirect_uri=urn%3Aietf%3Awg%3Aoauth%3A2.0%3Aoob&scope=email%20https%3A%2F%2Fwww.googleapis.com%2Fauth%2Fdocs.test%20https%3A%2F%2Fwww.googleapis.com%2Fauth%2Fdrive%20https%3A%2F%2Fwww.googleapis.com%2Fauth%2Fdrive.photos.readonly%20https%3A%2F%2Fwww.googleapis.com%2Fauth%2Fpeopleapi.readonly&response_type=code\n",
            "\n",
            "Enter your authorization code:\n",
            "··········\n",
            "Mounted at /content/gdrive\n"
          ],
          "name": "stdout"
        }
      ]
    },
    {
      "metadata": {
        "colab_type": "code",
        "id": "QJ11dU2QOqVe",
        "outputId": "65a03e4e-9d03-476e-8d91-1028e100ebc4",
        "colab": {
          "base_uri": "https://localhost:8080/",
          "height": 527
        }
      },
      "cell_type": "code",
      "source": [
        "# manually add file from local to drive\n",
        "df = pd.read_csv('filtered_data.csv')\n",
        "df.head()"
      ],
      "execution_count": 4,
      "outputs": [
        {
          "output_type": "execute_result",
          "data": {
            "text/html": [
              "<div>\n",
              "<style scoped>\n",
              "    .dataframe tbody tr th:only-of-type {\n",
              "        vertical-align: middle;\n",
              "    }\n",
              "\n",
              "    .dataframe tbody tr th {\n",
              "        vertical-align: top;\n",
              "    }\n",
              "\n",
              "    .dataframe thead th {\n",
              "        text-align: right;\n",
              "    }\n",
              "</style>\n",
              "<table border=\"1\" class=\"dataframe\">\n",
              "  <thead>\n",
              "    <tr style=\"text-align: right;\">\n",
              "      <th></th>\n",
              "      <th>author</th>\n",
              "      <th>body</th>\n",
              "      <th>subreddit</th>\n",
              "      <th>permalink</th>\n",
              "      <th>num_chars</th>\n",
              "      <th>num_words</th>\n",
              "    </tr>\n",
              "  </thead>\n",
              "  <tbody>\n",
              "    <tr>\n",
              "      <th>0</th>\n",
              "      <td>GuaranteedAdmission</td>\n",
              "      <td>News aggregators don't filter Opinion pieces i...</td>\n",
              "      <td>AskAnAmerican</td>\n",
              "      <td>/r/AskAnAmerican/comments/9zrnid/america_whats...</td>\n",
              "      <td>69</td>\n",
              "      <td>11</td>\n",
              "    </tr>\n",
              "    <tr>\n",
              "      <th>1</th>\n",
              "      <td>GuaranteedAdmission</td>\n",
              "      <td>You can be in favor of a policy he supports an...</td>\n",
              "      <td>AskReddit</td>\n",
              "      <td>/r/AskReddit/comments/9zklcs/as_a_brit_who_onl...</td>\n",
              "      <td>74</td>\n",
              "      <td>17</td>\n",
              "    </tr>\n",
              "    <tr>\n",
              "      <th>2</th>\n",
              "      <td>GuaranteedAdmission</td>\n",
              "      <td>That depends. What is the penalty for breaking...</td>\n",
              "      <td>AskReddit</td>\n",
              "      <td>/r/AskReddit/comments/9zkfcd/how_would_you_fee...</td>\n",
              "      <td>202</td>\n",
              "      <td>36</td>\n",
              "    </tr>\n",
              "    <tr>\n",
              "      <th>3</th>\n",
              "      <td>GuaranteedAdmission</td>\n",
              "      <td>Because I like to think long term. Tax cuts fo...</td>\n",
              "      <td>AskReddit</td>\n",
              "      <td>/r/AskReddit/comments/9yxl98/liberals_of_reddi...</td>\n",
              "      <td>120</td>\n",
              "      <td>22</td>\n",
              "    </tr>\n",
              "    <tr>\n",
              "      <th>4</th>\n",
              "      <td>GuaranteedAdmission</td>\n",
              "      <td>We don't talk about the Highway Shoes, OP! Are...</td>\n",
              "      <td>AskReddit</td>\n",
              "      <td>/r/AskReddit/comments/9yrbvd/people_who_lost_a...</td>\n",
              "      <td>110</td>\n",
              "      <td>22</td>\n",
              "    </tr>\n",
              "  </tbody>\n",
              "</table>\n",
              "</div>"
            ],
            "text/plain": [
              "                author                                               body  \\\n",
              "0  GuaranteedAdmission  News aggregators don't filter Opinion pieces i...   \n",
              "1  GuaranteedAdmission  You can be in favor of a policy he supports an...   \n",
              "2  GuaranteedAdmission  That depends. What is the penalty for breaking...   \n",
              "3  GuaranteedAdmission  Because I like to think long term. Tax cuts fo...   \n",
              "4  GuaranteedAdmission  We don't talk about the Highway Shoes, OP! Are...   \n",
              "\n",
              "       subreddit                                          permalink  \\\n",
              "0  AskAnAmerican  /r/AskAnAmerican/comments/9zrnid/america_whats...   \n",
              "1      AskReddit  /r/AskReddit/comments/9zklcs/as_a_brit_who_onl...   \n",
              "2      AskReddit  /r/AskReddit/comments/9zkfcd/how_would_you_fee...   \n",
              "3      AskReddit  /r/AskReddit/comments/9yxl98/liberals_of_reddi...   \n",
              "4      AskReddit  /r/AskReddit/comments/9yrbvd/people_who_lost_a...   \n",
              "\n",
              "   num_chars  num_words  \n",
              "0         69         11  \n",
              "1         74         17  \n",
              "2        202         36  \n",
              "3        120         22  \n",
              "4        110         22  "
            ]
          },
          "metadata": {
            "tags": []
          },
          "execution_count": 4
        }
      ]
    },
    {
      "metadata": {
        "id": "O_Nh1qcIYl6S",
        "colab_type": "code",
        "outputId": "f70af870-26f1-4e88-dc0f-fee435dbedca",
        "colab": {
          "base_uri": "https://localhost:8080/",
          "height": 816
        }
      },
      "cell_type": "code",
      "source": [
        "# download nltk\n",
        "import nltk\n",
        "nltk.download('popular')"
      ],
      "execution_count": 5,
      "outputs": [
        {
          "output_type": "stream",
          "text": [
            "[nltk_data] Downloading collection 'popular'\n",
            "[nltk_data]    | \n",
            "[nltk_data]    | Downloading package cmudict to /root/nltk_data...\n",
            "[nltk_data]    |   Unzipping corpora/cmudict.zip.\n",
            "[nltk_data]    | Downloading package gazetteers to /root/nltk_data...\n",
            "[nltk_data]    |   Unzipping corpora/gazetteers.zip.\n",
            "[nltk_data]    | Downloading package genesis to /root/nltk_data...\n",
            "[nltk_data]    |   Unzipping corpora/genesis.zip.\n",
            "[nltk_data]    | Downloading package gutenberg to /root/nltk_data...\n",
            "[nltk_data]    |   Unzipping corpora/gutenberg.zip.\n",
            "[nltk_data]    | Downloading package inaugural to /root/nltk_data...\n",
            "[nltk_data]    |   Unzipping corpora/inaugural.zip.\n",
            "[nltk_data]    | Downloading package movie_reviews to\n",
            "[nltk_data]    |     /root/nltk_data...\n",
            "[nltk_data]    |   Unzipping corpora/movie_reviews.zip.\n",
            "[nltk_data]    | Downloading package names to /root/nltk_data...\n",
            "[nltk_data]    |   Unzipping corpora/names.zip.\n",
            "[nltk_data]    | Downloading package shakespeare to /root/nltk_data...\n",
            "[nltk_data]    |   Unzipping corpora/shakespeare.zip.\n",
            "[nltk_data]    | Downloading package stopwords to /root/nltk_data...\n",
            "[nltk_data]    |   Unzipping corpora/stopwords.zip.\n",
            "[nltk_data]    | Downloading package treebank to /root/nltk_data...\n",
            "[nltk_data]    |   Unzipping corpora/treebank.zip.\n",
            "[nltk_data]    | Downloading package twitter_samples to\n",
            "[nltk_data]    |     /root/nltk_data...\n",
            "[nltk_data]    |   Unzipping corpora/twitter_samples.zip.\n",
            "[nltk_data]    | Downloading package omw to /root/nltk_data...\n",
            "[nltk_data]    |   Unzipping corpora/omw.zip.\n",
            "[nltk_data]    | Downloading package wordnet to /root/nltk_data...\n",
            "[nltk_data]    |   Unzipping corpora/wordnet.zip.\n",
            "[nltk_data]    | Downloading package wordnet_ic to /root/nltk_data...\n",
            "[nltk_data]    |   Unzipping corpora/wordnet_ic.zip.\n",
            "[nltk_data]    | Downloading package words to /root/nltk_data...\n",
            "[nltk_data]    |   Unzipping corpora/words.zip.\n",
            "[nltk_data]    | Downloading package maxent_ne_chunker to\n",
            "[nltk_data]    |     /root/nltk_data...\n",
            "[nltk_data]    |   Unzipping chunkers/maxent_ne_chunker.zip.\n",
            "[nltk_data]    | Downloading package punkt to /root/nltk_data...\n",
            "[nltk_data]    |   Unzipping tokenizers/punkt.zip.\n",
            "[nltk_data]    | Downloading package snowball_data to\n",
            "[nltk_data]    |     /root/nltk_data...\n",
            "[nltk_data]    | Downloading package averaged_perceptron_tagger to\n",
            "[nltk_data]    |     /root/nltk_data...\n",
            "[nltk_data]    |   Unzipping taggers/averaged_perceptron_tagger.zip.\n",
            "[nltk_data]    | \n",
            "[nltk_data]  Done downloading collection popular\n"
          ],
          "name": "stdout"
        },
        {
          "output_type": "execute_result",
          "data": {
            "text/plain": [
              "True"
            ]
          },
          "metadata": {
            "tags": []
          },
          "execution_count": 5
        }
      ]
    },
    {
      "metadata": {
        "colab_type": "text",
        "id": "bJeXBWrvOqVg"
      },
      "cell_type": "markdown",
      "source": [
        "#### Text Cleaning\n",
        "\n",
        "ref: https://www.analyticsvidhya.com/blog/2018/02/the-different-methods-deal-text-data-predictive-python/"
      ]
    },
    {
      "metadata": {
        "colab_type": "code",
        "id": "EHcxp11nOqVg",
        "colab": {}
      },
      "cell_type": "code",
      "source": [
        "# remove URLs and replace as '<url>'\n",
        "import re\n",
        "df['body_no_urls'] = df.apply(lambda row: re.sub(r\"http\\S+\", \"<url>\", row['body']), axis=1) "
      ],
      "execution_count": 0,
      "outputs": []
    },
    {
      "metadata": {
        "colab_type": "code",
        "id": "9-JkOW2-OqVl",
        "colab": {}
      },
      "cell_type": "code",
      "source": [
        "# tokenize\n",
        "from nltk.tokenize import word_tokenize\n",
        "df['tokenized_nltk']  = df.apply(lambda row: word_tokenize(row['body_no_urls']), axis=1)"
      ],
      "execution_count": 0,
      "outputs": []
    },
    {
      "metadata": {
        "colab_type": "code",
        "id": "SB80UklaOqVq",
        "colab": {}
      },
      "cell_type": "code",
      "source": [
        "# remove NERs"
      ],
      "execution_count": 0,
      "outputs": []
    },
    {
      "metadata": {
        "colab_type": "code",
        "id": "I3DFwHCGOqVs",
        "colab": {}
      },
      "cell_type": "code",
      "source": [
        "# import spacy\n",
        "# nlp = spacy.load('en')"
      ],
      "execution_count": 0,
      "outputs": []
    },
    {
      "metadata": {
        "colab_type": "code",
        "id": "8CEK1miBOqVu",
        "colab": {}
      },
      "cell_type": "code",
      "source": [
        "# def get_ners(input_doc):\n",
        "#     doc = nlp(input_doc)\n",
        "#     ners = str(doc.ents)\n",
        "#     return (ners)"
      ],
      "execution_count": 0,
      "outputs": []
    },
    {
      "metadata": {
        "colab_type": "text",
        "id": "jouchqjcOqVw"
      },
      "cell_type": "markdown",
      "source": [
        "***"
      ]
    },
    {
      "metadata": {
        "colab_type": "text",
        "id": "muQGleHGOqVx"
      },
      "cell_type": "markdown",
      "source": [
        "#### Preprocess  for Modelling"
      ]
    },
    {
      "metadata": {
        "colab_type": "code",
        "id": "ZxVtQyhwOqVy",
        "colab": {}
      },
      "cell_type": "code",
      "source": [
        "# install packages\n",
        "import numpy as np\n",
        "\n",
        "from sklearn import metrics\n",
        "from sklearn.model_selection import train_test_split\n",
        "from sklearn.feature_extraction.text import CountVectorizer, TfidfVectorizer\n",
        "\n",
        "import keras\n",
        "from keras import optimizers\n",
        "import tensorflow as tf\n",
        "\n",
        "from keras.utils import np_utils\n",
        "from keras.preprocessing import sequence\n",
        "from keras.preprocessing.text import Tokenizer\n",
        "\n",
        "from keras.models import Model, Sequential\n",
        "from keras.layers import Input, Dense, CuDNNLSTM, LSTM, Embedding, Bidirectional, GlobalAveragePooling1D, Conv1D, Activation, Flatten, Dropout, MaxPooling1D, Embedding, GlobalMaxPooling1D\n",
        "\n",
        "from keras.layers.core import Dense, Dropout"
      ],
      "execution_count": 0,
      "outputs": []
    },
    {
      "metadata": {
        "colab_type": "code",
        "id": "2ToC3POKOqVz",
        "colab": {}
      },
      "cell_type": "code",
      "source": [
        "# create class assignments\n",
        "df['author_id'] = pd.Categorical(df.author).codes"
      ],
      "execution_count": 0,
      "outputs": []
    },
    {
      "metadata": {
        "colab_type": "text",
        "id": "pQZCE5H7OqV1"
      },
      "cell_type": "markdown",
      "source": [
        "#### 0. Baseline Model: Linear SVM"
      ]
    },
    {
      "metadata": {
        "colab_type": "code",
        "id": "U8LagNfdOqV2",
        "outputId": "a92888e3-1e16-4354-86c5-505a00608c31",
        "colab": {
          "base_uri": "https://localhost:8080/",
          "height": 34
        }
      },
      "cell_type": "code",
      "source": [
        "x = df['body_no_urls'].values\n",
        "y = df['author_id'].values\n",
        "\n",
        "x_train, x_test, y_train, y_test = train_test_split(x, y, test_size=0.20, random_state=22)\n",
        "\n",
        "tfidf_vec   = TfidfVectorizer()\n",
        "x_train_vec = tfidf_vec.fit_transform(x_train)\n",
        "x_test_vec  = tfidf_vec.transform(x_test)\n",
        "x_train_vec.shape"
      ],
      "execution_count": 10,
      "outputs": [
        {
          "output_type": "execute_result",
          "data": {
            "text/plain": [
              "(58129, 53161)"
            ]
          },
          "metadata": {
            "tags": []
          },
          "execution_count": 10
        }
      ]
    },
    {
      "metadata": {
        "colab_type": "code",
        "id": "FLAMT9ioOqV6",
        "colab": {}
      },
      "cell_type": "code",
      "source": [
        "from sklearn.svm import LinearSVC\n",
        "clf             = LinearSVC().fit(x_train_vec, y_train)\n",
        "predicted       = clf.predict(x_test_vec)\n",
        "predicted_score = clf.decision_function(x_test_vec)"
      ],
      "execution_count": 0,
      "outputs": []
    },
    {
      "metadata": {
        "colab_type": "code",
        "id": "0x4wr9ziOqV9",
        "outputId": "35e5c0e8-2b22-4073-f16a-7298c15e14f1",
        "colab": {
          "base_uri": "https://localhost:8080/",
          "height": 34
        }
      },
      "cell_type": "code",
      "source": [
        "print('accuracy', metrics.accuracy_score(y_test, predicted))"
      ],
      "execution_count": 12,
      "outputs": [
        {
          "output_type": "stream",
          "text": [
            "accuracy 0.37789857565540497\n"
          ],
          "name": "stdout"
        }
      ]
    },
    {
      "metadata": {
        "id": "ycStNkaYNWwd",
        "colab_type": "code",
        "colab": {}
      },
      "cell_type": "code",
      "source": [
        "# top k accuracy (# ref: https://scikit-learn.org/stable/modules/svm.html)\n",
        "predicted_score = clf.decision_function(x_test_vec)\n",
        "predicted_score.shape"
      ],
      "execution_count": 0,
      "outputs": []
    },
    {
      "metadata": {
        "id": "-2aH0jUsNZeP",
        "colab_type": "code",
        "colab": {}
      },
      "cell_type": "code",
      "source": [
        "# transform matrix of predictions to put them in order\n",
        "best_n = predicted_score.argsort()[:,::-1] # need to do in reverse order thats why need \"[::-1]\""
      ],
      "execution_count": 0,
      "outputs": []
    },
    {
      "metadata": {
        "id": "OX4iMj0LNbBP",
        "colab_type": "code",
        "colab": {}
      },
      "cell_type": "code",
      "source": [
        "# set up function to calculate\n",
        "count = 0\n",
        "for i in range(0, y_test.shape[0]):\n",
        "    if (y_test[i] in best_n[i,0:5]):\n",
        "        count = count + 1\n",
        "\n",
        "top_5_acc = count / y_test.shape[0]\n",
        "top_5_acc"
      ],
      "execution_count": 0,
      "outputs": []
    },
    {
      "metadata": {
        "colab_type": "text",
        "id": "TMyJAaDMOqWA"
      },
      "cell_type": "markdown",
      "source": [
        "#### Preprocess Data for Keras Models"
      ]
    },
    {
      "metadata": {
        "colab_type": "code",
        "id": "qZT9aqDkOqWA",
        "outputId": "2093593d-3755-4b7e-b994-98e537db117e",
        "colab": {
          "base_uri": "https://localhost:8080/",
          "height": 34
        }
      },
      "cell_type": "code",
      "source": [
        "# data preprocess\n",
        "x = df['tokenized_nltk'].values\n",
        "y = df['author_id'].values\n",
        "\n",
        "# create sequences\n",
        "max_features = 25000\n",
        "tokenizer    = Tokenizer(num_words = max_features)\n",
        "tokenizer.fit_on_texts(x)\n",
        "x_sequences  = tokenizer.texts_to_sequences(x)\n",
        "\n",
        "# pad each sequence to be max length\n",
        "maxlen = max(len(x) for x in x_sequences)\n",
        "print(maxlen)\n",
        "x_sequences = sequence.pad_sequences(x_sequences, maxlen)"
      ],
      "execution_count": 26,
      "outputs": [
        {
          "output_type": "stream",
          "text": [
            "236\n"
          ],
          "name": "stdout"
        }
      ]
    },
    {
      "metadata": {
        "id": "QpCgS_kgmAin",
        "colab_type": "code",
        "outputId": "673af8c3-8594-4811-8af7-823e94a18256",
        "colab": {
          "base_uri": "https://localhost:8080/",
          "height": 51
        }
      },
      "cell_type": "code",
      "source": [
        "# from keras.utils import to_categorical\n",
        "# print(y.shape)\n",
        "# y = to_categorical(y)\n",
        "# print(y.shape)"
      ],
      "execution_count": 0,
      "outputs": [
        {
          "output_type": "stream",
          "text": [
            "(72662,)\n",
            "(72662, 100)\n"
          ],
          "name": "stdout"
        }
      ]
    },
    {
      "metadata": {
        "colab_type": "code",
        "id": "0DGqh3gtOqWC",
        "colab": {}
      },
      "cell_type": "code",
      "source": [
        "# split test and train\n",
        "x_train, x_test, y_train, y_test = train_test_split(x_sequences, y, test_size=0.20, random_state=22)"
      ],
      "execution_count": 0,
      "outputs": []
    },
    {
      "metadata": {
        "colab_type": "text",
        "id": "ACtPY2hyOqWS"
      },
      "cell_type": "markdown",
      "source": [
        "#### 1. Faster RNN Model: CuDNNLSTM "
      ]
    },
    {
      "metadata": {
        "id": "7Uxo-JLmYl7I",
        "colab_type": "text"
      },
      "cell_type": "markdown",
      "source": [
        "- Run on Google Colab, 14 mins.    \n",
        "- Very overfit"
      ]
    },
    {
      "metadata": {
        "colab_type": "code",
        "id": "wjN0EYtzOqWT",
        "colab": {}
      },
      "cell_type": "code",
      "source": [
        "# ref: https://keras.io/layers/recurrent/#cudnnlstm\n",
        "# faster LSTM implementation\n",
        "\n",
        "model1 = Sequential()\n",
        "model1.add(Embedding(input_dim=max_features,\n",
        "                     output_dim=128))\n",
        "model1.add(CuDNNLSTM(128))\n",
        "model1.add(Dropout(0.5))\n",
        "model1.add(Dense(100, activation=\"softmax\"))\n",
        "\n",
        "model1.compile(optimizer=\"adam\", loss=\"sparse_categorical_crossentropy\", metrics=[\"acc\"])"
      ],
      "execution_count": 0,
      "outputs": []
    },
    {
      "metadata": {
        "colab_type": "code",
        "id": "qS9g-XvpOqWY",
        "outputId": "d5357e7d-21fc-4c68-f25d-59025abfbbc8",
        "colab": {
          "base_uri": "https://localhost:8080/",
          "height": 598
        }
      },
      "cell_type": "code",
      "source": [
        "history1 = model1.fit(x_train, y_train,\n",
        "            batch_size=128,\n",
        "            epochs=16,\n",
        "            validation_data=(x_test, y_test))"
      ],
      "execution_count": 29,
      "outputs": [
        {
          "output_type": "stream",
          "text": [
            "Train on 58129 samples, validate on 14533 samples\n",
            "Epoch 1/16\n",
            "58129/58129 [==============================] - 28s 488us/step - loss: 4.3931 - acc: 0.0378 - val_loss: 4.1605 - val_acc: 0.0605\n",
            "Epoch 2/16\n",
            "58129/58129 [==============================] - 28s 478us/step - loss: 4.0029 - acc: 0.0878 - val_loss: 3.8811 - val_acc: 0.1096\n",
            "Epoch 3/16\n",
            "58129/58129 [==============================] - 28s 476us/step - loss: 3.6247 - acc: 0.1495 - val_loss: 3.7126 - val_acc: 0.1479\n",
            "Epoch 4/16\n",
            "58129/58129 [==============================] - 28s 479us/step - loss: 3.2245 - acc: 0.2255 - val_loss: 3.5383 - val_acc: 0.1886\n",
            "Epoch 5/16\n",
            "58129/58129 [==============================] - 28s 477us/step - loss: 2.8306 - acc: 0.3098 - val_loss: 3.5387 - val_acc: 0.2068\n",
            "Epoch 6/16\n",
            "58129/58129 [==============================] - 28s 475us/step - loss: 2.4861 - acc: 0.3881 - val_loss: 3.5731 - val_acc: 0.2205\n",
            "Epoch 7/16\n",
            "58129/58129 [==============================] - 28s 477us/step - loss: 2.1764 - acc: 0.4613 - val_loss: 3.6501 - val_acc: 0.2322\n",
            "Epoch 8/16\n",
            "58129/58129 [==============================] - 28s 474us/step - loss: 1.8966 - acc: 0.5253 - val_loss: 3.8007 - val_acc: 0.2353\n",
            "Epoch 9/16\n",
            "58129/58129 [==============================] - 27s 472us/step - loss: 1.6503 - acc: 0.5888 - val_loss: 3.9091 - val_acc: 0.2399\n",
            "Epoch 10/16\n",
            "58129/58129 [==============================] - 28s 477us/step - loss: 1.4262 - acc: 0.6442 - val_loss: 4.1044 - val_acc: 0.2428\n",
            "Epoch 11/16\n",
            "58129/58129 [==============================] - 28s 477us/step - loss: 1.2379 - acc: 0.6900 - val_loss: 4.3489 - val_acc: 0.2421\n",
            "Epoch 12/16\n",
            "58129/58129 [==============================] - 28s 478us/step - loss: 1.0793 - acc: 0.7278 - val_loss: 4.5701 - val_acc: 0.2409\n",
            "Epoch 13/16\n",
            "58129/58129 [==============================] - 28s 483us/step - loss: 0.9398 - acc: 0.7642 - val_loss: 4.7764 - val_acc: 0.2413\n",
            "Epoch 14/16\n",
            "58129/58129 [==============================] - 28s 480us/step - loss: 0.8337 - acc: 0.7870 - val_loss: 4.9669 - val_acc: 0.2319\n",
            "Epoch 15/16\n",
            "58129/58129 [==============================] - 28s 480us/step - loss: 0.7570 - acc: 0.8052 - val_loss: 5.1702 - val_acc: 0.2372\n",
            "Epoch 16/16\n",
            "58129/58129 [==============================] - 28s 483us/step - loss: 0.6618 - acc: 0.8303 - val_loss: 5.4107 - val_acc: 0.2354\n"
          ],
          "name": "stdout"
        }
      ]
    },
    {
      "metadata": {
        "colab_type": "code",
        "id": "WtytRsl0OqWb",
        "outputId": "e9c57a29-b0da-42db-fff4-6b61bfd059e2",
        "colab": {
          "base_uri": "https://localhost:8080/",
          "height": 51
        }
      },
      "cell_type": "code",
      "source": [
        "print('accuracy', model1.evaluate(x_test, y_test)[1])"
      ],
      "execution_count": 17,
      "outputs": [
        {
          "output_type": "stream",
          "text": [
            "14533/14533 [==============================] - 6s 421us/step\n",
            "accuracy 0.24482212894893698\n"
          ],
          "name": "stdout"
        }
      ]
    },
    {
      "metadata": {
        "colab_type": "code",
        "id": "KKSaYcGAOqWe",
        "outputId": "23088fa0-46a2-4e9b-b18a-aa67ee9c7275",
        "colab": {
          "base_uri": "https://localhost:8080/",
          "height": 51
        }
      },
      "cell_type": "code",
      "source": [
        "print('accuracy', model1.evaluate(x_train, y_train)[1])"
      ],
      "execution_count": 18,
      "outputs": [
        {
          "output_type": "stream",
          "text": [
            "58129/58129 [==============================] - 25s 422us/step\n",
            "accuracy 0.9159455693402401\n"
          ],
          "name": "stdout"
        }
      ]
    },
    {
      "metadata": {
        "id": "rJoHK6wBFppn",
        "colab_type": "code",
        "colab": {}
      },
      "cell_type": "code",
      "source": [
        ""
      ],
      "execution_count": 0,
      "outputs": []
    },
    {
      "metadata": {
        "id": "KOjFcZZWFrWs",
        "colab_type": "text"
      },
      "cell_type": "markdown",
      "source": [
        "#### 2. CNN"
      ]
    },
    {
      "metadata": {
        "id": "SZ0QGhAPGXHg",
        "colab_type": "code",
        "colab": {}
      },
      "cell_type": "code",
      "source": [
        "model_conv2 = Sequential()\n",
        "model_conv2.add(Embedding(max_features, output_dim = 30, input_length=236))\n",
        "model_conv2.add(Dropout(0.2))\n",
        "model_conv2.add(Conv1D(128, 5, activation='relu'))\n",
        "model_conv2.add(Conv1D(128, 5, activation='relu'))\n",
        "model_conv2.add(GlobalMaxPooling1D())\n",
        "model_conv2.add(Dropout(0.2))\n",
        "model_conv2.add(Dense(100, activation='softmax'))"
      ],
      "execution_count": 0,
      "outputs": []
    },
    {
      "metadata": {
        "id": "NY6n9ha5GXKH",
        "colab_type": "code",
        "colab": {}
      },
      "cell_type": "code",
      "source": [
        "from keras import optimizers\n",
        "opt = optimizers.rmsprop(lr=0.001) # speed up optimization\n",
        "model_conv2.compile(optimizer=opt, loss=\"sparse_categorical_crossentropy\", metrics=[\"acc\"])\n"
      ],
      "execution_count": 0,
      "outputs": []
    },
    {
      "metadata": {
        "id": "hALcnyruGXMp",
        "colab_type": "code",
        "colab": {
          "base_uri": "https://localhost:8080/",
          "height": 598
        },
        "outputId": "f44b2716-c7b8-4cd9-ba91-07d4b4765b6b"
      },
      "cell_type": "code",
      "source": [
        "history2 = model_conv2.fit(x_train, y_train,\n",
        "            batch_size=128,\n",
        "            epochs=16,\n",
        "            validation_data=(x_test, y_test))"
      ],
      "execution_count": 35,
      "outputs": [
        {
          "output_type": "stream",
          "text": [
            "Train on 58129 samples, validate on 14533 samples\n",
            "Epoch 1/16\n",
            "58129/58129 [==============================] - 11s 188us/step - loss: 4.4664 - acc: 0.0254 - val_loss: 4.2822 - val_acc: 0.0520\n",
            "Epoch 2/16\n",
            "58129/58129 [==============================] - 10s 178us/step - loss: 4.2079 - acc: 0.0592 - val_loss: 4.1073 - val_acc: 0.0750\n",
            "Epoch 3/16\n",
            "58129/58129 [==============================] - 10s 178us/step - loss: 4.0162 - acc: 0.0892 - val_loss: 3.9565 - val_acc: 0.1044\n",
            "Epoch 4/16\n",
            "58129/58129 [==============================] - 10s 178us/step - loss: 3.8364 - acc: 0.1194 - val_loss: 3.8121 - val_acc: 0.1280\n",
            "Epoch 5/16\n",
            "58129/58129 [==============================] - 10s 178us/step - loss: 3.6756 - acc: 0.1485 - val_loss: 3.7152 - val_acc: 0.1531\n",
            "Epoch 6/16\n",
            "58129/58129 [==============================] - 10s 178us/step - loss: 3.5385 - acc: 0.1714 - val_loss: 3.6596 - val_acc: 0.1660\n",
            "Epoch 7/16\n",
            "58129/58129 [==============================] - 10s 178us/step - loss: 3.4033 - acc: 0.1968 - val_loss: 3.5850 - val_acc: 0.1795\n",
            "Epoch 8/16\n",
            "58129/58129 [==============================] - 10s 178us/step - loss: 3.2834 - acc: 0.2232 - val_loss: 3.5282 - val_acc: 0.1943\n",
            "Epoch 9/16\n",
            "58129/58129 [==============================] - 10s 178us/step - loss: 3.1634 - acc: 0.2444 - val_loss: 3.4847 - val_acc: 0.1994\n",
            "Epoch 10/16\n",
            "58129/58129 [==============================] - 10s 177us/step - loss: 3.0594 - acc: 0.2663 - val_loss: 3.5008 - val_acc: 0.2080\n",
            "Epoch 11/16\n",
            "58129/58129 [==============================] - 10s 177us/step - loss: 2.9582 - acc: 0.2850 - val_loss: 3.5390 - val_acc: 0.2009\n",
            "Epoch 12/16\n",
            "58129/58129 [==============================] - 10s 178us/step - loss: 2.8675 - acc: 0.3070 - val_loss: 3.4744 - val_acc: 0.2204\n",
            "Epoch 13/16\n",
            "58129/58129 [==============================] - 10s 178us/step - loss: 2.7856 - acc: 0.3244 - val_loss: 3.4889 - val_acc: 0.2227\n",
            "Epoch 14/16\n",
            "58129/58129 [==============================] - 10s 178us/step - loss: 2.7083 - acc: 0.3393 - val_loss: 3.4880 - val_acc: 0.2249\n",
            "Epoch 15/16\n",
            "58129/58129 [==============================] - 10s 178us/step - loss: 2.6439 - acc: 0.3549 - val_loss: 3.4767 - val_acc: 0.2309\n",
            "Epoch 16/16\n",
            "58129/58129 [==============================] - 10s 177us/step - loss: 2.5726 - acc: 0.3713 - val_loss: 3.4288 - val_acc: 0.2351\n"
          ],
          "name": "stdout"
        }
      ]
    },
    {
      "metadata": {
        "id": "islqOUDZGXPS",
        "colab_type": "code",
        "colab": {
          "base_uri": "https://localhost:8080/",
          "height": 51
        },
        "outputId": "8088e2c2-dcd8-456d-f91c-a0e1cc8a5229"
      },
      "cell_type": "code",
      "source": [
        "model_conv2.evaluate(x_test,y_test)\n"
      ],
      "execution_count": 36,
      "outputs": [
        {
          "output_type": "stream",
          "text": [
            "14533/14533 [==============================] - 2s 116us/step\n"
          ],
          "name": "stdout"
        },
        {
          "output_type": "execute_result",
          "data": {
            "text/plain": [
              "[3.428831457017187, 0.23505126264466394]"
            ]
          },
          "metadata": {
            "tags": []
          },
          "execution_count": 36
        }
      ]
    },
    {
      "metadata": {
        "id": "HxqC0VsOGBbF",
        "colab_type": "text"
      },
      "cell_type": "markdown",
      "source": [
        "#### 3. CNN + LSTM"
      ]
    },
    {
      "metadata": {
        "id": "KHV_jJyiGEmD",
        "colab_type": "code",
        "colab": {}
      },
      "cell_type": "code",
      "source": [
        "model_conv3 = Sequential()\n",
        "model_conv3.add(Embedding(max_features, output_dim = 30, input_length=236))\n",
        "model_conv3.add(Dropout(0.2))\n",
        "model_conv3.add(Conv1D(128, 5, activation='relu'))\n",
        "model_conv3.add(MaxPooling1D(4))\n",
        "model_conv3.add(LSTM(100))\n",
        "#model_conv.add(GlobalMaxPooling1D())\n",
        "\n",
        "model_conv3.add(Dense(100, activation='softmax'))"
      ],
      "execution_count": 0,
      "outputs": []
    },
    {
      "metadata": {
        "id": "HKP5F_8cGEok",
        "colab_type": "code",
        "colab": {}
      },
      "cell_type": "code",
      "source": [
        "opt = optimizers.rmsprop(lr=0.001) # speed up optimization\n",
        "model_conv3.compile(optimizer=opt, loss=\"sparse_categorical_crossentropy\", metrics=[\"acc\"])"
      ],
      "execution_count": 0,
      "outputs": []
    },
    {
      "metadata": {
        "id": "L-vX6kJWGErL",
        "colab_type": "code",
        "colab": {
          "base_uri": "https://localhost:8080/",
          "height": 598
        },
        "outputId": "ee5bf922-49f7-4bad-96f3-32f826102010"
      },
      "cell_type": "code",
      "source": [
        "history3 = model_conv3.fit(x_train, y_train,\n",
        "            batch_size=128,\n",
        "            epochs=16,\n",
        "            validation_data=(x_test, y_test))"
      ],
      "execution_count": 43,
      "outputs": [
        {
          "output_type": "stream",
          "text": [
            "Train on 58129 samples, validate on 14533 samples\n",
            "Epoch 1/16\n",
            "58129/58129 [==============================] - 80s 1ms/step - loss: 4.4109 - acc: 0.0328 - val_loss: 4.2530 - val_acc: 0.0526\n",
            "Epoch 2/16\n",
            "58129/58129 [==============================] - 79s 1ms/step - loss: 4.0749 - acc: 0.0781 - val_loss: 3.9975 - val_acc: 0.0848\n",
            "Epoch 3/16\n",
            "58129/58129 [==============================] - 80s 1ms/step - loss: 3.7999 - acc: 0.1205 - val_loss: 3.8215 - val_acc: 0.1206\n",
            "Epoch 4/16\n",
            "58129/58129 [==============================] - 79s 1ms/step - loss: 3.6037 - acc: 0.1515 - val_loss: 3.7453 - val_acc: 0.1307\n",
            "Epoch 5/16\n",
            "58129/58129 [==============================] - 79s 1ms/step - loss: 3.4513 - acc: 0.1787 - val_loss: 3.6918 - val_acc: 0.1451\n",
            "Epoch 6/16\n",
            "58129/58129 [==============================] - 78s 1ms/step - loss: 3.3130 - acc: 0.2066 - val_loss: 3.6160 - val_acc: 0.1618\n",
            "Epoch 7/16\n",
            "58129/58129 [==============================] - 80s 1ms/step - loss: 3.1778 - acc: 0.2340 - val_loss: 3.5468 - val_acc: 0.1786\n",
            "Epoch 8/16\n",
            "58129/58129 [==============================] - 79s 1ms/step - loss: 3.0461 - acc: 0.2608 - val_loss: 3.5926 - val_acc: 0.1791\n",
            "Epoch 9/16\n",
            "58129/58129 [==============================] - 79s 1ms/step - loss: 2.9216 - acc: 0.2887 - val_loss: 3.4704 - val_acc: 0.1984\n",
            "Epoch 10/16\n",
            "58129/58129 [==============================] - 79s 1ms/step - loss: 2.8040 - acc: 0.3146 - val_loss: 3.4657 - val_acc: 0.2040\n",
            "Epoch 11/16\n",
            "58129/58129 [==============================] - 80s 1ms/step - loss: 2.6887 - acc: 0.3421 - val_loss: 3.4448 - val_acc: 0.2151\n",
            "Epoch 12/16\n",
            "58129/58129 [==============================] - 79s 1ms/step - loss: 2.5844 - acc: 0.3671 - val_loss: 3.5044 - val_acc: 0.2110\n",
            "Epoch 13/16\n",
            "58129/58129 [==============================] - 78s 1ms/step - loss: 2.4881 - acc: 0.3877 - val_loss: 3.4423 - val_acc: 0.2251\n",
            "Epoch 14/16\n",
            "58129/58129 [==============================] - 78s 1ms/step - loss: 2.3957 - acc: 0.4103 - val_loss: 3.5100 - val_acc: 0.2217\n",
            "Epoch 15/16\n",
            "58129/58129 [==============================] - 78s 1ms/step - loss: 2.3071 - acc: 0.4289 - val_loss: 3.4717 - val_acc: 0.2313\n",
            "Epoch 16/16\n",
            "58129/58129 [==============================] - 78s 1ms/step - loss: 2.2279 - acc: 0.4491 - val_loss: 3.5040 - val_acc: 0.2366\n"
          ],
          "name": "stdout"
        }
      ]
    },
    {
      "metadata": {
        "id": "rt0R_1giGEuK",
        "colab_type": "code",
        "colab": {
          "base_uri": "https://localhost:8080/",
          "height": 51
        },
        "outputId": "05bfdc2e-764d-48b8-8609-da7f995c1bb5"
      },
      "cell_type": "code",
      "source": [
        "model_conv3.evaluate(x_test, y_test)\n"
      ],
      "execution_count": 44,
      "outputs": [
        {
          "output_type": "stream",
          "text": [
            "14533/14533 [==============================] - 27s 2ms/step\n"
          ],
          "name": "stdout"
        },
        {
          "output_type": "execute_result",
          "data": {
            "text/plain": [
              "[3.503996890483503, 0.2366338677492603]"
            ]
          },
          "metadata": {
            "tags": []
          },
          "execution_count": 44
        }
      ]
    },
    {
      "metadata": {
        "id": "9PXrKezGGEwz",
        "colab_type": "code",
        "colab": {}
      },
      "cell_type": "code",
      "source": [
        ""
      ],
      "execution_count": 0,
      "outputs": []
    },
    {
      "metadata": {
        "colab_type": "text",
        "id": "kwaGx5Y8aa6v"
      },
      "cell_type": "markdown",
      "source": [
        "#### 4. Simple Pooling Model"
      ]
    },
    {
      "metadata": {
        "colab_type": "code",
        "id": "6Q-j-IriadPv",
        "colab": {}
      },
      "cell_type": "code",
      "source": [
        "#ref: https://github.com/keras-team/keras/blob/master/examples/imdb_fasttext.py"
      ],
      "execution_count": 0,
      "outputs": []
    },
    {
      "metadata": {
        "colab_type": "code",
        "id": "uoX7381Uad0f",
        "colab": {}
      },
      "cell_type": "code",
      "source": [
        "model4 = Sequential()\n",
        "model4.add(Embedding(input_dim=max_features,\n",
        "                    output_dim=128))\n",
        "\n",
        "# we add a GlobalAveragePooling1D, which will average the embeddings\n",
        "# of all words in the document\n",
        "model4.add(GlobalAveragePooling1D())\n",
        "model4.add(Dropout(0.5))\n",
        "\n",
        "model4.add(Dense(100, activation=\"softmax\"))"
      ],
      "execution_count": 0,
      "outputs": []
    },
    {
      "metadata": {
        "colab_type": "code",
        "id": "iHCRHm-pad3E",
        "colab": {}
      },
      "cell_type": "code",
      "source": [
        "opt = keras.optimizers.Adam(lr=0.01) # speed up optimization\n",
        "model4.compile(optimizer=opt, loss=\"sparse_categorical_crossentropy\", metrics=[\"acc\"])"
      ],
      "execution_count": 0,
      "outputs": []
    },
    {
      "metadata": {
        "colab_type": "code",
        "id": "NOpgYwlcad5s",
        "outputId": "609e71ad-e576-4ff8-86a0-cafcbe7b9dd3",
        "colab": {
          "base_uri": "https://localhost:8080/",
          "height": 598
        }
      },
      "cell_type": "code",
      "source": [
        "history4 = model4.fit(x_train, y_train,\n",
        "            batch_size=256,\n",
        "            epochs=16,\n",
        "            validation_data=(x_test, y_test))"
      ],
      "execution_count": 48,
      "outputs": [
        {
          "output_type": "stream",
          "text": [
            "Train on 58129 samples, validate on 14533 samples\n",
            "Epoch 1/16\n",
            "58129/58129 [==============================] - 3s 60us/step - loss: 4.4595 - acc: 0.0427 - val_loss: 4.2287 - val_acc: 0.0951\n",
            "Epoch 2/16\n",
            "58129/58129 [==============================] - 3s 45us/step - loss: 3.9781 - acc: 0.1369 - val_loss: 3.7567 - val_acc: 0.1932\n",
            "Epoch 3/16\n",
            "58129/58129 [==============================] - 3s 46us/step - loss: 3.5101 - acc: 0.2313 - val_loss: 3.4054 - val_acc: 0.2595\n",
            "Epoch 4/16\n",
            "58129/58129 [==============================] - 3s 45us/step - loss: 3.1187 - acc: 0.3109 - val_loss: 3.1730 - val_acc: 0.2976\n",
            "Epoch 5/16\n",
            "58129/58129 [==============================] - 3s 45us/step - loss: 2.7919 - acc: 0.3819 - val_loss: 2.9888 - val_acc: 0.3424\n",
            "Epoch 6/16\n",
            "58129/58129 [==============================] - 3s 45us/step - loss: 2.5117 - acc: 0.4463 - val_loss: 2.8563 - val_acc: 0.3654\n",
            "Epoch 7/16\n",
            "58129/58129 [==============================] - 3s 45us/step - loss: 2.2681 - acc: 0.4973 - val_loss: 2.7587 - val_acc: 0.3791\n",
            "Epoch 8/16\n",
            "58129/58129 [==============================] - 3s 45us/step - loss: 2.0447 - acc: 0.5480 - val_loss: 2.6822 - val_acc: 0.3950\n",
            "Epoch 9/16\n",
            "58129/58129 [==============================] - 3s 45us/step - loss: 1.8613 - acc: 0.5851 - val_loss: 2.6552 - val_acc: 0.3979\n",
            "Epoch 10/16\n",
            "58129/58129 [==============================] - 3s 45us/step - loss: 1.6869 - acc: 0.6275 - val_loss: 2.5878 - val_acc: 0.4113\n",
            "Epoch 11/16\n",
            "58129/58129 [==============================] - 3s 46us/step - loss: 1.5376 - acc: 0.6585 - val_loss: 2.5708 - val_acc: 0.4139\n",
            "Epoch 12/16\n",
            "58129/58129 [==============================] - 3s 45us/step - loss: 1.4046 - acc: 0.6906 - val_loss: 2.5886 - val_acc: 0.4129\n",
            "Epoch 13/16\n",
            "58129/58129 [==============================] - 3s 46us/step - loss: 1.2857 - acc: 0.7157 - val_loss: 2.5720 - val_acc: 0.4191\n",
            "Epoch 14/16\n",
            "58129/58129 [==============================] - 3s 45us/step - loss: 1.1756 - acc: 0.7397 - val_loss: 2.5788 - val_acc: 0.4228\n",
            "Epoch 15/16\n",
            "58129/58129 [==============================] - 3s 45us/step - loss: 1.0857 - acc: 0.7593 - val_loss: 2.5883 - val_acc: 0.4204\n",
            "Epoch 16/16\n",
            "58129/58129 [==============================] - 3s 45us/step - loss: 0.9952 - acc: 0.7778 - val_loss: 2.5963 - val_acc: 0.4223\n"
          ],
          "name": "stdout"
        }
      ]
    },
    {
      "metadata": {
        "colab_type": "code",
        "id": "pHXxs7SMcevP",
        "outputId": "a8267eb6-edc1-45a8-a636-43d338b8e6d2",
        "colab": {
          "base_uri": "https://localhost:8080/",
          "height": 51
        }
      },
      "cell_type": "code",
      "source": [
        "print('accuracy', model4.evaluate(x_test, y_test)[1])"
      ],
      "execution_count": 49,
      "outputs": [
        {
          "output_type": "stream",
          "text": [
            "14533/14533 [==============================] - 1s 52us/step\n",
            "accuracy 0.422349136449109\n"
          ],
          "name": "stdout"
        }
      ]
    },
    {
      "metadata": {
        "colab_type": "text",
        "id": "vu4I54U94pCU"
      },
      "cell_type": "markdown",
      "source": [
        "#### Plots + Compare Models"
      ]
    },
    {
      "metadata": {
        "colab_type": "code",
        "id": "dpqBQOCv77jb",
        "colab": {}
      },
      "cell_type": "code",
      "source": [
        "import matplotlib.pyplot as plt\n",
        "import seaborn as sns\n",
        "sns.set_style(\"whitegrid\")\n",
        "sns.set_context(\"poster\")\n"
      ],
      "execution_count": 0,
      "outputs": []
    },
    {
      "metadata": {
        "colab_type": "code",
        "id": "XV6F62tw4tmW",
        "outputId": "19c37d99-903c-4046-8ff5-43a4bab38317",
        "colab": {
          "base_uri": "https://localhost:8080/",
          "height": 376
        }
      },
      "cell_type": "code",
      "source": [
        "# plot test vs. train to show overfitting!\n",
        "\n",
        "# Get values \n",
        "acc1     = history1.history['acc']\n",
        "val_acc1 = history1.history['val_acc']\n",
        "\n",
        "acc2     = history2.history['acc']\n",
        "val_acc2 = history2.history['val_acc']\n",
        "\n",
        "acc3     = history3.history['acc']\n",
        "val_acc3 = history3.history['val_acc']\n",
        "\n",
        "\n",
        "# Setup grid for plotting\n",
        "epochs = range(1, len(acc) + 1)\n",
        "\n",
        "# plot model 1\n",
        "plt.plot(epochs, acc1, 'bo', label='lstm train', color='k')\n",
        "plt.plot(epochs, val_acc1, 'b', label='lstm val', color='k')\n",
        "\n",
        "# plot model 2\n",
        "plt.plot(epochs, acc2, 'bo', label='blstm train', color='b')\n",
        "plt.plot(epochs, val_acc2, 'b', label='blstm val', color='b')\n",
        "\n",
        "# plot model 3\n",
        "plt.plot(epochs, acc3, 'bo', label='simple train', color='g')\n",
        "plt.plot(epochs, val_acc3, 'b', label='simple val', color='g')\n",
        "\n",
        "plt.title('Training and Validation Accuracy by Model')\n",
        "plt.xlabel('Epochs')\n",
        "plt.ylabel('Accuracy')\n",
        "plt.legend()\n",
        "plt.show()"
      ],
      "execution_count": 0,
      "outputs": [
        {
          "output_type": "display_data",
          "data": {
            "image/png": "[encoded data removed]",
            "text/plain": [
              "<matplotlib.figure.Figure at 0x7fdaab66c278>"
            ]
          },
          "metadata": {
            "tags": []
          }
        }
      ]
    },
    {
      "metadata": {
        "colab_type": "code",
        "id": "5oivhueE4to8",
        "colab": {}
      },
      "cell_type": "code",
      "source": [
        "# plot accuracy rates by author from best model\n",
        "from sklearn.metrics import classification_report, accuracy_score, confusion_matrix\n",
        "import numpy as np\n",
        "\n",
        "y_pred4 = model4.predict_classes(x_test)\n",
        "# print(classification_report(y_test, y_pred))\n",
        "\n",
        "cm = confusion_matrix(y_test, y_pred4) #only works with sparse\n",
        "cm = cm.astype('float') / cm.sum(axis=1)[:, np.newaxis]\n",
        "accuracies = cm.diagonal()"
      ],
      "execution_count": 0,
      "outputs": []
    },
    {
      "metadata": {
        "id": "-SBbkqhfqIYb",
        "colab_type": "code",
        "colab": {}
      },
      "cell_type": "code",
      "source": [
        "test_scores = model4.predict(x_test) # basically the softmax output"
      ],
      "execution_count": 0,
      "outputs": []
    },
    {
      "metadata": {
        "colab_type": "code",
        "id": "VdZNk1LU_aka",
        "outputId": "b6daf06c-c3bd-4be2-8bf1-7e49f6a138ad",
        "colab": {
          "base_uri": "https://localhost:8080/",
          "height": 575
        }
      },
      "cell_type": "code",
      "source": [
        "\n",
        "plt.hist(accuracies, bins=10)\n",
        "plt.title('Simple Pooling Model: Test Accuracies by Author')\n",
        "plt.xlabel('Accuracy')\n",
        "plt.show()"
      ],
      "execution_count": 61,
      "outputs": [
        {
          "output_type": "display_data",
          "data": {
            "image/png": "[encoded data removed]",
            "text/plain": [
              "<matplotlib.figure.Figure at 0x7faa65d224e0>"
            ]
          },
          "metadata": {
            "tags": []
          }
        }
      ]
    },
    {
      "metadata": {
        "id": "S3zA9w_jOwcv",
        "colab_type": "text"
      },
      "cell_type": "markdown",
      "source": [
        "##### Top K Analysis"
      ]
    },
    {
      "metadata": {
        "id": "SX4F9pUyO3Fp",
        "colab_type": "code",
        "colab": {}
      },
      "cell_type": "code",
      "source": [
        "# get predictions for each DL model\n",
        "y_pred1 = model1.predict_classes(x_test)\n",
        "y_pred2 = model_conv2.predict_classes(x_test)\n",
        "y_pred3 = model_conv3.predict_classes(x_test)\n",
        "y_pred4 = model4.predict_classes(x_test)\n",
        "\n",
        "# get scores\n",
        "test_scores1 = model1.predict(x_test) # basically the softmax output\n",
        "test_scores2 = model_conv2.predict(x_test) # basically the softmax output\n",
        "test_scores3 = model_conv3.predict(x_test) # basically the softmax output\n",
        "test_scores4 = model4.predict(x_test) # basically the softmax output"
      ],
      "execution_count": 0,
      "outputs": []
    },
    {
      "metadata": {
        "id": "JlbOeJghPqU9",
        "colab_type": "code",
        "colab": {}
      },
      "cell_type": "code",
      "source": [
        "def topk_acc(y_test, y_pred, k):\n",
        "  return keras.backend.eval(keras.metrics.sparse_top_k_categorical_accuracy(y_test, y_pred, k=k)) # force it to evaluate\n",
        "\n",
        "topk1 = [(k, topk_acc(y_test, test_scores1, k=k)) for k in range(1, 10)]\n",
        "topk2 = [(k, topk_acc(y_test, test_scores2, k=k)) for k in range(1, 10)]\n",
        "topk3 = [(k, topk_acc(y_test, test_scores3, k=k)) for k in range(1, 10)]\n",
        "topk4 = [(k, topk_acc(y_test, test_scores4, k=k)) for k in range(1, 10)]"
      ],
      "execution_count": 0,
      "outputs": []
    },
    {
      "metadata": {
        "id": "LHP-uvZxqJzp",
        "colab_type": "code",
        "outputId": "94a82d65-67ac-44cf-b0ae-6a461cf4223b",
        "colab": {
          "base_uri": "https://localhost:8080/",
          "height": 181
        }
      },
      "cell_type": "code",
      "source": [
        ""
      ],
      "execution_count": 67,
      "outputs": [
        {
          "output_type": "error",
          "ename": "AttributeError",
          "evalue": "ignored",
          "traceback": [
            "\u001b[0;31m---------------------------------------------------------------------------\u001b[0m",
            "\u001b[0;31mAttributeError\u001b[0m                            Traceback (most recent call last)",
            "\u001b[0;32m<ipython-input-67-f4c8e116a1ec>\u001b[0m in \u001b[0;36m<module>\u001b[0;34m()\u001b[0m\n\u001b[0;32m----> 1\u001b[0;31m \u001b[0mplt\u001b[0m\u001b[0;34m.\u001b[0m\u001b[0mplot\u001b[0m\u001b[0;34m(\u001b[0m\u001b[0;34m*\u001b[0m\u001b[0mzip\u001b[0m\u001b[0;34m(\u001b[0m\u001b[0;34m*\u001b[0m\u001b[0msorted\u001b[0m\u001b[0;34m(\u001b[0m\u001b[0mtopk1\u001b[0m\u001b[0;34m.\u001b[0m\u001b[0mitems\u001b[0m\u001b[0;34m(\u001b[0m\u001b[0;34m)\u001b[0m\u001b[0;34m)\u001b[0m\u001b[0;34m)\u001b[0m\u001b[0;34m)\u001b[0m\u001b[0;34m\u001b[0m\u001b[0;34m\u001b[0m\u001b[0m\n\u001b[0m\u001b[1;32m      2\u001b[0m \u001b[0mplt\u001b[0m\u001b[0;34m.\u001b[0m\u001b[0mshow\u001b[0m\u001b[0;34m(\u001b[0m\u001b[0;34m)\u001b[0m\u001b[0;34m\u001b[0m\u001b[0;34m\u001b[0m\u001b[0m\n",
            "\u001b[0;31mAttributeError\u001b[0m: 'list' object has no attribute 'items'"
          ]
        }
      ]
    },
    {
      "metadata": {
        "colab_type": "code",
        "id": "LrybKk4_4trp",
        "outputId": "1d0efa2e-e964-4bbb-be6c-236b27dc0f3c",
        "colab": {
          "base_uri": "https://localhost:8080/",
          "height": 153
        }
      },
      "cell_type": "code",
      "source": [
        "# lots of politics, and very consistent writing style\n",
        "print(accuracies.max())\n",
        "print(accuracies.argmax())\n",
        "print(df[['author', 'body']][df['author_id'] == 68][0:5])"
      ],
      "execution_count": 0,
      "outputs": [
        {
          "output_type": "stream",
          "text": [
            "0.7517241379310344\n",
            "68\n",
            "      author                                               body\n",
            "9346  djphan  Kansas is an underrated pickup opportunity... ...\n",
            "9347  djphan  how can i point to their argument without usin...\n",
            "9348  djphan  i did.. i see the subsequent comments... and t...\n",
            "9349  djphan  i literally quoted it in my first reply...  \\n...\n",
            "9350  djphan  youre saying that clinton did it herself... th...\n"
          ],
          "name": "stdout"
        }
      ]
    },
    {
      "metadata": {
        "id": "hhmib21gos-_",
        "colab_type": "code",
        "colab": {}
      },
      "cell_type": "code",
      "source": [
        ""
      ],
      "execution_count": 0,
      "outputs": []
    },
    {
      "metadata": {
        "colab_type": "text",
        "id": "EPWrrnylJEyy"
      },
      "cell_type": "markdown",
      "source": [
        "#### Save Models"
      ]
    },
    {
      "metadata": {
        "colab_type": "code",
        "id": "8ekOaucEEKJ7",
        "colab": {}
      },
      "cell_type": "code",
      "source": [
        "model1.save('/content/gdrive/My Drive/colab/anly-author-id/model_l.h5')\n",
        "model2.save('/content/gdrive/My Drive/colab/anly-author-id/model_2.h5')\n",
        "model3.save('/content/gdrive/My Drive/colab/anly-author-id/model_3.h5')"
      ],
      "execution_count": 0,
      "outputs": []
    },
    {
      "metadata": {
        "colab_type": "text",
        "id": "IIzjZg8g8DPt"
      },
      "cell_type": "markdown",
      "source": [
        "#### EXTRA. Multilayer"
      ]
    },
    {
      "metadata": {
        "colab_type": "code",
        "id": "jEe6VRBJ8FTr",
        "colab": {}
      },
      "cell_type": "code",
      "source": [
        "# Multilayer LSTM\n",
        "model5 = Sequential()\n",
        "model5.add(Embedding(input_dim=max_features,\n",
        "                    output_dim=128))\n",
        "\n",
        "model5.add(CuDNNLSTM(128, return_sequences=True))\n",
        "model5.add(Dropout(0.5))\n",
        "\n",
        "model5.add(CuDNNLSTM(64))\n",
        "model5.add(Dropout(0.5))\n",
        "\n",
        "model5.add(Dense(100, activation=\"softmax\"))\n",
        "\n",
        "model5.compile(optimizer=\"adam\", loss=\"sparse_categorical_crossentropy\", metrics=[\"acc\"])"
      ],
      "execution_count": 0,
      "outputs": []
    },
    {
      "metadata": {
        "colab_type": "code",
        "id": "UjqWWQ5e8ZW9",
        "outputId": "3f51f76b-0a7b-486c-9bd4-40c96529f5d9",
        "colab": {
          "base_uri": "https://localhost:8080/",
          "height": 578
        }
      },
      "cell_type": "code",
      "source": [
        "history5 = model5.fit(x_train, y_train,\n",
        "            batch_size=256,\n",
        "            epochs=16,\n",
        "            validation_data=(x_test, y_test))"
      ],
      "execution_count": 0,
      "outputs": [
        {
          "output_type": "stream",
          "text": [
            "Train on 58129 samples, validate on 14533 samples\n",
            "Epoch 1/16\n",
            "58129/58129 [==============================] - 46s 797us/step - loss: 4.4563 - acc: 0.0301 - val_loss: 4.2198 - val_acc: 0.0588\n",
            "Epoch 2/16\n",
            "58129/58129 [==============================] - 44s 764us/step - loss: 4.1062 - acc: 0.0710 - val_loss: 3.9898 - val_acc: 0.0962\n",
            "Epoch 3/16\n",
            "58129/58129 [==============================] - 44s 756us/step - loss: 3.8289 - acc: 0.1135 - val_loss: 3.7824 - val_acc: 0.1303\n",
            "Epoch 4/16\n",
            "58129/58129 [==============================] - 44s 765us/step - loss: 3.6063 - acc: 0.1513 - val_loss: 3.6834 - val_acc: 0.1494\n",
            "Epoch 5/16\n",
            "58129/58129 [==============================] - 44s 761us/step - loss: 3.4146 - acc: 0.1893 - val_loss: 3.6164 - val_acc: 0.1682\n",
            "Epoch 6/16\n",
            "58129/58129 [==============================] - 44s 753us/step - loss: 3.2467 - acc: 0.2262 - val_loss: 3.5665 - val_acc: 0.1844\n",
            "Epoch 7/16\n",
            "58129/58129 [==============================] - 44s 754us/step - loss: 3.0894 - acc: 0.2571 - val_loss: 3.5518 - val_acc: 0.1955\n",
            "Epoch 8/16\n",
            "58129/58129 [==============================] - 44s 758us/step - loss: 2.9556 - acc: 0.2874 - val_loss: 3.5660 - val_acc: 0.1987\n",
            "Epoch 9/16\n",
            "58129/58129 [==============================] - 44s 759us/step - loss: 2.8245 - acc: 0.3168 - val_loss: 3.5581 - val_acc: 0.2088\n",
            "Epoch 10/16\n",
            "58129/58129 [==============================] - 44s 760us/step - loss: 2.7004 - acc: 0.3417 - val_loss: 3.5921 - val_acc: 0.2119\n",
            "Epoch 11/16\n",
            "58129/58129 [==============================] - 44s 763us/step - loss: 2.5878 - acc: 0.3679 - val_loss: 3.6038 - val_acc: 0.2152\n",
            "Epoch 12/16\n",
            "58129/58129 [==============================] - 44s 760us/step - loss: 2.4848 - acc: 0.3867 - val_loss: 3.6584 - val_acc: 0.2154\n",
            "Epoch 13/16\n",
            "58129/58129 [==============================] - 44s 759us/step - loss: 2.3831 - acc: 0.4115 - val_loss: 3.7496 - val_acc: 0.2236\n",
            "Epoch 14/16\n",
            "58129/58129 [==============================] - 44s 759us/step - loss: 2.2842 - acc: 0.4332 - val_loss: 3.8436 - val_acc: 0.2204\n",
            "Epoch 15/16\n",
            "58129/58129 [==============================] - 44s 760us/step - loss: 2.2001 - acc: 0.4511 - val_loss: 3.8885 - val_acc: 0.2209\n",
            "Epoch 16/16\n",
            "58129/58129 [==============================] - 44s 763us/step - loss: 2.1047 - acc: 0.4734 - val_loss: 3.9038 - val_acc: 0.2218\n"
          ],
          "name": "stdout"
        }
      ]
    },
    {
      "metadata": {
        "colab_type": "code",
        "id": "lcUApzDS8WBF",
        "outputId": "ec94ed9f-3901-443d-8cd0-008963136faf",
        "colab": {
          "base_uri": "https://localhost:8080/",
          "height": 51
        }
      },
      "cell_type": "code",
      "source": [
        "print('accuracy', model4.evaluate(x_test, y_test)[1])"
      ],
      "execution_count": 0,
      "outputs": [
        {
          "output_type": "stream",
          "text": [
            "14533/14533 [==============================] - 13s 883us/step\n",
            "accuracy 0.22183995045860463\n"
          ],
          "name": "stdout"
        }
      ]
    },
    {
      "metadata": {
        "colab_type": "text",
        "id": "O3WV4r1678hK"
      },
      "cell_type": "markdown",
      "source": [
        "#### EXTRA. Bidirectional"
      ]
    },
    {
      "metadata": {
        "id": "oOs-4FijYl7X",
        "colab_type": "text"
      },
      "cell_type": "markdown",
      "source": [
        "- Also overfits "
      ]
    },
    {
      "metadata": {
        "colab_type": "code",
        "id": "rWVRTrfszvFd",
        "colab": {}
      },
      "cell_type": "code",
      "source": [
        "# Bidirectional\n",
        "model2 = Sequential()\n",
        "model2.add(Embedding(input_dim=max_features,\n",
        "                     output_dim=128))\n",
        "\n",
        "model2.add(Bidirectional(CuDNNLSTM(128)))\n",
        "model2.add(Dropout(0.5))\n",
        "model2.add(Dense(100, activation=\"softmax\"))\n",
        "\n",
        "model2.compile(optimizer=\"adam\", loss=\"sparse_categorical_crossentropy\", metrics=[\"acc\"])"
      ],
      "execution_count": 0,
      "outputs": []
    },
    {
      "metadata": {
        "colab_type": "code",
        "id": "xW0Rm8Dxz_aS",
        "outputId": "6d85d5dd-5fc0-43ba-c981-09a1f9b7488c",
        "colab": {
          "base_uri": "https://localhost:8080/",
          "height": 598
        }
      },
      "cell_type": "code",
      "source": [
        "history2 = model2.fit(x_train, y_train,\n",
        "            batch_size=128,\n",
        "            epochs=16,\n",
        "            validation_data=(x_test, y_test))"
      ],
      "execution_count": 0,
      "outputs": [
        {
          "output_type": "stream",
          "text": [
            "Train on 58129 samples, validate on 14533 samples\n",
            "Epoch 1/16\n",
            "58129/58129 [==============================] - 51s 885us/step - loss: 4.3861 - acc: 0.0376 - val_loss: 4.1800 - val_acc: 0.0564\n",
            "Epoch 2/16\n",
            "58129/58129 [==============================] - 51s 870us/step - loss: 4.0185 - acc: 0.0777 - val_loss: 3.9345 - val_acc: 0.0977\n",
            "Epoch 3/16\n",
            "58129/58129 [==============================] - 51s 872us/step - loss: 3.6703 - acc: 0.1319 - val_loss: 3.7773 - val_acc: 0.1301\n",
            "Epoch 4/16\n",
            "58129/58129 [==============================] - 51s 871us/step - loss: 3.3328 - acc: 0.1960 - val_loss: 3.6396 - val_acc: 0.1686\n",
            "Epoch 5/16\n",
            "58129/58129 [==============================] - 50s 866us/step - loss: 2.9899 - acc: 0.2714 - val_loss: 3.5972 - val_acc: 0.1881\n",
            "Epoch 6/16\n",
            "58129/58129 [==============================] - 51s 870us/step - loss: 2.6527 - acc: 0.3420 - val_loss: 3.6188 - val_acc: 0.2090\n",
            "Epoch 7/16\n",
            "58129/58129 [==============================] - 50s 868us/step - loss: 2.3577 - acc: 0.4141 - val_loss: 3.6761 - val_acc: 0.2206\n",
            "Epoch 8/16\n",
            "58129/58129 [==============================] - 50s 869us/step - loss: 2.0863 - acc: 0.4773 - val_loss: 3.8406 - val_acc: 0.2309\n",
            "Epoch 9/16\n",
            "58129/58129 [==============================] - 51s 870us/step - loss: 1.8353 - acc: 0.5414 - val_loss: 3.9056 - val_acc: 0.2382\n",
            "Epoch 10/16\n",
            "58129/58129 [==============================] - 51s 874us/step - loss: 1.6148 - acc: 0.5954 - val_loss: 4.0792 - val_acc: 0.2381\n",
            "Epoch 11/16\n",
            "58129/58129 [==============================] - 51s 872us/step - loss: 1.4221 - acc: 0.6429 - val_loss: 4.2494 - val_acc: 0.2404\n",
            "Epoch 12/16\n",
            "58129/58129 [==============================] - 51s 873us/step - loss: 1.2460 - acc: 0.6852 - val_loss: 4.4639 - val_acc: 0.2410\n",
            "Epoch 13/16\n",
            "58129/58129 [==============================] - 51s 870us/step - loss: 1.1078 - acc: 0.7204 - val_loss: 4.6721 - val_acc: 0.2402\n",
            "Epoch 14/16\n",
            "58129/58129 [==============================] - 51s 870us/step - loss: 0.9936 - acc: 0.7468 - val_loss: 4.8497 - val_acc: 0.2414\n",
            "Epoch 15/16\n",
            "58129/58129 [==============================] - 51s 870us/step - loss: 0.8845 - acc: 0.7750 - val_loss: 5.0776 - val_acc: 0.2424\n",
            "Epoch 16/16\n",
            "58129/58129 [==============================] - 51s 873us/step - loss: 0.7842 - acc: 0.8012 - val_loss: 5.2758 - val_acc: 0.2401\n"
          ],
          "name": "stdout"
        }
      ]
    },
    {
      "metadata": {
        "colab_type": "code",
        "id": "nItp-PAp3YLU",
        "outputId": "54cf8259-bf09-46b9-f9d3-a8cac575c512",
        "colab": {
          "base_uri": "https://localhost:8080/",
          "height": 51
        }
      },
      "cell_type": "code",
      "source": [
        "print('accuracy', model2.evaluate(x_test, y_test)[1])"
      ],
      "execution_count": 0,
      "outputs": [
        {
          "output_type": "stream",
          "text": [
            "14533/14533 [==============================] - 11s 758us/step\n",
            "accuracy 0.2401431225486823\n"
          ],
          "name": "stdout"
        }
      ]
    },
    {
      "metadata": {
        "id": "kvbCwDbzQRbI",
        "colab_type": "text"
      },
      "cell_type": "markdown",
      "source": [
        "#### EXTRA. GRU"
      ]
    },
    {
      "metadata": {
        "id": "F9ZJ9pKQQSgE",
        "colab_type": "code",
        "colab": {}
      },
      "cell_type": "code",
      "source": [
        "# Bidirectional\n",
        "model_gru = Sequential()\n",
        "model_gru.add(Embedding(input_dim=max_features,\n",
        "                     output_dim=128))\n",
        "\n",
        "model_gru.add(Bidirectional(CuDNNLSTM(128)))\n",
        "model_gru.add(Dropout(0.5))\n",
        "model_gru.add(Dense(100, activation=\"softmax\"))\n",
        "\n",
        "model_gru.compile(optimizer=\"adam\", loss=\"sparse_categorical_crossentropy\", metrics=[\"acc\"])"
      ],
      "execution_count": 0,
      "outputs": []
    }
  ]
}