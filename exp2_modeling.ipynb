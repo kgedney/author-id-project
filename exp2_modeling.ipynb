{
  "nbformat": 4,
  "nbformat_minor": 0,
  "metadata": {
    "colab": {
      "name": "exp2_modeling.ipynb",
      "version": "0.3.2",
      "provenance": [],
      "collapsed_sections": [],
      "toc_visible": true,
      "include_colab_link": true
    },
    "kernelspec": {
      "display_name": "Python 3",
      "language": "python",
      "name": "python3"
    },
    "accelerator": "GPU"
  },
  "cells": [
    {
      "cell_type": "markdown",
      "metadata": {
        "id": "view-in-github",
        "colab_type": "text"
      },
      "source": [
        "<a href=\"https://colab.research.google.com/github/kgedney/author-id-project/blob/master/exp2_modeling.ipynb\" target=\"_parent\"><img src=\"https://colab.research.google.com/assets/colab-badge.svg\" alt=\"Open In Colab\"/></a>"
      ]
    },
    {
      "metadata": {
        "colab_type": "text",
        "id": "Lu4PRj6EOqVP"
      },
      "cell_type": "markdown",
      "source": [
        "### Modelling for Data with Name-Entities Removed\n",
        "### ANLY 590 Project\n"
      ]
    },
    {
      "metadata": {
        "colab_type": "text",
        "id": "n8Z-jpowOqVR"
      },
      "cell_type": "markdown",
      "source": [
        "***"
      ]
    },
    {
      "metadata": {
        "colab_type": "text",
        "id": "SSt2URxSOqVa"
      },
      "cell_type": "markdown",
      "source": [
        "#### Google Colab Prep"
      ]
    },
    {
      "metadata": {
        "colab_type": "code",
        "id": "Rm4u23MHa1AE",
        "colab": {}
      },
      "cell_type": "code",
      "source": [
        "import numpy as np\n",
        "import pandas as pd"
      ],
      "execution_count": 0,
      "outputs": []
    },
    {
      "metadata": {
        "colab_type": "code",
        "id": "W4WEkqUsOqVb",
        "outputId": "040619e1-67ed-4ef3-aeb5-6fe2ec37ac48",
        "colab": {
          "base_uri": "https://localhost:8080/",
          "height": 34
        }
      },
      "cell_type": "code",
      "source": [
        "# get data from Google drive\n",
        "from google.colab import drive\n",
        "drive.mount('/content/drive')"
      ],
      "execution_count": 4,
      "outputs": [
        {
          "output_type": "stream",
          "text": [
            "Mounted at /content/drive\n"
          ],
          "name": "stdout"
        }
      ]
    },
    {
      "metadata": {
        "id": "vINZ-SKuqISi",
        "colab_type": "text"
      },
      "cell_type": "markdown",
      "source": [
        "The cross topic preprocessing was done here: https://github.com/kgedney/author-id-project/blob/master/Cross_Topic_Processing.ipynb \n",
        "<br/>Saving it into a csv file, we pull in the tokenized dataframe here to begin our modeling"
      ]
    },
    {
      "metadata": {
        "colab_type": "code",
        "id": "QJ11dU2QOqVe",
        "outputId": "d195a1cf-fed0-48c7-ce92-af95edc73e82",
        "colab": {
          "base_uri": "https://localhost:8080/",
          "height": 204
        }
      },
      "cell_type": "code",
      "source": [
        "# manually add file from local to drive\n",
        "df = pd.read_csv('/content/drive/My Drive/Colab Notebooks/author_tokens_df.csv')\n",
        "df.head()"
      ],
      "execution_count": 59,
      "outputs": [
        {
          "output_type": "execute_result",
          "data": {
            "text/html": [
              "<div>\n",
              "<style scoped>\n",
              "    .dataframe tbody tr th:only-of-type {\n",
              "        vertical-align: middle;\n",
              "    }\n",
              "\n",
              "    .dataframe tbody tr th {\n",
              "        vertical-align: top;\n",
              "    }\n",
              "\n",
              "    .dataframe thead th {\n",
              "        text-align: right;\n",
              "    }\n",
              "</style>\n",
              "<table border=\"1\" class=\"dataframe\">\n",
              "  <thead>\n",
              "    <tr style=\"text-align: right;\">\n",
              "      <th></th>\n",
              "      <th>author</th>\n",
              "      <th>work</th>\n",
              "    </tr>\n",
              "  </thead>\n",
              "  <tbody>\n",
              "    <tr>\n",
              "      <th>0</th>\n",
              "      <td>author</td>\n",
              "      <td>['body']</td>\n",
              "    </tr>\n",
              "    <tr>\n",
              "      <th>1</th>\n",
              "      <td>GuaranteedAdmission</td>\n",
              "      <td>['You', 'can', 'be', 'in', 'favor', 'of', 'a',...</td>\n",
              "    </tr>\n",
              "    <tr>\n",
              "      <th>2</th>\n",
              "      <td>GuaranteedAdmission</td>\n",
              "      <td>['That', 'depends', '.', 'What', 'is', 'the', ...</td>\n",
              "    </tr>\n",
              "    <tr>\n",
              "      <th>3</th>\n",
              "      <td>GuaranteedAdmission</td>\n",
              "      <td>['Because', 'I', 'like', 'to', 'think', 'long'...</td>\n",
              "    </tr>\n",
              "    <tr>\n",
              "      <th>4</th>\n",
              "      <td>GuaranteedAdmission</td>\n",
              "      <td>['We', 'do', \"n't\", 'talk', 'about', 'the', 'H...</td>\n",
              "    </tr>\n",
              "  </tbody>\n",
              "</table>\n",
              "</div>"
            ],
            "text/plain": [
              "                author                                               work\n",
              "0               author                                           ['body']\n",
              "1  GuaranteedAdmission  ['You', 'can', 'be', 'in', 'favor', 'of', 'a',...\n",
              "2  GuaranteedAdmission  ['That', 'depends', '.', 'What', 'is', 'the', ...\n",
              "3  GuaranteedAdmission  ['Because', 'I', 'like', 'to', 'think', 'long'...\n",
              "4  GuaranteedAdmission  ['We', 'do', \"n't\", 'talk', 'about', 'the', 'H..."
            ]
          },
          "metadata": {
            "tags": []
          },
          "execution_count": 59
        }
      ]
    },
    {
      "metadata": {
        "id": "vA4ZgFyssElW",
        "colab_type": "text"
      },
      "cell_type": "markdown",
      "source": [
        "Removed the first line that contained the column names of the dataframe"
      ]
    },
    {
      "metadata": {
        "id": "9xTtdbTAeFSj",
        "colab_type": "code",
        "colab": {}
      },
      "cell_type": "code",
      "source": [
        "df = df.iloc[1:,:]"
      ],
      "execution_count": 0,
      "outputs": []
    },
    {
      "metadata": {
        "id": "lYjBlJQkj_k8",
        "colab_type": "code",
        "colab": {
          "base_uri": "https://localhost:8080/",
          "height": 34
        },
        "outputId": "9ab4256f-1742-414c-fd33-4d9a2f429fa3"
      },
      "cell_type": "code",
      "source": [
        "df.shape"
      ],
      "execution_count": 61,
      "outputs": [
        {
          "output_type": "execute_result",
          "data": {
            "text/plain": [
              "(9999, 2)"
            ]
          },
          "metadata": {
            "tags": []
          },
          "execution_count": 61
        }
      ]
    },
    {
      "metadata": {
        "colab_type": "text",
        "id": "jouchqjcOqVw"
      },
      "cell_type": "markdown",
      "source": [
        "***"
      ]
    },
    {
      "metadata": {
        "colab_type": "text",
        "id": "muQGleHGOqVx"
      },
      "cell_type": "markdown",
      "source": [
        "#### Preprocess  for Modelling"
      ]
    },
    {
      "metadata": {
        "colab_type": "code",
        "id": "ZxVtQyhwOqVy",
        "colab": {}
      },
      "cell_type": "code",
      "source": [
        "# install packages\n",
        "import numpy as np\n",
        "\n",
        "from sklearn import metrics\n",
        "from sklearn.model_selection import train_test_split\n",
        "from sklearn.feature_extraction.text import CountVectorizer, TfidfVectorizer\n",
        "\n",
        "import keras\n",
        "from keras import optimizers\n",
        "import tensorflow as tf\n",
        "\n",
        "from keras.utils import np_utils\n",
        "from keras.preprocessing import sequence\n",
        "from keras.preprocessing.text import Tokenizer\n",
        "\n",
        "from keras.models import Model, Sequential\n",
        "from keras.layers import Input, Dense, CuDNNLSTM, LSTM, Embedding, Bidirectional, GlobalAveragePooling1D, Conv1D, Activation, Flatten, Dropout, MaxPooling1D, Embedding, GlobalMaxPooling1D\n",
        "\n",
        "from keras.layers.core import Dense, Dropout"
      ],
      "execution_count": 0,
      "outputs": []
    },
    {
      "metadata": {
        "colab_type": "code",
        "id": "2ToC3POKOqVz",
        "colab": {}
      },
      "cell_type": "code",
      "source": [
        "# create class assignments\n",
        "df['author_id'] = pd.Categorical(df.author).codes"
      ],
      "execution_count": 0,
      "outputs": []
    },
    {
      "metadata": {
        "colab_type": "text",
        "id": "pQZCE5H7OqV1"
      },
      "cell_type": "markdown",
      "source": [
        "#### 0. Baseline Model: Linear SVM"
      ]
    },
    {
      "metadata": {
        "colab_type": "code",
        "id": "U8LagNfdOqV2",
        "outputId": "1d737a5d-1378-4bd0-9be9-784a9591862c",
        "colab": {
          "base_uri": "https://localhost:8080/",
          "height": 34
        }
      },
      "cell_type": "code",
      "source": [
        "x = df['work'].values\n",
        "y = df['author_id'].values\n",
        "\n",
        "x_train, x_test, y_train, y_test = train_test_split(x, y, test_size=0.20, random_state=22)\n",
        "\n",
        "tfidf_vec   = TfidfVectorizer()\n",
        "x_train_vec = tfidf_vec.fit_transform(x_train)\n",
        "x_test_vec  = tfidf_vec.transform(x_test)\n",
        "x_train_vec.shape"
      ],
      "execution_count": 65,
      "outputs": [
        {
          "output_type": "execute_result",
          "data": {
            "text/plain": [
              "(7999, 17830)"
            ]
          },
          "metadata": {
            "tags": []
          },
          "execution_count": 65
        }
      ]
    },
    {
      "metadata": {
        "colab_type": "code",
        "id": "FLAMT9ioOqV6",
        "colab": {}
      },
      "cell_type": "code",
      "source": [
        "from sklearn.svm import LinearSVC\n",
        "clf             = LinearSVC().fit(x_train_vec, y_train)\n",
        "predicted       = clf.predict(x_test_vec)\n",
        "predicted_score = clf.decision_function(x_test_vec)"
      ],
      "execution_count": 0,
      "outputs": []
    },
    {
      "metadata": {
        "colab_type": "code",
        "id": "0x4wr9ziOqV9",
        "outputId": "0ee43df6-b2dd-4bc3-bfc2-986d3f7b1be9",
        "colab": {
          "base_uri": "https://localhost:8080/",
          "height": 34
        }
      },
      "cell_type": "code",
      "source": [
        "print('accuracy', metrics.accuracy_score(y_test, predicted))"
      ],
      "execution_count": 12,
      "outputs": [
        {
          "output_type": "stream",
          "text": [
            "accuracy 0.553\n"
          ],
          "name": "stdout"
        }
      ]
    },
    {
      "metadata": {
        "colab_type": "code",
        "id": "ycStNkaYNWwd",
        "colab": {
          "base_uri": "https://localhost:8080/",
          "height": 34
        },
        "outputId": "aac30b9a-036c-4567-9071-48ab37d2eddd"
      },
      "cell_type": "code",
      "source": [
        "# top k accuracy (# ref: https://scikit-learn.org/stable/modules/svm.html)\n",
        "predicted_score = clf.decision_function(x_test_vec)\n",
        "predicted_score.shape"
      ],
      "execution_count": 13,
      "outputs": [
        {
          "output_type": "execute_result",
          "data": {
            "text/plain": [
              "(2000, 14)"
            ]
          },
          "metadata": {
            "tags": []
          },
          "execution_count": 13
        }
      ]
    },
    {
      "metadata": {
        "colab_type": "code",
        "id": "-2aH0jUsNZeP",
        "colab": {}
      },
      "cell_type": "code",
      "source": [
        "# transform matrix of predictions to put them in order\n",
        "best_n = predicted_score.argsort()[:,::-1] # need to do in reverse order thats why need \"[::-1]\""
      ],
      "execution_count": 0,
      "outputs": []
    },
    {
      "metadata": {
        "colab_type": "code",
        "id": "OX4iMj0LNbBP",
        "colab": {
          "base_uri": "https://localhost:8080/",
          "height": 34
        },
        "outputId": "023a41ee-070b-42e1-f7db-99d01ffe0ce7"
      },
      "cell_type": "code",
      "source": [
        "# set up function to calculate\n",
        "count = 0\n",
        "for i in range(0, y_test.shape[0]):\n",
        "    if (y_test[i] in best_n[i,0:5]):\n",
        "        count = count + 1\n",
        "\n",
        "top_5_acc = count / y_test.shape[0]\n",
        "top_5_acc"
      ],
      "execution_count": 15,
      "outputs": [
        {
          "output_type": "execute_result",
          "data": {
            "text/plain": [
              "0.8645"
            ]
          },
          "metadata": {
            "tags": []
          },
          "execution_count": 15
        }
      ]
    },
    {
      "metadata": {
        "colab_type": "text",
        "id": "TMyJAaDMOqWA"
      },
      "cell_type": "markdown",
      "source": [
        "#### Preprocess Data for Keras Models"
      ]
    },
    {
      "metadata": {
        "colab_type": "code",
        "id": "qZT9aqDkOqWA",
        "outputId": "50db723a-4166-491c-bdd8-f31c0b9867c2",
        "colab": {
          "base_uri": "https://localhost:8080/",
          "height": 34
        }
      },
      "cell_type": "code",
      "source": [
        "# data preprocess\n",
        "x = df['work'].values\n",
        "y = df['author_id'].values\n",
        "\n",
        "# create sequences\n",
        "max_features = 25000\n",
        "tokenizer    = Tokenizer(num_words = max_features)\n",
        "tokenizer.fit_on_texts(x)\n",
        "x_sequences  = tokenizer.texts_to_sequences(x)\n",
        "\n",
        "# pad each sequence to be max length\n",
        "maxlen = max(len(x) for x in x_sequences)\n",
        "print(maxlen)\n",
        "x_sequences = sequence.pad_sequences(x_sequences, maxlen)"
      ],
      "execution_count": 16,
      "outputs": [
        {
          "output_type": "stream",
          "text": [
            "296\n"
          ],
          "name": "stdout"
        }
      ]
    },
    {
      "metadata": {
        "colab_type": "code",
        "id": "QpCgS_kgmAin",
        "outputId": "673af8c3-8594-4811-8af7-823e94a18256",
        "colab": {
          "base_uri": "https://localhost:8080/",
          "height": 51
        }
      },
      "cell_type": "code",
      "source": [
        "# from keras.utils import to_categorical\n",
        "# print(y.shape)\n",
        "# y = to_categorical(y)\n",
        "# print(y.shape)"
      ],
      "execution_count": 0,
      "outputs": [
        {
          "output_type": "stream",
          "text": [
            "(72662,)\n",
            "(72662, 100)\n"
          ],
          "name": "stdout"
        }
      ]
    },
    {
      "metadata": {
        "colab_type": "code",
        "id": "0DGqh3gtOqWC",
        "colab": {}
      },
      "cell_type": "code",
      "source": [
        "# split test and train\n",
        "x_train, x_test, y_train, y_test = train_test_split(x_sequences, y, test_size=0.20, random_state=22)"
      ],
      "execution_count": 0,
      "outputs": []
    },
    {
      "metadata": {
        "colab_type": "text",
        "id": "ACtPY2hyOqWS"
      },
      "cell_type": "markdown",
      "source": [
        "#### 1. Faster RNN Model: CuDNNLSTM "
      ]
    },
    {
      "metadata": {
        "colab_type": "text",
        "id": "7Uxo-JLmYl7I"
      },
      "cell_type": "markdown",
      "source": [
        "- Run on Google Colab, 14 mins.    \n",
        "- Very overfit"
      ]
    },
    {
      "metadata": {
        "colab_type": "code",
        "id": "wjN0EYtzOqWT",
        "colab": {}
      },
      "cell_type": "code",
      "source": [
        "# ref: https://keras.io/layers/recurrent/#cudnnlstm\n",
        "# faster LSTM implementation\n",
        "\n",
        "model1 = Sequential()\n",
        "model1.add(Embedding(input_dim=max_features,\n",
        "                     output_dim=128))\n",
        "model1.add(CuDNNLSTM(128))\n",
        "model1.add(Dropout(0.5))\n",
        "model1.add(Dense(14, activation=\"softmax\"))\n",
        "\n",
        "model1.compile(optimizer=\"adam\", loss=\"sparse_categorical_crossentropy\", metrics=[\"acc\"])"
      ],
      "execution_count": 0,
      "outputs": []
    },
    {
      "metadata": {
        "colab_type": "code",
        "id": "qS9g-XvpOqWY",
        "outputId": "27372c14-73fd-406e-a566-72272c4b7aec",
        "colab": {
          "base_uri": "https://localhost:8080/",
          "height": 578
        }
      },
      "cell_type": "code",
      "source": [
        "history1 = model1.fit(x_train, y_train,\n",
        "            batch_size=128,\n",
        "            epochs=16,\n",
        "            validation_data=(x_test, y_test))"
      ],
      "execution_count": 35,
      "outputs": [
        {
          "output_type": "stream",
          "text": [
            "Train on 7999 samples, validate on 2000 samples\n",
            "Epoch 1/16\n",
            "7999/7999 [==============================] - 6s 698us/step - loss: 2.5875 - acc: 0.1186 - val_loss: 2.4697 - val_acc: 0.1935\n",
            "Epoch 2/16\n",
            "7999/7999 [==============================] - 5s 595us/step - loss: 2.3337 - acc: 0.2125 - val_loss: 2.2616 - val_acc: 0.2305\n",
            "Epoch 3/16\n",
            "7999/7999 [==============================] - 5s 595us/step - loss: 2.1391 - acc: 0.2580 - val_loss: 2.2225 - val_acc: 0.2440\n",
            "Epoch 4/16\n",
            "7999/7999 [==============================] - 5s 591us/step - loss: 1.9243 - acc: 0.3409 - val_loss: 2.1454 - val_acc: 0.2750\n",
            "Epoch 5/16\n",
            "7999/7999 [==============================] - 5s 592us/step - loss: 1.5708 - acc: 0.4504 - val_loss: 2.1712 - val_acc: 0.2990\n",
            "Epoch 6/16\n",
            "7999/7999 [==============================] - 5s 594us/step - loss: 1.2588 - acc: 0.5713 - val_loss: 2.2613 - val_acc: 0.3235\n",
            "Epoch 7/16\n",
            "7999/7999 [==============================] - 5s 593us/step - loss: 1.0347 - acc: 0.6607 - val_loss: 2.4117 - val_acc: 0.3105\n",
            "Epoch 8/16\n",
            "7999/7999 [==============================] - 5s 592us/step - loss: 0.8002 - acc: 0.7492 - val_loss: 2.5203 - val_acc: 0.2865\n",
            "Epoch 9/16\n",
            "7999/7999 [==============================] - 5s 598us/step - loss: 0.6692 - acc: 0.8024 - val_loss: 2.4879 - val_acc: 0.3360\n",
            "Epoch 10/16\n",
            "7999/7999 [==============================] - 5s 592us/step - loss: 0.4300 - acc: 0.8825 - val_loss: 2.6955 - val_acc: 0.3495\n",
            "Epoch 11/16\n",
            "7999/7999 [==============================] - 5s 590us/step - loss: 0.3016 - acc: 0.9197 - val_loss: 2.7999 - val_acc: 0.3460\n",
            "Epoch 12/16\n",
            "7999/7999 [==============================] - 5s 594us/step - loss: 0.2113 - acc: 0.9459 - val_loss: 3.0126 - val_acc: 0.3690\n",
            "Epoch 13/16\n",
            "7999/7999 [==============================] - 5s 595us/step - loss: 0.1629 - acc: 0.9622 - val_loss: 3.1483 - val_acc: 0.3720\n",
            "Epoch 14/16\n",
            "7999/7999 [==============================] - 5s 592us/step - loss: 0.1393 - acc: 0.9660 - val_loss: 3.3568 - val_acc: 0.3610\n",
            "Epoch 15/16\n",
            "7999/7999 [==============================] - 5s 592us/step - loss: 0.1001 - acc: 0.9776 - val_loss: 3.3452 - val_acc: 0.3680\n",
            "Epoch 16/16\n",
            "7999/7999 [==============================] - 5s 597us/step - loss: 0.0895 - acc: 0.9801 - val_loss: 3.4118 - val_acc: 0.3720\n"
          ],
          "name": "stdout"
        }
      ]
    },
    {
      "metadata": {
        "colab_type": "code",
        "id": "WtytRsl0OqWb",
        "outputId": "f6093da5-f075-49d8-83ff-31655c576a3a",
        "colab": {
          "base_uri": "https://localhost:8080/",
          "height": 51
        }
      },
      "cell_type": "code",
      "source": [
        "print('accuracy', model1.evaluate(x_test, y_test)[1])"
      ],
      "execution_count": 36,
      "outputs": [
        {
          "output_type": "stream",
          "text": [
            "2000/2000 [==============================] - 1s 683us/step\n",
            "accuracy 0.372\n"
          ],
          "name": "stdout"
        }
      ]
    },
    {
      "metadata": {
        "colab_type": "code",
        "id": "KKSaYcGAOqWe",
        "outputId": "bc553805-10a5-4c5a-df1c-789354fbedc9",
        "colab": {
          "base_uri": "https://localhost:8080/",
          "height": 51
        }
      },
      "cell_type": "code",
      "source": [
        "print('accuracy', model1.evaluate(x_train, y_train)[1])"
      ],
      "execution_count": 37,
      "outputs": [
        {
          "output_type": "stream",
          "text": [
            "7999/7999 [==============================] - 5s 578us/step\n",
            "accuracy 0.9868733591698963\n"
          ],
          "name": "stdout"
        }
      ]
    },
    {
      "metadata": {
        "colab_type": "code",
        "id": "rJoHK6wBFppn",
        "colab": {}
      },
      "cell_type": "code",
      "source": [
        ""
      ],
      "execution_count": 0,
      "outputs": []
    },
    {
      "metadata": {
        "colab_type": "text",
        "id": "KOjFcZZWFrWs"
      },
      "cell_type": "markdown",
      "source": [
        "#### 2. CNN"
      ]
    },
    {
      "metadata": {
        "colab_type": "code",
        "id": "SZ0QGhAPGXHg",
        "colab": {}
      },
      "cell_type": "code",
      "source": [
        "model_conv2 = Sequential()\n",
        "model_conv2.add(Embedding(max_features, output_dim = 30, input_length=296))\n",
        "model_conv2.add(Dropout(0.2))\n",
        "model_conv2.add(Conv1D(128, 5, activation='relu'))\n",
        "model_conv2.add(Conv1D(128, 5, activation='relu'))\n",
        "model_conv2.add(GlobalMaxPooling1D())\n",
        "model_conv2.add(Dropout(0.2))\n",
        "model_conv2.add(Dense(14, activation='softmax'))"
      ],
      "execution_count": 0,
      "outputs": []
    },
    {
      "metadata": {
        "colab_type": "code",
        "id": "NY6n9ha5GXKH",
        "colab": {}
      },
      "cell_type": "code",
      "source": [
        "from keras import optimizers\n",
        "opt = optimizers.rmsprop(lr=0.001) # speed up optimization\n",
        "model_conv2.compile(optimizer=opt, loss=\"sparse_categorical_crossentropy\", metrics=[\"acc\"])\n"
      ],
      "execution_count": 0,
      "outputs": []
    },
    {
      "metadata": {
        "colab_type": "code",
        "id": "hALcnyruGXMp",
        "outputId": "355586a5-1f81-4042-d6b1-444d452ad836",
        "colab": {
          "base_uri": "https://localhost:8080/",
          "height": 578
        }
      },
      "cell_type": "code",
      "source": [
        "history2 = model_conv2.fit(x_train, y_train,\n",
        "            batch_size=128,\n",
        "            epochs=16,\n",
        "            validation_data=(x_test, y_test))"
      ],
      "execution_count": 40,
      "outputs": [
        {
          "output_type": "stream",
          "text": [
            "Train on 7999 samples, validate on 2000 samples\n",
            "Epoch 1/16\n",
            "7999/7999 [==============================] - 3s 317us/step - loss: 2.5869 - acc: 0.1075 - val_loss: 2.4562 - val_acc: 0.1655\n",
            "Epoch 2/16\n",
            "7999/7999 [==============================] - 2s 231us/step - loss: 2.4067 - acc: 0.1813 - val_loss: 2.3524 - val_acc: 0.1900\n",
            "Epoch 3/16\n",
            "7999/7999 [==============================] - 2s 235us/step - loss: 2.3003 - acc: 0.2199 - val_loss: 2.2788 - val_acc: 0.2260\n",
            "Epoch 4/16\n",
            "7999/7999 [==============================] - 2s 233us/step - loss: 2.1885 - acc: 0.2580 - val_loss: 2.2129 - val_acc: 0.2520\n",
            "Epoch 5/16\n",
            "7999/7999 [==============================] - 2s 233us/step - loss: 2.0566 - acc: 0.3152 - val_loss: 2.1529 - val_acc: 0.2805\n",
            "Epoch 6/16\n",
            "7999/7999 [==============================] - 2s 230us/step - loss: 1.9040 - acc: 0.3637 - val_loss: 2.1050 - val_acc: 0.2935\n",
            "Epoch 7/16\n",
            "7999/7999 [==============================] - 2s 233us/step - loss: 1.7543 - acc: 0.4058 - val_loss: 2.1079 - val_acc: 0.2875\n",
            "Epoch 8/16\n",
            "7999/7999 [==============================] - 2s 232us/step - loss: 1.6192 - acc: 0.4533 - val_loss: 2.0774 - val_acc: 0.3260\n",
            "Epoch 9/16\n",
            "7999/7999 [==============================] - 2s 235us/step - loss: 1.4996 - acc: 0.4981 - val_loss: 2.1417 - val_acc: 0.3305\n",
            "Epoch 10/16\n",
            "7999/7999 [==============================] - 2s 235us/step - loss: 1.3602 - acc: 0.5437 - val_loss: 2.1208 - val_acc: 0.3235\n",
            "Epoch 11/16\n",
            "7999/7999 [==============================] - 2s 234us/step - loss: 1.2412 - acc: 0.5901 - val_loss: 2.1478 - val_acc: 0.3325\n",
            "Epoch 12/16\n",
            "7999/7999 [==============================] - 2s 232us/step - loss: 1.1276 - acc: 0.6281 - val_loss: 2.1541 - val_acc: 0.3405\n",
            "Epoch 13/16\n",
            "7999/7999 [==============================] - 2s 233us/step - loss: 1.0144 - acc: 0.6655 - val_loss: 2.2137 - val_acc: 0.3580\n",
            "Epoch 14/16\n",
            "7999/7999 [==============================] - 2s 234us/step - loss: 0.9216 - acc: 0.6992 - val_loss: 2.2638 - val_acc: 0.3480\n",
            "Epoch 15/16\n",
            "7999/7999 [==============================] - 2s 233us/step - loss: 0.8315 - acc: 0.7351 - val_loss: 2.3714 - val_acc: 0.3550\n",
            "Epoch 16/16\n",
            "7999/7999 [==============================] - 2s 233us/step - loss: 0.7387 - acc: 0.7680 - val_loss: 2.3127 - val_acc: 0.3760\n"
          ],
          "name": "stdout"
        }
      ]
    },
    {
      "metadata": {
        "colab_type": "code",
        "id": "islqOUDZGXPS",
        "outputId": "3587c8d2-6d45-40b1-8580-77530fa38f37",
        "colab": {
          "base_uri": "https://localhost:8080/",
          "height": 51
        }
      },
      "cell_type": "code",
      "source": [
        "model_conv2.evaluate(x_test,y_test)\n"
      ],
      "execution_count": 41,
      "outputs": [
        {
          "output_type": "stream",
          "text": [
            "2000/2000 [==============================] - 0s 135us/step\n"
          ],
          "name": "stdout"
        },
        {
          "output_type": "execute_result",
          "data": {
            "text/plain": [
              "[2.312704874038696, 0.376]"
            ]
          },
          "metadata": {
            "tags": []
          },
          "execution_count": 41
        }
      ]
    },
    {
      "metadata": {
        "id": "L6DoHbuMfvTS",
        "colab_type": "code",
        "colab": {
          "base_uri": "https://localhost:8080/",
          "height": 51
        },
        "outputId": "afb4f23c-a08b-4af3-a806-ba1e8b5c5ae0"
      },
      "cell_type": "code",
      "source": [
        "model_conv2.evaluate(x_train,y_train)"
      ],
      "execution_count": 42,
      "outputs": [
        {
          "output_type": "stream",
          "text": [
            "7999/7999 [==============================] - 1s 125us/step\n"
          ],
          "name": "stdout"
        },
        {
          "output_type": "execute_result",
          "data": {
            "text/plain": [
              "[0.46749899311056137, 0.8811101386704763]"
            ]
          },
          "metadata": {
            "tags": []
          },
          "execution_count": 42
        }
      ]
    },
    {
      "metadata": {
        "colab_type": "text",
        "id": "HxqC0VsOGBbF"
      },
      "cell_type": "markdown",
      "source": [
        "#### 3. CNN + LSTM"
      ]
    },
    {
      "metadata": {
        "colab_type": "code",
        "id": "KHV_jJyiGEmD",
        "colab": {}
      },
      "cell_type": "code",
      "source": [
        "model_conv3 = Sequential()\n",
        "model_conv3.add(Embedding(max_features, output_dim = 30, input_length=296))\n",
        "model_conv3.add(Dropout(0.2))\n",
        "model_conv3.add(Conv1D(128, 5, activation='relu'))\n",
        "model_conv3.add(MaxPooling1D(4))\n",
        "model_conv3.add(LSTM(100))\n",
        "#model_conv.add(GlobalMaxPooling1D())\n",
        "\n",
        "model_conv3.add(Dense(14, activation='softmax'))"
      ],
      "execution_count": 0,
      "outputs": []
    },
    {
      "metadata": {
        "colab_type": "code",
        "id": "HKP5F_8cGEok",
        "colab": {}
      },
      "cell_type": "code",
      "source": [
        "opt = optimizers.rmsprop(lr=0.001) # speed up optimization\n",
        "model_conv3.compile(optimizer=opt, loss=\"sparse_categorical_crossentropy\", metrics=[\"acc\"])"
      ],
      "execution_count": 0,
      "outputs": []
    },
    {
      "metadata": {
        "colab_type": "code",
        "id": "L-vX6kJWGErL",
        "outputId": "dfe5f82e-fc52-44e8-f824-5d8f8a2a8315",
        "colab": {
          "base_uri": "https://localhost:8080/",
          "height": 578
        }
      },
      "cell_type": "code",
      "source": [
        "history3 = model_conv3.fit(x_train, y_train,\n",
        "            batch_size=128,\n",
        "            epochs=16,\n",
        "            validation_data=(x_test, y_test))"
      ],
      "execution_count": 45,
      "outputs": [
        {
          "output_type": "stream",
          "text": [
            "Train on 7999 samples, validate on 2000 samples\n",
            "Epoch 1/16\n",
            "7999/7999 [==============================] - 15s 2ms/step - loss: 2.5814 - acc: 0.1176 - val_loss: 2.5077 - val_acc: 0.1520\n",
            "Epoch 2/16\n",
            "7999/7999 [==============================] - 14s 2ms/step - loss: 2.3451 - acc: 0.2057 - val_loss: 2.2781 - val_acc: 0.2070\n",
            "Epoch 3/16\n",
            "7999/7999 [==============================] - 15s 2ms/step - loss: 2.1377 - acc: 0.2707 - val_loss: 2.2071 - val_acc: 0.2415\n",
            "Epoch 4/16\n",
            "7999/7999 [==============================] - 14s 2ms/step - loss: 1.9851 - acc: 0.3147 - val_loss: 2.2714 - val_acc: 0.2255\n",
            "Epoch 5/16\n",
            "7999/7999 [==============================] - 15s 2ms/step - loss: 1.8433 - acc: 0.3668 - val_loss: 2.2004 - val_acc: 0.2650\n",
            "Epoch 6/16\n",
            "7999/7999 [==============================] - 14s 2ms/step - loss: 1.6921 - acc: 0.4082 - val_loss: 2.1973 - val_acc: 0.2800\n",
            "Epoch 7/16\n",
            "7999/7999 [==============================] - 15s 2ms/step - loss: 1.5742 - acc: 0.4459 - val_loss: 2.1504 - val_acc: 0.2860\n",
            "Epoch 8/16\n",
            "7999/7999 [==============================] - 15s 2ms/step - loss: 1.4448 - acc: 0.4979 - val_loss: 2.5452 - val_acc: 0.2605\n",
            "Epoch 9/16\n",
            "7999/7999 [==============================] - 14s 2ms/step - loss: 1.3340 - acc: 0.5349 - val_loss: 2.2546 - val_acc: 0.2855\n",
            "Epoch 10/16\n",
            "7999/7999 [==============================] - 14s 2ms/step - loss: 1.2325 - acc: 0.5761 - val_loss: 2.3041 - val_acc: 0.3000\n",
            "Epoch 11/16\n",
            "7999/7999 [==============================] - 15s 2ms/step - loss: 1.1190 - acc: 0.6193 - val_loss: 2.5180 - val_acc: 0.2935\n",
            "Epoch 12/16\n",
            "7999/7999 [==============================] - 14s 2ms/step - loss: 1.0245 - acc: 0.6560 - val_loss: 2.3734 - val_acc: 0.3160\n",
            "Epoch 13/16\n",
            "7999/7999 [==============================] - 15s 2ms/step - loss: 0.9221 - acc: 0.6908 - val_loss: 2.6875 - val_acc: 0.2900\n",
            "Epoch 14/16\n",
            "7999/7999 [==============================] - 14s 2ms/step - loss: 0.8503 - acc: 0.7225 - val_loss: 2.6777 - val_acc: 0.3160\n",
            "Epoch 15/16\n",
            "7999/7999 [==============================] - 15s 2ms/step - loss: 0.7596 - acc: 0.7477 - val_loss: 2.6465 - val_acc: 0.3210\n",
            "Epoch 16/16\n",
            "7999/7999 [==============================] - 15s 2ms/step - loss: 0.6859 - acc: 0.7741 - val_loss: 2.7244 - val_acc: 0.3385\n"
          ],
          "name": "stdout"
        }
      ]
    },
    {
      "metadata": {
        "colab_type": "code",
        "id": "rt0R_1giGEuK",
        "outputId": "0e1e96e7-4383-4a7e-a0c3-f7f3302557c8",
        "colab": {
          "base_uri": "https://localhost:8080/",
          "height": 51
        }
      },
      "cell_type": "code",
      "source": [
        "model_conv3.evaluate(x_test, y_test)\n"
      ],
      "execution_count": 46,
      "outputs": [
        {
          "output_type": "stream",
          "text": [
            "2000/2000 [==============================] - 5s 2ms/step\n"
          ],
          "name": "stdout"
        },
        {
          "output_type": "execute_result",
          "data": {
            "text/plain": [
              "[2.7244121742248537, 0.3385]"
            ]
          },
          "metadata": {
            "tags": []
          },
          "execution_count": 46
        }
      ]
    },
    {
      "metadata": {
        "id": "MzM_maLIhhdr",
        "colab_type": "code",
        "colab": {
          "base_uri": "https://localhost:8080/",
          "height": 51
        },
        "outputId": "5f0dc51b-a69f-474f-efa6-478c550ef0a9"
      },
      "cell_type": "code",
      "source": [
        "model_conv3.evaluate(x_train, y_train)"
      ],
      "execution_count": 47,
      "outputs": [
        {
          "output_type": "stream",
          "text": [
            "7999/7999 [==============================] - 19s 2ms/step\n"
          ],
          "name": "stdout"
        },
        {
          "output_type": "execute_result",
          "data": {
            "text/plain": [
              "[0.4914594929297874, 0.8552319038836773]"
            ]
          },
          "metadata": {
            "tags": []
          },
          "execution_count": 47
        }
      ]
    },
    {
      "metadata": {
        "colab_type": "text",
        "id": "kwaGx5Y8aa6v"
      },
      "cell_type": "markdown",
      "source": [
        "#### 4. Simple Pooling Model"
      ]
    },
    {
      "metadata": {
        "colab_type": "code",
        "id": "6Q-j-IriadPv",
        "colab": {}
      },
      "cell_type": "code",
      "source": [
        "#ref: https://github.com/keras-team/keras/blob/master/examples/imdb_fasttext.py"
      ],
      "execution_count": 0,
      "outputs": []
    },
    {
      "metadata": {
        "colab_type": "code",
        "id": "uoX7381Uad0f",
        "colab": {}
      },
      "cell_type": "code",
      "source": [
        "model4 = Sequential()\n",
        "model4.add(Embedding(input_dim=max_features,\n",
        "                    output_dim=30))\n",
        "\n",
        "# we add a GlobalAveragePooling1D, which will average the embeddings\n",
        "# of all words in the document\n",
        "model4.add(GlobalAveragePooling1D())\n",
        "model4.add(Dropout(0.5))\n",
        "\n",
        "model4.add(Dense(14, activation=\"softmax\"))"
      ],
      "execution_count": 0,
      "outputs": []
    },
    {
      "metadata": {
        "colab_type": "code",
        "id": "iHCRHm-pad3E",
        "colab": {}
      },
      "cell_type": "code",
      "source": [
        "opt = keras.optimizers.Adam(lr=0.01) # speed up optimization\n",
        "model4.compile(optimizer=opt, loss=\"sparse_categorical_crossentropy\", metrics=[\"acc\"])"
      ],
      "execution_count": 0,
      "outputs": []
    },
    {
      "metadata": {
        "colab_type": "code",
        "id": "NOpgYwlcad5s",
        "outputId": "e651e55f-3bd9-44f1-f604-86c44ed7826c",
        "colab": {
          "base_uri": "https://localhost:8080/",
          "height": 578
        }
      },
      "cell_type": "code",
      "source": [
        "history4 = model4.fit(x_train, y_train,\n",
        "            batch_size=256,\n",
        "            epochs=16,\n",
        "            validation_data=(x_test, y_test))"
      ],
      "execution_count": 50,
      "outputs": [
        {
          "output_type": "stream",
          "text": [
            "Train on 7999 samples, validate on 2000 samples\n",
            "Epoch 1/16\n",
            "7999/7999 [==============================] - 1s 136us/step - loss: 2.6262 - acc: 0.0973 - val_loss: 2.6078 - val_acc: 0.1400\n",
            "Epoch 2/16\n",
            "7999/7999 [==============================] - 0s 40us/step - loss: 2.5810 - acc: 0.1343 - val_loss: 2.5455 - val_acc: 0.1605\n",
            "Epoch 3/16\n",
            "7999/7999 [==============================] - 0s 39us/step - loss: 2.5192 - acc: 0.1763 - val_loss: 2.4777 - val_acc: 0.2040\n",
            "Epoch 4/16\n",
            "7999/7999 [==============================] - 0s 37us/step - loss: 2.4403 - acc: 0.2255 - val_loss: 2.3992 - val_acc: 0.2420\n",
            "Epoch 5/16\n",
            "7999/7999 [==============================] - 0s 42us/step - loss: 2.3426 - acc: 0.2687 - val_loss: 2.3109 - val_acc: 0.3050\n",
            "Epoch 6/16\n",
            "7999/7999 [==============================] - 0s 39us/step - loss: 2.2390 - acc: 0.3133 - val_loss: 2.2150 - val_acc: 0.3440\n",
            "Epoch 7/16\n",
            "7999/7999 [==============================] - 0s 42us/step - loss: 2.1242 - acc: 0.3624 - val_loss: 2.1408 - val_acc: 0.3695\n",
            "Epoch 8/16\n",
            "7999/7999 [==============================] - 0s 42us/step - loss: 2.0249 - acc: 0.4094 - val_loss: 2.0619 - val_acc: 0.3955\n",
            "Epoch 9/16\n",
            "7999/7999 [==============================] - 0s 42us/step - loss: 1.9259 - acc: 0.4297 - val_loss: 2.0000 - val_acc: 0.4065\n",
            "Epoch 10/16\n",
            "7999/7999 [==============================] - 0s 40us/step - loss: 1.8322 - acc: 0.4678 - val_loss: 1.9376 - val_acc: 0.4220\n",
            "Epoch 11/16\n",
            "7999/7999 [==============================] - 0s 41us/step - loss: 1.7435 - acc: 0.5022 - val_loss: 1.8773 - val_acc: 0.4460\n",
            "Epoch 12/16\n",
            "7999/7999 [==============================] - 0s 39us/step - loss: 1.6517 - acc: 0.5407 - val_loss: 1.8262 - val_acc: 0.4610\n",
            "Epoch 13/16\n",
            "7999/7999 [==============================] - 0s 42us/step - loss: 1.5744 - acc: 0.5722 - val_loss: 1.7778 - val_acc: 0.4875\n",
            "Epoch 14/16\n",
            "7999/7999 [==============================] - 0s 42us/step - loss: 1.4971 - acc: 0.5957 - val_loss: 1.7323 - val_acc: 0.4965\n",
            "Epoch 15/16\n",
            "7999/7999 [==============================] - 0s 40us/step - loss: 1.4175 - acc: 0.6360 - val_loss: 1.6894 - val_acc: 0.4925\n",
            "Epoch 16/16\n",
            "7999/7999 [==============================] - 0s 40us/step - loss: 1.3422 - acc: 0.6558 - val_loss: 1.6532 - val_acc: 0.5100\n"
          ],
          "name": "stdout"
        }
      ]
    },
    {
      "metadata": {
        "colab_type": "code",
        "id": "pHXxs7SMcevP",
        "outputId": "e038f962-d32a-4557-e027-57dd00e01ee4",
        "colab": {
          "base_uri": "https://localhost:8080/",
          "height": 51
        }
      },
      "cell_type": "code",
      "source": [
        "print('accuracy', model4.evaluate(x_test, y_test)[1])"
      ],
      "execution_count": 51,
      "outputs": [
        {
          "output_type": "stream",
          "text": [
            "2000/2000 [==============================] - 0s 63us/step\n",
            "accuracy 0.51\n"
          ],
          "name": "stdout"
        }
      ]
    },
    {
      "metadata": {
        "id": "MfkuRbGbh9jD",
        "colab_type": "code",
        "colab": {
          "base_uri": "https://localhost:8080/",
          "height": 51
        },
        "outputId": "62aa7efa-3809-45a6-858e-5c104b2eca3e"
      },
      "cell_type": "code",
      "source": [
        "print('accuracy', model4.evaluate(x_train, y_train)[1])"
      ],
      "execution_count": 52,
      "outputs": [
        {
          "output_type": "stream",
          "text": [
            "7999/7999 [==============================] - 0s 55us/step\n",
            "accuracy 0.7614701836910049\n"
          ],
          "name": "stdout"
        }
      ]
    }
  ]
}